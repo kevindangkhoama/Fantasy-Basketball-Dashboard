{
 "cells": [
  {
   "cell_type": "markdown",
   "metadata": {},
   "source": [
    "# Sprint 2 Kevin Ma\n",
    "\n",
    "## Written Portion\n",
    "\n",
    "### Why this dataset was chosen\n",
    "* This dataset was chosen through an API because I wanted to a dataset that updates weekly as the fantasy basketball sesaon progresses. I decided to use the API to collect the data for the UVA Fantasy Basketball league I am in as I was curious to see how the players I drafted performed and wanted to detail on how their stats on the court contributed to my fantasy performance. There is also a code block where you can export the current dataset that you are viewing that is saved as 'data.csv'.\n",
    "###  Data Provenance\n",
    "* This data was gathered through accessing [ESPN](https://www.espn.com/) fantasy league information from the [ESPN API](https://github.com/cwendt94/espn-api). The API was created for users to gather personal insights in their fantasy leagues. The player stats and information themselves were gathered by ESPN who most likely received this information from the [NBA](https://www.nba.com/). \n",
    "### EDA\n",
    "* Weeks 1-19 (256 Observations) For the purpose of this sprint, this is currently set to weeks 1-19 as they are the weeks that have concluded in the ongoing fantasy basketball season. As the season progresses, I hope to change this number for more data. A possible feature I want to implement is the refresh button which will allow for users to see the data update in real time\n",
    "* There are no missing data points in this dataset\n",
    "* The only categorical variable are names and week with the rest being numerical variables\n",
    "* There seem to be outliers on the upperbound than the lowerbound\n",
    "* Since these are data points that were actually recorded by the players, I won't be removing or dealing with the data points\n",
    "* Histogram:\n",
    "    * Left Skew: TO, FTA\n",
    "    * Right Skew: REB, BLK, AST, FTM, STL, 3PTM\n",
    "    * Symettric: PTS, FTM, FGM, Fantasy Points, Weekly Contribution Percentage\n",
    "* Number of outliers by variable:\n",
    "\n",
    "| Variable                        | Number of Outliers |\n",
    "|---------------------------------|---------------------|\n",
    "| TO                              | 2                   |\n",
    "| REB                             | 9                   |\n",
    "| BLK                             | 8                   |\n",
    "| AST                             | 5                   |\n",
    "| FTM                             | 8                   |\n",
    "| STL                             | 7                   |\n",
    "| PTS                             | 4                   |\n",
    "| 3PTM                            | 3                   |\n",
    "| FGA                             | 0                   |\n",
    "| FGM                             | 2                   |\n",
    "| FTA                             | 8                   |\n",
    "| Points                          | 6                   |\n",
    "| Weekly Contribution Percentage  | 3                   |\n",
    "\n",
    "### Data Dictionary\n",
    "| Column                           | Data Type | Description                            |\n",
    "|----------------------------------|-----------|----------------------------------------|\n",
    "| ID                               | int64     | Unique identifier for each record      |\n",
    "| Week                             | category  | Week number of the season              |\n",
    "| Player                           | category  | Player name                            |\n",
    "| TO                               | float64   | Turnovers                              |\n",
    "| REB                              | float64   | Rebounds                               |\n",
    "| BLK                              | float64   | Blocks                                 |\n",
    "| AST                              | float64   | Assists                                |\n",
    "| FTM                              | float64   | Free throws made                       |\n",
    "| STL                              | float64   | Steals                                 |\n",
    "| PTS                              | float64   | Points                                 |\n",
    "| 3PTM                             | float64   | Three-pointers made                    |\n",
    "| FGA                              | float64   | Field goals attempted                  |\n",
    "| FGM                              | float64   | Field goals made                       |\n",
    "| FTA                              | float64   | Free throws attempted                  |\n",
    "| Fantasy Points                   | float64   | Total Fantasy points                   |\n",
    "| Weekly Contribution Percentage   | float64   | Contribution percentage for the week   |\n",
    "\n",
    "### UI Components\n",
    "* A slider to filter week by week\n",
    "* A dropdown to select players in your lineup\n",
    "* Radio buttons to filter by specific player stats\n",
    "* A refresh button that allows you to update the dataset and update graphs in real time\n",
    "### Possible Data Visualizations\n",
    "*  Create a bar chart to visualize the weekly points by player\n",
    "*  Create a scatter plot to visualize the weekly points by player\n",
    "*  A pie chart to see what player stats contribute to their fantasy points\n",
    "*  A boxplot of a players fantasy points"
   ]
  },
  {
   "cell_type": "code",
   "execution_count": 1,
   "metadata": {},
   "outputs": [],
   "source": [
    "# Import Libraries\n",
    "from espn_api.basketball import League\n",
    "import pandas as pd\n",
    "import plotly.express as px"
   ]
  },
  {
   "cell_type": "code",
   "execution_count": 2,
   "metadata": {},
   "outputs": [],
   "source": [
    "# These variables are required for private leagues\n",
    "# If league is public, these parameters are not required\n",
    "espn_s2 = f\"AEBxlh0p0NHPbu6WIY0O0TNX6B7oQkhT1bCnR12c5SvsUf5Dnap49bkneUfyt9h1Y5m1MBalds2N47X5i%2FE6YhYUJDbxumf3HrW1iFK%2BPWOGnTpl%2F0wbLLy7C19hr50jNoma59zfYY5iOKxOvK6yT9cn689C4OoQ%2BTiVm%2FG7TjfaGLFIKIJ8OkuSJBye7xYCgnLh%2BvD5Fbbwgz8pLX6htmu%2BEyilZCOrqQ81zDXUrRQgWhIOOXEx1Uy5d1SOQOPkdfqV%2F6Nsr2jUTvgr2T%2FS9yxs\"\n",
    "swid = \"{5C675DD8-073A-4E00-AD7A-B926A3F2800B}\"\n",
    "\n",
    "# Create a league object\n",
    "league = League(league_id=1267411756, year=2024, espn_s2=espn_s2, swid=swid)"
   ]
  },
  {
   "cell_type": "code",
   "execution_count": 3,
   "metadata": {},
   "outputs": [],
   "source": [
    "# Access the scores list\n",
    "# Matchup period is the week number\n",
    "# This can be useful for future visualizations\n",
    "# box_scores = league.box_scores(matchup_period=2)\n",
    "\n",
    "# # Iterate through the box_scores list\n",
    "# for box in box_scores:\n",
    "#     print(box.away_team, box.away_lineup, box.home_team, box.home_lineup)"
   ]
  },
  {
   "cell_type": "code",
   "execution_count": 4,
   "metadata": {},
   "outputs": [
    {
     "name": "stdout",
     "output_type": "stream",
     "text": [
      "Week 1: Coby Bryant scored 1057.0 points with lineup [Player(Josh Okogie, points:37.0), Player(Ausar Thompson, points:28.0), Player(Tyrese Haliburton, points:110.0), Player(Onyeka Okongwu, points:30.0), Player(Austin Reaves, points:47.0), Player(Keldon Johnson, points:77.0), Player(Darius Garland, points:24.0), Player(Aaron Gordon, points:107.0), Player(Damian Lillard, points:67.0), Player(Kawhi Leonard, points:131.0), Player(Dejounte Murray, points:88.0), Player(Jamal Murray, points:109.0), Player(Michael Porter Jr., points:99.0), Player(Chris Paul, points:103.0)]\n",
      "Week 2: Coby Bryant scored 1364.0 points with lineup [Player(Tyrese Haliburton, points:169.0), Player(Jarrett Allen, points:26.0), Player(Austin Reaves, points:54.0), Player(Darius Garland, points:52.0), Player(Keldon Johnson, points:135.0), Player(Aaron Gordon, points:126.0), Player(Xavier Tillman, points:32.0), Player(Damian Lillard, points:103.0), Player(Dereck Lively II, points:12.0), Player(Kawhi Leonard, points:85.0), Player(Dejounte Murray, points:158.0), Player(Walker Kessler, points:65.0), Player(Jamal Murray, points:121.0), Player(Michael Porter Jr., points:126.0), Player(Chris Paul, points:100.0)]\n",
      "Week 3: Coby Bryant scored 1389.0 points with lineup [Player(Tyrese Haliburton, points:238.0), Player(Lonnie Walker IV, points:6.0), Player(Jarrett Allen, points:51.0), Player(Austin Reaves, points:131.0), Player(Keldon Johnson, points:76.0), Player(Darius Garland, points:80.0), Player(Deni Avdija, points:82.0), Player(Aaron Gordon, points:118.0), Player(Damian Lillard, points:87.0), Player(Dejounte Murray, points:122.0), Player(Kawhi Leonard, points:136.0), Player(Walker Kessler, points:41.0), Player(Michael Porter Jr., points:115.0), Player(Chris Paul, points:106.0)]\n",
      "Week 4: Coby Bryant scored 1364.0 points with lineup [Player(Tyrese Haliburton, points:103.0), Player(Jarrett Allen, points:117.0), Player(Austin Reaves, points:112.0), Player(Keldon Johnson, points:81.0), Player(Darius Garland, points:101.0), Player(Deni Avdija, points:101.0), Player(Aaron Gordon, points:90.0), Player(Damian Lillard, points:177.0), Player(Kawhi Leonard, points:90.0), Player(Dejounte Murray, points:104.0), Player(Michael Porter Jr., points:79.0), Player(Mike Conley, points:80.0), Player(Chris Paul, points:129.0)]\n",
      "Week 5: Coby Bryant scored 1428.0 points with lineup [Player(Tyrese Haliburton, points:118.0), Player(Jarrett Allen, points:153.0), Player(Austin Reaves, points:89.0), Player(Darius Garland, points:70.0), Player(Keldon Johnson, points:140.0), Player(Deni Avdija, points:64.0), Player(Aaron Gordon, points:55.0), Player(Damian Lillard, points:141.0), Player(Dejounte Murray, points:136.0), Player(Kawhi Leonard, points:144.0), Player(Michael Porter Jr., points:133.0), Player(Mike Conley, points:103.0), Player(Chris Paul, points:82.0)]\n",
      "Week 6: Coby Bryant scored 1315.0 points with lineup [Player(Dejounte Murray, points:126.0), Player(Kawhi Leonard, points:204.0), Player(Tyrese Haliburton, points:136.0), Player(Jarrett Allen, points:103.0), Player(Jalen Duren, points:120.0), Player(Austin Reaves, points:81.0), Player(Keldon Johnson, points:67.0), Player(Darius Garland, points:100.0), Player(Michael Porter Jr., points:158.0), Player(Mike Conley, points:55.0), Player(Chris Paul, points:12.0), Player(Damian Lillard, points:153.0)]\n",
      "Week 7: Coby Bryant scored 1000.0 points with lineup [Player(Tyrese Haliburton, points:147.0), Player(Jarrett Allen, points:38.0), Player(Austin Reaves, points:65.0), Player(Keldon Johnson, points:85.0), Player(Darius Garland, points:94.0), Player(Aaron Gordon, points:31.0), Player(Damian Lillard, points:99.0), Player(Kawhi Leonard, points:103.0), Player(Dejounte Murray, points:79.0), Player(Jalen Duren, points:32.0), Player(Jamal Murray, points:74.0), Player(Michael Porter Jr., points:76.0), Player(Mike Conley, points:77.0)]\n",
      "Week 8: Coby Bryant scored 1711.0 points with lineup [Player(Tyrese Haliburton, points:118.0), Player(Jarrett Allen, points:135.0), Player(Austin Reaves, points:117.0), Player(Keldon Johnson, points:134.0), Player(Darius Garland, points:125.0), Player(Aaron Gordon, points:132.0), Player(Damian Lillard, points:189.0), Player(Kawhi Leonard, points:240.0), Player(Dejounte Murray, points:156.0), Player(Jamal Murray, points:119.0), Player(Michael Porter Jr., points:80.0), Player(Mike Conley, points:56.0), Player(Chris Paul, points:110.0)]\n",
      "Week 9: Coby Bryant scored 1576.0 points with lineup [Player(Kawhi Leonard, points:99.0), Player(Dejounte Murray, points:175.0), Player(Tyrese Haliburton, points:175.0), Player(Jarrett Allen, points:152.0), Player(Austin Reaves, points:139.0), Player(Jamal Murray, points:200.0), Player(Keldon Johnson, points:62.0), Player(Michael Porter Jr., points:112.0), Player(Chris Paul, points:101.0), Player(Mike Conley, points:93.0), Player(Aaron Gordon, points:120.0), Player(Damian Lillard, points:148.0)]\n",
      "Week 10: Coby Bryant scored 1372.0 points with lineup [Player(Dejounte Murray, points:109.0), Player(Tyrese Haliburton, points:228.0), Player(Jarrett Allen, points:135.0), Player(Jalen Duren, points:116.0), Player(Austin Reaves, points:111.0), Player(Jamal Murray, points:139.0), Player(Keldon Johnson, points:100.0), Player(Michael Porter Jr., points:85.0), Player(Jalen Johnson, points:112.0), Player(Chris Paul, points:99.0), Player(Aaron Gordon, points:34.0), Player(Damian Lillard, points:104.0)]\n",
      "Week 11: Coby Bryant scored 1800.0 points with lineup [Player(Coby White, points:38.0), Player(Tyrese Haliburton, points:250.0), Player(Jarrett Allen, points:190.0), Player(Austin Reaves, points:105.0), Player(Keldon Johnson, points:76.0), Player(Jalen Johnson, points:120.0), Player(Aaron Gordon, points:124.0), Player(Damian Lillard, points:146.0), Player(Dejounte Murray, points:98.0), Player(Kawhi Leonard, points:193.0), Player(Jalen Duren, points:141.0), Player(Jamal Murray, points:199.0), Player(Michael Porter Jr., points:71.0), Player(Chris Paul, points:49.0)]\n",
      "Week 12: Coby Bryant scored 1416.0 points with lineup [Player(Coby White, points:173.0), Player(Tyrese Haliburton, points:19.0), Player(Jarrett Allen, points:55.0), Player(Austin Reaves, points:86.0), Player(Keldon Johnson, points:94.0), Player(Jalen Johnson, points:116.0), Player(Aaron Gordon, points:85.0), Player(Damian Lillard, points:131.0), Player(Kawhi Leonard, points:213.0), Player(Dejounte Murray, points:117.0), Player(Jalen Duren, points:105.0), Player(Jamal Murray, points:111.0), Player(Michael Porter Jr., points:111.0)]\n",
      "Week 13: Coby Bryant scored 1364.0 points with lineup [Player(Coby White, points:95.0), Player(Tyrese Haliburton, points:55.0), Player(Jarrett Allen, points:135.0), Player(Franz Wagner, points:32.0), Player(Austin Reaves, points:120.0), Player(Keldon Johnson, points:74.0), Player(Jalen Johnson, points:151.0), Player(Aaron Gordon, points:38.0), Player(Damian Lillard, points:111.0), Player(Kawhi Leonard, points:67.0), Player(Dejounte Murray, points:164.0), Player(Wendell Carter Jr., points:36.0), Player(Jalen Duren, points:105.0), Player(Jamal Murray, points:131.0), Player(Michael Porter Jr., points:50.0)]\n",
      "Week 14: Coby Bryant scored 1653.0 points with lineup [Player(Coby White, points:131.0), Player(Jarrett Allen, points:39.0), Player(Franz Wagner, points:80.0), Player(Keldon Johnson, points:103.0), Player(Jalen Johnson, points:155.0), Player(Jonas Valanciunas, points:92.0), Player(Devin Booker, points:234.0), Player(Damian Lillard, points:149.0), Player(Khris Middleton, points:84.0), Player(Dejounte Murray, points:134.0), Player(Kawhi Leonard, points:169.0), Player(Wendell Carter Jr., points:26.0), Player(Jalen Duren, points:147.0), Player(Jamal Murray, points:110.0)]\n",
      "Week 15: Coby Bryant scored 1806.0 points with lineup [Player(Coby White, points:128.0), Player(Tyrese Haliburton, points:130.0), Player(Franz Wagner, points:179.0), Player(Darius Garland, points:69.0), Player(Keldon Johnson, points:35.0), Player(Jalen Johnson, points:141.0), Player(Jonas Valanciunas, points:111.0), Player(Devin Booker, points:142.0), Player(Damian Lillard, points:141.0), Player(Khris Middleton, points:105.0), Player(Dejounte Murray, points:122.0), Player(Kawhi Leonard, points:242.0), Player(Jalen Duren, points:75.0), Player(Jamal Murray, points:186.0)]\n",
      "Week 16: Coby Bryant scored 1380.0 points with lineup [Player(Coby White, points:120.0), Player(Tyrese Haliburton, points:126.0), Player(Franz Wagner, points:140.0), Player(Darius Garland, points:64.0), Player(Jalen Johnson, points:160.0), Player(Donte DiVincenzo, points:71.0), Player(Jonas Valanciunas, points:99.0), Player(Damian Lillard, points:60.0), Player(Devin Booker, points:94.0), Player(Kawhi Leonard, points:136.0), Player(Dejounte Murray, points:98.0), Player(Jalen Duren, points:138.0), Player(Jamal Murray, points:74.0)]\n",
      "Week 17: Coby Bryant scored 1946.0 points with lineup [Player(Coby White, points:149.0), Player(Tyrese Haliburton, points:206.0), Player(Franz Wagner, points:143.0), Player(Vince Williams Jr., points:26.0), Player(Darius Garland, points:145.0), Player(Jalen Johnson, points:159.0), Player(Donte DiVincenzo, points:98.0), Player(Jonas Valanciunas, points:146.0), Player(Devin Booker, points:186.0), Player(Damian Lillard, points:183.0), Player(Kawhi Leonard, points:146.0), Player(Dejounte Murray, points:176.0), Player(Jalen Duren, points:127.0), Player(Jamal Murray, points:56.0)]\n",
      "Week 18: Coby Bryant scored 1437.0 points with lineup [Player(Coby White, points:80.0), Player(Tyrese Haliburton, points:103.0), Player(Franz Wagner, points:100.0), Player(Darius Garland, points:133.0), Player(Jalen Johnson, points:77.0), Player(Donte DiVincenzo, points:161.0), Player(Jonas Valanciunas, points:51.0), Player(Devin Booker, points:88.0), Player(Damian Lillard, points:95.0), Player(Dejounte Murray, points:136.0), Player(Kawhi Leonard, points:147.0), Player(Jalen Duren, points:126.0), Player(Jamal Murray, points:119.0), Player(Marvin Bagley III, points:21.0)]\n",
      "Week 19: Coby Bryant scored 1645.0 points with lineup [Player(Coby White, points:187.0), Player(Tyrese Haliburton, points:134.0), Player(Franz Wagner, points:89.0), Player(Darius Garland, points:125.0), Player(Jalen Johnson, points:83.0), Player(Grayson Allen, points:56.0), Player(Donte DiVincenzo, points:89.0), Player(Jonas Valanciunas, points:66.0), Player(Damian Lillard, points:220.0), Player(Dejounte Murray, points:194.0), Player(Kawhi Leonard, points:140.0), Player(Jalen Duren, points:85.0), Player(Jamal Murray, points:157.0), Player(Marvin Bagley III, points:20.0)]\n"
     ]
    }
   ],
   "source": [
    "# Select a team to analyze\n",
    "team_id = 2\n",
    "\n",
    "# Create a list to store the data\n",
    "data = []\n",
    "lineup_points_breakdown = []\n",
    "player_id = 1\n",
    "\n",
    "# Iterate over weeks 1 to 19\n",
    "for week in range(1, 20):\n",
    "    # Assign the box_score variable\n",
    "    box_scores = league.box_scores(matchup_period=week)\n",
    "    \n",
    "    # Iterate through the box_scores list\n",
    "    for box in box_scores:\n",
    "        # If the team you are analyizing is the home team, record information regarding team score, name and lineup\n",
    "        if box.home_team.team_id == team_id:\n",
    "            team_score = box.home_score\n",
    "            lineup = box.home_lineup\n",
    "            team_name = box.home_team.team_name\n",
    "            # Append the team's weekly data to the list\n",
    "            data.append({\n",
    "                'Week': week,\n",
    "                'Team Name': team_name,\n",
    "                'Team Score': team_score,\n",
    "                'Lineup': lineup,\n",
    "            })\n",
    "\n",
    "            # Extracting points breakdown for each player in the lineup\n",
    "            for player in lineup:\n",
    "                player_name = player.name\n",
    "                player_points_breakdown = player.points_breakdown\n",
    "                lineup_points_breakdown.append({\n",
    "                    'ID': player_id,\n",
    "                    'Week': week,\n",
    "                    'Player': player_name,\n",
    "                    'Points Breakdown': player_points_breakdown\n",
    "                })\n",
    "                player_id += 1\n",
    "                \n",
    "        # If the team you are analyzing is the away team, record information regarding team score, name and lineup\n",
    "        elif box.away_team.team_id == team_id:\n",
    "            team_score = box.away_score\n",
    "            lineup = box.away_lineup\n",
    "            team_name = box.away_team.team_name\n",
    "            \n",
    "            # Append the team's weekly data to the list\n",
    "            data.append({\n",
    "                'Week': week,\n",
    "                'Team Name': team_name,\n",
    "                'Team Score': team_score,\n",
    "                'Lineup': lineup,\n",
    "            })\n",
    "            \n",
    "            # Extracting points breakdown for each player in the lineup\n",
    "            for player in lineup:\n",
    "                player_name = player.name\n",
    "                player_points_breakdown = player.points_breakdown\n",
    "                lineup_points_breakdown.append({\n",
    "                    'ID': player_id,\n",
    "                    'Week': week,\n",
    "                    'Player': player_name,\n",
    "                    'Points Breakdown': player_points_breakdown\n",
    "                })\n",
    "                player_id += 1\n",
    "        \n",
    "    # Print the scores for the specified team to ensure that you are analyzing the correct team and are accessing the correct data\n",
    "    print(f\"Week {week}: {team_name} scored {team_score} points with lineup {lineup}\")\n",
    "\n",
    "# Create a pandas dataframe from the data list\n",
    "df_player = pd.DataFrame(data)\n",
    "points_breakdown = pd.DataFrame(lineup_points_breakdown)\n",
    "\n",
    "# We use the explode function to separate the lineup column into individual rows by the comma to split the players\n",
    "df_player = df_player.explode('Lineup')\n",
    "\n",
    "# Add an ID column to the dataframe\n",
    "df_player['ID'] = range(1, len(df_player) + 1)\n",
    "\n",
    "# Convert the lineup column to a string to split the column into two columns\n",
    "df_player['Lineup'] = df_player['Lineup'].astype(str)\n",
    "\n",
    "# Split the lineup column into two columns: Player and Points\n",
    "df_player[['Player', 'Fantasy Points']] = df_player['Lineup'].str.split(', ', expand=True)\n",
    "\n",
    "# Remove the 'Player(' and ')' from the Player column\n",
    "df_player['Player'] = df_player['Player'].str.replace(r'Player\\(', '', regex=True).astype(str)\n",
    "\n",
    "# Remove the 'points(' and ')' from the Points column\n",
    "df_player['Fantasy Points'] = df_player['Fantasy Points'].str.replace(r'.*points:([\\d.]+)\\)', r'\\1', regex=True).astype(float)\n",
    "\n",
    "# Create a new column for the weekly contribution percentage\n",
    "df_player['Weekly Contribution Percentage'] = round(df_player['Fantasy Points'] / df_player['Team Score'] * 100, 2)\n",
    "\n",
    "# Drop the original Lineup, Team Name and Team Score columns\n",
    "df_player.drop(columns=['Lineup', 'Team Name', 'Team Score'], inplace=True)\n",
    "            \n",
    "# Work for Second DF\n",
    "# Define a function to extract each key's value from the dictionary\n",
    "def extract_stat(stat_dict, stat):\n",
    "    return stat_dict.get(stat, 0)  # If the stat is not present, default to 0\n",
    "\n",
    "# Extracting all unique stats\n",
    "unique_stats = set(stat for stat_dict in points_breakdown['Points Breakdown'] for stat in stat_dict.keys())\n",
    "\n",
    "# Creating new columns for each stat\n",
    "for stat in unique_stats:\n",
    "    points_breakdown[stat] = points_breakdown['Points Breakdown'].apply(lambda x: extract_stat(x, stat))\n",
    "    \n",
    "# Drop the 'points_breakdown' column\n",
    "points_breakdown.drop(columns=['Points Breakdown'], inplace=True)"
   ]
  },
  {
   "cell_type": "code",
   "execution_count": 5,
   "metadata": {},
   "outputs": [
    {
     "data": {
      "text/html": [
       "<div>\n",
       "<style scoped>\n",
       "    .dataframe tbody tr th:only-of-type {\n",
       "        vertical-align: middle;\n",
       "    }\n",
       "\n",
       "    .dataframe tbody tr th {\n",
       "        vertical-align: top;\n",
       "    }\n",
       "\n",
       "    .dataframe thead th {\n",
       "        text-align: right;\n",
       "    }\n",
       "</style>\n",
       "<table border=\"1\" class=\"dataframe\">\n",
       "  <thead>\n",
       "    <tr style=\"text-align: right;\">\n",
       "      <th></th>\n",
       "      <th>ID</th>\n",
       "      <th>Week</th>\n",
       "      <th>Player</th>\n",
       "      <th>FTM</th>\n",
       "      <th>PTS</th>\n",
       "      <th>AST</th>\n",
       "      <th>REB</th>\n",
       "      <th>TO</th>\n",
       "      <th>FGM</th>\n",
       "      <th>FGA</th>\n",
       "      <th>3PTM</th>\n",
       "      <th>FTA</th>\n",
       "      <th>STL</th>\n",
       "      <th>BLK</th>\n",
       "    </tr>\n",
       "  </thead>\n",
       "  <tbody>\n",
       "    <tr>\n",
       "      <th>0</th>\n",
       "      <td>1</td>\n",
       "      <td>1</td>\n",
       "      <td>Josh Okogie</td>\n",
       "      <td>5.0</td>\n",
       "      <td>17.0</td>\n",
       "      <td>6.0</td>\n",
       "      <td>9.0</td>\n",
       "      <td>-2.0</td>\n",
       "      <td>10.0</td>\n",
       "      <td>-9.0</td>\n",
       "      <td>2.0</td>\n",
       "      <td>-5.0</td>\n",
       "      <td>0.0</td>\n",
       "      <td>4.0</td>\n",
       "    </tr>\n",
       "    <tr>\n",
       "      <th>1</th>\n",
       "      <td>2</td>\n",
       "      <td>1</td>\n",
       "      <td>Ausar Thompson</td>\n",
       "      <td>1.0</td>\n",
       "      <td>4.0</td>\n",
       "      <td>6.0</td>\n",
       "      <td>7.0</td>\n",
       "      <td>-4.0</td>\n",
       "      <td>2.0</td>\n",
       "      <td>-7.0</td>\n",
       "      <td>1.0</td>\n",
       "      <td>-2.0</td>\n",
       "      <td>0.0</td>\n",
       "      <td>20.0</td>\n",
       "    </tr>\n",
       "    <tr>\n",
       "      <th>2</th>\n",
       "      <td>3</td>\n",
       "      <td>1</td>\n",
       "      <td>Tyrese Haliburton</td>\n",
       "      <td>3.0</td>\n",
       "      <td>41.0</td>\n",
       "      <td>48.0</td>\n",
       "      <td>11.0</td>\n",
       "      <td>-8.0</td>\n",
       "      <td>32.0</td>\n",
       "      <td>-32.0</td>\n",
       "      <td>6.0</td>\n",
       "      <td>-3.0</td>\n",
       "      <td>4.0</td>\n",
       "      <td>8.0</td>\n",
       "    </tr>\n",
       "    <tr>\n",
       "      <th>3</th>\n",
       "      <td>4</td>\n",
       "      <td>1</td>\n",
       "      <td>Onyeka Okongwu</td>\n",
       "      <td>0.0</td>\n",
       "      <td>14.0</td>\n",
       "      <td>4.0</td>\n",
       "      <td>7.0</td>\n",
       "      <td>-2.0</td>\n",
       "      <td>14.0</td>\n",
       "      <td>-11.0</td>\n",
       "      <td>0.0</td>\n",
       "      <td>0.0</td>\n",
       "      <td>4.0</td>\n",
       "      <td>0.0</td>\n",
       "    </tr>\n",
       "    <tr>\n",
       "      <th>4</th>\n",
       "      <td>5</td>\n",
       "      <td>1</td>\n",
       "      <td>Austin Reaves</td>\n",
       "      <td>8.0</td>\n",
       "      <td>29.0</td>\n",
       "      <td>14.0</td>\n",
       "      <td>12.0</td>\n",
       "      <td>-12.0</td>\n",
       "      <td>18.0</td>\n",
       "      <td>-30.0</td>\n",
       "      <td>3.0</td>\n",
       "      <td>-11.0</td>\n",
       "      <td>16.0</td>\n",
       "      <td>0.0</td>\n",
       "    </tr>\n",
       "  </tbody>\n",
       "</table>\n",
       "</div>"
      ],
      "text/plain": [
       "   ID  Week             Player  FTM   PTS   AST   REB    TO   FGM   FGA  3PTM  \\\n",
       "0   1     1        Josh Okogie  5.0  17.0   6.0   9.0  -2.0  10.0  -9.0   2.0   \n",
       "1   2     1     Ausar Thompson  1.0   4.0   6.0   7.0  -4.0   2.0  -7.0   1.0   \n",
       "2   3     1  Tyrese Haliburton  3.0  41.0  48.0  11.0  -8.0  32.0 -32.0   6.0   \n",
       "3   4     1     Onyeka Okongwu  0.0  14.0   4.0   7.0  -2.0  14.0 -11.0   0.0   \n",
       "4   5     1      Austin Reaves  8.0  29.0  14.0  12.0 -12.0  18.0 -30.0   3.0   \n",
       "\n",
       "    FTA   STL   BLK  \n",
       "0  -5.0   0.0   4.0  \n",
       "1  -2.0   0.0  20.0  \n",
       "2  -3.0   4.0   8.0  \n",
       "3   0.0   4.0   0.0  \n",
       "4 -11.0  16.0   0.0  "
      ]
     },
     "execution_count": 5,
     "metadata": {},
     "output_type": "execute_result"
    }
   ],
   "source": [
    "# Check to see if transformations were successful for points_breakdown\n",
    "points_breakdown.head(5)"
   ]
  },
  {
   "cell_type": "code",
   "execution_count": 6,
   "metadata": {},
   "outputs": [
    {
     "data": {
      "text/html": [
       "<div>\n",
       "<style scoped>\n",
       "    .dataframe tbody tr th:only-of-type {\n",
       "        vertical-align: middle;\n",
       "    }\n",
       "\n",
       "    .dataframe tbody tr th {\n",
       "        vertical-align: top;\n",
       "    }\n",
       "\n",
       "    .dataframe thead th {\n",
       "        text-align: right;\n",
       "    }\n",
       "</style>\n",
       "<table border=\"1\" class=\"dataframe\">\n",
       "  <thead>\n",
       "    <tr style=\"text-align: right;\">\n",
       "      <th></th>\n",
       "      <th>Week</th>\n",
       "      <th>ID</th>\n",
       "      <th>Player</th>\n",
       "      <th>Fantasy Points</th>\n",
       "      <th>Weekly Contribution Percentage</th>\n",
       "    </tr>\n",
       "  </thead>\n",
       "  <tbody>\n",
       "    <tr>\n",
       "      <th>0</th>\n",
       "      <td>1</td>\n",
       "      <td>1</td>\n",
       "      <td>Josh Okogie</td>\n",
       "      <td>37.0</td>\n",
       "      <td>3.50</td>\n",
       "    </tr>\n",
       "    <tr>\n",
       "      <th>0</th>\n",
       "      <td>1</td>\n",
       "      <td>2</td>\n",
       "      <td>Ausar Thompson</td>\n",
       "      <td>28.0</td>\n",
       "      <td>2.65</td>\n",
       "    </tr>\n",
       "    <tr>\n",
       "      <th>0</th>\n",
       "      <td>1</td>\n",
       "      <td>3</td>\n",
       "      <td>Tyrese Haliburton</td>\n",
       "      <td>110.0</td>\n",
       "      <td>10.41</td>\n",
       "    </tr>\n",
       "    <tr>\n",
       "      <th>0</th>\n",
       "      <td>1</td>\n",
       "      <td>4</td>\n",
       "      <td>Onyeka Okongwu</td>\n",
       "      <td>30.0</td>\n",
       "      <td>2.84</td>\n",
       "    </tr>\n",
       "    <tr>\n",
       "      <th>0</th>\n",
       "      <td>1</td>\n",
       "      <td>5</td>\n",
       "      <td>Austin Reaves</td>\n",
       "      <td>47.0</td>\n",
       "      <td>4.45</td>\n",
       "    </tr>\n",
       "  </tbody>\n",
       "</table>\n",
       "</div>"
      ],
      "text/plain": [
       "   Week  ID             Player  Fantasy Points  Weekly Contribution Percentage\n",
       "0     1   1        Josh Okogie            37.0                            3.50\n",
       "0     1   2     Ausar Thompson            28.0                            2.65\n",
       "0     1   3  Tyrese Haliburton           110.0                           10.41\n",
       "0     1   4     Onyeka Okongwu            30.0                            2.84\n",
       "0     1   5      Austin Reaves            47.0                            4.45"
      ]
     },
     "execution_count": 6,
     "metadata": {},
     "output_type": "execute_result"
    }
   ],
   "source": [
    "# Check to see if transformations were successful for df_player\n",
    "df_player.head(5)"
   ]
  },
  {
   "cell_type": "code",
   "execution_count": 19,
   "metadata": {},
   "outputs": [
    {
     "name": "stdout",
     "output_type": "stream",
     "text": [
      "(256, 5)\n",
      "(256, 14)\n"
     ]
    }
   ],
   "source": [
    "# Inspect the shape of the dataframes\n",
    "print(df_player.shape)\n",
    "print(points_breakdown.shape)\n"
   ]
  },
  {
   "cell_type": "code",
   "execution_count": 20,
   "metadata": {},
   "outputs": [
    {
     "name": "stdout",
     "output_type": "stream",
     "text": [
      "(256, 16)\n"
     ]
    }
   ],
   "source": [
    "# Merge two dataframes based on ID\n",
    "cleaned_df = points_breakdown.merge(df_player, how='left', on='ID')\n",
    "\n",
    "# Drop the Week_y and Player_y columns\n",
    "cleaned_df.drop(columns=['Week_y', 'Player_y'], inplace=True)\n",
    "cleaned_df.rename(columns={'Week_x': 'Week', 'Player_x': 'Player'}, inplace=True)\n",
    "\n",
    "# Change the data types of the columns to category\n",
    "cleaned_df['Week'] = cleaned_df['Week'].astype('category')\n",
    "cleaned_df['Player'] = cleaned_df['Player'].astype('category')\n",
    "\n",
    "# Check to see if merge was successful\n",
    "print(cleaned_df.shape)"
   ]
  },
  {
   "cell_type": "code",
   "execution_count": 11,
   "metadata": {},
   "outputs": [
    {
     "data": {
      "text/html": [
       "<div>\n",
       "<style scoped>\n",
       "    .dataframe tbody tr th:only-of-type {\n",
       "        vertical-align: middle;\n",
       "    }\n",
       "\n",
       "    .dataframe tbody tr th {\n",
       "        vertical-align: top;\n",
       "    }\n",
       "\n",
       "    .dataframe thead th {\n",
       "        text-align: right;\n",
       "    }\n",
       "</style>\n",
       "<table border=\"1\" class=\"dataframe\">\n",
       "  <thead>\n",
       "    <tr style=\"text-align: right;\">\n",
       "      <th></th>\n",
       "      <th>ID</th>\n",
       "      <th>Week</th>\n",
       "      <th>Player</th>\n",
       "      <th>FTM</th>\n",
       "      <th>PTS</th>\n",
       "      <th>AST</th>\n",
       "      <th>REB</th>\n",
       "      <th>TO</th>\n",
       "      <th>FGM</th>\n",
       "      <th>FGA</th>\n",
       "      <th>3PTM</th>\n",
       "      <th>FTA</th>\n",
       "      <th>STL</th>\n",
       "      <th>BLK</th>\n",
       "      <th>Fantasy Points</th>\n",
       "      <th>Weekly Contribution Percentage</th>\n",
       "    </tr>\n",
       "  </thead>\n",
       "  <tbody>\n",
       "    <tr>\n",
       "      <th>0</th>\n",
       "      <td>1</td>\n",
       "      <td>1</td>\n",
       "      <td>Josh Okogie</td>\n",
       "      <td>5.0</td>\n",
       "      <td>17.0</td>\n",
       "      <td>6.0</td>\n",
       "      <td>9.0</td>\n",
       "      <td>-2.0</td>\n",
       "      <td>10.0</td>\n",
       "      <td>-9.0</td>\n",
       "      <td>2.0</td>\n",
       "      <td>-5.0</td>\n",
       "      <td>0.0</td>\n",
       "      <td>4.0</td>\n",
       "      <td>37.0</td>\n",
       "      <td>3.50</td>\n",
       "    </tr>\n",
       "    <tr>\n",
       "      <th>1</th>\n",
       "      <td>2</td>\n",
       "      <td>1</td>\n",
       "      <td>Ausar Thompson</td>\n",
       "      <td>1.0</td>\n",
       "      <td>4.0</td>\n",
       "      <td>6.0</td>\n",
       "      <td>7.0</td>\n",
       "      <td>-4.0</td>\n",
       "      <td>2.0</td>\n",
       "      <td>-7.0</td>\n",
       "      <td>1.0</td>\n",
       "      <td>-2.0</td>\n",
       "      <td>0.0</td>\n",
       "      <td>20.0</td>\n",
       "      <td>28.0</td>\n",
       "      <td>2.65</td>\n",
       "    </tr>\n",
       "    <tr>\n",
       "      <th>2</th>\n",
       "      <td>3</td>\n",
       "      <td>1</td>\n",
       "      <td>Tyrese Haliburton</td>\n",
       "      <td>3.0</td>\n",
       "      <td>41.0</td>\n",
       "      <td>48.0</td>\n",
       "      <td>11.0</td>\n",
       "      <td>-8.0</td>\n",
       "      <td>32.0</td>\n",
       "      <td>-32.0</td>\n",
       "      <td>6.0</td>\n",
       "      <td>-3.0</td>\n",
       "      <td>4.0</td>\n",
       "      <td>8.0</td>\n",
       "      <td>110.0</td>\n",
       "      <td>10.41</td>\n",
       "    </tr>\n",
       "    <tr>\n",
       "      <th>3</th>\n",
       "      <td>4</td>\n",
       "      <td>1</td>\n",
       "      <td>Onyeka Okongwu</td>\n",
       "      <td>0.0</td>\n",
       "      <td>14.0</td>\n",
       "      <td>4.0</td>\n",
       "      <td>7.0</td>\n",
       "      <td>-2.0</td>\n",
       "      <td>14.0</td>\n",
       "      <td>-11.0</td>\n",
       "      <td>0.0</td>\n",
       "      <td>0.0</td>\n",
       "      <td>4.0</td>\n",
       "      <td>0.0</td>\n",
       "      <td>30.0</td>\n",
       "      <td>2.84</td>\n",
       "    </tr>\n",
       "    <tr>\n",
       "      <th>4</th>\n",
       "      <td>5</td>\n",
       "      <td>1</td>\n",
       "      <td>Austin Reaves</td>\n",
       "      <td>8.0</td>\n",
       "      <td>29.0</td>\n",
       "      <td>14.0</td>\n",
       "      <td>12.0</td>\n",
       "      <td>-12.0</td>\n",
       "      <td>18.0</td>\n",
       "      <td>-30.0</td>\n",
       "      <td>3.0</td>\n",
       "      <td>-11.0</td>\n",
       "      <td>16.0</td>\n",
       "      <td>0.0</td>\n",
       "      <td>47.0</td>\n",
       "      <td>4.45</td>\n",
       "    </tr>\n",
       "  </tbody>\n",
       "</table>\n",
       "</div>"
      ],
      "text/plain": [
       "   ID Week             Player  FTM   PTS   AST   REB    TO   FGM   FGA  3PTM  \\\n",
       "0   1    1        Josh Okogie  5.0  17.0   6.0   9.0  -2.0  10.0  -9.0   2.0   \n",
       "1   2    1     Ausar Thompson  1.0   4.0   6.0   7.0  -4.0   2.0  -7.0   1.0   \n",
       "2   3    1  Tyrese Haliburton  3.0  41.0  48.0  11.0  -8.0  32.0 -32.0   6.0   \n",
       "3   4    1     Onyeka Okongwu  0.0  14.0   4.0   7.0  -2.0  14.0 -11.0   0.0   \n",
       "4   5    1      Austin Reaves  8.0  29.0  14.0  12.0 -12.0  18.0 -30.0   3.0   \n",
       "\n",
       "    FTA   STL   BLK  Fantasy Points  Weekly Contribution Percentage  \n",
       "0  -5.0   0.0   4.0            37.0                            3.50  \n",
       "1  -2.0   0.0  20.0            28.0                            2.65  \n",
       "2  -3.0   4.0   8.0           110.0                           10.41  \n",
       "3   0.0   4.0   0.0            30.0                            2.84  \n",
       "4 -11.0  16.0   0.0            47.0                            4.45  "
      ]
     },
     "execution_count": 11,
     "metadata": {},
     "output_type": "execute_result"
    }
   ],
   "source": [
    "cleaned_df.head(5)"
   ]
  },
  {
   "cell_type": "code",
   "execution_count": 12,
   "metadata": {},
   "outputs": [
    {
     "name": "stdout",
     "output_type": "stream",
     "text": [
      "<class 'pandas.core.frame.DataFrame'>\n",
      "RangeIndex: 256 entries, 0 to 255\n",
      "Data columns (total 16 columns):\n",
      " #   Column                          Non-Null Count  Dtype   \n",
      "---  ------                          --------------  -----   \n",
      " 0   ID                              256 non-null    int64   \n",
      " 1   Week                            256 non-null    category\n",
      " 2   Player                          256 non-null    category\n",
      " 3   FTM                             256 non-null    float64 \n",
      " 4   PTS                             256 non-null    float64 \n",
      " 5   AST                             256 non-null    float64 \n",
      " 6   REB                             256 non-null    float64 \n",
      " 7   TO                              256 non-null    float64 \n",
      " 8   FGM                             256 non-null    float64 \n",
      " 9   FGA                             256 non-null    float64 \n",
      " 10  3PTM                            256 non-null    float64 \n",
      " 11  FTA                             256 non-null    float64 \n",
      " 12  STL                             256 non-null    float64 \n",
      " 13  BLK                             256 non-null    float64 \n",
      " 14  Fantasy Points                  256 non-null    float64 \n",
      " 15  Weekly Contribution Percentage  256 non-null    float64 \n",
      "dtypes: category(2), float64(13), int64(1)\n",
      "memory usage: 30.6 KB\n"
     ]
    }
   ],
   "source": [
    "# get data type information of the dataframe and makesure all the columns are present\n",
    "cleaned_df.info()"
   ]
  },
  {
   "cell_type": "code",
   "execution_count": 14,
   "metadata": {},
   "outputs": [],
   "source": [
    "# In case you want to export the API data to a csv file\n",
    "\n",
    "# Set filepath to desktop\n",
    "file_path = '~/Desktop/data.csv'\n",
    "\n",
    "# Save the dataframe to a csv file\n",
    "cleaned_df.to_csv(file_path, index=False)"
   ]
  },
  {
   "cell_type": "code",
   "execution_count": 15,
   "metadata": {},
   "outputs": [
    {
     "data": {
      "application/vnd.plotly.v1+json": {
       "config": {
        "plotlyServerURL": "https://plot.ly"
       },
       "data": [
        {
         "alignmentgroup": "True",
         "bingroup": "x",
         "hovertemplate": "TO=%{x}<br>count=%{y}<extra></extra>",
         "legendgroup": "",
         "marker": {
          "color": "#636efa",
          "pattern": {
           "shape": ""
          }
         },
         "name": "",
         "offsetgroup": "",
         "orientation": "v",
         "showlegend": false,
         "type": "histogram",
         "x": [
          -2,
          -4,
          -8,
          -2,
          -12,
          -12,
          -12,
          -4,
          -12,
          -16,
          -10,
          -16,
          -4,
          -10,
          -22,
          -4,
          -8,
          -20,
          0,
          -24,
          -6,
          -20,
          0,
          -6,
          -20,
          -2,
          -16,
          -8,
          -2,
          -12,
          -2,
          -4,
          -18,
          -6,
          -24,
          -12,
          -12,
          -4,
          -20,
          -6,
          -2,
          -6,
          -12,
          -8,
          -18,
          -24,
          -6,
          -20,
          -14,
          -8,
          -24,
          -12,
          -12,
          -8,
          -8,
          -10,
          -8,
          -18,
          -8,
          -20,
          -8,
          -8,
          -10,
          -10,
          -18,
          -8,
          -16,
          -6,
          -4,
          -10,
          -10,
          -10,
          -6,
          -24,
          -16,
          -8,
          -24,
          -8,
          -4,
          0,
          -24,
          0,
          -8,
          -10,
          -8,
          -4,
          -2,
          -12,
          -8,
          -8,
          -4,
          -4,
          -8,
          -6,
          -28,
          -20,
          -12,
          -22,
          -20,
          -8,
          -22,
          -8,
          -6,
          -14,
          -4,
          -2,
          -16,
          -6,
          -18,
          -30,
          -8,
          -24,
          -12,
          -20,
          -8,
          -4,
          -14,
          -8,
          -14,
          -14,
          -10,
          -8,
          -4,
          -6,
          -10,
          -8,
          -4,
          -14,
          -8,
          -4,
          -20,
          -10,
          -16,
          -12,
          -12,
          -8,
          -8,
          -2,
          -8,
          -14,
          -18,
          -10,
          -12,
          -4,
          -2,
          -12,
          -4,
          -2,
          -8,
          -8,
          -16,
          -12,
          -10,
          -10,
          -12,
          -12,
          -22,
          -6,
          -20,
          0,
          -14,
          0,
          -12,
          -14,
          -24,
          -6,
          -4,
          -10,
          -22,
          -2,
          -10,
          -8,
          -4,
          -16,
          -4,
          -20,
          -10,
          -4,
          -6,
          -20,
          -16,
          -6,
          -18,
          -10,
          -2,
          -10,
          -16,
          -14,
          -16,
          -14,
          -14,
          -4,
          -2,
          -6,
          -8,
          -34,
          -14,
          -12,
          -8,
          -6,
          -10,
          -18,
          -12,
          -18,
          -14,
          -12,
          -10,
          -12,
          0,
          -6,
          -14,
          -6,
          -18,
          -18,
          -16,
          -20,
          -26,
          -8,
          -24,
          -6,
          -10,
          -12,
          -24,
          -34,
          -28,
          -26,
          -14,
          -6,
          -12,
          -8,
          -20,
          -20,
          -16,
          -18,
          -8,
          -12,
          -16,
          -18,
          -8,
          -18,
          -16,
          0,
          -22,
          -22,
          -12,
          -30,
          -4,
          -6,
          -26,
          -10,
          -18,
          -20,
          -6,
          -14,
          -18,
          -4
         ],
         "xaxis": "x",
         "yaxis": "y"
        }
       ],
       "layout": {
        "barmode": "relative",
        "legend": {
         "tracegroupgap": 0
        },
        "template": {
         "data": {
          "bar": [
           {
            "error_x": {
             "color": "#2a3f5f"
            },
            "error_y": {
             "color": "#2a3f5f"
            },
            "marker": {
             "line": {
              "color": "#E5ECF6",
              "width": 0.5
             },
             "pattern": {
              "fillmode": "overlay",
              "size": 10,
              "solidity": 0.2
             }
            },
            "type": "bar"
           }
          ],
          "barpolar": [
           {
            "marker": {
             "line": {
              "color": "#E5ECF6",
              "width": 0.5
             },
             "pattern": {
              "fillmode": "overlay",
              "size": 10,
              "solidity": 0.2
             }
            },
            "type": "barpolar"
           }
          ],
          "carpet": [
           {
            "aaxis": {
             "endlinecolor": "#2a3f5f",
             "gridcolor": "white",
             "linecolor": "white",
             "minorgridcolor": "white",
             "startlinecolor": "#2a3f5f"
            },
            "baxis": {
             "endlinecolor": "#2a3f5f",
             "gridcolor": "white",
             "linecolor": "white",
             "minorgridcolor": "white",
             "startlinecolor": "#2a3f5f"
            },
            "type": "carpet"
           }
          ],
          "choropleth": [
           {
            "colorbar": {
             "outlinewidth": 0,
             "ticks": ""
            },
            "type": "choropleth"
           }
          ],
          "contour": [
           {
            "colorbar": {
             "outlinewidth": 0,
             "ticks": ""
            },
            "colorscale": [
             [
              0,
              "#0d0887"
             ],
             [
              0.1111111111111111,
              "#46039f"
             ],
             [
              0.2222222222222222,
              "#7201a8"
             ],
             [
              0.3333333333333333,
              "#9c179e"
             ],
             [
              0.4444444444444444,
              "#bd3786"
             ],
             [
              0.5555555555555556,
              "#d8576b"
             ],
             [
              0.6666666666666666,
              "#ed7953"
             ],
             [
              0.7777777777777778,
              "#fb9f3a"
             ],
             [
              0.8888888888888888,
              "#fdca26"
             ],
             [
              1,
              "#f0f921"
             ]
            ],
            "type": "contour"
           }
          ],
          "contourcarpet": [
           {
            "colorbar": {
             "outlinewidth": 0,
             "ticks": ""
            },
            "type": "contourcarpet"
           }
          ],
          "heatmap": [
           {
            "colorbar": {
             "outlinewidth": 0,
             "ticks": ""
            },
            "colorscale": [
             [
              0,
              "#0d0887"
             ],
             [
              0.1111111111111111,
              "#46039f"
             ],
             [
              0.2222222222222222,
              "#7201a8"
             ],
             [
              0.3333333333333333,
              "#9c179e"
             ],
             [
              0.4444444444444444,
              "#bd3786"
             ],
             [
              0.5555555555555556,
              "#d8576b"
             ],
             [
              0.6666666666666666,
              "#ed7953"
             ],
             [
              0.7777777777777778,
              "#fb9f3a"
             ],
             [
              0.8888888888888888,
              "#fdca26"
             ],
             [
              1,
              "#f0f921"
             ]
            ],
            "type": "heatmap"
           }
          ],
          "heatmapgl": [
           {
            "colorbar": {
             "outlinewidth": 0,
             "ticks": ""
            },
            "colorscale": [
             [
              0,
              "#0d0887"
             ],
             [
              0.1111111111111111,
              "#46039f"
             ],
             [
              0.2222222222222222,
              "#7201a8"
             ],
             [
              0.3333333333333333,
              "#9c179e"
             ],
             [
              0.4444444444444444,
              "#bd3786"
             ],
             [
              0.5555555555555556,
              "#d8576b"
             ],
             [
              0.6666666666666666,
              "#ed7953"
             ],
             [
              0.7777777777777778,
              "#fb9f3a"
             ],
             [
              0.8888888888888888,
              "#fdca26"
             ],
             [
              1,
              "#f0f921"
             ]
            ],
            "type": "heatmapgl"
           }
          ],
          "histogram": [
           {
            "marker": {
             "pattern": {
              "fillmode": "overlay",
              "size": 10,
              "solidity": 0.2
             }
            },
            "type": "histogram"
           }
          ],
          "histogram2d": [
           {
            "colorbar": {
             "outlinewidth": 0,
             "ticks": ""
            },
            "colorscale": [
             [
              0,
              "#0d0887"
             ],
             [
              0.1111111111111111,
              "#46039f"
             ],
             [
              0.2222222222222222,
              "#7201a8"
             ],
             [
              0.3333333333333333,
              "#9c179e"
             ],
             [
              0.4444444444444444,
              "#bd3786"
             ],
             [
              0.5555555555555556,
              "#d8576b"
             ],
             [
              0.6666666666666666,
              "#ed7953"
             ],
             [
              0.7777777777777778,
              "#fb9f3a"
             ],
             [
              0.8888888888888888,
              "#fdca26"
             ],
             [
              1,
              "#f0f921"
             ]
            ],
            "type": "histogram2d"
           }
          ],
          "histogram2dcontour": [
           {
            "colorbar": {
             "outlinewidth": 0,
             "ticks": ""
            },
            "colorscale": [
             [
              0,
              "#0d0887"
             ],
             [
              0.1111111111111111,
              "#46039f"
             ],
             [
              0.2222222222222222,
              "#7201a8"
             ],
             [
              0.3333333333333333,
              "#9c179e"
             ],
             [
              0.4444444444444444,
              "#bd3786"
             ],
             [
              0.5555555555555556,
              "#d8576b"
             ],
             [
              0.6666666666666666,
              "#ed7953"
             ],
             [
              0.7777777777777778,
              "#fb9f3a"
             ],
             [
              0.8888888888888888,
              "#fdca26"
             ],
             [
              1,
              "#f0f921"
             ]
            ],
            "type": "histogram2dcontour"
           }
          ],
          "mesh3d": [
           {
            "colorbar": {
             "outlinewidth": 0,
             "ticks": ""
            },
            "type": "mesh3d"
           }
          ],
          "parcoords": [
           {
            "line": {
             "colorbar": {
              "outlinewidth": 0,
              "ticks": ""
             }
            },
            "type": "parcoords"
           }
          ],
          "pie": [
           {
            "automargin": true,
            "type": "pie"
           }
          ],
          "scatter": [
           {
            "fillpattern": {
             "fillmode": "overlay",
             "size": 10,
             "solidity": 0.2
            },
            "type": "scatter"
           }
          ],
          "scatter3d": [
           {
            "line": {
             "colorbar": {
              "outlinewidth": 0,
              "ticks": ""
             }
            },
            "marker": {
             "colorbar": {
              "outlinewidth": 0,
              "ticks": ""
             }
            },
            "type": "scatter3d"
           }
          ],
          "scattercarpet": [
           {
            "marker": {
             "colorbar": {
              "outlinewidth": 0,
              "ticks": ""
             }
            },
            "type": "scattercarpet"
           }
          ],
          "scattergeo": [
           {
            "marker": {
             "colorbar": {
              "outlinewidth": 0,
              "ticks": ""
             }
            },
            "type": "scattergeo"
           }
          ],
          "scattergl": [
           {
            "marker": {
             "colorbar": {
              "outlinewidth": 0,
              "ticks": ""
             }
            },
            "type": "scattergl"
           }
          ],
          "scattermapbox": [
           {
            "marker": {
             "colorbar": {
              "outlinewidth": 0,
              "ticks": ""
             }
            },
            "type": "scattermapbox"
           }
          ],
          "scatterpolar": [
           {
            "marker": {
             "colorbar": {
              "outlinewidth": 0,
              "ticks": ""
             }
            },
            "type": "scatterpolar"
           }
          ],
          "scatterpolargl": [
           {
            "marker": {
             "colorbar": {
              "outlinewidth": 0,
              "ticks": ""
             }
            },
            "type": "scatterpolargl"
           }
          ],
          "scatterternary": [
           {
            "marker": {
             "colorbar": {
              "outlinewidth": 0,
              "ticks": ""
             }
            },
            "type": "scatterternary"
           }
          ],
          "surface": [
           {
            "colorbar": {
             "outlinewidth": 0,
             "ticks": ""
            },
            "colorscale": [
             [
              0,
              "#0d0887"
             ],
             [
              0.1111111111111111,
              "#46039f"
             ],
             [
              0.2222222222222222,
              "#7201a8"
             ],
             [
              0.3333333333333333,
              "#9c179e"
             ],
             [
              0.4444444444444444,
              "#bd3786"
             ],
             [
              0.5555555555555556,
              "#d8576b"
             ],
             [
              0.6666666666666666,
              "#ed7953"
             ],
             [
              0.7777777777777778,
              "#fb9f3a"
             ],
             [
              0.8888888888888888,
              "#fdca26"
             ],
             [
              1,
              "#f0f921"
             ]
            ],
            "type": "surface"
           }
          ],
          "table": [
           {
            "cells": {
             "fill": {
              "color": "#EBF0F8"
             },
             "line": {
              "color": "white"
             }
            },
            "header": {
             "fill": {
              "color": "#C8D4E3"
             },
             "line": {
              "color": "white"
             }
            },
            "type": "table"
           }
          ]
         },
         "layout": {
          "annotationdefaults": {
           "arrowcolor": "#2a3f5f",
           "arrowhead": 0,
           "arrowwidth": 1
          },
          "autotypenumbers": "strict",
          "coloraxis": {
           "colorbar": {
            "outlinewidth": 0,
            "ticks": ""
           }
          },
          "colorscale": {
           "diverging": [
            [
             0,
             "#8e0152"
            ],
            [
             0.1,
             "#c51b7d"
            ],
            [
             0.2,
             "#de77ae"
            ],
            [
             0.3,
             "#f1b6da"
            ],
            [
             0.4,
             "#fde0ef"
            ],
            [
             0.5,
             "#f7f7f7"
            ],
            [
             0.6,
             "#e6f5d0"
            ],
            [
             0.7,
             "#b8e186"
            ],
            [
             0.8,
             "#7fbc41"
            ],
            [
             0.9,
             "#4d9221"
            ],
            [
             1,
             "#276419"
            ]
           ],
           "sequential": [
            [
             0,
             "#0d0887"
            ],
            [
             0.1111111111111111,
             "#46039f"
            ],
            [
             0.2222222222222222,
             "#7201a8"
            ],
            [
             0.3333333333333333,
             "#9c179e"
            ],
            [
             0.4444444444444444,
             "#bd3786"
            ],
            [
             0.5555555555555556,
             "#d8576b"
            ],
            [
             0.6666666666666666,
             "#ed7953"
            ],
            [
             0.7777777777777778,
             "#fb9f3a"
            ],
            [
             0.8888888888888888,
             "#fdca26"
            ],
            [
             1,
             "#f0f921"
            ]
           ],
           "sequentialminus": [
            [
             0,
             "#0d0887"
            ],
            [
             0.1111111111111111,
             "#46039f"
            ],
            [
             0.2222222222222222,
             "#7201a8"
            ],
            [
             0.3333333333333333,
             "#9c179e"
            ],
            [
             0.4444444444444444,
             "#bd3786"
            ],
            [
             0.5555555555555556,
             "#d8576b"
            ],
            [
             0.6666666666666666,
             "#ed7953"
            ],
            [
             0.7777777777777778,
             "#fb9f3a"
            ],
            [
             0.8888888888888888,
             "#fdca26"
            ],
            [
             1,
             "#f0f921"
            ]
           ]
          },
          "colorway": [
           "#636efa",
           "#EF553B",
           "#00cc96",
           "#ab63fa",
           "#FFA15A",
           "#19d3f3",
           "#FF6692",
           "#B6E880",
           "#FF97FF",
           "#FECB52"
          ],
          "font": {
           "color": "#2a3f5f"
          },
          "geo": {
           "bgcolor": "white",
           "lakecolor": "white",
           "landcolor": "#E5ECF6",
           "showlakes": true,
           "showland": true,
           "subunitcolor": "white"
          },
          "hoverlabel": {
           "align": "left"
          },
          "hovermode": "closest",
          "mapbox": {
           "style": "light"
          },
          "paper_bgcolor": "white",
          "plot_bgcolor": "#E5ECF6",
          "polar": {
           "angularaxis": {
            "gridcolor": "white",
            "linecolor": "white",
            "ticks": ""
           },
           "bgcolor": "#E5ECF6",
           "radialaxis": {
            "gridcolor": "white",
            "linecolor": "white",
            "ticks": ""
           }
          },
          "scene": {
           "xaxis": {
            "backgroundcolor": "#E5ECF6",
            "gridcolor": "white",
            "gridwidth": 2,
            "linecolor": "white",
            "showbackground": true,
            "ticks": "",
            "zerolinecolor": "white"
           },
           "yaxis": {
            "backgroundcolor": "#E5ECF6",
            "gridcolor": "white",
            "gridwidth": 2,
            "linecolor": "white",
            "showbackground": true,
            "ticks": "",
            "zerolinecolor": "white"
           },
           "zaxis": {
            "backgroundcolor": "#E5ECF6",
            "gridcolor": "white",
            "gridwidth": 2,
            "linecolor": "white",
            "showbackground": true,
            "ticks": "",
            "zerolinecolor": "white"
           }
          },
          "shapedefaults": {
           "line": {
            "color": "#2a3f5f"
           }
          },
          "ternary": {
           "aaxis": {
            "gridcolor": "white",
            "linecolor": "white",
            "ticks": ""
           },
           "baxis": {
            "gridcolor": "white",
            "linecolor": "white",
            "ticks": ""
           },
           "bgcolor": "#E5ECF6",
           "caxis": {
            "gridcolor": "white",
            "linecolor": "white",
            "ticks": ""
           }
          },
          "title": {
           "x": 0.05
          },
          "xaxis": {
           "automargin": true,
           "gridcolor": "white",
           "linecolor": "white",
           "ticks": "",
           "title": {
            "standoff": 15
           },
           "zerolinecolor": "white",
           "zerolinewidth": 2
          },
          "yaxis": {
           "automargin": true,
           "gridcolor": "white",
           "linecolor": "white",
           "ticks": "",
           "title": {
            "standoff": 15
           },
           "zerolinecolor": "white",
           "zerolinewidth": 2
          }
         }
        },
        "title": {
         "text": "Distribution of TO"
        },
        "xaxis": {
         "anchor": "y",
         "domain": [
          0,
          1
         ],
         "title": {
          "text": "TO"
         }
        },
        "yaxis": {
         "anchor": "x",
         "domain": [
          0,
          1
         ],
         "title": {
          "text": "count"
         }
        }
       }
      }
     },
     "metadata": {},
     "output_type": "display_data"
    },
    {
     "data": {
      "application/vnd.plotly.v1+json": {
       "config": {
        "plotlyServerURL": "https://plot.ly"
       },
       "data": [
        {
         "alignmentgroup": "True",
         "bingroup": "x",
         "hovertemplate": "REB=%{x}<br>count=%{y}<extra></extra>",
         "legendgroup": "",
         "marker": {
          "color": "#636efa",
          "pattern": {
           "shape": ""
          }
         },
         "name": "",
         "offsetgroup": "",
         "orientation": "v",
         "showlegend": false,
         "type": "histogram",
         "x": [
          9,
          7,
          11,
          7,
          12,
          18,
          2,
          12,
          12,
          17,
          10,
          5,
          34,
          13,
          9,
          9,
          5,
          3,
          16,
          29,
          11,
          11,
          6,
          14,
          19,
          18,
          13,
          21,
          13,
          15,
          2,
          11,
          16,
          20,
          9,
          18,
          31,
          8,
          12,
          19,
          15,
          27,
          14,
          9,
          30,
          31,
          12,
          9,
          15,
          17,
          15,
          10,
          11,
          22,
          7,
          12,
          5,
          35,
          10,
          4,
          26,
          20,
          26,
          16,
          18,
          22,
          27,
          8,
          11,
          8,
          32,
          4,
          29,
          44,
          11,
          18,
          8,
          38,
          5,
          0,
          15,
          17,
          20,
          11,
          12,
          5,
          12,
          10,
          9,
          14,
          11,
          5,
          17,
          8,
          12,
          36,
          16,
          22,
          10,
          31,
          17,
          25,
          19,
          12,
          31,
          4,
          15,
          12,
          18,
          11,
          38,
          14,
          26,
          23,
          19,
          17,
          2,
          17,
          17,
          18,
          14,
          35,
          46,
          12,
          11,
          14,
          20,
          37,
          9,
          10,
          6,
          10,
          25,
          58,
          12,
          20,
          26,
          20,
          15,
          13,
          31,
          41,
          17,
          13,
          6,
          16,
          2,
          12,
          8,
          7,
          26,
          20,
          14,
          22,
          14,
          30,
          4,
          22,
          17,
          2,
          38,
          2,
          13,
          21,
          33,
          16,
          8,
          10,
          30,
          9,
          39,
          16,
          13,
          22,
          11,
          16,
          25,
          31,
          31,
          16,
          16,
          13,
          22,
          25,
          9,
          59,
          13,
          15,
          11,
          20,
          5,
          5,
          31,
          30,
          17,
          12,
          13,
          17,
          32,
          27,
          19,
          15,
          6,
          17,
          2,
          39,
          5,
          33,
          4,
          5,
          12,
          11,
          55,
          8,
          20,
          15,
          27,
          6,
          10,
          42,
          12,
          52,
          17,
          26,
          23,
          31,
          41,
          6,
          16,
          12,
          16,
          12,
          27,
          20,
          21,
          9,
          18,
          16,
          21,
          40,
          10,
          10,
          20,
          16,
          16,
          7,
          13,
          8,
          17,
          29,
          17,
          19,
          19,
          32,
          16,
          9
         ],
         "xaxis": "x",
         "yaxis": "y"
        }
       ],
       "layout": {
        "barmode": "relative",
        "legend": {
         "tracegroupgap": 0
        },
        "template": {
         "data": {
          "bar": [
           {
            "error_x": {
             "color": "#2a3f5f"
            },
            "error_y": {
             "color": "#2a3f5f"
            },
            "marker": {
             "line": {
              "color": "#E5ECF6",
              "width": 0.5
             },
             "pattern": {
              "fillmode": "overlay",
              "size": 10,
              "solidity": 0.2
             }
            },
            "type": "bar"
           }
          ],
          "barpolar": [
           {
            "marker": {
             "line": {
              "color": "#E5ECF6",
              "width": 0.5
             },
             "pattern": {
              "fillmode": "overlay",
              "size": 10,
              "solidity": 0.2
             }
            },
            "type": "barpolar"
           }
          ],
          "carpet": [
           {
            "aaxis": {
             "endlinecolor": "#2a3f5f",
             "gridcolor": "white",
             "linecolor": "white",
             "minorgridcolor": "white",
             "startlinecolor": "#2a3f5f"
            },
            "baxis": {
             "endlinecolor": "#2a3f5f",
             "gridcolor": "white",
             "linecolor": "white",
             "minorgridcolor": "white",
             "startlinecolor": "#2a3f5f"
            },
            "type": "carpet"
           }
          ],
          "choropleth": [
           {
            "colorbar": {
             "outlinewidth": 0,
             "ticks": ""
            },
            "type": "choropleth"
           }
          ],
          "contour": [
           {
            "colorbar": {
             "outlinewidth": 0,
             "ticks": ""
            },
            "colorscale": [
             [
              0,
              "#0d0887"
             ],
             [
              0.1111111111111111,
              "#46039f"
             ],
             [
              0.2222222222222222,
              "#7201a8"
             ],
             [
              0.3333333333333333,
              "#9c179e"
             ],
             [
              0.4444444444444444,
              "#bd3786"
             ],
             [
              0.5555555555555556,
              "#d8576b"
             ],
             [
              0.6666666666666666,
              "#ed7953"
             ],
             [
              0.7777777777777778,
              "#fb9f3a"
             ],
             [
              0.8888888888888888,
              "#fdca26"
             ],
             [
              1,
              "#f0f921"
             ]
            ],
            "type": "contour"
           }
          ],
          "contourcarpet": [
           {
            "colorbar": {
             "outlinewidth": 0,
             "ticks": ""
            },
            "type": "contourcarpet"
           }
          ],
          "heatmap": [
           {
            "colorbar": {
             "outlinewidth": 0,
             "ticks": ""
            },
            "colorscale": [
             [
              0,
              "#0d0887"
             ],
             [
              0.1111111111111111,
              "#46039f"
             ],
             [
              0.2222222222222222,
              "#7201a8"
             ],
             [
              0.3333333333333333,
              "#9c179e"
             ],
             [
              0.4444444444444444,
              "#bd3786"
             ],
             [
              0.5555555555555556,
              "#d8576b"
             ],
             [
              0.6666666666666666,
              "#ed7953"
             ],
             [
              0.7777777777777778,
              "#fb9f3a"
             ],
             [
              0.8888888888888888,
              "#fdca26"
             ],
             [
              1,
              "#f0f921"
             ]
            ],
            "type": "heatmap"
           }
          ],
          "heatmapgl": [
           {
            "colorbar": {
             "outlinewidth": 0,
             "ticks": ""
            },
            "colorscale": [
             [
              0,
              "#0d0887"
             ],
             [
              0.1111111111111111,
              "#46039f"
             ],
             [
              0.2222222222222222,
              "#7201a8"
             ],
             [
              0.3333333333333333,
              "#9c179e"
             ],
             [
              0.4444444444444444,
              "#bd3786"
             ],
             [
              0.5555555555555556,
              "#d8576b"
             ],
             [
              0.6666666666666666,
              "#ed7953"
             ],
             [
              0.7777777777777778,
              "#fb9f3a"
             ],
             [
              0.8888888888888888,
              "#fdca26"
             ],
             [
              1,
              "#f0f921"
             ]
            ],
            "type": "heatmapgl"
           }
          ],
          "histogram": [
           {
            "marker": {
             "pattern": {
              "fillmode": "overlay",
              "size": 10,
              "solidity": 0.2
             }
            },
            "type": "histogram"
           }
          ],
          "histogram2d": [
           {
            "colorbar": {
             "outlinewidth": 0,
             "ticks": ""
            },
            "colorscale": [
             [
              0,
              "#0d0887"
             ],
             [
              0.1111111111111111,
              "#46039f"
             ],
             [
              0.2222222222222222,
              "#7201a8"
             ],
             [
              0.3333333333333333,
              "#9c179e"
             ],
             [
              0.4444444444444444,
              "#bd3786"
             ],
             [
              0.5555555555555556,
              "#d8576b"
             ],
             [
              0.6666666666666666,
              "#ed7953"
             ],
             [
              0.7777777777777778,
              "#fb9f3a"
             ],
             [
              0.8888888888888888,
              "#fdca26"
             ],
             [
              1,
              "#f0f921"
             ]
            ],
            "type": "histogram2d"
           }
          ],
          "histogram2dcontour": [
           {
            "colorbar": {
             "outlinewidth": 0,
             "ticks": ""
            },
            "colorscale": [
             [
              0,
              "#0d0887"
             ],
             [
              0.1111111111111111,
              "#46039f"
             ],
             [
              0.2222222222222222,
              "#7201a8"
             ],
             [
              0.3333333333333333,
              "#9c179e"
             ],
             [
              0.4444444444444444,
              "#bd3786"
             ],
             [
              0.5555555555555556,
              "#d8576b"
             ],
             [
              0.6666666666666666,
              "#ed7953"
             ],
             [
              0.7777777777777778,
              "#fb9f3a"
             ],
             [
              0.8888888888888888,
              "#fdca26"
             ],
             [
              1,
              "#f0f921"
             ]
            ],
            "type": "histogram2dcontour"
           }
          ],
          "mesh3d": [
           {
            "colorbar": {
             "outlinewidth": 0,
             "ticks": ""
            },
            "type": "mesh3d"
           }
          ],
          "parcoords": [
           {
            "line": {
             "colorbar": {
              "outlinewidth": 0,
              "ticks": ""
             }
            },
            "type": "parcoords"
           }
          ],
          "pie": [
           {
            "automargin": true,
            "type": "pie"
           }
          ],
          "scatter": [
           {
            "fillpattern": {
             "fillmode": "overlay",
             "size": 10,
             "solidity": 0.2
            },
            "type": "scatter"
           }
          ],
          "scatter3d": [
           {
            "line": {
             "colorbar": {
              "outlinewidth": 0,
              "ticks": ""
             }
            },
            "marker": {
             "colorbar": {
              "outlinewidth": 0,
              "ticks": ""
             }
            },
            "type": "scatter3d"
           }
          ],
          "scattercarpet": [
           {
            "marker": {
             "colorbar": {
              "outlinewidth": 0,
              "ticks": ""
             }
            },
            "type": "scattercarpet"
           }
          ],
          "scattergeo": [
           {
            "marker": {
             "colorbar": {
              "outlinewidth": 0,
              "ticks": ""
             }
            },
            "type": "scattergeo"
           }
          ],
          "scattergl": [
           {
            "marker": {
             "colorbar": {
              "outlinewidth": 0,
              "ticks": ""
             }
            },
            "type": "scattergl"
           }
          ],
          "scattermapbox": [
           {
            "marker": {
             "colorbar": {
              "outlinewidth": 0,
              "ticks": ""
             }
            },
            "type": "scattermapbox"
           }
          ],
          "scatterpolar": [
           {
            "marker": {
             "colorbar": {
              "outlinewidth": 0,
              "ticks": ""
             }
            },
            "type": "scatterpolar"
           }
          ],
          "scatterpolargl": [
           {
            "marker": {
             "colorbar": {
              "outlinewidth": 0,
              "ticks": ""
             }
            },
            "type": "scatterpolargl"
           }
          ],
          "scatterternary": [
           {
            "marker": {
             "colorbar": {
              "outlinewidth": 0,
              "ticks": ""
             }
            },
            "type": "scatterternary"
           }
          ],
          "surface": [
           {
            "colorbar": {
             "outlinewidth": 0,
             "ticks": ""
            },
            "colorscale": [
             [
              0,
              "#0d0887"
             ],
             [
              0.1111111111111111,
              "#46039f"
             ],
             [
              0.2222222222222222,
              "#7201a8"
             ],
             [
              0.3333333333333333,
              "#9c179e"
             ],
             [
              0.4444444444444444,
              "#bd3786"
             ],
             [
              0.5555555555555556,
              "#d8576b"
             ],
             [
              0.6666666666666666,
              "#ed7953"
             ],
             [
              0.7777777777777778,
              "#fb9f3a"
             ],
             [
              0.8888888888888888,
              "#fdca26"
             ],
             [
              1,
              "#f0f921"
             ]
            ],
            "type": "surface"
           }
          ],
          "table": [
           {
            "cells": {
             "fill": {
              "color": "#EBF0F8"
             },
             "line": {
              "color": "white"
             }
            },
            "header": {
             "fill": {
              "color": "#C8D4E3"
             },
             "line": {
              "color": "white"
             }
            },
            "type": "table"
           }
          ]
         },
         "layout": {
          "annotationdefaults": {
           "arrowcolor": "#2a3f5f",
           "arrowhead": 0,
           "arrowwidth": 1
          },
          "autotypenumbers": "strict",
          "coloraxis": {
           "colorbar": {
            "outlinewidth": 0,
            "ticks": ""
           }
          },
          "colorscale": {
           "diverging": [
            [
             0,
             "#8e0152"
            ],
            [
             0.1,
             "#c51b7d"
            ],
            [
             0.2,
             "#de77ae"
            ],
            [
             0.3,
             "#f1b6da"
            ],
            [
             0.4,
             "#fde0ef"
            ],
            [
             0.5,
             "#f7f7f7"
            ],
            [
             0.6,
             "#e6f5d0"
            ],
            [
             0.7,
             "#b8e186"
            ],
            [
             0.8,
             "#7fbc41"
            ],
            [
             0.9,
             "#4d9221"
            ],
            [
             1,
             "#276419"
            ]
           ],
           "sequential": [
            [
             0,
             "#0d0887"
            ],
            [
             0.1111111111111111,
             "#46039f"
            ],
            [
             0.2222222222222222,
             "#7201a8"
            ],
            [
             0.3333333333333333,
             "#9c179e"
            ],
            [
             0.4444444444444444,
             "#bd3786"
            ],
            [
             0.5555555555555556,
             "#d8576b"
            ],
            [
             0.6666666666666666,
             "#ed7953"
            ],
            [
             0.7777777777777778,
             "#fb9f3a"
            ],
            [
             0.8888888888888888,
             "#fdca26"
            ],
            [
             1,
             "#f0f921"
            ]
           ],
           "sequentialminus": [
            [
             0,
             "#0d0887"
            ],
            [
             0.1111111111111111,
             "#46039f"
            ],
            [
             0.2222222222222222,
             "#7201a8"
            ],
            [
             0.3333333333333333,
             "#9c179e"
            ],
            [
             0.4444444444444444,
             "#bd3786"
            ],
            [
             0.5555555555555556,
             "#d8576b"
            ],
            [
             0.6666666666666666,
             "#ed7953"
            ],
            [
             0.7777777777777778,
             "#fb9f3a"
            ],
            [
             0.8888888888888888,
             "#fdca26"
            ],
            [
             1,
             "#f0f921"
            ]
           ]
          },
          "colorway": [
           "#636efa",
           "#EF553B",
           "#00cc96",
           "#ab63fa",
           "#FFA15A",
           "#19d3f3",
           "#FF6692",
           "#B6E880",
           "#FF97FF",
           "#FECB52"
          ],
          "font": {
           "color": "#2a3f5f"
          },
          "geo": {
           "bgcolor": "white",
           "lakecolor": "white",
           "landcolor": "#E5ECF6",
           "showlakes": true,
           "showland": true,
           "subunitcolor": "white"
          },
          "hoverlabel": {
           "align": "left"
          },
          "hovermode": "closest",
          "mapbox": {
           "style": "light"
          },
          "paper_bgcolor": "white",
          "plot_bgcolor": "#E5ECF6",
          "polar": {
           "angularaxis": {
            "gridcolor": "white",
            "linecolor": "white",
            "ticks": ""
           },
           "bgcolor": "#E5ECF6",
           "radialaxis": {
            "gridcolor": "white",
            "linecolor": "white",
            "ticks": ""
           }
          },
          "scene": {
           "xaxis": {
            "backgroundcolor": "#E5ECF6",
            "gridcolor": "white",
            "gridwidth": 2,
            "linecolor": "white",
            "showbackground": true,
            "ticks": "",
            "zerolinecolor": "white"
           },
           "yaxis": {
            "backgroundcolor": "#E5ECF6",
            "gridcolor": "white",
            "gridwidth": 2,
            "linecolor": "white",
            "showbackground": true,
            "ticks": "",
            "zerolinecolor": "white"
           },
           "zaxis": {
            "backgroundcolor": "#E5ECF6",
            "gridcolor": "white",
            "gridwidth": 2,
            "linecolor": "white",
            "showbackground": true,
            "ticks": "",
            "zerolinecolor": "white"
           }
          },
          "shapedefaults": {
           "line": {
            "color": "#2a3f5f"
           }
          },
          "ternary": {
           "aaxis": {
            "gridcolor": "white",
            "linecolor": "white",
            "ticks": ""
           },
           "baxis": {
            "gridcolor": "white",
            "linecolor": "white",
            "ticks": ""
           },
           "bgcolor": "#E5ECF6",
           "caxis": {
            "gridcolor": "white",
            "linecolor": "white",
            "ticks": ""
           }
          },
          "title": {
           "x": 0.05
          },
          "xaxis": {
           "automargin": true,
           "gridcolor": "white",
           "linecolor": "white",
           "ticks": "",
           "title": {
            "standoff": 15
           },
           "zerolinecolor": "white",
           "zerolinewidth": 2
          },
          "yaxis": {
           "automargin": true,
           "gridcolor": "white",
           "linecolor": "white",
           "ticks": "",
           "title": {
            "standoff": 15
           },
           "zerolinecolor": "white",
           "zerolinewidth": 2
          }
         }
        },
        "title": {
         "text": "Distribution of REB"
        },
        "xaxis": {
         "anchor": "y",
         "domain": [
          0,
          1
         ],
         "title": {
          "text": "REB"
         }
        },
        "yaxis": {
         "anchor": "x",
         "domain": [
          0,
          1
         ],
         "title": {
          "text": "count"
         }
        }
       }
      }
     },
     "metadata": {},
     "output_type": "display_data"
    },
    {
     "data": {
      "application/vnd.plotly.v1+json": {
       "config": {
        "plotlyServerURL": "https://plot.ly"
       },
       "data": [
        {
         "alignmentgroup": "True",
         "bingroup": "x",
         "hovertemplate": "BLK=%{x}<br>count=%{y}<extra></extra>",
         "legendgroup": "",
         "marker": {
          "color": "#636efa",
          "pattern": {
           "shape": ""
          }
         },
         "name": "",
         "nbinsx": 10,
         "offsetgroup": "",
         "orientation": "v",
         "showlegend": false,
         "type": "histogram",
         "x": [
          4,
          20,
          8,
          0,
          0,
          4,
          0,
          20,
          0,
          4,
          8,
          8,
          0,
          0,
          4,
          0,
          4,
          4,
          4,
          12,
          8,
          4,
          4,
          0,
          4,
          40,
          12,
          24,
          0,
          12,
          0,
          4,
          0,
          4,
          4,
          8,
          16,
          0,
          4,
          12,
          16,
          12,
          0,
          8,
          32,
          0,
          4,
          4,
          4,
          8,
          0,
          4,
          0,
          4,
          0,
          4,
          4,
          16,
          0,
          0,
          4,
          4,
          0,
          0,
          0,
          16,
          16,
          4,
          0,
          4,
          16,
          4,
          8,
          32,
          4,
          0,
          4,
          12,
          0,
          0,
          4,
          4,
          0,
          0,
          8,
          0,
          0,
          8,
          8,
          0,
          4,
          4,
          12,
          0,
          8,
          12,
          0,
          0,
          0,
          4,
          8,
          8,
          12,
          12,
          0,
          0,
          0,
          4,
          8,
          4,
          12,
          4,
          20,
          0,
          12,
          0,
          4,
          4,
          0,
          4,
          8,
          8,
          4,
          4,
          4,
          0,
          24,
          4,
          4,
          0,
          0,
          0,
          20,
          16,
          0,
          0,
          4,
          8,
          0,
          0,
          24,
          12,
          8,
          0,
          0,
          8,
          0,
          16,
          0,
          8,
          16,
          0,
          0,
          20,
          0,
          4,
          8,
          12,
          8,
          0,
          20,
          0,
          4,
          0,
          8,
          4,
          0,
          8,
          4,
          0,
          4,
          4,
          0,
          0,
          8,
          4,
          20,
          12,
          0,
          16,
          0,
          0,
          4,
          20,
          0,
          8,
          4,
          0,
          16,
          4,
          0,
          0,
          8,
          8,
          8,
          16,
          8,
          0,
          16,
          0,
          24,
          0,
          16,
          8,
          0,
          20,
          4,
          12,
          0,
          4,
          8,
          4,
          16,
          0,
          0,
          0,
          4,
          0,
          0,
          28,
          12,
          16,
          4,
          4,
          8,
          8,
          16,
          8,
          4,
          8,
          20,
          0,
          8,
          8,
          8,
          4,
          0,
          12,
          8,
          20,
          0,
          0,
          4,
          4,
          8,
          0,
          4,
          4,
          8,
          16,
          4,
          0,
          8,
          0,
          0,
          0
         ],
         "xaxis": "x",
         "yaxis": "y"
        }
       ],
       "layout": {
        "barmode": "relative",
        "legend": {
         "tracegroupgap": 0
        },
        "template": {
         "data": {
          "bar": [
           {
            "error_x": {
             "color": "#2a3f5f"
            },
            "error_y": {
             "color": "#2a3f5f"
            },
            "marker": {
             "line": {
              "color": "#E5ECF6",
              "width": 0.5
             },
             "pattern": {
              "fillmode": "overlay",
              "size": 10,
              "solidity": 0.2
             }
            },
            "type": "bar"
           }
          ],
          "barpolar": [
           {
            "marker": {
             "line": {
              "color": "#E5ECF6",
              "width": 0.5
             },
             "pattern": {
              "fillmode": "overlay",
              "size": 10,
              "solidity": 0.2
             }
            },
            "type": "barpolar"
           }
          ],
          "carpet": [
           {
            "aaxis": {
             "endlinecolor": "#2a3f5f",
             "gridcolor": "white",
             "linecolor": "white",
             "minorgridcolor": "white",
             "startlinecolor": "#2a3f5f"
            },
            "baxis": {
             "endlinecolor": "#2a3f5f",
             "gridcolor": "white",
             "linecolor": "white",
             "minorgridcolor": "white",
             "startlinecolor": "#2a3f5f"
            },
            "type": "carpet"
           }
          ],
          "choropleth": [
           {
            "colorbar": {
             "outlinewidth": 0,
             "ticks": ""
            },
            "type": "choropleth"
           }
          ],
          "contour": [
           {
            "colorbar": {
             "outlinewidth": 0,
             "ticks": ""
            },
            "colorscale": [
             [
              0,
              "#0d0887"
             ],
             [
              0.1111111111111111,
              "#46039f"
             ],
             [
              0.2222222222222222,
              "#7201a8"
             ],
             [
              0.3333333333333333,
              "#9c179e"
             ],
             [
              0.4444444444444444,
              "#bd3786"
             ],
             [
              0.5555555555555556,
              "#d8576b"
             ],
             [
              0.6666666666666666,
              "#ed7953"
             ],
             [
              0.7777777777777778,
              "#fb9f3a"
             ],
             [
              0.8888888888888888,
              "#fdca26"
             ],
             [
              1,
              "#f0f921"
             ]
            ],
            "type": "contour"
           }
          ],
          "contourcarpet": [
           {
            "colorbar": {
             "outlinewidth": 0,
             "ticks": ""
            },
            "type": "contourcarpet"
           }
          ],
          "heatmap": [
           {
            "colorbar": {
             "outlinewidth": 0,
             "ticks": ""
            },
            "colorscale": [
             [
              0,
              "#0d0887"
             ],
             [
              0.1111111111111111,
              "#46039f"
             ],
             [
              0.2222222222222222,
              "#7201a8"
             ],
             [
              0.3333333333333333,
              "#9c179e"
             ],
             [
              0.4444444444444444,
              "#bd3786"
             ],
             [
              0.5555555555555556,
              "#d8576b"
             ],
             [
              0.6666666666666666,
              "#ed7953"
             ],
             [
              0.7777777777777778,
              "#fb9f3a"
             ],
             [
              0.8888888888888888,
              "#fdca26"
             ],
             [
              1,
              "#f0f921"
             ]
            ],
            "type": "heatmap"
           }
          ],
          "heatmapgl": [
           {
            "colorbar": {
             "outlinewidth": 0,
             "ticks": ""
            },
            "colorscale": [
             [
              0,
              "#0d0887"
             ],
             [
              0.1111111111111111,
              "#46039f"
             ],
             [
              0.2222222222222222,
              "#7201a8"
             ],
             [
              0.3333333333333333,
              "#9c179e"
             ],
             [
              0.4444444444444444,
              "#bd3786"
             ],
             [
              0.5555555555555556,
              "#d8576b"
             ],
             [
              0.6666666666666666,
              "#ed7953"
             ],
             [
              0.7777777777777778,
              "#fb9f3a"
             ],
             [
              0.8888888888888888,
              "#fdca26"
             ],
             [
              1,
              "#f0f921"
             ]
            ],
            "type": "heatmapgl"
           }
          ],
          "histogram": [
           {
            "marker": {
             "pattern": {
              "fillmode": "overlay",
              "size": 10,
              "solidity": 0.2
             }
            },
            "type": "histogram"
           }
          ],
          "histogram2d": [
           {
            "colorbar": {
             "outlinewidth": 0,
             "ticks": ""
            },
            "colorscale": [
             [
              0,
              "#0d0887"
             ],
             [
              0.1111111111111111,
              "#46039f"
             ],
             [
              0.2222222222222222,
              "#7201a8"
             ],
             [
              0.3333333333333333,
              "#9c179e"
             ],
             [
              0.4444444444444444,
              "#bd3786"
             ],
             [
              0.5555555555555556,
              "#d8576b"
             ],
             [
              0.6666666666666666,
              "#ed7953"
             ],
             [
              0.7777777777777778,
              "#fb9f3a"
             ],
             [
              0.8888888888888888,
              "#fdca26"
             ],
             [
              1,
              "#f0f921"
             ]
            ],
            "type": "histogram2d"
           }
          ],
          "histogram2dcontour": [
           {
            "colorbar": {
             "outlinewidth": 0,
             "ticks": ""
            },
            "colorscale": [
             [
              0,
              "#0d0887"
             ],
             [
              0.1111111111111111,
              "#46039f"
             ],
             [
              0.2222222222222222,
              "#7201a8"
             ],
             [
              0.3333333333333333,
              "#9c179e"
             ],
             [
              0.4444444444444444,
              "#bd3786"
             ],
             [
              0.5555555555555556,
              "#d8576b"
             ],
             [
              0.6666666666666666,
              "#ed7953"
             ],
             [
              0.7777777777777778,
              "#fb9f3a"
             ],
             [
              0.8888888888888888,
              "#fdca26"
             ],
             [
              1,
              "#f0f921"
             ]
            ],
            "type": "histogram2dcontour"
           }
          ],
          "mesh3d": [
           {
            "colorbar": {
             "outlinewidth": 0,
             "ticks": ""
            },
            "type": "mesh3d"
           }
          ],
          "parcoords": [
           {
            "line": {
             "colorbar": {
              "outlinewidth": 0,
              "ticks": ""
             }
            },
            "type": "parcoords"
           }
          ],
          "pie": [
           {
            "automargin": true,
            "type": "pie"
           }
          ],
          "scatter": [
           {
            "fillpattern": {
             "fillmode": "overlay",
             "size": 10,
             "solidity": 0.2
            },
            "type": "scatter"
           }
          ],
          "scatter3d": [
           {
            "line": {
             "colorbar": {
              "outlinewidth": 0,
              "ticks": ""
             }
            },
            "marker": {
             "colorbar": {
              "outlinewidth": 0,
              "ticks": ""
             }
            },
            "type": "scatter3d"
           }
          ],
          "scattercarpet": [
           {
            "marker": {
             "colorbar": {
              "outlinewidth": 0,
              "ticks": ""
             }
            },
            "type": "scattercarpet"
           }
          ],
          "scattergeo": [
           {
            "marker": {
             "colorbar": {
              "outlinewidth": 0,
              "ticks": ""
             }
            },
            "type": "scattergeo"
           }
          ],
          "scattergl": [
           {
            "marker": {
             "colorbar": {
              "outlinewidth": 0,
              "ticks": ""
             }
            },
            "type": "scattergl"
           }
          ],
          "scattermapbox": [
           {
            "marker": {
             "colorbar": {
              "outlinewidth": 0,
              "ticks": ""
             }
            },
            "type": "scattermapbox"
           }
          ],
          "scatterpolar": [
           {
            "marker": {
             "colorbar": {
              "outlinewidth": 0,
              "ticks": ""
             }
            },
            "type": "scatterpolar"
           }
          ],
          "scatterpolargl": [
           {
            "marker": {
             "colorbar": {
              "outlinewidth": 0,
              "ticks": ""
             }
            },
            "type": "scatterpolargl"
           }
          ],
          "scatterternary": [
           {
            "marker": {
             "colorbar": {
              "outlinewidth": 0,
              "ticks": ""
             }
            },
            "type": "scatterternary"
           }
          ],
          "surface": [
           {
            "colorbar": {
             "outlinewidth": 0,
             "ticks": ""
            },
            "colorscale": [
             [
              0,
              "#0d0887"
             ],
             [
              0.1111111111111111,
              "#46039f"
             ],
             [
              0.2222222222222222,
              "#7201a8"
             ],
             [
              0.3333333333333333,
              "#9c179e"
             ],
             [
              0.4444444444444444,
              "#bd3786"
             ],
             [
              0.5555555555555556,
              "#d8576b"
             ],
             [
              0.6666666666666666,
              "#ed7953"
             ],
             [
              0.7777777777777778,
              "#fb9f3a"
             ],
             [
              0.8888888888888888,
              "#fdca26"
             ],
             [
              1,
              "#f0f921"
             ]
            ],
            "type": "surface"
           }
          ],
          "table": [
           {
            "cells": {
             "fill": {
              "color": "#EBF0F8"
             },
             "line": {
              "color": "white"
             }
            },
            "header": {
             "fill": {
              "color": "#C8D4E3"
             },
             "line": {
              "color": "white"
             }
            },
            "type": "table"
           }
          ]
         },
         "layout": {
          "annotationdefaults": {
           "arrowcolor": "#2a3f5f",
           "arrowhead": 0,
           "arrowwidth": 1
          },
          "autotypenumbers": "strict",
          "coloraxis": {
           "colorbar": {
            "outlinewidth": 0,
            "ticks": ""
           }
          },
          "colorscale": {
           "diverging": [
            [
             0,
             "#8e0152"
            ],
            [
             0.1,
             "#c51b7d"
            ],
            [
             0.2,
             "#de77ae"
            ],
            [
             0.3,
             "#f1b6da"
            ],
            [
             0.4,
             "#fde0ef"
            ],
            [
             0.5,
             "#f7f7f7"
            ],
            [
             0.6,
             "#e6f5d0"
            ],
            [
             0.7,
             "#b8e186"
            ],
            [
             0.8,
             "#7fbc41"
            ],
            [
             0.9,
             "#4d9221"
            ],
            [
             1,
             "#276419"
            ]
           ],
           "sequential": [
            [
             0,
             "#0d0887"
            ],
            [
             0.1111111111111111,
             "#46039f"
            ],
            [
             0.2222222222222222,
             "#7201a8"
            ],
            [
             0.3333333333333333,
             "#9c179e"
            ],
            [
             0.4444444444444444,
             "#bd3786"
            ],
            [
             0.5555555555555556,
             "#d8576b"
            ],
            [
             0.6666666666666666,
             "#ed7953"
            ],
            [
             0.7777777777777778,
             "#fb9f3a"
            ],
            [
             0.8888888888888888,
             "#fdca26"
            ],
            [
             1,
             "#f0f921"
            ]
           ],
           "sequentialminus": [
            [
             0,
             "#0d0887"
            ],
            [
             0.1111111111111111,
             "#46039f"
            ],
            [
             0.2222222222222222,
             "#7201a8"
            ],
            [
             0.3333333333333333,
             "#9c179e"
            ],
            [
             0.4444444444444444,
             "#bd3786"
            ],
            [
             0.5555555555555556,
             "#d8576b"
            ],
            [
             0.6666666666666666,
             "#ed7953"
            ],
            [
             0.7777777777777778,
             "#fb9f3a"
            ],
            [
             0.8888888888888888,
             "#fdca26"
            ],
            [
             1,
             "#f0f921"
            ]
           ]
          },
          "colorway": [
           "#636efa",
           "#EF553B",
           "#00cc96",
           "#ab63fa",
           "#FFA15A",
           "#19d3f3",
           "#FF6692",
           "#B6E880",
           "#FF97FF",
           "#FECB52"
          ],
          "font": {
           "color": "#2a3f5f"
          },
          "geo": {
           "bgcolor": "white",
           "lakecolor": "white",
           "landcolor": "#E5ECF6",
           "showlakes": true,
           "showland": true,
           "subunitcolor": "white"
          },
          "hoverlabel": {
           "align": "left"
          },
          "hovermode": "closest",
          "mapbox": {
           "style": "light"
          },
          "paper_bgcolor": "white",
          "plot_bgcolor": "#E5ECF6",
          "polar": {
           "angularaxis": {
            "gridcolor": "white",
            "linecolor": "white",
            "ticks": ""
           },
           "bgcolor": "#E5ECF6",
           "radialaxis": {
            "gridcolor": "white",
            "linecolor": "white",
            "ticks": ""
           }
          },
          "scene": {
           "xaxis": {
            "backgroundcolor": "#E5ECF6",
            "gridcolor": "white",
            "gridwidth": 2,
            "linecolor": "white",
            "showbackground": true,
            "ticks": "",
            "zerolinecolor": "white"
           },
           "yaxis": {
            "backgroundcolor": "#E5ECF6",
            "gridcolor": "white",
            "gridwidth": 2,
            "linecolor": "white",
            "showbackground": true,
            "ticks": "",
            "zerolinecolor": "white"
           },
           "zaxis": {
            "backgroundcolor": "#E5ECF6",
            "gridcolor": "white",
            "gridwidth": 2,
            "linecolor": "white",
            "showbackground": true,
            "ticks": "",
            "zerolinecolor": "white"
           }
          },
          "shapedefaults": {
           "line": {
            "color": "#2a3f5f"
           }
          },
          "ternary": {
           "aaxis": {
            "gridcolor": "white",
            "linecolor": "white",
            "ticks": ""
           },
           "baxis": {
            "gridcolor": "white",
            "linecolor": "white",
            "ticks": ""
           },
           "bgcolor": "#E5ECF6",
           "caxis": {
            "gridcolor": "white",
            "linecolor": "white",
            "ticks": ""
           }
          },
          "title": {
           "x": 0.05
          },
          "xaxis": {
           "automargin": true,
           "gridcolor": "white",
           "linecolor": "white",
           "ticks": "",
           "title": {
            "standoff": 15
           },
           "zerolinecolor": "white",
           "zerolinewidth": 2
          },
          "yaxis": {
           "automargin": true,
           "gridcolor": "white",
           "linecolor": "white",
           "ticks": "",
           "title": {
            "standoff": 15
           },
           "zerolinecolor": "white",
           "zerolinewidth": 2
          }
         }
        },
        "title": {
         "text": "Distribution of BLK"
        },
        "xaxis": {
         "anchor": "y",
         "domain": [
          0,
          1
         ],
         "title": {
          "text": "BLK"
         }
        },
        "yaxis": {
         "anchor": "x",
         "domain": [
          0,
          1
         ],
         "title": {
          "text": "count"
         }
        }
       }
      }
     },
     "metadata": {},
     "output_type": "display_data"
    },
    {
     "data": {
      "application/vnd.plotly.v1+json": {
       "config": {
        "plotlyServerURL": "https://plot.ly"
       },
       "data": [
        {
         "alignmentgroup": "True",
         "bingroup": "x",
         "hovertemplate": "AST=%{x}<br>count=%{y}<extra></extra>",
         "legendgroup": "",
         "marker": {
          "color": "#636efa",
          "pattern": {
           "shape": ""
          }
         },
         "name": "",
         "offsetgroup": "",
         "orientation": "v",
         "showlegend": false,
         "type": "histogram",
         "x": [
          6,
          6,
          48,
          4,
          14,
          24,
          10,
          20,
          18,
          30,
          34,
          38,
          14,
          56,
          76,
          6,
          10,
          26,
          26,
          30,
          10,
          28,
          0,
          16,
          40,
          2,
          66,
          12,
          56,
          96,
          4,
          10,
          48,
          20,
          26,
          26,
          28,
          20,
          26,
          24,
          0,
          10,
          48,
          36,
          18,
          50,
          16,
          30,
          24,
          24,
          70,
          8,
          30,
          0,
          32,
          46,
          52,
          22,
          30,
          28,
          34,
          20,
          20,
          44,
          52,
          26,
          10,
          48,
          44,
          12,
          26,
          38,
          14,
          12,
          20,
          12,
          40,
          28,
          30,
          0,
          62,
          56,
          6,
          18,
          16,
          30,
          10,
          28,
          20,
          36,
          0,
          18,
          0,
          22,
          68,
          20,
          40,
          38,
          30,
          28,
          62,
          28,
          46,
          22,
          8,
          24,
          66,
          12,
          36,
          106,
          30,
          48,
          44,
          10,
          14,
          66,
          36,
          20,
          38,
          20,
          106,
          24,
          16,
          32,
          46,
          24,
          4,
          24,
          26,
          6,
          32,
          12,
          96,
          32,
          44,
          14,
          20,
          12,
          56,
          20,
          24,
          20,
          52,
          6,
          20,
          48,
          12,
          8,
          30,
          18,
          26,
          18,
          38,
          34,
          24,
          16,
          46,
          14,
          24,
          34,
          16,
          10,
          42,
          12,
          32,
          14,
          32,
          20,
          42,
          4,
          16,
          44,
          0,
          42,
          8,
          26,
          8,
          28,
          18,
          20,
          48,
          26,
          40,
          30,
          2,
          24,
          42,
          38,
          40,
          36,
          28,
          6,
          30,
          16,
          38,
          52,
          38,
          42,
          28,
          8,
          58,
          44,
          60,
          30,
          32,
          36,
          14,
          14,
          16,
          20,
          28,
          28,
          16,
          28,
          36,
          94,
          40,
          16,
          66,
          26,
          14,
          18,
          58,
          72,
          20,
          62,
          20,
          16,
          40,
          62,
          24,
          42,
          14,
          24,
          8,
          16,
          32,
          54,
          22,
          26,
          40,
          0,
          48,
          64,
          12,
          62,
          22,
          10,
          30,
          8,
          66,
          64,
          32,
          20,
          48,
          8
         ],
         "xaxis": "x",
         "yaxis": "y"
        }
       ],
       "layout": {
        "barmode": "relative",
        "legend": {
         "tracegroupgap": 0
        },
        "template": {
         "data": {
          "bar": [
           {
            "error_x": {
             "color": "#2a3f5f"
            },
            "error_y": {
             "color": "#2a3f5f"
            },
            "marker": {
             "line": {
              "color": "#E5ECF6",
              "width": 0.5
             },
             "pattern": {
              "fillmode": "overlay",
              "size": 10,
              "solidity": 0.2
             }
            },
            "type": "bar"
           }
          ],
          "barpolar": [
           {
            "marker": {
             "line": {
              "color": "#E5ECF6",
              "width": 0.5
             },
             "pattern": {
              "fillmode": "overlay",
              "size": 10,
              "solidity": 0.2
             }
            },
            "type": "barpolar"
           }
          ],
          "carpet": [
           {
            "aaxis": {
             "endlinecolor": "#2a3f5f",
             "gridcolor": "white",
             "linecolor": "white",
             "minorgridcolor": "white",
             "startlinecolor": "#2a3f5f"
            },
            "baxis": {
             "endlinecolor": "#2a3f5f",
             "gridcolor": "white",
             "linecolor": "white",
             "minorgridcolor": "white",
             "startlinecolor": "#2a3f5f"
            },
            "type": "carpet"
           }
          ],
          "choropleth": [
           {
            "colorbar": {
             "outlinewidth": 0,
             "ticks": ""
            },
            "type": "choropleth"
           }
          ],
          "contour": [
           {
            "colorbar": {
             "outlinewidth": 0,
             "ticks": ""
            },
            "colorscale": [
             [
              0,
              "#0d0887"
             ],
             [
              0.1111111111111111,
              "#46039f"
             ],
             [
              0.2222222222222222,
              "#7201a8"
             ],
             [
              0.3333333333333333,
              "#9c179e"
             ],
             [
              0.4444444444444444,
              "#bd3786"
             ],
             [
              0.5555555555555556,
              "#d8576b"
             ],
             [
              0.6666666666666666,
              "#ed7953"
             ],
             [
              0.7777777777777778,
              "#fb9f3a"
             ],
             [
              0.8888888888888888,
              "#fdca26"
             ],
             [
              1,
              "#f0f921"
             ]
            ],
            "type": "contour"
           }
          ],
          "contourcarpet": [
           {
            "colorbar": {
             "outlinewidth": 0,
             "ticks": ""
            },
            "type": "contourcarpet"
           }
          ],
          "heatmap": [
           {
            "colorbar": {
             "outlinewidth": 0,
             "ticks": ""
            },
            "colorscale": [
             [
              0,
              "#0d0887"
             ],
             [
              0.1111111111111111,
              "#46039f"
             ],
             [
              0.2222222222222222,
              "#7201a8"
             ],
             [
              0.3333333333333333,
              "#9c179e"
             ],
             [
              0.4444444444444444,
              "#bd3786"
             ],
             [
              0.5555555555555556,
              "#d8576b"
             ],
             [
              0.6666666666666666,
              "#ed7953"
             ],
             [
              0.7777777777777778,
              "#fb9f3a"
             ],
             [
              0.8888888888888888,
              "#fdca26"
             ],
             [
              1,
              "#f0f921"
             ]
            ],
            "type": "heatmap"
           }
          ],
          "heatmapgl": [
           {
            "colorbar": {
             "outlinewidth": 0,
             "ticks": ""
            },
            "colorscale": [
             [
              0,
              "#0d0887"
             ],
             [
              0.1111111111111111,
              "#46039f"
             ],
             [
              0.2222222222222222,
              "#7201a8"
             ],
             [
              0.3333333333333333,
              "#9c179e"
             ],
             [
              0.4444444444444444,
              "#bd3786"
             ],
             [
              0.5555555555555556,
              "#d8576b"
             ],
             [
              0.6666666666666666,
              "#ed7953"
             ],
             [
              0.7777777777777778,
              "#fb9f3a"
             ],
             [
              0.8888888888888888,
              "#fdca26"
             ],
             [
              1,
              "#f0f921"
             ]
            ],
            "type": "heatmapgl"
           }
          ],
          "histogram": [
           {
            "marker": {
             "pattern": {
              "fillmode": "overlay",
              "size": 10,
              "solidity": 0.2
             }
            },
            "type": "histogram"
           }
          ],
          "histogram2d": [
           {
            "colorbar": {
             "outlinewidth": 0,
             "ticks": ""
            },
            "colorscale": [
             [
              0,
              "#0d0887"
             ],
             [
              0.1111111111111111,
              "#46039f"
             ],
             [
              0.2222222222222222,
              "#7201a8"
             ],
             [
              0.3333333333333333,
              "#9c179e"
             ],
             [
              0.4444444444444444,
              "#bd3786"
             ],
             [
              0.5555555555555556,
              "#d8576b"
             ],
             [
              0.6666666666666666,
              "#ed7953"
             ],
             [
              0.7777777777777778,
              "#fb9f3a"
             ],
             [
              0.8888888888888888,
              "#fdca26"
             ],
             [
              1,
              "#f0f921"
             ]
            ],
            "type": "histogram2d"
           }
          ],
          "histogram2dcontour": [
           {
            "colorbar": {
             "outlinewidth": 0,
             "ticks": ""
            },
            "colorscale": [
             [
              0,
              "#0d0887"
             ],
             [
              0.1111111111111111,
              "#46039f"
             ],
             [
              0.2222222222222222,
              "#7201a8"
             ],
             [
              0.3333333333333333,
              "#9c179e"
             ],
             [
              0.4444444444444444,
              "#bd3786"
             ],
             [
              0.5555555555555556,
              "#d8576b"
             ],
             [
              0.6666666666666666,
              "#ed7953"
             ],
             [
              0.7777777777777778,
              "#fb9f3a"
             ],
             [
              0.8888888888888888,
              "#fdca26"
             ],
             [
              1,
              "#f0f921"
             ]
            ],
            "type": "histogram2dcontour"
           }
          ],
          "mesh3d": [
           {
            "colorbar": {
             "outlinewidth": 0,
             "ticks": ""
            },
            "type": "mesh3d"
           }
          ],
          "parcoords": [
           {
            "line": {
             "colorbar": {
              "outlinewidth": 0,
              "ticks": ""
             }
            },
            "type": "parcoords"
           }
          ],
          "pie": [
           {
            "automargin": true,
            "type": "pie"
           }
          ],
          "scatter": [
           {
            "fillpattern": {
             "fillmode": "overlay",
             "size": 10,
             "solidity": 0.2
            },
            "type": "scatter"
           }
          ],
          "scatter3d": [
           {
            "line": {
             "colorbar": {
              "outlinewidth": 0,
              "ticks": ""
             }
            },
            "marker": {
             "colorbar": {
              "outlinewidth": 0,
              "ticks": ""
             }
            },
            "type": "scatter3d"
           }
          ],
          "scattercarpet": [
           {
            "marker": {
             "colorbar": {
              "outlinewidth": 0,
              "ticks": ""
             }
            },
            "type": "scattercarpet"
           }
          ],
          "scattergeo": [
           {
            "marker": {
             "colorbar": {
              "outlinewidth": 0,
              "ticks": ""
             }
            },
            "type": "scattergeo"
           }
          ],
          "scattergl": [
           {
            "marker": {
             "colorbar": {
              "outlinewidth": 0,
              "ticks": ""
             }
            },
            "type": "scattergl"
           }
          ],
          "scattermapbox": [
           {
            "marker": {
             "colorbar": {
              "outlinewidth": 0,
              "ticks": ""
             }
            },
            "type": "scattermapbox"
           }
          ],
          "scatterpolar": [
           {
            "marker": {
             "colorbar": {
              "outlinewidth": 0,
              "ticks": ""
             }
            },
            "type": "scatterpolar"
           }
          ],
          "scatterpolargl": [
           {
            "marker": {
             "colorbar": {
              "outlinewidth": 0,
              "ticks": ""
             }
            },
            "type": "scatterpolargl"
           }
          ],
          "scatterternary": [
           {
            "marker": {
             "colorbar": {
              "outlinewidth": 0,
              "ticks": ""
             }
            },
            "type": "scatterternary"
           }
          ],
          "surface": [
           {
            "colorbar": {
             "outlinewidth": 0,
             "ticks": ""
            },
            "colorscale": [
             [
              0,
              "#0d0887"
             ],
             [
              0.1111111111111111,
              "#46039f"
             ],
             [
              0.2222222222222222,
              "#7201a8"
             ],
             [
              0.3333333333333333,
              "#9c179e"
             ],
             [
              0.4444444444444444,
              "#bd3786"
             ],
             [
              0.5555555555555556,
              "#d8576b"
             ],
             [
              0.6666666666666666,
              "#ed7953"
             ],
             [
              0.7777777777777778,
              "#fb9f3a"
             ],
             [
              0.8888888888888888,
              "#fdca26"
             ],
             [
              1,
              "#f0f921"
             ]
            ],
            "type": "surface"
           }
          ],
          "table": [
           {
            "cells": {
             "fill": {
              "color": "#EBF0F8"
             },
             "line": {
              "color": "white"
             }
            },
            "header": {
             "fill": {
              "color": "#C8D4E3"
             },
             "line": {
              "color": "white"
             }
            },
            "type": "table"
           }
          ]
         },
         "layout": {
          "annotationdefaults": {
           "arrowcolor": "#2a3f5f",
           "arrowhead": 0,
           "arrowwidth": 1
          },
          "autotypenumbers": "strict",
          "coloraxis": {
           "colorbar": {
            "outlinewidth": 0,
            "ticks": ""
           }
          },
          "colorscale": {
           "diverging": [
            [
             0,
             "#8e0152"
            ],
            [
             0.1,
             "#c51b7d"
            ],
            [
             0.2,
             "#de77ae"
            ],
            [
             0.3,
             "#f1b6da"
            ],
            [
             0.4,
             "#fde0ef"
            ],
            [
             0.5,
             "#f7f7f7"
            ],
            [
             0.6,
             "#e6f5d0"
            ],
            [
             0.7,
             "#b8e186"
            ],
            [
             0.8,
             "#7fbc41"
            ],
            [
             0.9,
             "#4d9221"
            ],
            [
             1,
             "#276419"
            ]
           ],
           "sequential": [
            [
             0,
             "#0d0887"
            ],
            [
             0.1111111111111111,
             "#46039f"
            ],
            [
             0.2222222222222222,
             "#7201a8"
            ],
            [
             0.3333333333333333,
             "#9c179e"
            ],
            [
             0.4444444444444444,
             "#bd3786"
            ],
            [
             0.5555555555555556,
             "#d8576b"
            ],
            [
             0.6666666666666666,
             "#ed7953"
            ],
            [
             0.7777777777777778,
             "#fb9f3a"
            ],
            [
             0.8888888888888888,
             "#fdca26"
            ],
            [
             1,
             "#f0f921"
            ]
           ],
           "sequentialminus": [
            [
             0,
             "#0d0887"
            ],
            [
             0.1111111111111111,
             "#46039f"
            ],
            [
             0.2222222222222222,
             "#7201a8"
            ],
            [
             0.3333333333333333,
             "#9c179e"
            ],
            [
             0.4444444444444444,
             "#bd3786"
            ],
            [
             0.5555555555555556,
             "#d8576b"
            ],
            [
             0.6666666666666666,
             "#ed7953"
            ],
            [
             0.7777777777777778,
             "#fb9f3a"
            ],
            [
             0.8888888888888888,
             "#fdca26"
            ],
            [
             1,
             "#f0f921"
            ]
           ]
          },
          "colorway": [
           "#636efa",
           "#EF553B",
           "#00cc96",
           "#ab63fa",
           "#FFA15A",
           "#19d3f3",
           "#FF6692",
           "#B6E880",
           "#FF97FF",
           "#FECB52"
          ],
          "font": {
           "color": "#2a3f5f"
          },
          "geo": {
           "bgcolor": "white",
           "lakecolor": "white",
           "landcolor": "#E5ECF6",
           "showlakes": true,
           "showland": true,
           "subunitcolor": "white"
          },
          "hoverlabel": {
           "align": "left"
          },
          "hovermode": "closest",
          "mapbox": {
           "style": "light"
          },
          "paper_bgcolor": "white",
          "plot_bgcolor": "#E5ECF6",
          "polar": {
           "angularaxis": {
            "gridcolor": "white",
            "linecolor": "white",
            "ticks": ""
           },
           "bgcolor": "#E5ECF6",
           "radialaxis": {
            "gridcolor": "white",
            "linecolor": "white",
            "ticks": ""
           }
          },
          "scene": {
           "xaxis": {
            "backgroundcolor": "#E5ECF6",
            "gridcolor": "white",
            "gridwidth": 2,
            "linecolor": "white",
            "showbackground": true,
            "ticks": "",
            "zerolinecolor": "white"
           },
           "yaxis": {
            "backgroundcolor": "#E5ECF6",
            "gridcolor": "white",
            "gridwidth": 2,
            "linecolor": "white",
            "showbackground": true,
            "ticks": "",
            "zerolinecolor": "white"
           },
           "zaxis": {
            "backgroundcolor": "#E5ECF6",
            "gridcolor": "white",
            "gridwidth": 2,
            "linecolor": "white",
            "showbackground": true,
            "ticks": "",
            "zerolinecolor": "white"
           }
          },
          "shapedefaults": {
           "line": {
            "color": "#2a3f5f"
           }
          },
          "ternary": {
           "aaxis": {
            "gridcolor": "white",
            "linecolor": "white",
            "ticks": ""
           },
           "baxis": {
            "gridcolor": "white",
            "linecolor": "white",
            "ticks": ""
           },
           "bgcolor": "#E5ECF6",
           "caxis": {
            "gridcolor": "white",
            "linecolor": "white",
            "ticks": ""
           }
          },
          "title": {
           "x": 0.05
          },
          "xaxis": {
           "automargin": true,
           "gridcolor": "white",
           "linecolor": "white",
           "ticks": "",
           "title": {
            "standoff": 15
           },
           "zerolinecolor": "white",
           "zerolinewidth": 2
          },
          "yaxis": {
           "automargin": true,
           "gridcolor": "white",
           "linecolor": "white",
           "ticks": "",
           "title": {
            "standoff": 15
           },
           "zerolinecolor": "white",
           "zerolinewidth": 2
          }
         }
        },
        "title": {
         "text": "Distribution of AST"
        },
        "xaxis": {
         "anchor": "y",
         "domain": [
          0,
          1
         ],
         "title": {
          "text": "AST"
         }
        },
        "yaxis": {
         "anchor": "x",
         "domain": [
          0,
          1
         ],
         "title": {
          "text": "count"
         }
        }
       }
      }
     },
     "metadata": {},
     "output_type": "display_data"
    },
    {
     "data": {
      "application/vnd.plotly.v1+json": {
       "config": {
        "plotlyServerURL": "https://plot.ly"
       },
       "data": [
        {
         "alignmentgroup": "True",
         "bingroup": "x",
         "hovertemplate": "FTM=%{x}<br>count=%{y}<extra></extra>",
         "legendgroup": "",
         "marker": {
          "color": "#636efa",
          "pattern": {
           "shape": ""
          }
         },
         "name": "",
         "offsetgroup": "",
         "orientation": "v",
         "showlegend": false,
         "type": "histogram",
         "x": [
          5,
          1,
          3,
          0,
          8,
          5,
          2,
          1,
          17,
          7,
          9,
          6,
          1,
          8,
          21,
          2,
          3,
          16,
          5,
          7,
          0,
          27,
          0,
          5,
          7,
          2,
          10,
          5,
          1,
          13,
          0,
          14,
          10,
          7,
          4,
          4,
          7,
          21,
          10,
          11,
          4,
          4,
          5,
          7,
          12,
          13,
          4,
          13,
          4,
          6,
          33,
          10,
          10,
          2,
          5,
          4,
          7,
          7,
          10,
          4,
          12,
          5,
          5,
          18,
          11,
          14,
          7,
          2,
          4,
          4,
          16,
          16,
          4,
          3,
          11,
          6,
          6,
          4,
          2,
          0,
          15,
          3,
          0,
          7,
          6,
          10,
          1,
          13,
          7,
          4,
          1,
          6,
          1,
          9,
          9,
          3,
          6,
          13,
          11,
          12,
          30,
          30,
          7,
          6,
          6,
          2,
          4,
          7,
          8,
          8,
          12,
          12,
          10,
          13,
          1,
          0,
          4,
          17,
          19,
          6,
          5,
          6,
          11,
          13,
          6,
          13,
          2,
          9,
          2,
          1,
          20,
          5,
          14,
          18,
          15,
          9,
          5,
          13,
          26,
          12,
          14,
          10,
          22,
          5,
          3,
          15,
          0,
          6,
          11,
          16,
          7,
          7,
          19,
          13,
          8,
          2,
          7,
          2,
          11,
          7,
          7,
          5,
          5,
          11,
          7,
          4,
          18,
          8,
          6,
          2,
          4,
          6,
          6,
          8,
          2,
          8,
          5,
          12,
          4,
          27,
          32,
          9,
          15,
          6,
          1,
          6,
          9,
          11,
          6,
          7,
          5,
          2,
          5,
          8,
          7,
          16,
          2,
          10,
          13,
          2,
          12,
          12,
          4,
          14,
          7,
          7,
          3,
          8,
          6,
          14,
          18,
          16,
          15,
          2,
          16,
          5,
          16,
          0,
          13,
          5,
          0,
          4,
          35,
          22,
          11,
          8,
          8,
          0,
          14,
          8,
          10,
          6,
          6,
          2,
          3,
          11,
          12,
          8,
          15,
          16,
          2,
          0,
          10,
          10,
          11,
          12,
          0,
          3,
          4,
          6,
          24,
          12,
          10,
          8,
          11,
          2
         ],
         "xaxis": "x",
         "yaxis": "y"
        }
       ],
       "layout": {
        "barmode": "relative",
        "legend": {
         "tracegroupgap": 0
        },
        "template": {
         "data": {
          "bar": [
           {
            "error_x": {
             "color": "#2a3f5f"
            },
            "error_y": {
             "color": "#2a3f5f"
            },
            "marker": {
             "line": {
              "color": "#E5ECF6",
              "width": 0.5
             },
             "pattern": {
              "fillmode": "overlay",
              "size": 10,
              "solidity": 0.2
             }
            },
            "type": "bar"
           }
          ],
          "barpolar": [
           {
            "marker": {
             "line": {
              "color": "#E5ECF6",
              "width": 0.5
             },
             "pattern": {
              "fillmode": "overlay",
              "size": 10,
              "solidity": 0.2
             }
            },
            "type": "barpolar"
           }
          ],
          "carpet": [
           {
            "aaxis": {
             "endlinecolor": "#2a3f5f",
             "gridcolor": "white",
             "linecolor": "white",
             "minorgridcolor": "white",
             "startlinecolor": "#2a3f5f"
            },
            "baxis": {
             "endlinecolor": "#2a3f5f",
             "gridcolor": "white",
             "linecolor": "white",
             "minorgridcolor": "white",
             "startlinecolor": "#2a3f5f"
            },
            "type": "carpet"
           }
          ],
          "choropleth": [
           {
            "colorbar": {
             "outlinewidth": 0,
             "ticks": ""
            },
            "type": "choropleth"
           }
          ],
          "contour": [
           {
            "colorbar": {
             "outlinewidth": 0,
             "ticks": ""
            },
            "colorscale": [
             [
              0,
              "#0d0887"
             ],
             [
              0.1111111111111111,
              "#46039f"
             ],
             [
              0.2222222222222222,
              "#7201a8"
             ],
             [
              0.3333333333333333,
              "#9c179e"
             ],
             [
              0.4444444444444444,
              "#bd3786"
             ],
             [
              0.5555555555555556,
              "#d8576b"
             ],
             [
              0.6666666666666666,
              "#ed7953"
             ],
             [
              0.7777777777777778,
              "#fb9f3a"
             ],
             [
              0.8888888888888888,
              "#fdca26"
             ],
             [
              1,
              "#f0f921"
             ]
            ],
            "type": "contour"
           }
          ],
          "contourcarpet": [
           {
            "colorbar": {
             "outlinewidth": 0,
             "ticks": ""
            },
            "type": "contourcarpet"
           }
          ],
          "heatmap": [
           {
            "colorbar": {
             "outlinewidth": 0,
             "ticks": ""
            },
            "colorscale": [
             [
              0,
              "#0d0887"
             ],
             [
              0.1111111111111111,
              "#46039f"
             ],
             [
              0.2222222222222222,
              "#7201a8"
             ],
             [
              0.3333333333333333,
              "#9c179e"
             ],
             [
              0.4444444444444444,
              "#bd3786"
             ],
             [
              0.5555555555555556,
              "#d8576b"
             ],
             [
              0.6666666666666666,
              "#ed7953"
             ],
             [
              0.7777777777777778,
              "#fb9f3a"
             ],
             [
              0.8888888888888888,
              "#fdca26"
             ],
             [
              1,
              "#f0f921"
             ]
            ],
            "type": "heatmap"
           }
          ],
          "heatmapgl": [
           {
            "colorbar": {
             "outlinewidth": 0,
             "ticks": ""
            },
            "colorscale": [
             [
              0,
              "#0d0887"
             ],
             [
              0.1111111111111111,
              "#46039f"
             ],
             [
              0.2222222222222222,
              "#7201a8"
             ],
             [
              0.3333333333333333,
              "#9c179e"
             ],
             [
              0.4444444444444444,
              "#bd3786"
             ],
             [
              0.5555555555555556,
              "#d8576b"
             ],
             [
              0.6666666666666666,
              "#ed7953"
             ],
             [
              0.7777777777777778,
              "#fb9f3a"
             ],
             [
              0.8888888888888888,
              "#fdca26"
             ],
             [
              1,
              "#f0f921"
             ]
            ],
            "type": "heatmapgl"
           }
          ],
          "histogram": [
           {
            "marker": {
             "pattern": {
              "fillmode": "overlay",
              "size": 10,
              "solidity": 0.2
             }
            },
            "type": "histogram"
           }
          ],
          "histogram2d": [
           {
            "colorbar": {
             "outlinewidth": 0,
             "ticks": ""
            },
            "colorscale": [
             [
              0,
              "#0d0887"
             ],
             [
              0.1111111111111111,
              "#46039f"
             ],
             [
              0.2222222222222222,
              "#7201a8"
             ],
             [
              0.3333333333333333,
              "#9c179e"
             ],
             [
              0.4444444444444444,
              "#bd3786"
             ],
             [
              0.5555555555555556,
              "#d8576b"
             ],
             [
              0.6666666666666666,
              "#ed7953"
             ],
             [
              0.7777777777777778,
              "#fb9f3a"
             ],
             [
              0.8888888888888888,
              "#fdca26"
             ],
             [
              1,
              "#f0f921"
             ]
            ],
            "type": "histogram2d"
           }
          ],
          "histogram2dcontour": [
           {
            "colorbar": {
             "outlinewidth": 0,
             "ticks": ""
            },
            "colorscale": [
             [
              0,
              "#0d0887"
             ],
             [
              0.1111111111111111,
              "#46039f"
             ],
             [
              0.2222222222222222,
              "#7201a8"
             ],
             [
              0.3333333333333333,
              "#9c179e"
             ],
             [
              0.4444444444444444,
              "#bd3786"
             ],
             [
              0.5555555555555556,
              "#d8576b"
             ],
             [
              0.6666666666666666,
              "#ed7953"
             ],
             [
              0.7777777777777778,
              "#fb9f3a"
             ],
             [
              0.8888888888888888,
              "#fdca26"
             ],
             [
              1,
              "#f0f921"
             ]
            ],
            "type": "histogram2dcontour"
           }
          ],
          "mesh3d": [
           {
            "colorbar": {
             "outlinewidth": 0,
             "ticks": ""
            },
            "type": "mesh3d"
           }
          ],
          "parcoords": [
           {
            "line": {
             "colorbar": {
              "outlinewidth": 0,
              "ticks": ""
             }
            },
            "type": "parcoords"
           }
          ],
          "pie": [
           {
            "automargin": true,
            "type": "pie"
           }
          ],
          "scatter": [
           {
            "fillpattern": {
             "fillmode": "overlay",
             "size": 10,
             "solidity": 0.2
            },
            "type": "scatter"
           }
          ],
          "scatter3d": [
           {
            "line": {
             "colorbar": {
              "outlinewidth": 0,
              "ticks": ""
             }
            },
            "marker": {
             "colorbar": {
              "outlinewidth": 0,
              "ticks": ""
             }
            },
            "type": "scatter3d"
           }
          ],
          "scattercarpet": [
           {
            "marker": {
             "colorbar": {
              "outlinewidth": 0,
              "ticks": ""
             }
            },
            "type": "scattercarpet"
           }
          ],
          "scattergeo": [
           {
            "marker": {
             "colorbar": {
              "outlinewidth": 0,
              "ticks": ""
             }
            },
            "type": "scattergeo"
           }
          ],
          "scattergl": [
           {
            "marker": {
             "colorbar": {
              "outlinewidth": 0,
              "ticks": ""
             }
            },
            "type": "scattergl"
           }
          ],
          "scattermapbox": [
           {
            "marker": {
             "colorbar": {
              "outlinewidth": 0,
              "ticks": ""
             }
            },
            "type": "scattermapbox"
           }
          ],
          "scatterpolar": [
           {
            "marker": {
             "colorbar": {
              "outlinewidth": 0,
              "ticks": ""
             }
            },
            "type": "scatterpolar"
           }
          ],
          "scatterpolargl": [
           {
            "marker": {
             "colorbar": {
              "outlinewidth": 0,
              "ticks": ""
             }
            },
            "type": "scatterpolargl"
           }
          ],
          "scatterternary": [
           {
            "marker": {
             "colorbar": {
              "outlinewidth": 0,
              "ticks": ""
             }
            },
            "type": "scatterternary"
           }
          ],
          "surface": [
           {
            "colorbar": {
             "outlinewidth": 0,
             "ticks": ""
            },
            "colorscale": [
             [
              0,
              "#0d0887"
             ],
             [
              0.1111111111111111,
              "#46039f"
             ],
             [
              0.2222222222222222,
              "#7201a8"
             ],
             [
              0.3333333333333333,
              "#9c179e"
             ],
             [
              0.4444444444444444,
              "#bd3786"
             ],
             [
              0.5555555555555556,
              "#d8576b"
             ],
             [
              0.6666666666666666,
              "#ed7953"
             ],
             [
              0.7777777777777778,
              "#fb9f3a"
             ],
             [
              0.8888888888888888,
              "#fdca26"
             ],
             [
              1,
              "#f0f921"
             ]
            ],
            "type": "surface"
           }
          ],
          "table": [
           {
            "cells": {
             "fill": {
              "color": "#EBF0F8"
             },
             "line": {
              "color": "white"
             }
            },
            "header": {
             "fill": {
              "color": "#C8D4E3"
             },
             "line": {
              "color": "white"
             }
            },
            "type": "table"
           }
          ]
         },
         "layout": {
          "annotationdefaults": {
           "arrowcolor": "#2a3f5f",
           "arrowhead": 0,
           "arrowwidth": 1
          },
          "autotypenumbers": "strict",
          "coloraxis": {
           "colorbar": {
            "outlinewidth": 0,
            "ticks": ""
           }
          },
          "colorscale": {
           "diverging": [
            [
             0,
             "#8e0152"
            ],
            [
             0.1,
             "#c51b7d"
            ],
            [
             0.2,
             "#de77ae"
            ],
            [
             0.3,
             "#f1b6da"
            ],
            [
             0.4,
             "#fde0ef"
            ],
            [
             0.5,
             "#f7f7f7"
            ],
            [
             0.6,
             "#e6f5d0"
            ],
            [
             0.7,
             "#b8e186"
            ],
            [
             0.8,
             "#7fbc41"
            ],
            [
             0.9,
             "#4d9221"
            ],
            [
             1,
             "#276419"
            ]
           ],
           "sequential": [
            [
             0,
             "#0d0887"
            ],
            [
             0.1111111111111111,
             "#46039f"
            ],
            [
             0.2222222222222222,
             "#7201a8"
            ],
            [
             0.3333333333333333,
             "#9c179e"
            ],
            [
             0.4444444444444444,
             "#bd3786"
            ],
            [
             0.5555555555555556,
             "#d8576b"
            ],
            [
             0.6666666666666666,
             "#ed7953"
            ],
            [
             0.7777777777777778,
             "#fb9f3a"
            ],
            [
             0.8888888888888888,
             "#fdca26"
            ],
            [
             1,
             "#f0f921"
            ]
           ],
           "sequentialminus": [
            [
             0,
             "#0d0887"
            ],
            [
             0.1111111111111111,
             "#46039f"
            ],
            [
             0.2222222222222222,
             "#7201a8"
            ],
            [
             0.3333333333333333,
             "#9c179e"
            ],
            [
             0.4444444444444444,
             "#bd3786"
            ],
            [
             0.5555555555555556,
             "#d8576b"
            ],
            [
             0.6666666666666666,
             "#ed7953"
            ],
            [
             0.7777777777777778,
             "#fb9f3a"
            ],
            [
             0.8888888888888888,
             "#fdca26"
            ],
            [
             1,
             "#f0f921"
            ]
           ]
          },
          "colorway": [
           "#636efa",
           "#EF553B",
           "#00cc96",
           "#ab63fa",
           "#FFA15A",
           "#19d3f3",
           "#FF6692",
           "#B6E880",
           "#FF97FF",
           "#FECB52"
          ],
          "font": {
           "color": "#2a3f5f"
          },
          "geo": {
           "bgcolor": "white",
           "lakecolor": "white",
           "landcolor": "#E5ECF6",
           "showlakes": true,
           "showland": true,
           "subunitcolor": "white"
          },
          "hoverlabel": {
           "align": "left"
          },
          "hovermode": "closest",
          "mapbox": {
           "style": "light"
          },
          "paper_bgcolor": "white",
          "plot_bgcolor": "#E5ECF6",
          "polar": {
           "angularaxis": {
            "gridcolor": "white",
            "linecolor": "white",
            "ticks": ""
           },
           "bgcolor": "#E5ECF6",
           "radialaxis": {
            "gridcolor": "white",
            "linecolor": "white",
            "ticks": ""
           }
          },
          "scene": {
           "xaxis": {
            "backgroundcolor": "#E5ECF6",
            "gridcolor": "white",
            "gridwidth": 2,
            "linecolor": "white",
            "showbackground": true,
            "ticks": "",
            "zerolinecolor": "white"
           },
           "yaxis": {
            "backgroundcolor": "#E5ECF6",
            "gridcolor": "white",
            "gridwidth": 2,
            "linecolor": "white",
            "showbackground": true,
            "ticks": "",
            "zerolinecolor": "white"
           },
           "zaxis": {
            "backgroundcolor": "#E5ECF6",
            "gridcolor": "white",
            "gridwidth": 2,
            "linecolor": "white",
            "showbackground": true,
            "ticks": "",
            "zerolinecolor": "white"
           }
          },
          "shapedefaults": {
           "line": {
            "color": "#2a3f5f"
           }
          },
          "ternary": {
           "aaxis": {
            "gridcolor": "white",
            "linecolor": "white",
            "ticks": ""
           },
           "baxis": {
            "gridcolor": "white",
            "linecolor": "white",
            "ticks": ""
           },
           "bgcolor": "#E5ECF6",
           "caxis": {
            "gridcolor": "white",
            "linecolor": "white",
            "ticks": ""
           }
          },
          "title": {
           "x": 0.05
          },
          "xaxis": {
           "automargin": true,
           "gridcolor": "white",
           "linecolor": "white",
           "ticks": "",
           "title": {
            "standoff": 15
           },
           "zerolinecolor": "white",
           "zerolinewidth": 2
          },
          "yaxis": {
           "automargin": true,
           "gridcolor": "white",
           "linecolor": "white",
           "ticks": "",
           "title": {
            "standoff": 15
           },
           "zerolinecolor": "white",
           "zerolinewidth": 2
          }
         }
        },
        "title": {
         "text": "Distribution of FTM"
        },
        "xaxis": {
         "anchor": "y",
         "domain": [
          0,
          1
         ],
         "title": {
          "text": "FTM"
         }
        },
        "yaxis": {
         "anchor": "x",
         "domain": [
          0,
          1
         ],
         "title": {
          "text": "count"
         }
        }
       }
      }
     },
     "metadata": {},
     "output_type": "display_data"
    },
    {
     "data": {
      "application/vnd.plotly.v1+json": {
       "config": {
        "plotlyServerURL": "https://plot.ly"
       },
       "data": [
        {
         "alignmentgroup": "True",
         "bingroup": "x",
         "hovertemplate": "STL=%{x}<br>count=%{y}<extra></extra>",
         "legendgroup": "",
         "marker": {
          "color": "#636efa",
          "pattern": {
           "shape": ""
          }
         },
         "name": "",
         "nbinsx": 10,
         "offsetgroup": "",
         "orientation": "v",
         "showlegend": false,
         "type": "histogram",
         "x": [
          0,
          0,
          4,
          4,
          16,
          4,
          8,
          24,
          8,
          20,
          12,
          0,
          8,
          24,
          16,
          0,
          8,
          8,
          24,
          16,
          8,
          8,
          0,
          16,
          12,
          0,
          8,
          8,
          24,
          16,
          0,
          8,
          16,
          4,
          28,
          16,
          12,
          16,
          24,
          12,
          0,
          0,
          16,
          8,
          4,
          4,
          4,
          4,
          16,
          8,
          16,
          40,
          20,
          8,
          12,
          28,
          0,
          12,
          20,
          8,
          12,
          0,
          12,
          8,
          32,
          16,
          8,
          8,
          8,
          36,
          20,
          12,
          4,
          8,
          12,
          8,
          24,
          12,
          12,
          8,
          12,
          4,
          8,
          4,
          8,
          16,
          8,
          8,
          4,
          8,
          0,
          4,
          0,
          12,
          4,
          24,
          4,
          32,
          20,
          12,
          16,
          28,
          12,
          16,
          8,
          8,
          12,
          8,
          24,
          16,
          16,
          16,
          20,
          0,
          8,
          16,
          12,
          12,
          16,
          12,
          20,
          8,
          4,
          12,
          20,
          8,
          0,
          4,
          8,
          4,
          4,
          0,
          36,
          16,
          8,
          8,
          20,
          8,
          24,
          0,
          40,
          0,
          24,
          0,
          0,
          0,
          0,
          8,
          8,
          12,
          12,
          4,
          8,
          40,
          16,
          8,
          8,
          8,
          12,
          0,
          20,
          0,
          12,
          8,
          44,
          0,
          12,
          0,
          20,
          4,
          4,
          0,
          4,
          12,
          0,
          8,
          16,
          20,
          0,
          16,
          24,
          16,
          4,
          20,
          8,
          0,
          4,
          4,
          12,
          20,
          16,
          12,
          16,
          4,
          16,
          8,
          4,
          16,
          32,
          0,
          12,
          12,
          8,
          8,
          4,
          20,
          4,
          4,
          12,
          4,
          20,
          8,
          8,
          12,
          20,
          32,
          20,
          0,
          24,
          8,
          16,
          4,
          28,
          20,
          36,
          24,
          16,
          12,
          4,
          12,
          8,
          16,
          4,
          32,
          0,
          8,
          8,
          12,
          16,
          12,
          8,
          0,
          12,
          4,
          16,
          12,
          4,
          0,
          24,
          4,
          8,
          24,
          24,
          8,
          20,
          4
         ],
         "xaxis": "x",
         "yaxis": "y"
        }
       ],
       "layout": {
        "barmode": "relative",
        "legend": {
         "tracegroupgap": 0
        },
        "template": {
         "data": {
          "bar": [
           {
            "error_x": {
             "color": "#2a3f5f"
            },
            "error_y": {
             "color": "#2a3f5f"
            },
            "marker": {
             "line": {
              "color": "#E5ECF6",
              "width": 0.5
             },
             "pattern": {
              "fillmode": "overlay",
              "size": 10,
              "solidity": 0.2
             }
            },
            "type": "bar"
           }
          ],
          "barpolar": [
           {
            "marker": {
             "line": {
              "color": "#E5ECF6",
              "width": 0.5
             },
             "pattern": {
              "fillmode": "overlay",
              "size": 10,
              "solidity": 0.2
             }
            },
            "type": "barpolar"
           }
          ],
          "carpet": [
           {
            "aaxis": {
             "endlinecolor": "#2a3f5f",
             "gridcolor": "white",
             "linecolor": "white",
             "minorgridcolor": "white",
             "startlinecolor": "#2a3f5f"
            },
            "baxis": {
             "endlinecolor": "#2a3f5f",
             "gridcolor": "white",
             "linecolor": "white",
             "minorgridcolor": "white",
             "startlinecolor": "#2a3f5f"
            },
            "type": "carpet"
           }
          ],
          "choropleth": [
           {
            "colorbar": {
             "outlinewidth": 0,
             "ticks": ""
            },
            "type": "choropleth"
           }
          ],
          "contour": [
           {
            "colorbar": {
             "outlinewidth": 0,
             "ticks": ""
            },
            "colorscale": [
             [
              0,
              "#0d0887"
             ],
             [
              0.1111111111111111,
              "#46039f"
             ],
             [
              0.2222222222222222,
              "#7201a8"
             ],
             [
              0.3333333333333333,
              "#9c179e"
             ],
             [
              0.4444444444444444,
              "#bd3786"
             ],
             [
              0.5555555555555556,
              "#d8576b"
             ],
             [
              0.6666666666666666,
              "#ed7953"
             ],
             [
              0.7777777777777778,
              "#fb9f3a"
             ],
             [
              0.8888888888888888,
              "#fdca26"
             ],
             [
              1,
              "#f0f921"
             ]
            ],
            "type": "contour"
           }
          ],
          "contourcarpet": [
           {
            "colorbar": {
             "outlinewidth": 0,
             "ticks": ""
            },
            "type": "contourcarpet"
           }
          ],
          "heatmap": [
           {
            "colorbar": {
             "outlinewidth": 0,
             "ticks": ""
            },
            "colorscale": [
             [
              0,
              "#0d0887"
             ],
             [
              0.1111111111111111,
              "#46039f"
             ],
             [
              0.2222222222222222,
              "#7201a8"
             ],
             [
              0.3333333333333333,
              "#9c179e"
             ],
             [
              0.4444444444444444,
              "#bd3786"
             ],
             [
              0.5555555555555556,
              "#d8576b"
             ],
             [
              0.6666666666666666,
              "#ed7953"
             ],
             [
              0.7777777777777778,
              "#fb9f3a"
             ],
             [
              0.8888888888888888,
              "#fdca26"
             ],
             [
              1,
              "#f0f921"
             ]
            ],
            "type": "heatmap"
           }
          ],
          "heatmapgl": [
           {
            "colorbar": {
             "outlinewidth": 0,
             "ticks": ""
            },
            "colorscale": [
             [
              0,
              "#0d0887"
             ],
             [
              0.1111111111111111,
              "#46039f"
             ],
             [
              0.2222222222222222,
              "#7201a8"
             ],
             [
              0.3333333333333333,
              "#9c179e"
             ],
             [
              0.4444444444444444,
              "#bd3786"
             ],
             [
              0.5555555555555556,
              "#d8576b"
             ],
             [
              0.6666666666666666,
              "#ed7953"
             ],
             [
              0.7777777777777778,
              "#fb9f3a"
             ],
             [
              0.8888888888888888,
              "#fdca26"
             ],
             [
              1,
              "#f0f921"
             ]
            ],
            "type": "heatmapgl"
           }
          ],
          "histogram": [
           {
            "marker": {
             "pattern": {
              "fillmode": "overlay",
              "size": 10,
              "solidity": 0.2
             }
            },
            "type": "histogram"
           }
          ],
          "histogram2d": [
           {
            "colorbar": {
             "outlinewidth": 0,
             "ticks": ""
            },
            "colorscale": [
             [
              0,
              "#0d0887"
             ],
             [
              0.1111111111111111,
              "#46039f"
             ],
             [
              0.2222222222222222,
              "#7201a8"
             ],
             [
              0.3333333333333333,
              "#9c179e"
             ],
             [
              0.4444444444444444,
              "#bd3786"
             ],
             [
              0.5555555555555556,
              "#d8576b"
             ],
             [
              0.6666666666666666,
              "#ed7953"
             ],
             [
              0.7777777777777778,
              "#fb9f3a"
             ],
             [
              0.8888888888888888,
              "#fdca26"
             ],
             [
              1,
              "#f0f921"
             ]
            ],
            "type": "histogram2d"
           }
          ],
          "histogram2dcontour": [
           {
            "colorbar": {
             "outlinewidth": 0,
             "ticks": ""
            },
            "colorscale": [
             [
              0,
              "#0d0887"
             ],
             [
              0.1111111111111111,
              "#46039f"
             ],
             [
              0.2222222222222222,
              "#7201a8"
             ],
             [
              0.3333333333333333,
              "#9c179e"
             ],
             [
              0.4444444444444444,
              "#bd3786"
             ],
             [
              0.5555555555555556,
              "#d8576b"
             ],
             [
              0.6666666666666666,
              "#ed7953"
             ],
             [
              0.7777777777777778,
              "#fb9f3a"
             ],
             [
              0.8888888888888888,
              "#fdca26"
             ],
             [
              1,
              "#f0f921"
             ]
            ],
            "type": "histogram2dcontour"
           }
          ],
          "mesh3d": [
           {
            "colorbar": {
             "outlinewidth": 0,
             "ticks": ""
            },
            "type": "mesh3d"
           }
          ],
          "parcoords": [
           {
            "line": {
             "colorbar": {
              "outlinewidth": 0,
              "ticks": ""
             }
            },
            "type": "parcoords"
           }
          ],
          "pie": [
           {
            "automargin": true,
            "type": "pie"
           }
          ],
          "scatter": [
           {
            "fillpattern": {
             "fillmode": "overlay",
             "size": 10,
             "solidity": 0.2
            },
            "type": "scatter"
           }
          ],
          "scatter3d": [
           {
            "line": {
             "colorbar": {
              "outlinewidth": 0,
              "ticks": ""
             }
            },
            "marker": {
             "colorbar": {
              "outlinewidth": 0,
              "ticks": ""
             }
            },
            "type": "scatter3d"
           }
          ],
          "scattercarpet": [
           {
            "marker": {
             "colorbar": {
              "outlinewidth": 0,
              "ticks": ""
             }
            },
            "type": "scattercarpet"
           }
          ],
          "scattergeo": [
           {
            "marker": {
             "colorbar": {
              "outlinewidth": 0,
              "ticks": ""
             }
            },
            "type": "scattergeo"
           }
          ],
          "scattergl": [
           {
            "marker": {
             "colorbar": {
              "outlinewidth": 0,
              "ticks": ""
             }
            },
            "type": "scattergl"
           }
          ],
          "scattermapbox": [
           {
            "marker": {
             "colorbar": {
              "outlinewidth": 0,
              "ticks": ""
             }
            },
            "type": "scattermapbox"
           }
          ],
          "scatterpolar": [
           {
            "marker": {
             "colorbar": {
              "outlinewidth": 0,
              "ticks": ""
             }
            },
            "type": "scatterpolar"
           }
          ],
          "scatterpolargl": [
           {
            "marker": {
             "colorbar": {
              "outlinewidth": 0,
              "ticks": ""
             }
            },
            "type": "scatterpolargl"
           }
          ],
          "scatterternary": [
           {
            "marker": {
             "colorbar": {
              "outlinewidth": 0,
              "ticks": ""
             }
            },
            "type": "scatterternary"
           }
          ],
          "surface": [
           {
            "colorbar": {
             "outlinewidth": 0,
             "ticks": ""
            },
            "colorscale": [
             [
              0,
              "#0d0887"
             ],
             [
              0.1111111111111111,
              "#46039f"
             ],
             [
              0.2222222222222222,
              "#7201a8"
             ],
             [
              0.3333333333333333,
              "#9c179e"
             ],
             [
              0.4444444444444444,
              "#bd3786"
             ],
             [
              0.5555555555555556,
              "#d8576b"
             ],
             [
              0.6666666666666666,
              "#ed7953"
             ],
             [
              0.7777777777777778,
              "#fb9f3a"
             ],
             [
              0.8888888888888888,
              "#fdca26"
             ],
             [
              1,
              "#f0f921"
             ]
            ],
            "type": "surface"
           }
          ],
          "table": [
           {
            "cells": {
             "fill": {
              "color": "#EBF0F8"
             },
             "line": {
              "color": "white"
             }
            },
            "header": {
             "fill": {
              "color": "#C8D4E3"
             },
             "line": {
              "color": "white"
             }
            },
            "type": "table"
           }
          ]
         },
         "layout": {
          "annotationdefaults": {
           "arrowcolor": "#2a3f5f",
           "arrowhead": 0,
           "arrowwidth": 1
          },
          "autotypenumbers": "strict",
          "coloraxis": {
           "colorbar": {
            "outlinewidth": 0,
            "ticks": ""
           }
          },
          "colorscale": {
           "diverging": [
            [
             0,
             "#8e0152"
            ],
            [
             0.1,
             "#c51b7d"
            ],
            [
             0.2,
             "#de77ae"
            ],
            [
             0.3,
             "#f1b6da"
            ],
            [
             0.4,
             "#fde0ef"
            ],
            [
             0.5,
             "#f7f7f7"
            ],
            [
             0.6,
             "#e6f5d0"
            ],
            [
             0.7,
             "#b8e186"
            ],
            [
             0.8,
             "#7fbc41"
            ],
            [
             0.9,
             "#4d9221"
            ],
            [
             1,
             "#276419"
            ]
           ],
           "sequential": [
            [
             0,
             "#0d0887"
            ],
            [
             0.1111111111111111,
             "#46039f"
            ],
            [
             0.2222222222222222,
             "#7201a8"
            ],
            [
             0.3333333333333333,
             "#9c179e"
            ],
            [
             0.4444444444444444,
             "#bd3786"
            ],
            [
             0.5555555555555556,
             "#d8576b"
            ],
            [
             0.6666666666666666,
             "#ed7953"
            ],
            [
             0.7777777777777778,
             "#fb9f3a"
            ],
            [
             0.8888888888888888,
             "#fdca26"
            ],
            [
             1,
             "#f0f921"
            ]
           ],
           "sequentialminus": [
            [
             0,
             "#0d0887"
            ],
            [
             0.1111111111111111,
             "#46039f"
            ],
            [
             0.2222222222222222,
             "#7201a8"
            ],
            [
             0.3333333333333333,
             "#9c179e"
            ],
            [
             0.4444444444444444,
             "#bd3786"
            ],
            [
             0.5555555555555556,
             "#d8576b"
            ],
            [
             0.6666666666666666,
             "#ed7953"
            ],
            [
             0.7777777777777778,
             "#fb9f3a"
            ],
            [
             0.8888888888888888,
             "#fdca26"
            ],
            [
             1,
             "#f0f921"
            ]
           ]
          },
          "colorway": [
           "#636efa",
           "#EF553B",
           "#00cc96",
           "#ab63fa",
           "#FFA15A",
           "#19d3f3",
           "#FF6692",
           "#B6E880",
           "#FF97FF",
           "#FECB52"
          ],
          "font": {
           "color": "#2a3f5f"
          },
          "geo": {
           "bgcolor": "white",
           "lakecolor": "white",
           "landcolor": "#E5ECF6",
           "showlakes": true,
           "showland": true,
           "subunitcolor": "white"
          },
          "hoverlabel": {
           "align": "left"
          },
          "hovermode": "closest",
          "mapbox": {
           "style": "light"
          },
          "paper_bgcolor": "white",
          "plot_bgcolor": "#E5ECF6",
          "polar": {
           "angularaxis": {
            "gridcolor": "white",
            "linecolor": "white",
            "ticks": ""
           },
           "bgcolor": "#E5ECF6",
           "radialaxis": {
            "gridcolor": "white",
            "linecolor": "white",
            "ticks": ""
           }
          },
          "scene": {
           "xaxis": {
            "backgroundcolor": "#E5ECF6",
            "gridcolor": "white",
            "gridwidth": 2,
            "linecolor": "white",
            "showbackground": true,
            "ticks": "",
            "zerolinecolor": "white"
           },
           "yaxis": {
            "backgroundcolor": "#E5ECF6",
            "gridcolor": "white",
            "gridwidth": 2,
            "linecolor": "white",
            "showbackground": true,
            "ticks": "",
            "zerolinecolor": "white"
           },
           "zaxis": {
            "backgroundcolor": "#E5ECF6",
            "gridcolor": "white",
            "gridwidth": 2,
            "linecolor": "white",
            "showbackground": true,
            "ticks": "",
            "zerolinecolor": "white"
           }
          },
          "shapedefaults": {
           "line": {
            "color": "#2a3f5f"
           }
          },
          "ternary": {
           "aaxis": {
            "gridcolor": "white",
            "linecolor": "white",
            "ticks": ""
           },
           "baxis": {
            "gridcolor": "white",
            "linecolor": "white",
            "ticks": ""
           },
           "bgcolor": "#E5ECF6",
           "caxis": {
            "gridcolor": "white",
            "linecolor": "white",
            "ticks": ""
           }
          },
          "title": {
           "x": 0.05
          },
          "xaxis": {
           "automargin": true,
           "gridcolor": "white",
           "linecolor": "white",
           "ticks": "",
           "title": {
            "standoff": 15
           },
           "zerolinecolor": "white",
           "zerolinewidth": 2
          },
          "yaxis": {
           "automargin": true,
           "gridcolor": "white",
           "linecolor": "white",
           "ticks": "",
           "title": {
            "standoff": 15
           },
           "zerolinecolor": "white",
           "zerolinewidth": 2
          }
         }
        },
        "title": {
         "text": "Distribution of STL"
        },
        "xaxis": {
         "anchor": "y",
         "domain": [
          0,
          1
         ],
         "title": {
          "text": "STL"
         }
        },
        "yaxis": {
         "anchor": "x",
         "domain": [
          0,
          1
         ],
         "title": {
          "text": "count"
         }
        }
       }
      }
     },
     "metadata": {},
     "output_type": "display_data"
    },
    {
     "data": {
      "application/vnd.plotly.v1+json": {
       "config": {
        "plotlyServerURL": "https://plot.ly"
       },
       "data": [
        {
         "alignmentgroup": "True",
         "bingroup": "x",
         "hovertemplate": "PTS=%{x}<br>count=%{y}<extra></extra>",
         "legendgroup": "",
         "marker": {
          "color": "#636efa",
          "pattern": {
           "shape": ""
          }
         },
         "name": "",
         "offsetgroup": "",
         "orientation": "v",
         "showlegend": false,
         "type": "histogram",
         "x": [
          17,
          4,
          41,
          14,
          29,
          42,
          15,
          34,
          45,
          69,
          44,
          62,
          41,
          32,
          80,
          12,
          31,
          38,
          60,
          58,
          6,
          70,
          2,
          46,
          85,
          12,
          52,
          64,
          21,
          93,
          5,
          26,
          63,
          42,
          34,
          34,
          45,
          55,
          68,
          75,
          15,
          64,
          37,
          45,
          48,
          49,
          43,
          70,
          42,
          45,
          103,
          41,
          58,
          49,
          32,
          42,
          59,
          69,
          34,
          44,
          69,
          31,
          28,
          80,
          65,
          75,
          78,
          35,
          20,
          67,
          108,
          77,
          42,
          45,
          50,
          33,
          56,
          70,
          17,
          3,
          75,
          53,
          14,
          37,
          41,
          44,
          11,
          52,
          58,
          33,
          17,
          44,
          38,
          37,
          55,
          51,
          59,
          70,
          81,
          61,
          107,
          128,
          79,
          60,
          49,
          19,
          33,
          58,
          91,
          73,
          60,
          72,
          94,
          55,
          57,
          15,
          39,
          65,
          83,
          67,
          76,
          54,
          45,
          56,
          60,
          64,
          39,
          50,
          46,
          16,
          75,
          22,
          84,
          74,
          51,
          51,
          52,
          64,
          79,
          76,
          88,
          62,
          107,
          48,
          21,
          97,
          7,
          12,
          43,
          53,
          46,
          47,
          77,
          94,
          67,
          52,
          62,
          50,
          58,
          21,
          45,
          19,
          53,
          54,
          61,
          18,
          62,
          37,
          85,
          17,
          44,
          71,
          33,
          66,
          14,
          46,
          50,
          74,
          44,
          152,
          93,
          38,
          80,
          67,
          10,
          58,
          63,
          74,
          59,
          98,
          32,
          14,
          56,
          54,
          68,
          85,
          48,
          65,
          119,
          36,
          85,
          67,
          45,
          83,
          38,
          60,
          50,
          44,
          26,
          64,
          75,
          55,
          57,
          41,
          88,
          76,
          83,
          9,
          67,
          65,
          51,
          62,
          113,
          103,
          82,
          79,
          46,
          21,
          46,
          38,
          48,
          79,
          43,
          88,
          22,
          59,
          56,
          65,
          85,
          50,
          62,
          10,
          101,
          62,
          62,
          79,
          33,
          33,
          47,
          20,
          124,
          103,
          63,
          32,
          84,
          6
         ],
         "xaxis": "x",
         "yaxis": "y"
        }
       ],
       "layout": {
        "barmode": "relative",
        "legend": {
         "tracegroupgap": 0
        },
        "template": {
         "data": {
          "bar": [
           {
            "error_x": {
             "color": "#2a3f5f"
            },
            "error_y": {
             "color": "#2a3f5f"
            },
            "marker": {
             "line": {
              "color": "#E5ECF6",
              "width": 0.5
             },
             "pattern": {
              "fillmode": "overlay",
              "size": 10,
              "solidity": 0.2
             }
            },
            "type": "bar"
           }
          ],
          "barpolar": [
           {
            "marker": {
             "line": {
              "color": "#E5ECF6",
              "width": 0.5
             },
             "pattern": {
              "fillmode": "overlay",
              "size": 10,
              "solidity": 0.2
             }
            },
            "type": "barpolar"
           }
          ],
          "carpet": [
           {
            "aaxis": {
             "endlinecolor": "#2a3f5f",
             "gridcolor": "white",
             "linecolor": "white",
             "minorgridcolor": "white",
             "startlinecolor": "#2a3f5f"
            },
            "baxis": {
             "endlinecolor": "#2a3f5f",
             "gridcolor": "white",
             "linecolor": "white",
             "minorgridcolor": "white",
             "startlinecolor": "#2a3f5f"
            },
            "type": "carpet"
           }
          ],
          "choropleth": [
           {
            "colorbar": {
             "outlinewidth": 0,
             "ticks": ""
            },
            "type": "choropleth"
           }
          ],
          "contour": [
           {
            "colorbar": {
             "outlinewidth": 0,
             "ticks": ""
            },
            "colorscale": [
             [
              0,
              "#0d0887"
             ],
             [
              0.1111111111111111,
              "#46039f"
             ],
             [
              0.2222222222222222,
              "#7201a8"
             ],
             [
              0.3333333333333333,
              "#9c179e"
             ],
             [
              0.4444444444444444,
              "#bd3786"
             ],
             [
              0.5555555555555556,
              "#d8576b"
             ],
             [
              0.6666666666666666,
              "#ed7953"
             ],
             [
              0.7777777777777778,
              "#fb9f3a"
             ],
             [
              0.8888888888888888,
              "#fdca26"
             ],
             [
              1,
              "#f0f921"
             ]
            ],
            "type": "contour"
           }
          ],
          "contourcarpet": [
           {
            "colorbar": {
             "outlinewidth": 0,
             "ticks": ""
            },
            "type": "contourcarpet"
           }
          ],
          "heatmap": [
           {
            "colorbar": {
             "outlinewidth": 0,
             "ticks": ""
            },
            "colorscale": [
             [
              0,
              "#0d0887"
             ],
             [
              0.1111111111111111,
              "#46039f"
             ],
             [
              0.2222222222222222,
              "#7201a8"
             ],
             [
              0.3333333333333333,
              "#9c179e"
             ],
             [
              0.4444444444444444,
              "#bd3786"
             ],
             [
              0.5555555555555556,
              "#d8576b"
             ],
             [
              0.6666666666666666,
              "#ed7953"
             ],
             [
              0.7777777777777778,
              "#fb9f3a"
             ],
             [
              0.8888888888888888,
              "#fdca26"
             ],
             [
              1,
              "#f0f921"
             ]
            ],
            "type": "heatmap"
           }
          ],
          "heatmapgl": [
           {
            "colorbar": {
             "outlinewidth": 0,
             "ticks": ""
            },
            "colorscale": [
             [
              0,
              "#0d0887"
             ],
             [
              0.1111111111111111,
              "#46039f"
             ],
             [
              0.2222222222222222,
              "#7201a8"
             ],
             [
              0.3333333333333333,
              "#9c179e"
             ],
             [
              0.4444444444444444,
              "#bd3786"
             ],
             [
              0.5555555555555556,
              "#d8576b"
             ],
             [
              0.6666666666666666,
              "#ed7953"
             ],
             [
              0.7777777777777778,
              "#fb9f3a"
             ],
             [
              0.8888888888888888,
              "#fdca26"
             ],
             [
              1,
              "#f0f921"
             ]
            ],
            "type": "heatmapgl"
           }
          ],
          "histogram": [
           {
            "marker": {
             "pattern": {
              "fillmode": "overlay",
              "size": 10,
              "solidity": 0.2
             }
            },
            "type": "histogram"
           }
          ],
          "histogram2d": [
           {
            "colorbar": {
             "outlinewidth": 0,
             "ticks": ""
            },
            "colorscale": [
             [
              0,
              "#0d0887"
             ],
             [
              0.1111111111111111,
              "#46039f"
             ],
             [
              0.2222222222222222,
              "#7201a8"
             ],
             [
              0.3333333333333333,
              "#9c179e"
             ],
             [
              0.4444444444444444,
              "#bd3786"
             ],
             [
              0.5555555555555556,
              "#d8576b"
             ],
             [
              0.6666666666666666,
              "#ed7953"
             ],
             [
              0.7777777777777778,
              "#fb9f3a"
             ],
             [
              0.8888888888888888,
              "#fdca26"
             ],
             [
              1,
              "#f0f921"
             ]
            ],
            "type": "histogram2d"
           }
          ],
          "histogram2dcontour": [
           {
            "colorbar": {
             "outlinewidth": 0,
             "ticks": ""
            },
            "colorscale": [
             [
              0,
              "#0d0887"
             ],
             [
              0.1111111111111111,
              "#46039f"
             ],
             [
              0.2222222222222222,
              "#7201a8"
             ],
             [
              0.3333333333333333,
              "#9c179e"
             ],
             [
              0.4444444444444444,
              "#bd3786"
             ],
             [
              0.5555555555555556,
              "#d8576b"
             ],
             [
              0.6666666666666666,
              "#ed7953"
             ],
             [
              0.7777777777777778,
              "#fb9f3a"
             ],
             [
              0.8888888888888888,
              "#fdca26"
             ],
             [
              1,
              "#f0f921"
             ]
            ],
            "type": "histogram2dcontour"
           }
          ],
          "mesh3d": [
           {
            "colorbar": {
             "outlinewidth": 0,
             "ticks": ""
            },
            "type": "mesh3d"
           }
          ],
          "parcoords": [
           {
            "line": {
             "colorbar": {
              "outlinewidth": 0,
              "ticks": ""
             }
            },
            "type": "parcoords"
           }
          ],
          "pie": [
           {
            "automargin": true,
            "type": "pie"
           }
          ],
          "scatter": [
           {
            "fillpattern": {
             "fillmode": "overlay",
             "size": 10,
             "solidity": 0.2
            },
            "type": "scatter"
           }
          ],
          "scatter3d": [
           {
            "line": {
             "colorbar": {
              "outlinewidth": 0,
              "ticks": ""
             }
            },
            "marker": {
             "colorbar": {
              "outlinewidth": 0,
              "ticks": ""
             }
            },
            "type": "scatter3d"
           }
          ],
          "scattercarpet": [
           {
            "marker": {
             "colorbar": {
              "outlinewidth": 0,
              "ticks": ""
             }
            },
            "type": "scattercarpet"
           }
          ],
          "scattergeo": [
           {
            "marker": {
             "colorbar": {
              "outlinewidth": 0,
              "ticks": ""
             }
            },
            "type": "scattergeo"
           }
          ],
          "scattergl": [
           {
            "marker": {
             "colorbar": {
              "outlinewidth": 0,
              "ticks": ""
             }
            },
            "type": "scattergl"
           }
          ],
          "scattermapbox": [
           {
            "marker": {
             "colorbar": {
              "outlinewidth": 0,
              "ticks": ""
             }
            },
            "type": "scattermapbox"
           }
          ],
          "scatterpolar": [
           {
            "marker": {
             "colorbar": {
              "outlinewidth": 0,
              "ticks": ""
             }
            },
            "type": "scatterpolar"
           }
          ],
          "scatterpolargl": [
           {
            "marker": {
             "colorbar": {
              "outlinewidth": 0,
              "ticks": ""
             }
            },
            "type": "scatterpolargl"
           }
          ],
          "scatterternary": [
           {
            "marker": {
             "colorbar": {
              "outlinewidth": 0,
              "ticks": ""
             }
            },
            "type": "scatterternary"
           }
          ],
          "surface": [
           {
            "colorbar": {
             "outlinewidth": 0,
             "ticks": ""
            },
            "colorscale": [
             [
              0,
              "#0d0887"
             ],
             [
              0.1111111111111111,
              "#46039f"
             ],
             [
              0.2222222222222222,
              "#7201a8"
             ],
             [
              0.3333333333333333,
              "#9c179e"
             ],
             [
              0.4444444444444444,
              "#bd3786"
             ],
             [
              0.5555555555555556,
              "#d8576b"
             ],
             [
              0.6666666666666666,
              "#ed7953"
             ],
             [
              0.7777777777777778,
              "#fb9f3a"
             ],
             [
              0.8888888888888888,
              "#fdca26"
             ],
             [
              1,
              "#f0f921"
             ]
            ],
            "type": "surface"
           }
          ],
          "table": [
           {
            "cells": {
             "fill": {
              "color": "#EBF0F8"
             },
             "line": {
              "color": "white"
             }
            },
            "header": {
             "fill": {
              "color": "#C8D4E3"
             },
             "line": {
              "color": "white"
             }
            },
            "type": "table"
           }
          ]
         },
         "layout": {
          "annotationdefaults": {
           "arrowcolor": "#2a3f5f",
           "arrowhead": 0,
           "arrowwidth": 1
          },
          "autotypenumbers": "strict",
          "coloraxis": {
           "colorbar": {
            "outlinewidth": 0,
            "ticks": ""
           }
          },
          "colorscale": {
           "diverging": [
            [
             0,
             "#8e0152"
            ],
            [
             0.1,
             "#c51b7d"
            ],
            [
             0.2,
             "#de77ae"
            ],
            [
             0.3,
             "#f1b6da"
            ],
            [
             0.4,
             "#fde0ef"
            ],
            [
             0.5,
             "#f7f7f7"
            ],
            [
             0.6,
             "#e6f5d0"
            ],
            [
             0.7,
             "#b8e186"
            ],
            [
             0.8,
             "#7fbc41"
            ],
            [
             0.9,
             "#4d9221"
            ],
            [
             1,
             "#276419"
            ]
           ],
           "sequential": [
            [
             0,
             "#0d0887"
            ],
            [
             0.1111111111111111,
             "#46039f"
            ],
            [
             0.2222222222222222,
             "#7201a8"
            ],
            [
             0.3333333333333333,
             "#9c179e"
            ],
            [
             0.4444444444444444,
             "#bd3786"
            ],
            [
             0.5555555555555556,
             "#d8576b"
            ],
            [
             0.6666666666666666,
             "#ed7953"
            ],
            [
             0.7777777777777778,
             "#fb9f3a"
            ],
            [
             0.8888888888888888,
             "#fdca26"
            ],
            [
             1,
             "#f0f921"
            ]
           ],
           "sequentialminus": [
            [
             0,
             "#0d0887"
            ],
            [
             0.1111111111111111,
             "#46039f"
            ],
            [
             0.2222222222222222,
             "#7201a8"
            ],
            [
             0.3333333333333333,
             "#9c179e"
            ],
            [
             0.4444444444444444,
             "#bd3786"
            ],
            [
             0.5555555555555556,
             "#d8576b"
            ],
            [
             0.6666666666666666,
             "#ed7953"
            ],
            [
             0.7777777777777778,
             "#fb9f3a"
            ],
            [
             0.8888888888888888,
             "#fdca26"
            ],
            [
             1,
             "#f0f921"
            ]
           ]
          },
          "colorway": [
           "#636efa",
           "#EF553B",
           "#00cc96",
           "#ab63fa",
           "#FFA15A",
           "#19d3f3",
           "#FF6692",
           "#B6E880",
           "#FF97FF",
           "#FECB52"
          ],
          "font": {
           "color": "#2a3f5f"
          },
          "geo": {
           "bgcolor": "white",
           "lakecolor": "white",
           "landcolor": "#E5ECF6",
           "showlakes": true,
           "showland": true,
           "subunitcolor": "white"
          },
          "hoverlabel": {
           "align": "left"
          },
          "hovermode": "closest",
          "mapbox": {
           "style": "light"
          },
          "paper_bgcolor": "white",
          "plot_bgcolor": "#E5ECF6",
          "polar": {
           "angularaxis": {
            "gridcolor": "white",
            "linecolor": "white",
            "ticks": ""
           },
           "bgcolor": "#E5ECF6",
           "radialaxis": {
            "gridcolor": "white",
            "linecolor": "white",
            "ticks": ""
           }
          },
          "scene": {
           "xaxis": {
            "backgroundcolor": "#E5ECF6",
            "gridcolor": "white",
            "gridwidth": 2,
            "linecolor": "white",
            "showbackground": true,
            "ticks": "",
            "zerolinecolor": "white"
           },
           "yaxis": {
            "backgroundcolor": "#E5ECF6",
            "gridcolor": "white",
            "gridwidth": 2,
            "linecolor": "white",
            "showbackground": true,
            "ticks": "",
            "zerolinecolor": "white"
           },
           "zaxis": {
            "backgroundcolor": "#E5ECF6",
            "gridcolor": "white",
            "gridwidth": 2,
            "linecolor": "white",
            "showbackground": true,
            "ticks": "",
            "zerolinecolor": "white"
           }
          },
          "shapedefaults": {
           "line": {
            "color": "#2a3f5f"
           }
          },
          "ternary": {
           "aaxis": {
            "gridcolor": "white",
            "linecolor": "white",
            "ticks": ""
           },
           "baxis": {
            "gridcolor": "white",
            "linecolor": "white",
            "ticks": ""
           },
           "bgcolor": "#E5ECF6",
           "caxis": {
            "gridcolor": "white",
            "linecolor": "white",
            "ticks": ""
           }
          },
          "title": {
           "x": 0.05
          },
          "xaxis": {
           "automargin": true,
           "gridcolor": "white",
           "linecolor": "white",
           "ticks": "",
           "title": {
            "standoff": 15
           },
           "zerolinecolor": "white",
           "zerolinewidth": 2
          },
          "yaxis": {
           "automargin": true,
           "gridcolor": "white",
           "linecolor": "white",
           "ticks": "",
           "title": {
            "standoff": 15
           },
           "zerolinecolor": "white",
           "zerolinewidth": 2
          }
         }
        },
        "title": {
         "text": "Distribution of PTS"
        },
        "xaxis": {
         "anchor": "y",
         "domain": [
          0,
          1
         ],
         "title": {
          "text": "PTS"
         }
        },
        "yaxis": {
         "anchor": "x",
         "domain": [
          0,
          1
         ],
         "title": {
          "text": "count"
         }
        }
       }
      }
     },
     "metadata": {},
     "output_type": "display_data"
    },
    {
     "data": {
      "application/vnd.plotly.v1+json": {
       "config": {
        "plotlyServerURL": "https://plot.ly"
       },
       "data": [
        {
         "alignmentgroup": "True",
         "bingroup": "x",
         "hovertemplate": "3PTM=%{x}<br>count=%{y}<extra></extra>",
         "legendgroup": "",
         "marker": {
          "color": "#636efa",
          "pattern": {
           "shape": ""
          }
         },
         "name": "",
         "offsetgroup": "",
         "orientation": "v",
         "showlegend": false,
         "type": "histogram",
         "x": [
          2,
          1,
          6,
          0,
          3,
          5,
          1,
          1,
          6,
          12,
          1,
          8,
          8,
          0,
          9,
          0,
          4,
          0,
          7,
          3,
          0,
          7,
          0,
          5,
          8,
          0,
          6,
          11,
          2,
          12,
          1,
          0,
          7,
          3,
          4,
          2,
          2,
          4,
          14,
          6,
          1,
          8,
          4,
          8,
          0,
          6,
          9,
          7,
          6,
          1,
          14,
          5,
          4,
          9,
          5,
          10,
          10,
          0,
          2,
          4,
          7,
          2,
          1,
          8,
          8,
          5,
          15,
          11,
          4,
          9,
          8,
          9,
          0,
          0,
          3,
          3,
          6,
          10,
          5,
          1,
          8,
          8,
          0,
          6,
          7,
          2,
          0,
          9,
          7,
          3,
          0,
          6,
          7,
          6,
          6,
          0,
          11,
          7,
          10,
          1,
          15,
          12,
          8,
          6,
          7,
          3,
          5,
          3,
          13,
          9,
          0,
          8,
          12,
          2,
          12,
          1,
          9,
          2,
          14,
          9,
          15,
          0,
          0,
          5,
          8,
          7,
          7,
          3,
          10,
          1,
          9,
          3,
          10,
          0,
          2,
          6,
          3,
          5,
          5,
          4,
          10,
          0,
          9,
          7,
          4,
          14,
          1,
          0,
          4,
          7,
          5,
          2,
          10,
          7,
          9,
          0,
          5,
          10,
          3,
          2,
          0,
          2,
          6,
          5,
          4,
          0,
          6,
          5,
          7,
          1,
          0,
          7,
          5,
          8,
          0,
          8,
          1,
          6,
          2,
          13,
          9,
          3,
          11,
          5,
          1,
          0,
          10,
          9,
          7,
          9,
          3,
          2,
          5,
          0,
          9,
          11,
          6,
          1,
          12,
          0,
          9,
          11,
          7,
          9,
          3,
          5,
          9,
          0,
          2,
          4,
          9,
          7,
          0,
          7,
          12,
          13,
          5,
          1,
          10,
          2,
          13,
          2,
          4,
          13,
          3,
          5,
          0,
          1,
          4,
          4,
          0,
          21,
          3,
          20,
          1,
          8,
          10,
          5,
          6,
          0,
          8,
          0,
          17,
          6,
          3,
          11,
          3,
          8,
          11,
          2,
          20,
          15,
          3,
          0,
          9,
          0
         ],
         "xaxis": "x",
         "yaxis": "y"
        }
       ],
       "layout": {
        "barmode": "relative",
        "legend": {
         "tracegroupgap": 0
        },
        "template": {
         "data": {
          "bar": [
           {
            "error_x": {
             "color": "#2a3f5f"
            },
            "error_y": {
             "color": "#2a3f5f"
            },
            "marker": {
             "line": {
              "color": "#E5ECF6",
              "width": 0.5
             },
             "pattern": {
              "fillmode": "overlay",
              "size": 10,
              "solidity": 0.2
             }
            },
            "type": "bar"
           }
          ],
          "barpolar": [
           {
            "marker": {
             "line": {
              "color": "#E5ECF6",
              "width": 0.5
             },
             "pattern": {
              "fillmode": "overlay",
              "size": 10,
              "solidity": 0.2
             }
            },
            "type": "barpolar"
           }
          ],
          "carpet": [
           {
            "aaxis": {
             "endlinecolor": "#2a3f5f",
             "gridcolor": "white",
             "linecolor": "white",
             "minorgridcolor": "white",
             "startlinecolor": "#2a3f5f"
            },
            "baxis": {
             "endlinecolor": "#2a3f5f",
             "gridcolor": "white",
             "linecolor": "white",
             "minorgridcolor": "white",
             "startlinecolor": "#2a3f5f"
            },
            "type": "carpet"
           }
          ],
          "choropleth": [
           {
            "colorbar": {
             "outlinewidth": 0,
             "ticks": ""
            },
            "type": "choropleth"
           }
          ],
          "contour": [
           {
            "colorbar": {
             "outlinewidth": 0,
             "ticks": ""
            },
            "colorscale": [
             [
              0,
              "#0d0887"
             ],
             [
              0.1111111111111111,
              "#46039f"
             ],
             [
              0.2222222222222222,
              "#7201a8"
             ],
             [
              0.3333333333333333,
              "#9c179e"
             ],
             [
              0.4444444444444444,
              "#bd3786"
             ],
             [
              0.5555555555555556,
              "#d8576b"
             ],
             [
              0.6666666666666666,
              "#ed7953"
             ],
             [
              0.7777777777777778,
              "#fb9f3a"
             ],
             [
              0.8888888888888888,
              "#fdca26"
             ],
             [
              1,
              "#f0f921"
             ]
            ],
            "type": "contour"
           }
          ],
          "contourcarpet": [
           {
            "colorbar": {
             "outlinewidth": 0,
             "ticks": ""
            },
            "type": "contourcarpet"
           }
          ],
          "heatmap": [
           {
            "colorbar": {
             "outlinewidth": 0,
             "ticks": ""
            },
            "colorscale": [
             [
              0,
              "#0d0887"
             ],
             [
              0.1111111111111111,
              "#46039f"
             ],
             [
              0.2222222222222222,
              "#7201a8"
             ],
             [
              0.3333333333333333,
              "#9c179e"
             ],
             [
              0.4444444444444444,
              "#bd3786"
             ],
             [
              0.5555555555555556,
              "#d8576b"
             ],
             [
              0.6666666666666666,
              "#ed7953"
             ],
             [
              0.7777777777777778,
              "#fb9f3a"
             ],
             [
              0.8888888888888888,
              "#fdca26"
             ],
             [
              1,
              "#f0f921"
             ]
            ],
            "type": "heatmap"
           }
          ],
          "heatmapgl": [
           {
            "colorbar": {
             "outlinewidth": 0,
             "ticks": ""
            },
            "colorscale": [
             [
              0,
              "#0d0887"
             ],
             [
              0.1111111111111111,
              "#46039f"
             ],
             [
              0.2222222222222222,
              "#7201a8"
             ],
             [
              0.3333333333333333,
              "#9c179e"
             ],
             [
              0.4444444444444444,
              "#bd3786"
             ],
             [
              0.5555555555555556,
              "#d8576b"
             ],
             [
              0.6666666666666666,
              "#ed7953"
             ],
             [
              0.7777777777777778,
              "#fb9f3a"
             ],
             [
              0.8888888888888888,
              "#fdca26"
             ],
             [
              1,
              "#f0f921"
             ]
            ],
            "type": "heatmapgl"
           }
          ],
          "histogram": [
           {
            "marker": {
             "pattern": {
              "fillmode": "overlay",
              "size": 10,
              "solidity": 0.2
             }
            },
            "type": "histogram"
           }
          ],
          "histogram2d": [
           {
            "colorbar": {
             "outlinewidth": 0,
             "ticks": ""
            },
            "colorscale": [
             [
              0,
              "#0d0887"
             ],
             [
              0.1111111111111111,
              "#46039f"
             ],
             [
              0.2222222222222222,
              "#7201a8"
             ],
             [
              0.3333333333333333,
              "#9c179e"
             ],
             [
              0.4444444444444444,
              "#bd3786"
             ],
             [
              0.5555555555555556,
              "#d8576b"
             ],
             [
              0.6666666666666666,
              "#ed7953"
             ],
             [
              0.7777777777777778,
              "#fb9f3a"
             ],
             [
              0.8888888888888888,
              "#fdca26"
             ],
             [
              1,
              "#f0f921"
             ]
            ],
            "type": "histogram2d"
           }
          ],
          "histogram2dcontour": [
           {
            "colorbar": {
             "outlinewidth": 0,
             "ticks": ""
            },
            "colorscale": [
             [
              0,
              "#0d0887"
             ],
             [
              0.1111111111111111,
              "#46039f"
             ],
             [
              0.2222222222222222,
              "#7201a8"
             ],
             [
              0.3333333333333333,
              "#9c179e"
             ],
             [
              0.4444444444444444,
              "#bd3786"
             ],
             [
              0.5555555555555556,
              "#d8576b"
             ],
             [
              0.6666666666666666,
              "#ed7953"
             ],
             [
              0.7777777777777778,
              "#fb9f3a"
             ],
             [
              0.8888888888888888,
              "#fdca26"
             ],
             [
              1,
              "#f0f921"
             ]
            ],
            "type": "histogram2dcontour"
           }
          ],
          "mesh3d": [
           {
            "colorbar": {
             "outlinewidth": 0,
             "ticks": ""
            },
            "type": "mesh3d"
           }
          ],
          "parcoords": [
           {
            "line": {
             "colorbar": {
              "outlinewidth": 0,
              "ticks": ""
             }
            },
            "type": "parcoords"
           }
          ],
          "pie": [
           {
            "automargin": true,
            "type": "pie"
           }
          ],
          "scatter": [
           {
            "fillpattern": {
             "fillmode": "overlay",
             "size": 10,
             "solidity": 0.2
            },
            "type": "scatter"
           }
          ],
          "scatter3d": [
           {
            "line": {
             "colorbar": {
              "outlinewidth": 0,
              "ticks": ""
             }
            },
            "marker": {
             "colorbar": {
              "outlinewidth": 0,
              "ticks": ""
             }
            },
            "type": "scatter3d"
           }
          ],
          "scattercarpet": [
           {
            "marker": {
             "colorbar": {
              "outlinewidth": 0,
              "ticks": ""
             }
            },
            "type": "scattercarpet"
           }
          ],
          "scattergeo": [
           {
            "marker": {
             "colorbar": {
              "outlinewidth": 0,
              "ticks": ""
             }
            },
            "type": "scattergeo"
           }
          ],
          "scattergl": [
           {
            "marker": {
             "colorbar": {
              "outlinewidth": 0,
              "ticks": ""
             }
            },
            "type": "scattergl"
           }
          ],
          "scattermapbox": [
           {
            "marker": {
             "colorbar": {
              "outlinewidth": 0,
              "ticks": ""
             }
            },
            "type": "scattermapbox"
           }
          ],
          "scatterpolar": [
           {
            "marker": {
             "colorbar": {
              "outlinewidth": 0,
              "ticks": ""
             }
            },
            "type": "scatterpolar"
           }
          ],
          "scatterpolargl": [
           {
            "marker": {
             "colorbar": {
              "outlinewidth": 0,
              "ticks": ""
             }
            },
            "type": "scatterpolargl"
           }
          ],
          "scatterternary": [
           {
            "marker": {
             "colorbar": {
              "outlinewidth": 0,
              "ticks": ""
             }
            },
            "type": "scatterternary"
           }
          ],
          "surface": [
           {
            "colorbar": {
             "outlinewidth": 0,
             "ticks": ""
            },
            "colorscale": [
             [
              0,
              "#0d0887"
             ],
             [
              0.1111111111111111,
              "#46039f"
             ],
             [
              0.2222222222222222,
              "#7201a8"
             ],
             [
              0.3333333333333333,
              "#9c179e"
             ],
             [
              0.4444444444444444,
              "#bd3786"
             ],
             [
              0.5555555555555556,
              "#d8576b"
             ],
             [
              0.6666666666666666,
              "#ed7953"
             ],
             [
              0.7777777777777778,
              "#fb9f3a"
             ],
             [
              0.8888888888888888,
              "#fdca26"
             ],
             [
              1,
              "#f0f921"
             ]
            ],
            "type": "surface"
           }
          ],
          "table": [
           {
            "cells": {
             "fill": {
              "color": "#EBF0F8"
             },
             "line": {
              "color": "white"
             }
            },
            "header": {
             "fill": {
              "color": "#C8D4E3"
             },
             "line": {
              "color": "white"
             }
            },
            "type": "table"
           }
          ]
         },
         "layout": {
          "annotationdefaults": {
           "arrowcolor": "#2a3f5f",
           "arrowhead": 0,
           "arrowwidth": 1
          },
          "autotypenumbers": "strict",
          "coloraxis": {
           "colorbar": {
            "outlinewidth": 0,
            "ticks": ""
           }
          },
          "colorscale": {
           "diverging": [
            [
             0,
             "#8e0152"
            ],
            [
             0.1,
             "#c51b7d"
            ],
            [
             0.2,
             "#de77ae"
            ],
            [
             0.3,
             "#f1b6da"
            ],
            [
             0.4,
             "#fde0ef"
            ],
            [
             0.5,
             "#f7f7f7"
            ],
            [
             0.6,
             "#e6f5d0"
            ],
            [
             0.7,
             "#b8e186"
            ],
            [
             0.8,
             "#7fbc41"
            ],
            [
             0.9,
             "#4d9221"
            ],
            [
             1,
             "#276419"
            ]
           ],
           "sequential": [
            [
             0,
             "#0d0887"
            ],
            [
             0.1111111111111111,
             "#46039f"
            ],
            [
             0.2222222222222222,
             "#7201a8"
            ],
            [
             0.3333333333333333,
             "#9c179e"
            ],
            [
             0.4444444444444444,
             "#bd3786"
            ],
            [
             0.5555555555555556,
             "#d8576b"
            ],
            [
             0.6666666666666666,
             "#ed7953"
            ],
            [
             0.7777777777777778,
             "#fb9f3a"
            ],
            [
             0.8888888888888888,
             "#fdca26"
            ],
            [
             1,
             "#f0f921"
            ]
           ],
           "sequentialminus": [
            [
             0,
             "#0d0887"
            ],
            [
             0.1111111111111111,
             "#46039f"
            ],
            [
             0.2222222222222222,
             "#7201a8"
            ],
            [
             0.3333333333333333,
             "#9c179e"
            ],
            [
             0.4444444444444444,
             "#bd3786"
            ],
            [
             0.5555555555555556,
             "#d8576b"
            ],
            [
             0.6666666666666666,
             "#ed7953"
            ],
            [
             0.7777777777777778,
             "#fb9f3a"
            ],
            [
             0.8888888888888888,
             "#fdca26"
            ],
            [
             1,
             "#f0f921"
            ]
           ]
          },
          "colorway": [
           "#636efa",
           "#EF553B",
           "#00cc96",
           "#ab63fa",
           "#FFA15A",
           "#19d3f3",
           "#FF6692",
           "#B6E880",
           "#FF97FF",
           "#FECB52"
          ],
          "font": {
           "color": "#2a3f5f"
          },
          "geo": {
           "bgcolor": "white",
           "lakecolor": "white",
           "landcolor": "#E5ECF6",
           "showlakes": true,
           "showland": true,
           "subunitcolor": "white"
          },
          "hoverlabel": {
           "align": "left"
          },
          "hovermode": "closest",
          "mapbox": {
           "style": "light"
          },
          "paper_bgcolor": "white",
          "plot_bgcolor": "#E5ECF6",
          "polar": {
           "angularaxis": {
            "gridcolor": "white",
            "linecolor": "white",
            "ticks": ""
           },
           "bgcolor": "#E5ECF6",
           "radialaxis": {
            "gridcolor": "white",
            "linecolor": "white",
            "ticks": ""
           }
          },
          "scene": {
           "xaxis": {
            "backgroundcolor": "#E5ECF6",
            "gridcolor": "white",
            "gridwidth": 2,
            "linecolor": "white",
            "showbackground": true,
            "ticks": "",
            "zerolinecolor": "white"
           },
           "yaxis": {
            "backgroundcolor": "#E5ECF6",
            "gridcolor": "white",
            "gridwidth": 2,
            "linecolor": "white",
            "showbackground": true,
            "ticks": "",
            "zerolinecolor": "white"
           },
           "zaxis": {
            "backgroundcolor": "#E5ECF6",
            "gridcolor": "white",
            "gridwidth": 2,
            "linecolor": "white",
            "showbackground": true,
            "ticks": "",
            "zerolinecolor": "white"
           }
          },
          "shapedefaults": {
           "line": {
            "color": "#2a3f5f"
           }
          },
          "ternary": {
           "aaxis": {
            "gridcolor": "white",
            "linecolor": "white",
            "ticks": ""
           },
           "baxis": {
            "gridcolor": "white",
            "linecolor": "white",
            "ticks": ""
           },
           "bgcolor": "#E5ECF6",
           "caxis": {
            "gridcolor": "white",
            "linecolor": "white",
            "ticks": ""
           }
          },
          "title": {
           "x": 0.05
          },
          "xaxis": {
           "automargin": true,
           "gridcolor": "white",
           "linecolor": "white",
           "ticks": "",
           "title": {
            "standoff": 15
           },
           "zerolinecolor": "white",
           "zerolinewidth": 2
          },
          "yaxis": {
           "automargin": true,
           "gridcolor": "white",
           "linecolor": "white",
           "ticks": "",
           "title": {
            "standoff": 15
           },
           "zerolinecolor": "white",
           "zerolinewidth": 2
          }
         }
        },
        "title": {
         "text": "Distribution of 3PTM"
        },
        "xaxis": {
         "anchor": "y",
         "domain": [
          0,
          1
         ],
         "title": {
          "text": "3PTM"
         }
        },
        "yaxis": {
         "anchor": "x",
         "domain": [
          0,
          1
         ],
         "title": {
          "text": "count"
         }
        }
       }
      }
     },
     "metadata": {},
     "output_type": "display_data"
    },
    {
     "data": {
      "application/vnd.plotly.v1+json": {
       "config": {
        "plotlyServerURL": "https://plot.ly"
       },
       "data": [
        {
         "alignmentgroup": "True",
         "bingroup": "x",
         "hovertemplate": "FGA=%{x}<br>count=%{y}<extra></extra>",
         "legendgroup": "",
         "marker": {
          "color": "#636efa",
          "pattern": {
           "shape": ""
          }
         },
         "name": "",
         "offsetgroup": "",
         "orientation": "v",
         "showlegend": false,
         "type": "histogram",
         "x": [
          -9,
          -7,
          -32,
          -11,
          -30,
          -38,
          -12,
          -29,
          -32,
          -52,
          -43,
          -44,
          -34,
          -35,
          -51,
          -7,
          -23,
          -28,
          -49,
          -41,
          -11,
          -38,
          -2,
          -39,
          -59,
          -13,
          -53,
          -53,
          -31,
          -62,
          -8,
          -12,
          -46,
          -40,
          -24,
          -37,
          -35,
          -40,
          -47,
          -63,
          -12,
          -52,
          -29,
          -32,
          -27,
          -30,
          -30,
          -49,
          -24,
          -37,
          -71,
          -30,
          -49,
          -40,
          -22,
          -31,
          -45,
          -44,
          -21,
          -33,
          -49,
          -28,
          -39,
          -56,
          -67,
          -63,
          -59,
          -27,
          -13,
          -54,
          -77,
          -45,
          -24,
          -31,
          -38,
          -22,
          -56,
          -58,
          -20,
          -2,
          -50,
          -37,
          -14,
          -25,
          -26,
          -29,
          -14,
          -33,
          -39,
          -33,
          -12,
          -35,
          -20,
          -24,
          -45,
          -33,
          -42,
          -62,
          -65,
          -42,
          -72,
          -65,
          -76,
          -43,
          -53,
          -14,
          -28,
          -40,
          -63,
          -67,
          -37,
          -51,
          -74,
          -42,
          -45,
          -23,
          -21,
          -35,
          -55,
          -56,
          -55,
          -34,
          -28,
          -40,
          -45,
          -49,
          -35,
          -32,
          -30,
          -10,
          -47,
          -12,
          -65,
          -47,
          -31,
          -49,
          -41,
          -34,
          -69,
          -57,
          -67,
          -33,
          -79,
          -35,
          -12,
          -62,
          -5,
          -5,
          -25,
          -33,
          -31,
          -28,
          -54,
          -68,
          -51,
          -42,
          -48,
          -36,
          -48,
          -14,
          -28,
          -13,
          -40,
          -45,
          -52,
          -17,
          -42,
          -25,
          -74,
          -11,
          -30,
          -60,
          -21,
          -51,
          -8,
          -37,
          -49,
          -63,
          -33,
          -86,
          -74,
          -31,
          -60,
          -44,
          -9,
          -42,
          -50,
          -50,
          -44,
          -74,
          -25,
          -10,
          -48,
          -36,
          -56,
          -65,
          -38,
          -60,
          -83,
          -23,
          -73,
          -54,
          -36,
          -54,
          -29,
          -53,
          -41,
          -32,
          -18,
          -42,
          -48,
          -37,
          -37,
          -35,
          -69,
          -61,
          -69,
          -6,
          -50,
          -59,
          -48,
          -50,
          -85,
          -88,
          -65,
          -70,
          -33,
          -22,
          -48,
          -49,
          -32,
          -67,
          -38,
          -77,
          -18,
          -44,
          -46,
          -57,
          -65,
          -36,
          -44,
          -9,
          -66,
          -45,
          -60,
          -69,
          -22,
          -22,
          -54,
          -15,
          -80,
          -83,
          -52,
          -17,
          -64,
          -7
         ],
         "xaxis": "x",
         "yaxis": "y"
        }
       ],
       "layout": {
        "barmode": "relative",
        "legend": {
         "tracegroupgap": 0
        },
        "template": {
         "data": {
          "bar": [
           {
            "error_x": {
             "color": "#2a3f5f"
            },
            "error_y": {
             "color": "#2a3f5f"
            },
            "marker": {
             "line": {
              "color": "#E5ECF6",
              "width": 0.5
             },
             "pattern": {
              "fillmode": "overlay",
              "size": 10,
              "solidity": 0.2
             }
            },
            "type": "bar"
           }
          ],
          "barpolar": [
           {
            "marker": {
             "line": {
              "color": "#E5ECF6",
              "width": 0.5
             },
             "pattern": {
              "fillmode": "overlay",
              "size": 10,
              "solidity": 0.2
             }
            },
            "type": "barpolar"
           }
          ],
          "carpet": [
           {
            "aaxis": {
             "endlinecolor": "#2a3f5f",
             "gridcolor": "white",
             "linecolor": "white",
             "minorgridcolor": "white",
             "startlinecolor": "#2a3f5f"
            },
            "baxis": {
             "endlinecolor": "#2a3f5f",
             "gridcolor": "white",
             "linecolor": "white",
             "minorgridcolor": "white",
             "startlinecolor": "#2a3f5f"
            },
            "type": "carpet"
           }
          ],
          "choropleth": [
           {
            "colorbar": {
             "outlinewidth": 0,
             "ticks": ""
            },
            "type": "choropleth"
           }
          ],
          "contour": [
           {
            "colorbar": {
             "outlinewidth": 0,
             "ticks": ""
            },
            "colorscale": [
             [
              0,
              "#0d0887"
             ],
             [
              0.1111111111111111,
              "#46039f"
             ],
             [
              0.2222222222222222,
              "#7201a8"
             ],
             [
              0.3333333333333333,
              "#9c179e"
             ],
             [
              0.4444444444444444,
              "#bd3786"
             ],
             [
              0.5555555555555556,
              "#d8576b"
             ],
             [
              0.6666666666666666,
              "#ed7953"
             ],
             [
              0.7777777777777778,
              "#fb9f3a"
             ],
             [
              0.8888888888888888,
              "#fdca26"
             ],
             [
              1,
              "#f0f921"
             ]
            ],
            "type": "contour"
           }
          ],
          "contourcarpet": [
           {
            "colorbar": {
             "outlinewidth": 0,
             "ticks": ""
            },
            "type": "contourcarpet"
           }
          ],
          "heatmap": [
           {
            "colorbar": {
             "outlinewidth": 0,
             "ticks": ""
            },
            "colorscale": [
             [
              0,
              "#0d0887"
             ],
             [
              0.1111111111111111,
              "#46039f"
             ],
             [
              0.2222222222222222,
              "#7201a8"
             ],
             [
              0.3333333333333333,
              "#9c179e"
             ],
             [
              0.4444444444444444,
              "#bd3786"
             ],
             [
              0.5555555555555556,
              "#d8576b"
             ],
             [
              0.6666666666666666,
              "#ed7953"
             ],
             [
              0.7777777777777778,
              "#fb9f3a"
             ],
             [
              0.8888888888888888,
              "#fdca26"
             ],
             [
              1,
              "#f0f921"
             ]
            ],
            "type": "heatmap"
           }
          ],
          "heatmapgl": [
           {
            "colorbar": {
             "outlinewidth": 0,
             "ticks": ""
            },
            "colorscale": [
             [
              0,
              "#0d0887"
             ],
             [
              0.1111111111111111,
              "#46039f"
             ],
             [
              0.2222222222222222,
              "#7201a8"
             ],
             [
              0.3333333333333333,
              "#9c179e"
             ],
             [
              0.4444444444444444,
              "#bd3786"
             ],
             [
              0.5555555555555556,
              "#d8576b"
             ],
             [
              0.6666666666666666,
              "#ed7953"
             ],
             [
              0.7777777777777778,
              "#fb9f3a"
             ],
             [
              0.8888888888888888,
              "#fdca26"
             ],
             [
              1,
              "#f0f921"
             ]
            ],
            "type": "heatmapgl"
           }
          ],
          "histogram": [
           {
            "marker": {
             "pattern": {
              "fillmode": "overlay",
              "size": 10,
              "solidity": 0.2
             }
            },
            "type": "histogram"
           }
          ],
          "histogram2d": [
           {
            "colorbar": {
             "outlinewidth": 0,
             "ticks": ""
            },
            "colorscale": [
             [
              0,
              "#0d0887"
             ],
             [
              0.1111111111111111,
              "#46039f"
             ],
             [
              0.2222222222222222,
              "#7201a8"
             ],
             [
              0.3333333333333333,
              "#9c179e"
             ],
             [
              0.4444444444444444,
              "#bd3786"
             ],
             [
              0.5555555555555556,
              "#d8576b"
             ],
             [
              0.6666666666666666,
              "#ed7953"
             ],
             [
              0.7777777777777778,
              "#fb9f3a"
             ],
             [
              0.8888888888888888,
              "#fdca26"
             ],
             [
              1,
              "#f0f921"
             ]
            ],
            "type": "histogram2d"
           }
          ],
          "histogram2dcontour": [
           {
            "colorbar": {
             "outlinewidth": 0,
             "ticks": ""
            },
            "colorscale": [
             [
              0,
              "#0d0887"
             ],
             [
              0.1111111111111111,
              "#46039f"
             ],
             [
              0.2222222222222222,
              "#7201a8"
             ],
             [
              0.3333333333333333,
              "#9c179e"
             ],
             [
              0.4444444444444444,
              "#bd3786"
             ],
             [
              0.5555555555555556,
              "#d8576b"
             ],
             [
              0.6666666666666666,
              "#ed7953"
             ],
             [
              0.7777777777777778,
              "#fb9f3a"
             ],
             [
              0.8888888888888888,
              "#fdca26"
             ],
             [
              1,
              "#f0f921"
             ]
            ],
            "type": "histogram2dcontour"
           }
          ],
          "mesh3d": [
           {
            "colorbar": {
             "outlinewidth": 0,
             "ticks": ""
            },
            "type": "mesh3d"
           }
          ],
          "parcoords": [
           {
            "line": {
             "colorbar": {
              "outlinewidth": 0,
              "ticks": ""
             }
            },
            "type": "parcoords"
           }
          ],
          "pie": [
           {
            "automargin": true,
            "type": "pie"
           }
          ],
          "scatter": [
           {
            "fillpattern": {
             "fillmode": "overlay",
             "size": 10,
             "solidity": 0.2
            },
            "type": "scatter"
           }
          ],
          "scatter3d": [
           {
            "line": {
             "colorbar": {
              "outlinewidth": 0,
              "ticks": ""
             }
            },
            "marker": {
             "colorbar": {
              "outlinewidth": 0,
              "ticks": ""
             }
            },
            "type": "scatter3d"
           }
          ],
          "scattercarpet": [
           {
            "marker": {
             "colorbar": {
              "outlinewidth": 0,
              "ticks": ""
             }
            },
            "type": "scattercarpet"
           }
          ],
          "scattergeo": [
           {
            "marker": {
             "colorbar": {
              "outlinewidth": 0,
              "ticks": ""
             }
            },
            "type": "scattergeo"
           }
          ],
          "scattergl": [
           {
            "marker": {
             "colorbar": {
              "outlinewidth": 0,
              "ticks": ""
             }
            },
            "type": "scattergl"
           }
          ],
          "scattermapbox": [
           {
            "marker": {
             "colorbar": {
              "outlinewidth": 0,
              "ticks": ""
             }
            },
            "type": "scattermapbox"
           }
          ],
          "scatterpolar": [
           {
            "marker": {
             "colorbar": {
              "outlinewidth": 0,
              "ticks": ""
             }
            },
            "type": "scatterpolar"
           }
          ],
          "scatterpolargl": [
           {
            "marker": {
             "colorbar": {
              "outlinewidth": 0,
              "ticks": ""
             }
            },
            "type": "scatterpolargl"
           }
          ],
          "scatterternary": [
           {
            "marker": {
             "colorbar": {
              "outlinewidth": 0,
              "ticks": ""
             }
            },
            "type": "scatterternary"
           }
          ],
          "surface": [
           {
            "colorbar": {
             "outlinewidth": 0,
             "ticks": ""
            },
            "colorscale": [
             [
              0,
              "#0d0887"
             ],
             [
              0.1111111111111111,
              "#46039f"
             ],
             [
              0.2222222222222222,
              "#7201a8"
             ],
             [
              0.3333333333333333,
              "#9c179e"
             ],
             [
              0.4444444444444444,
              "#bd3786"
             ],
             [
              0.5555555555555556,
              "#d8576b"
             ],
             [
              0.6666666666666666,
              "#ed7953"
             ],
             [
              0.7777777777777778,
              "#fb9f3a"
             ],
             [
              0.8888888888888888,
              "#fdca26"
             ],
             [
              1,
              "#f0f921"
             ]
            ],
            "type": "surface"
           }
          ],
          "table": [
           {
            "cells": {
             "fill": {
              "color": "#EBF0F8"
             },
             "line": {
              "color": "white"
             }
            },
            "header": {
             "fill": {
              "color": "#C8D4E3"
             },
             "line": {
              "color": "white"
             }
            },
            "type": "table"
           }
          ]
         },
         "layout": {
          "annotationdefaults": {
           "arrowcolor": "#2a3f5f",
           "arrowhead": 0,
           "arrowwidth": 1
          },
          "autotypenumbers": "strict",
          "coloraxis": {
           "colorbar": {
            "outlinewidth": 0,
            "ticks": ""
           }
          },
          "colorscale": {
           "diverging": [
            [
             0,
             "#8e0152"
            ],
            [
             0.1,
             "#c51b7d"
            ],
            [
             0.2,
             "#de77ae"
            ],
            [
             0.3,
             "#f1b6da"
            ],
            [
             0.4,
             "#fde0ef"
            ],
            [
             0.5,
             "#f7f7f7"
            ],
            [
             0.6,
             "#e6f5d0"
            ],
            [
             0.7,
             "#b8e186"
            ],
            [
             0.8,
             "#7fbc41"
            ],
            [
             0.9,
             "#4d9221"
            ],
            [
             1,
             "#276419"
            ]
           ],
           "sequential": [
            [
             0,
             "#0d0887"
            ],
            [
             0.1111111111111111,
             "#46039f"
            ],
            [
             0.2222222222222222,
             "#7201a8"
            ],
            [
             0.3333333333333333,
             "#9c179e"
            ],
            [
             0.4444444444444444,
             "#bd3786"
            ],
            [
             0.5555555555555556,
             "#d8576b"
            ],
            [
             0.6666666666666666,
             "#ed7953"
            ],
            [
             0.7777777777777778,
             "#fb9f3a"
            ],
            [
             0.8888888888888888,
             "#fdca26"
            ],
            [
             1,
             "#f0f921"
            ]
           ],
           "sequentialminus": [
            [
             0,
             "#0d0887"
            ],
            [
             0.1111111111111111,
             "#46039f"
            ],
            [
             0.2222222222222222,
             "#7201a8"
            ],
            [
             0.3333333333333333,
             "#9c179e"
            ],
            [
             0.4444444444444444,
             "#bd3786"
            ],
            [
             0.5555555555555556,
             "#d8576b"
            ],
            [
             0.6666666666666666,
             "#ed7953"
            ],
            [
             0.7777777777777778,
             "#fb9f3a"
            ],
            [
             0.8888888888888888,
             "#fdca26"
            ],
            [
             1,
             "#f0f921"
            ]
           ]
          },
          "colorway": [
           "#636efa",
           "#EF553B",
           "#00cc96",
           "#ab63fa",
           "#FFA15A",
           "#19d3f3",
           "#FF6692",
           "#B6E880",
           "#FF97FF",
           "#FECB52"
          ],
          "font": {
           "color": "#2a3f5f"
          },
          "geo": {
           "bgcolor": "white",
           "lakecolor": "white",
           "landcolor": "#E5ECF6",
           "showlakes": true,
           "showland": true,
           "subunitcolor": "white"
          },
          "hoverlabel": {
           "align": "left"
          },
          "hovermode": "closest",
          "mapbox": {
           "style": "light"
          },
          "paper_bgcolor": "white",
          "plot_bgcolor": "#E5ECF6",
          "polar": {
           "angularaxis": {
            "gridcolor": "white",
            "linecolor": "white",
            "ticks": ""
           },
           "bgcolor": "#E5ECF6",
           "radialaxis": {
            "gridcolor": "white",
            "linecolor": "white",
            "ticks": ""
           }
          },
          "scene": {
           "xaxis": {
            "backgroundcolor": "#E5ECF6",
            "gridcolor": "white",
            "gridwidth": 2,
            "linecolor": "white",
            "showbackground": true,
            "ticks": "",
            "zerolinecolor": "white"
           },
           "yaxis": {
            "backgroundcolor": "#E5ECF6",
            "gridcolor": "white",
            "gridwidth": 2,
            "linecolor": "white",
            "showbackground": true,
            "ticks": "",
            "zerolinecolor": "white"
           },
           "zaxis": {
            "backgroundcolor": "#E5ECF6",
            "gridcolor": "white",
            "gridwidth": 2,
            "linecolor": "white",
            "showbackground": true,
            "ticks": "",
            "zerolinecolor": "white"
           }
          },
          "shapedefaults": {
           "line": {
            "color": "#2a3f5f"
           }
          },
          "ternary": {
           "aaxis": {
            "gridcolor": "white",
            "linecolor": "white",
            "ticks": ""
           },
           "baxis": {
            "gridcolor": "white",
            "linecolor": "white",
            "ticks": ""
           },
           "bgcolor": "#E5ECF6",
           "caxis": {
            "gridcolor": "white",
            "linecolor": "white",
            "ticks": ""
           }
          },
          "title": {
           "x": 0.05
          },
          "xaxis": {
           "automargin": true,
           "gridcolor": "white",
           "linecolor": "white",
           "ticks": "",
           "title": {
            "standoff": 15
           },
           "zerolinecolor": "white",
           "zerolinewidth": 2
          },
          "yaxis": {
           "automargin": true,
           "gridcolor": "white",
           "linecolor": "white",
           "ticks": "",
           "title": {
            "standoff": 15
           },
           "zerolinecolor": "white",
           "zerolinewidth": 2
          }
         }
        },
        "title": {
         "text": "Distribution of FGA"
        },
        "xaxis": {
         "anchor": "y",
         "domain": [
          0,
          1
         ],
         "title": {
          "text": "FGA"
         }
        },
        "yaxis": {
         "anchor": "x",
         "domain": [
          0,
          1
         ],
         "title": {
          "text": "count"
         }
        }
       }
      }
     },
     "metadata": {},
     "output_type": "display_data"
    },
    {
     "data": {
      "application/vnd.plotly.v1+json": {
       "config": {
        "plotlyServerURL": "https://plot.ly"
       },
       "data": [
        {
         "alignmentgroup": "True",
         "bingroup": "x",
         "hovertemplate": "FGM=%{x}<br>count=%{y}<extra></extra>",
         "legendgroup": "",
         "marker": {
          "color": "#636efa",
          "pattern": {
           "shape": ""
          }
         },
         "name": "",
         "offsetgroup": "",
         "orientation": "v",
         "showlegend": false,
         "type": "histogram",
         "x": [
          10,
          2,
          32,
          14,
          18,
          32,
          12,
          32,
          22,
          50,
          34,
          48,
          32,
          24,
          50,
          10,
          24,
          22,
          48,
          48,
          6,
          36,
          2,
          36,
          70,
          10,
          36,
          48,
          18,
          68,
          4,
          12,
          46,
          32,
          26,
          28,
          36,
          30,
          44,
          58,
          10,
          52,
          28,
          30,
          36,
          30,
          30,
          50,
          32,
          38,
          56,
          26,
          44,
          38,
          22,
          28,
          42,
          62,
          22,
          36,
          50,
          24,
          22,
          54,
          46,
          56,
          56,
          22,
          12,
          54,
          84,
          52,
          38,
          42,
          36,
          24,
          44,
          56,
          10,
          2,
          52,
          42,
          14,
          24,
          28,
          32,
          10,
          30,
          44,
          26,
          16,
          32,
          30,
          22,
          40,
          48,
          42,
          50,
          60,
          48,
          62,
          86,
          64,
          48,
          36,
          14,
          24,
          48,
          70,
          56,
          48,
          52,
          72,
          40,
          44,
          14,
          26,
          46,
          50,
          52,
          56,
          48,
          34,
          38,
          46,
          44,
          30,
          38,
          34,
          14,
          46,
          14,
          60,
          56,
          34,
          36,
          44,
          46,
          48,
          60,
          64,
          52,
          76,
          36,
          14,
          68,
          6,
          6,
          28,
          30,
          34,
          38,
          48,
          74,
          50,
          50,
          50,
          38,
          44,
          12,
          38,
          12,
          42,
          38,
          50,
          14,
          38,
          24,
          72,
          14,
          40,
          58,
          22,
          50,
          12,
          30,
          44,
          56,
          38,
          112,
          52,
          26,
          54,
          56,
          8,
          52,
          44,
          54,
          46,
          82,
          24,
          10,
          46,
          46,
          52,
          58,
          40,
          54,
          94,
          34,
          64,
          44,
          34,
          60,
          28,
          48,
          38,
          36,
          18,
          46,
          48,
          32,
          42,
          32,
          60,
          58,
          62,
          8,
          44,
          58,
          38,
          56,
          74,
          68,
          68,
          66,
          38,
          20,
          28,
          26,
          38,
          52,
          34,
          66,
          18,
          40,
          34,
          52,
          64,
          34,
          52,
          10,
          74,
          46,
          48,
          56,
          30,
          22,
          32,
          12,
          80,
          76,
          50,
          24,
          64,
          4
         ],
         "xaxis": "x",
         "yaxis": "y"
        }
       ],
       "layout": {
        "barmode": "relative",
        "legend": {
         "tracegroupgap": 0
        },
        "template": {
         "data": {
          "bar": [
           {
            "error_x": {
             "color": "#2a3f5f"
            },
            "error_y": {
             "color": "#2a3f5f"
            },
            "marker": {
             "line": {
              "color": "#E5ECF6",
              "width": 0.5
             },
             "pattern": {
              "fillmode": "overlay",
              "size": 10,
              "solidity": 0.2
             }
            },
            "type": "bar"
           }
          ],
          "barpolar": [
           {
            "marker": {
             "line": {
              "color": "#E5ECF6",
              "width": 0.5
             },
             "pattern": {
              "fillmode": "overlay",
              "size": 10,
              "solidity": 0.2
             }
            },
            "type": "barpolar"
           }
          ],
          "carpet": [
           {
            "aaxis": {
             "endlinecolor": "#2a3f5f",
             "gridcolor": "white",
             "linecolor": "white",
             "minorgridcolor": "white",
             "startlinecolor": "#2a3f5f"
            },
            "baxis": {
             "endlinecolor": "#2a3f5f",
             "gridcolor": "white",
             "linecolor": "white",
             "minorgridcolor": "white",
             "startlinecolor": "#2a3f5f"
            },
            "type": "carpet"
           }
          ],
          "choropleth": [
           {
            "colorbar": {
             "outlinewidth": 0,
             "ticks": ""
            },
            "type": "choropleth"
           }
          ],
          "contour": [
           {
            "colorbar": {
             "outlinewidth": 0,
             "ticks": ""
            },
            "colorscale": [
             [
              0,
              "#0d0887"
             ],
             [
              0.1111111111111111,
              "#46039f"
             ],
             [
              0.2222222222222222,
              "#7201a8"
             ],
             [
              0.3333333333333333,
              "#9c179e"
             ],
             [
              0.4444444444444444,
              "#bd3786"
             ],
             [
              0.5555555555555556,
              "#d8576b"
             ],
             [
              0.6666666666666666,
              "#ed7953"
             ],
             [
              0.7777777777777778,
              "#fb9f3a"
             ],
             [
              0.8888888888888888,
              "#fdca26"
             ],
             [
              1,
              "#f0f921"
             ]
            ],
            "type": "contour"
           }
          ],
          "contourcarpet": [
           {
            "colorbar": {
             "outlinewidth": 0,
             "ticks": ""
            },
            "type": "contourcarpet"
           }
          ],
          "heatmap": [
           {
            "colorbar": {
             "outlinewidth": 0,
             "ticks": ""
            },
            "colorscale": [
             [
              0,
              "#0d0887"
             ],
             [
              0.1111111111111111,
              "#46039f"
             ],
             [
              0.2222222222222222,
              "#7201a8"
             ],
             [
              0.3333333333333333,
              "#9c179e"
             ],
             [
              0.4444444444444444,
              "#bd3786"
             ],
             [
              0.5555555555555556,
              "#d8576b"
             ],
             [
              0.6666666666666666,
              "#ed7953"
             ],
             [
              0.7777777777777778,
              "#fb9f3a"
             ],
             [
              0.8888888888888888,
              "#fdca26"
             ],
             [
              1,
              "#f0f921"
             ]
            ],
            "type": "heatmap"
           }
          ],
          "heatmapgl": [
           {
            "colorbar": {
             "outlinewidth": 0,
             "ticks": ""
            },
            "colorscale": [
             [
              0,
              "#0d0887"
             ],
             [
              0.1111111111111111,
              "#46039f"
             ],
             [
              0.2222222222222222,
              "#7201a8"
             ],
             [
              0.3333333333333333,
              "#9c179e"
             ],
             [
              0.4444444444444444,
              "#bd3786"
             ],
             [
              0.5555555555555556,
              "#d8576b"
             ],
             [
              0.6666666666666666,
              "#ed7953"
             ],
             [
              0.7777777777777778,
              "#fb9f3a"
             ],
             [
              0.8888888888888888,
              "#fdca26"
             ],
             [
              1,
              "#f0f921"
             ]
            ],
            "type": "heatmapgl"
           }
          ],
          "histogram": [
           {
            "marker": {
             "pattern": {
              "fillmode": "overlay",
              "size": 10,
              "solidity": 0.2
             }
            },
            "type": "histogram"
           }
          ],
          "histogram2d": [
           {
            "colorbar": {
             "outlinewidth": 0,
             "ticks": ""
            },
            "colorscale": [
             [
              0,
              "#0d0887"
             ],
             [
              0.1111111111111111,
              "#46039f"
             ],
             [
              0.2222222222222222,
              "#7201a8"
             ],
             [
              0.3333333333333333,
              "#9c179e"
             ],
             [
              0.4444444444444444,
              "#bd3786"
             ],
             [
              0.5555555555555556,
              "#d8576b"
             ],
             [
              0.6666666666666666,
              "#ed7953"
             ],
             [
              0.7777777777777778,
              "#fb9f3a"
             ],
             [
              0.8888888888888888,
              "#fdca26"
             ],
             [
              1,
              "#f0f921"
             ]
            ],
            "type": "histogram2d"
           }
          ],
          "histogram2dcontour": [
           {
            "colorbar": {
             "outlinewidth": 0,
             "ticks": ""
            },
            "colorscale": [
             [
              0,
              "#0d0887"
             ],
             [
              0.1111111111111111,
              "#46039f"
             ],
             [
              0.2222222222222222,
              "#7201a8"
             ],
             [
              0.3333333333333333,
              "#9c179e"
             ],
             [
              0.4444444444444444,
              "#bd3786"
             ],
             [
              0.5555555555555556,
              "#d8576b"
             ],
             [
              0.6666666666666666,
              "#ed7953"
             ],
             [
              0.7777777777777778,
              "#fb9f3a"
             ],
             [
              0.8888888888888888,
              "#fdca26"
             ],
             [
              1,
              "#f0f921"
             ]
            ],
            "type": "histogram2dcontour"
           }
          ],
          "mesh3d": [
           {
            "colorbar": {
             "outlinewidth": 0,
             "ticks": ""
            },
            "type": "mesh3d"
           }
          ],
          "parcoords": [
           {
            "line": {
             "colorbar": {
              "outlinewidth": 0,
              "ticks": ""
             }
            },
            "type": "parcoords"
           }
          ],
          "pie": [
           {
            "automargin": true,
            "type": "pie"
           }
          ],
          "scatter": [
           {
            "fillpattern": {
             "fillmode": "overlay",
             "size": 10,
             "solidity": 0.2
            },
            "type": "scatter"
           }
          ],
          "scatter3d": [
           {
            "line": {
             "colorbar": {
              "outlinewidth": 0,
              "ticks": ""
             }
            },
            "marker": {
             "colorbar": {
              "outlinewidth": 0,
              "ticks": ""
             }
            },
            "type": "scatter3d"
           }
          ],
          "scattercarpet": [
           {
            "marker": {
             "colorbar": {
              "outlinewidth": 0,
              "ticks": ""
             }
            },
            "type": "scattercarpet"
           }
          ],
          "scattergeo": [
           {
            "marker": {
             "colorbar": {
              "outlinewidth": 0,
              "ticks": ""
             }
            },
            "type": "scattergeo"
           }
          ],
          "scattergl": [
           {
            "marker": {
             "colorbar": {
              "outlinewidth": 0,
              "ticks": ""
             }
            },
            "type": "scattergl"
           }
          ],
          "scattermapbox": [
           {
            "marker": {
             "colorbar": {
              "outlinewidth": 0,
              "ticks": ""
             }
            },
            "type": "scattermapbox"
           }
          ],
          "scatterpolar": [
           {
            "marker": {
             "colorbar": {
              "outlinewidth": 0,
              "ticks": ""
             }
            },
            "type": "scatterpolar"
           }
          ],
          "scatterpolargl": [
           {
            "marker": {
             "colorbar": {
              "outlinewidth": 0,
              "ticks": ""
             }
            },
            "type": "scatterpolargl"
           }
          ],
          "scatterternary": [
           {
            "marker": {
             "colorbar": {
              "outlinewidth": 0,
              "ticks": ""
             }
            },
            "type": "scatterternary"
           }
          ],
          "surface": [
           {
            "colorbar": {
             "outlinewidth": 0,
             "ticks": ""
            },
            "colorscale": [
             [
              0,
              "#0d0887"
             ],
             [
              0.1111111111111111,
              "#46039f"
             ],
             [
              0.2222222222222222,
              "#7201a8"
             ],
             [
              0.3333333333333333,
              "#9c179e"
             ],
             [
              0.4444444444444444,
              "#bd3786"
             ],
             [
              0.5555555555555556,
              "#d8576b"
             ],
             [
              0.6666666666666666,
              "#ed7953"
             ],
             [
              0.7777777777777778,
              "#fb9f3a"
             ],
             [
              0.8888888888888888,
              "#fdca26"
             ],
             [
              1,
              "#f0f921"
             ]
            ],
            "type": "surface"
           }
          ],
          "table": [
           {
            "cells": {
             "fill": {
              "color": "#EBF0F8"
             },
             "line": {
              "color": "white"
             }
            },
            "header": {
             "fill": {
              "color": "#C8D4E3"
             },
             "line": {
              "color": "white"
             }
            },
            "type": "table"
           }
          ]
         },
         "layout": {
          "annotationdefaults": {
           "arrowcolor": "#2a3f5f",
           "arrowhead": 0,
           "arrowwidth": 1
          },
          "autotypenumbers": "strict",
          "coloraxis": {
           "colorbar": {
            "outlinewidth": 0,
            "ticks": ""
           }
          },
          "colorscale": {
           "diverging": [
            [
             0,
             "#8e0152"
            ],
            [
             0.1,
             "#c51b7d"
            ],
            [
             0.2,
             "#de77ae"
            ],
            [
             0.3,
             "#f1b6da"
            ],
            [
             0.4,
             "#fde0ef"
            ],
            [
             0.5,
             "#f7f7f7"
            ],
            [
             0.6,
             "#e6f5d0"
            ],
            [
             0.7,
             "#b8e186"
            ],
            [
             0.8,
             "#7fbc41"
            ],
            [
             0.9,
             "#4d9221"
            ],
            [
             1,
             "#276419"
            ]
           ],
           "sequential": [
            [
             0,
             "#0d0887"
            ],
            [
             0.1111111111111111,
             "#46039f"
            ],
            [
             0.2222222222222222,
             "#7201a8"
            ],
            [
             0.3333333333333333,
             "#9c179e"
            ],
            [
             0.4444444444444444,
             "#bd3786"
            ],
            [
             0.5555555555555556,
             "#d8576b"
            ],
            [
             0.6666666666666666,
             "#ed7953"
            ],
            [
             0.7777777777777778,
             "#fb9f3a"
            ],
            [
             0.8888888888888888,
             "#fdca26"
            ],
            [
             1,
             "#f0f921"
            ]
           ],
           "sequentialminus": [
            [
             0,
             "#0d0887"
            ],
            [
             0.1111111111111111,
             "#46039f"
            ],
            [
             0.2222222222222222,
             "#7201a8"
            ],
            [
             0.3333333333333333,
             "#9c179e"
            ],
            [
             0.4444444444444444,
             "#bd3786"
            ],
            [
             0.5555555555555556,
             "#d8576b"
            ],
            [
             0.6666666666666666,
             "#ed7953"
            ],
            [
             0.7777777777777778,
             "#fb9f3a"
            ],
            [
             0.8888888888888888,
             "#fdca26"
            ],
            [
             1,
             "#f0f921"
            ]
           ]
          },
          "colorway": [
           "#636efa",
           "#EF553B",
           "#00cc96",
           "#ab63fa",
           "#FFA15A",
           "#19d3f3",
           "#FF6692",
           "#B6E880",
           "#FF97FF",
           "#FECB52"
          ],
          "font": {
           "color": "#2a3f5f"
          },
          "geo": {
           "bgcolor": "white",
           "lakecolor": "white",
           "landcolor": "#E5ECF6",
           "showlakes": true,
           "showland": true,
           "subunitcolor": "white"
          },
          "hoverlabel": {
           "align": "left"
          },
          "hovermode": "closest",
          "mapbox": {
           "style": "light"
          },
          "paper_bgcolor": "white",
          "plot_bgcolor": "#E5ECF6",
          "polar": {
           "angularaxis": {
            "gridcolor": "white",
            "linecolor": "white",
            "ticks": ""
           },
           "bgcolor": "#E5ECF6",
           "radialaxis": {
            "gridcolor": "white",
            "linecolor": "white",
            "ticks": ""
           }
          },
          "scene": {
           "xaxis": {
            "backgroundcolor": "#E5ECF6",
            "gridcolor": "white",
            "gridwidth": 2,
            "linecolor": "white",
            "showbackground": true,
            "ticks": "",
            "zerolinecolor": "white"
           },
           "yaxis": {
            "backgroundcolor": "#E5ECF6",
            "gridcolor": "white",
            "gridwidth": 2,
            "linecolor": "white",
            "showbackground": true,
            "ticks": "",
            "zerolinecolor": "white"
           },
           "zaxis": {
            "backgroundcolor": "#E5ECF6",
            "gridcolor": "white",
            "gridwidth": 2,
            "linecolor": "white",
            "showbackground": true,
            "ticks": "",
            "zerolinecolor": "white"
           }
          },
          "shapedefaults": {
           "line": {
            "color": "#2a3f5f"
           }
          },
          "ternary": {
           "aaxis": {
            "gridcolor": "white",
            "linecolor": "white",
            "ticks": ""
           },
           "baxis": {
            "gridcolor": "white",
            "linecolor": "white",
            "ticks": ""
           },
           "bgcolor": "#E5ECF6",
           "caxis": {
            "gridcolor": "white",
            "linecolor": "white",
            "ticks": ""
           }
          },
          "title": {
           "x": 0.05
          },
          "xaxis": {
           "automargin": true,
           "gridcolor": "white",
           "linecolor": "white",
           "ticks": "",
           "title": {
            "standoff": 15
           },
           "zerolinecolor": "white",
           "zerolinewidth": 2
          },
          "yaxis": {
           "automargin": true,
           "gridcolor": "white",
           "linecolor": "white",
           "ticks": "",
           "title": {
            "standoff": 15
           },
           "zerolinecolor": "white",
           "zerolinewidth": 2
          }
         }
        },
        "title": {
         "text": "Distribution of FGM"
        },
        "xaxis": {
         "anchor": "y",
         "domain": [
          0,
          1
         ],
         "title": {
          "text": "FGM"
         }
        },
        "yaxis": {
         "anchor": "x",
         "domain": [
          0,
          1
         ],
         "title": {
          "text": "count"
         }
        }
       }
      }
     },
     "metadata": {},
     "output_type": "display_data"
    },
    {
     "data": {
      "application/vnd.plotly.v1+json": {
       "config": {
        "plotlyServerURL": "https://plot.ly"
       },
       "data": [
        {
         "alignmentgroup": "True",
         "bingroup": "x",
         "hovertemplate": "FTA=%{x}<br>count=%{y}<extra></extra>",
         "legendgroup": "",
         "marker": {
          "color": "#636efa",
          "pattern": {
           "shape": ""
          }
         },
         "name": "",
         "offsetgroup": "",
         "orientation": "v",
         "showlegend": false,
         "type": "histogram",
         "x": [
          -5,
          -2,
          -3,
          0,
          -11,
          -7,
          -2,
          -4,
          -17,
          -10,
          -11,
          -6,
          -1,
          -9,
          -23,
          -2,
          -4,
          -17,
          -6,
          -12,
          0,
          -30,
          0,
          -8,
          -8,
          -4,
          -13,
          -6,
          -2,
          -13,
          0,
          -18,
          -11,
          -10,
          -7,
          -5,
          -12,
          -23,
          -13,
          -12,
          -6,
          -4,
          -5,
          -8,
          -18,
          -17,
          -5,
          -17,
          -4,
          -12,
          -35,
          -12,
          -12,
          -5,
          -5,
          -4,
          -8,
          -8,
          -10,
          -5,
          -17,
          -6,
          -10,
          -21,
          -11,
          -15,
          -9,
          -2,
          -4,
          -4,
          -19,
          -21,
          -6,
          -11,
          -12,
          -7,
          -8,
          -6,
          -2,
          0,
          -16,
          -3,
          -2,
          -7,
          -7,
          -12,
          -5,
          -14,
          -7,
          -4,
          -1,
          -6,
          -1,
          -9,
          -11,
          -6,
          -7,
          -14,
          -12,
          -15,
          -34,
          -32,
          -9,
          -6,
          -8,
          -2,
          -5,
          -7,
          -12,
          -11,
          -19,
          -12,
          -12,
          -19,
          -2,
          -1,
          -4,
          -20,
          -20,
          -9,
          -7,
          -6,
          -12,
          -15,
          -7,
          -17,
          -2,
          -11,
          -2,
          -4,
          -21,
          -6,
          -14,
          -21,
          -18,
          -11,
          -5,
          -16,
          -30,
          -16,
          -17,
          -13,
          -25,
          -5,
          -5,
          -19,
          0,
          -6,
          -13,
          -16,
          -9,
          -11,
          -19,
          -13,
          -8,
          -3,
          -9,
          -3,
          -14,
          -9,
          -7,
          -5,
          -5,
          -16,
          -12,
          -9,
          -19,
          -10,
          -6,
          -2,
          -6,
          -7,
          -8,
          -10,
          -4,
          -9,
          -7,
          -17,
          -6,
          -32,
          -35,
          -10,
          -18,
          -6,
          -2,
          -8,
          -13,
          -13,
          -7,
          -9,
          -5,
          -2,
          -6,
          -13,
          -9,
          -18,
          -2,
          -11,
          -13,
          -3,
          -14,
          -13,
          -6,
          -17,
          -7,
          -10,
          -5,
          -8,
          -6,
          -19,
          -20,
          -20,
          -16,
          -3,
          -18,
          -6,
          -19,
          0,
          -15,
          -10,
          0,
          -6,
          -38,
          -23,
          -12,
          -11,
          -11,
          0,
          -16,
          -10,
          -12,
          -8,
          -8,
          -4,
          -4,
          -11,
          -13,
          -13,
          -17,
          -18,
          -3,
          0,
          -11,
          -11,
          -15,
          -15,
          0,
          -4,
          -4,
          -6,
          -25,
          -16,
          -11,
          -8,
          -13,
          -2
         ],
         "xaxis": "x",
         "yaxis": "y"
        }
       ],
       "layout": {
        "barmode": "relative",
        "legend": {
         "tracegroupgap": 0
        },
        "template": {
         "data": {
          "bar": [
           {
            "error_x": {
             "color": "#2a3f5f"
            },
            "error_y": {
             "color": "#2a3f5f"
            },
            "marker": {
             "line": {
              "color": "#E5ECF6",
              "width": 0.5
             },
             "pattern": {
              "fillmode": "overlay",
              "size": 10,
              "solidity": 0.2
             }
            },
            "type": "bar"
           }
          ],
          "barpolar": [
           {
            "marker": {
             "line": {
              "color": "#E5ECF6",
              "width": 0.5
             },
             "pattern": {
              "fillmode": "overlay",
              "size": 10,
              "solidity": 0.2
             }
            },
            "type": "barpolar"
           }
          ],
          "carpet": [
           {
            "aaxis": {
             "endlinecolor": "#2a3f5f",
             "gridcolor": "white",
             "linecolor": "white",
             "minorgridcolor": "white",
             "startlinecolor": "#2a3f5f"
            },
            "baxis": {
             "endlinecolor": "#2a3f5f",
             "gridcolor": "white",
             "linecolor": "white",
             "minorgridcolor": "white",
             "startlinecolor": "#2a3f5f"
            },
            "type": "carpet"
           }
          ],
          "choropleth": [
           {
            "colorbar": {
             "outlinewidth": 0,
             "ticks": ""
            },
            "type": "choropleth"
           }
          ],
          "contour": [
           {
            "colorbar": {
             "outlinewidth": 0,
             "ticks": ""
            },
            "colorscale": [
             [
              0,
              "#0d0887"
             ],
             [
              0.1111111111111111,
              "#46039f"
             ],
             [
              0.2222222222222222,
              "#7201a8"
             ],
             [
              0.3333333333333333,
              "#9c179e"
             ],
             [
              0.4444444444444444,
              "#bd3786"
             ],
             [
              0.5555555555555556,
              "#d8576b"
             ],
             [
              0.6666666666666666,
              "#ed7953"
             ],
             [
              0.7777777777777778,
              "#fb9f3a"
             ],
             [
              0.8888888888888888,
              "#fdca26"
             ],
             [
              1,
              "#f0f921"
             ]
            ],
            "type": "contour"
           }
          ],
          "contourcarpet": [
           {
            "colorbar": {
             "outlinewidth": 0,
             "ticks": ""
            },
            "type": "contourcarpet"
           }
          ],
          "heatmap": [
           {
            "colorbar": {
             "outlinewidth": 0,
             "ticks": ""
            },
            "colorscale": [
             [
              0,
              "#0d0887"
             ],
             [
              0.1111111111111111,
              "#46039f"
             ],
             [
              0.2222222222222222,
              "#7201a8"
             ],
             [
              0.3333333333333333,
              "#9c179e"
             ],
             [
              0.4444444444444444,
              "#bd3786"
             ],
             [
              0.5555555555555556,
              "#d8576b"
             ],
             [
              0.6666666666666666,
              "#ed7953"
             ],
             [
              0.7777777777777778,
              "#fb9f3a"
             ],
             [
              0.8888888888888888,
              "#fdca26"
             ],
             [
              1,
              "#f0f921"
             ]
            ],
            "type": "heatmap"
           }
          ],
          "heatmapgl": [
           {
            "colorbar": {
             "outlinewidth": 0,
             "ticks": ""
            },
            "colorscale": [
             [
              0,
              "#0d0887"
             ],
             [
              0.1111111111111111,
              "#46039f"
             ],
             [
              0.2222222222222222,
              "#7201a8"
             ],
             [
              0.3333333333333333,
              "#9c179e"
             ],
             [
              0.4444444444444444,
              "#bd3786"
             ],
             [
              0.5555555555555556,
              "#d8576b"
             ],
             [
              0.6666666666666666,
              "#ed7953"
             ],
             [
              0.7777777777777778,
              "#fb9f3a"
             ],
             [
              0.8888888888888888,
              "#fdca26"
             ],
             [
              1,
              "#f0f921"
             ]
            ],
            "type": "heatmapgl"
           }
          ],
          "histogram": [
           {
            "marker": {
             "pattern": {
              "fillmode": "overlay",
              "size": 10,
              "solidity": 0.2
             }
            },
            "type": "histogram"
           }
          ],
          "histogram2d": [
           {
            "colorbar": {
             "outlinewidth": 0,
             "ticks": ""
            },
            "colorscale": [
             [
              0,
              "#0d0887"
             ],
             [
              0.1111111111111111,
              "#46039f"
             ],
             [
              0.2222222222222222,
              "#7201a8"
             ],
             [
              0.3333333333333333,
              "#9c179e"
             ],
             [
              0.4444444444444444,
              "#bd3786"
             ],
             [
              0.5555555555555556,
              "#d8576b"
             ],
             [
              0.6666666666666666,
              "#ed7953"
             ],
             [
              0.7777777777777778,
              "#fb9f3a"
             ],
             [
              0.8888888888888888,
              "#fdca26"
             ],
             [
              1,
              "#f0f921"
             ]
            ],
            "type": "histogram2d"
           }
          ],
          "histogram2dcontour": [
           {
            "colorbar": {
             "outlinewidth": 0,
             "ticks": ""
            },
            "colorscale": [
             [
              0,
              "#0d0887"
             ],
             [
              0.1111111111111111,
              "#46039f"
             ],
             [
              0.2222222222222222,
              "#7201a8"
             ],
             [
              0.3333333333333333,
              "#9c179e"
             ],
             [
              0.4444444444444444,
              "#bd3786"
             ],
             [
              0.5555555555555556,
              "#d8576b"
             ],
             [
              0.6666666666666666,
              "#ed7953"
             ],
             [
              0.7777777777777778,
              "#fb9f3a"
             ],
             [
              0.8888888888888888,
              "#fdca26"
             ],
             [
              1,
              "#f0f921"
             ]
            ],
            "type": "histogram2dcontour"
           }
          ],
          "mesh3d": [
           {
            "colorbar": {
             "outlinewidth": 0,
             "ticks": ""
            },
            "type": "mesh3d"
           }
          ],
          "parcoords": [
           {
            "line": {
             "colorbar": {
              "outlinewidth": 0,
              "ticks": ""
             }
            },
            "type": "parcoords"
           }
          ],
          "pie": [
           {
            "automargin": true,
            "type": "pie"
           }
          ],
          "scatter": [
           {
            "fillpattern": {
             "fillmode": "overlay",
             "size": 10,
             "solidity": 0.2
            },
            "type": "scatter"
           }
          ],
          "scatter3d": [
           {
            "line": {
             "colorbar": {
              "outlinewidth": 0,
              "ticks": ""
             }
            },
            "marker": {
             "colorbar": {
              "outlinewidth": 0,
              "ticks": ""
             }
            },
            "type": "scatter3d"
           }
          ],
          "scattercarpet": [
           {
            "marker": {
             "colorbar": {
              "outlinewidth": 0,
              "ticks": ""
             }
            },
            "type": "scattercarpet"
           }
          ],
          "scattergeo": [
           {
            "marker": {
             "colorbar": {
              "outlinewidth": 0,
              "ticks": ""
             }
            },
            "type": "scattergeo"
           }
          ],
          "scattergl": [
           {
            "marker": {
             "colorbar": {
              "outlinewidth": 0,
              "ticks": ""
             }
            },
            "type": "scattergl"
           }
          ],
          "scattermapbox": [
           {
            "marker": {
             "colorbar": {
              "outlinewidth": 0,
              "ticks": ""
             }
            },
            "type": "scattermapbox"
           }
          ],
          "scatterpolar": [
           {
            "marker": {
             "colorbar": {
              "outlinewidth": 0,
              "ticks": ""
             }
            },
            "type": "scatterpolar"
           }
          ],
          "scatterpolargl": [
           {
            "marker": {
             "colorbar": {
              "outlinewidth": 0,
              "ticks": ""
             }
            },
            "type": "scatterpolargl"
           }
          ],
          "scatterternary": [
           {
            "marker": {
             "colorbar": {
              "outlinewidth": 0,
              "ticks": ""
             }
            },
            "type": "scatterternary"
           }
          ],
          "surface": [
           {
            "colorbar": {
             "outlinewidth": 0,
             "ticks": ""
            },
            "colorscale": [
             [
              0,
              "#0d0887"
             ],
             [
              0.1111111111111111,
              "#46039f"
             ],
             [
              0.2222222222222222,
              "#7201a8"
             ],
             [
              0.3333333333333333,
              "#9c179e"
             ],
             [
              0.4444444444444444,
              "#bd3786"
             ],
             [
              0.5555555555555556,
              "#d8576b"
             ],
             [
              0.6666666666666666,
              "#ed7953"
             ],
             [
              0.7777777777777778,
              "#fb9f3a"
             ],
             [
              0.8888888888888888,
              "#fdca26"
             ],
             [
              1,
              "#f0f921"
             ]
            ],
            "type": "surface"
           }
          ],
          "table": [
           {
            "cells": {
             "fill": {
              "color": "#EBF0F8"
             },
             "line": {
              "color": "white"
             }
            },
            "header": {
             "fill": {
              "color": "#C8D4E3"
             },
             "line": {
              "color": "white"
             }
            },
            "type": "table"
           }
          ]
         },
         "layout": {
          "annotationdefaults": {
           "arrowcolor": "#2a3f5f",
           "arrowhead": 0,
           "arrowwidth": 1
          },
          "autotypenumbers": "strict",
          "coloraxis": {
           "colorbar": {
            "outlinewidth": 0,
            "ticks": ""
           }
          },
          "colorscale": {
           "diverging": [
            [
             0,
             "#8e0152"
            ],
            [
             0.1,
             "#c51b7d"
            ],
            [
             0.2,
             "#de77ae"
            ],
            [
             0.3,
             "#f1b6da"
            ],
            [
             0.4,
             "#fde0ef"
            ],
            [
             0.5,
             "#f7f7f7"
            ],
            [
             0.6,
             "#e6f5d0"
            ],
            [
             0.7,
             "#b8e186"
            ],
            [
             0.8,
             "#7fbc41"
            ],
            [
             0.9,
             "#4d9221"
            ],
            [
             1,
             "#276419"
            ]
           ],
           "sequential": [
            [
             0,
             "#0d0887"
            ],
            [
             0.1111111111111111,
             "#46039f"
            ],
            [
             0.2222222222222222,
             "#7201a8"
            ],
            [
             0.3333333333333333,
             "#9c179e"
            ],
            [
             0.4444444444444444,
             "#bd3786"
            ],
            [
             0.5555555555555556,
             "#d8576b"
            ],
            [
             0.6666666666666666,
             "#ed7953"
            ],
            [
             0.7777777777777778,
             "#fb9f3a"
            ],
            [
             0.8888888888888888,
             "#fdca26"
            ],
            [
             1,
             "#f0f921"
            ]
           ],
           "sequentialminus": [
            [
             0,
             "#0d0887"
            ],
            [
             0.1111111111111111,
             "#46039f"
            ],
            [
             0.2222222222222222,
             "#7201a8"
            ],
            [
             0.3333333333333333,
             "#9c179e"
            ],
            [
             0.4444444444444444,
             "#bd3786"
            ],
            [
             0.5555555555555556,
             "#d8576b"
            ],
            [
             0.6666666666666666,
             "#ed7953"
            ],
            [
             0.7777777777777778,
             "#fb9f3a"
            ],
            [
             0.8888888888888888,
             "#fdca26"
            ],
            [
             1,
             "#f0f921"
            ]
           ]
          },
          "colorway": [
           "#636efa",
           "#EF553B",
           "#00cc96",
           "#ab63fa",
           "#FFA15A",
           "#19d3f3",
           "#FF6692",
           "#B6E880",
           "#FF97FF",
           "#FECB52"
          ],
          "font": {
           "color": "#2a3f5f"
          },
          "geo": {
           "bgcolor": "white",
           "lakecolor": "white",
           "landcolor": "#E5ECF6",
           "showlakes": true,
           "showland": true,
           "subunitcolor": "white"
          },
          "hoverlabel": {
           "align": "left"
          },
          "hovermode": "closest",
          "mapbox": {
           "style": "light"
          },
          "paper_bgcolor": "white",
          "plot_bgcolor": "#E5ECF6",
          "polar": {
           "angularaxis": {
            "gridcolor": "white",
            "linecolor": "white",
            "ticks": ""
           },
           "bgcolor": "#E5ECF6",
           "radialaxis": {
            "gridcolor": "white",
            "linecolor": "white",
            "ticks": ""
           }
          },
          "scene": {
           "xaxis": {
            "backgroundcolor": "#E5ECF6",
            "gridcolor": "white",
            "gridwidth": 2,
            "linecolor": "white",
            "showbackground": true,
            "ticks": "",
            "zerolinecolor": "white"
           },
           "yaxis": {
            "backgroundcolor": "#E5ECF6",
            "gridcolor": "white",
            "gridwidth": 2,
            "linecolor": "white",
            "showbackground": true,
            "ticks": "",
            "zerolinecolor": "white"
           },
           "zaxis": {
            "backgroundcolor": "#E5ECF6",
            "gridcolor": "white",
            "gridwidth": 2,
            "linecolor": "white",
            "showbackground": true,
            "ticks": "",
            "zerolinecolor": "white"
           }
          },
          "shapedefaults": {
           "line": {
            "color": "#2a3f5f"
           }
          },
          "ternary": {
           "aaxis": {
            "gridcolor": "white",
            "linecolor": "white",
            "ticks": ""
           },
           "baxis": {
            "gridcolor": "white",
            "linecolor": "white",
            "ticks": ""
           },
           "bgcolor": "#E5ECF6",
           "caxis": {
            "gridcolor": "white",
            "linecolor": "white",
            "ticks": ""
           }
          },
          "title": {
           "x": 0.05
          },
          "xaxis": {
           "automargin": true,
           "gridcolor": "white",
           "linecolor": "white",
           "ticks": "",
           "title": {
            "standoff": 15
           },
           "zerolinecolor": "white",
           "zerolinewidth": 2
          },
          "yaxis": {
           "automargin": true,
           "gridcolor": "white",
           "linecolor": "white",
           "ticks": "",
           "title": {
            "standoff": 15
           },
           "zerolinecolor": "white",
           "zerolinewidth": 2
          }
         }
        },
        "title": {
         "text": "Distribution of FTA"
        },
        "xaxis": {
         "anchor": "y",
         "domain": [
          0,
          1
         ],
         "title": {
          "text": "FTA"
         }
        },
        "yaxis": {
         "anchor": "x",
         "domain": [
          0,
          1
         ],
         "title": {
          "text": "count"
         }
        }
       }
      }
     },
     "metadata": {},
     "output_type": "display_data"
    },
    {
     "data": {
      "application/vnd.plotly.v1+json": {
       "config": {
        "plotlyServerURL": "https://plot.ly"
       },
       "data": [
        {
         "alignmentgroup": "True",
         "bingroup": "x",
         "hovertemplate": "Fantasy Points=%{x}<br>count=%{y}<extra></extra>",
         "legendgroup": "",
         "marker": {
          "color": "#636efa",
          "pattern": {
           "shape": ""
          }
         },
         "name": "",
         "offsetgroup": "",
         "orientation": "v",
         "showlegend": false,
         "type": "histogram",
         "x": [
          37,
          28,
          110,
          30,
          47,
          77,
          24,
          107,
          67,
          131,
          88,
          109,
          99,
          103,
          169,
          26,
          54,
          52,
          135,
          126,
          32,
          103,
          12,
          85,
          158,
          65,
          121,
          126,
          100,
          238,
          6,
          51,
          131,
          76,
          80,
          82,
          118,
          87,
          122,
          136,
          41,
          115,
          106,
          103,
          117,
          112,
          81,
          101,
          101,
          90,
          177,
          90,
          104,
          79,
          80,
          129,
          118,
          153,
          89,
          70,
          140,
          64,
          55,
          141,
          136,
          144,
          133,
          103,
          82,
          126,
          204,
          136,
          103,
          120,
          81,
          67,
          100,
          158,
          55,
          12,
          153,
          147,
          38,
          65,
          85,
          94,
          31,
          99,
          103,
          79,
          32,
          74,
          76,
          77,
          118,
          135,
          117,
          134,
          125,
          132,
          189,
          240,
          156,
          119,
          80,
          56,
          110,
          99,
          175,
          175,
          152,
          139,
          200,
          62,
          112,
          101,
          93,
          120,
          148,
          109,
          228,
          135,
          116,
          111,
          139,
          100,
          85,
          112,
          99,
          34,
          104,
          38,
          250,
          190,
          105,
          76,
          120,
          124,
          146,
          98,
          193,
          141,
          199,
          71,
          49,
          173,
          19,
          55,
          86,
          94,
          116,
          85,
          131,
          213,
          117,
          105,
          111,
          111,
          95,
          55,
          135,
          32,
          120,
          74,
          151,
          38,
          111,
          67,
          164,
          36,
          105,
          131,
          50,
          131,
          39,
          80,
          103,
          155,
          92,
          234,
          149,
          84,
          134,
          169,
          26,
          147,
          110,
          128,
          130,
          179,
          69,
          35,
          141,
          111,
          142,
          141,
          105,
          122,
          242,
          75,
          186,
          120,
          126,
          140,
          64,
          160,
          71,
          99,
          60,
          94,
          136,
          98,
          138,
          74,
          149,
          206,
          143,
          26,
          145,
          159,
          98,
          146,
          186,
          183,
          146,
          176,
          127,
          56,
          80,
          103,
          100,
          133,
          77,
          161,
          51,
          88,
          95,
          136,
          147,
          126,
          119,
          21,
          187,
          134,
          89,
          125,
          83,
          56,
          89,
          66,
          220,
          194,
          140,
          85,
          157,
          20
         ],
         "xaxis": "x",
         "yaxis": "y"
        }
       ],
       "layout": {
        "barmode": "relative",
        "legend": {
         "tracegroupgap": 0
        },
        "template": {
         "data": {
          "bar": [
           {
            "error_x": {
             "color": "#2a3f5f"
            },
            "error_y": {
             "color": "#2a3f5f"
            },
            "marker": {
             "line": {
              "color": "#E5ECF6",
              "width": 0.5
             },
             "pattern": {
              "fillmode": "overlay",
              "size": 10,
              "solidity": 0.2
             }
            },
            "type": "bar"
           }
          ],
          "barpolar": [
           {
            "marker": {
             "line": {
              "color": "#E5ECF6",
              "width": 0.5
             },
             "pattern": {
              "fillmode": "overlay",
              "size": 10,
              "solidity": 0.2
             }
            },
            "type": "barpolar"
           }
          ],
          "carpet": [
           {
            "aaxis": {
             "endlinecolor": "#2a3f5f",
             "gridcolor": "white",
             "linecolor": "white",
             "minorgridcolor": "white",
             "startlinecolor": "#2a3f5f"
            },
            "baxis": {
             "endlinecolor": "#2a3f5f",
             "gridcolor": "white",
             "linecolor": "white",
             "minorgridcolor": "white",
             "startlinecolor": "#2a3f5f"
            },
            "type": "carpet"
           }
          ],
          "choropleth": [
           {
            "colorbar": {
             "outlinewidth": 0,
             "ticks": ""
            },
            "type": "choropleth"
           }
          ],
          "contour": [
           {
            "colorbar": {
             "outlinewidth": 0,
             "ticks": ""
            },
            "colorscale": [
             [
              0,
              "#0d0887"
             ],
             [
              0.1111111111111111,
              "#46039f"
             ],
             [
              0.2222222222222222,
              "#7201a8"
             ],
             [
              0.3333333333333333,
              "#9c179e"
             ],
             [
              0.4444444444444444,
              "#bd3786"
             ],
             [
              0.5555555555555556,
              "#d8576b"
             ],
             [
              0.6666666666666666,
              "#ed7953"
             ],
             [
              0.7777777777777778,
              "#fb9f3a"
             ],
             [
              0.8888888888888888,
              "#fdca26"
             ],
             [
              1,
              "#f0f921"
             ]
            ],
            "type": "contour"
           }
          ],
          "contourcarpet": [
           {
            "colorbar": {
             "outlinewidth": 0,
             "ticks": ""
            },
            "type": "contourcarpet"
           }
          ],
          "heatmap": [
           {
            "colorbar": {
             "outlinewidth": 0,
             "ticks": ""
            },
            "colorscale": [
             [
              0,
              "#0d0887"
             ],
             [
              0.1111111111111111,
              "#46039f"
             ],
             [
              0.2222222222222222,
              "#7201a8"
             ],
             [
              0.3333333333333333,
              "#9c179e"
             ],
             [
              0.4444444444444444,
              "#bd3786"
             ],
             [
              0.5555555555555556,
              "#d8576b"
             ],
             [
              0.6666666666666666,
              "#ed7953"
             ],
             [
              0.7777777777777778,
              "#fb9f3a"
             ],
             [
              0.8888888888888888,
              "#fdca26"
             ],
             [
              1,
              "#f0f921"
             ]
            ],
            "type": "heatmap"
           }
          ],
          "heatmapgl": [
           {
            "colorbar": {
             "outlinewidth": 0,
             "ticks": ""
            },
            "colorscale": [
             [
              0,
              "#0d0887"
             ],
             [
              0.1111111111111111,
              "#46039f"
             ],
             [
              0.2222222222222222,
              "#7201a8"
             ],
             [
              0.3333333333333333,
              "#9c179e"
             ],
             [
              0.4444444444444444,
              "#bd3786"
             ],
             [
              0.5555555555555556,
              "#d8576b"
             ],
             [
              0.6666666666666666,
              "#ed7953"
             ],
             [
              0.7777777777777778,
              "#fb9f3a"
             ],
             [
              0.8888888888888888,
              "#fdca26"
             ],
             [
              1,
              "#f0f921"
             ]
            ],
            "type": "heatmapgl"
           }
          ],
          "histogram": [
           {
            "marker": {
             "pattern": {
              "fillmode": "overlay",
              "size": 10,
              "solidity": 0.2
             }
            },
            "type": "histogram"
           }
          ],
          "histogram2d": [
           {
            "colorbar": {
             "outlinewidth": 0,
             "ticks": ""
            },
            "colorscale": [
             [
              0,
              "#0d0887"
             ],
             [
              0.1111111111111111,
              "#46039f"
             ],
             [
              0.2222222222222222,
              "#7201a8"
             ],
             [
              0.3333333333333333,
              "#9c179e"
             ],
             [
              0.4444444444444444,
              "#bd3786"
             ],
             [
              0.5555555555555556,
              "#d8576b"
             ],
             [
              0.6666666666666666,
              "#ed7953"
             ],
             [
              0.7777777777777778,
              "#fb9f3a"
             ],
             [
              0.8888888888888888,
              "#fdca26"
             ],
             [
              1,
              "#f0f921"
             ]
            ],
            "type": "histogram2d"
           }
          ],
          "histogram2dcontour": [
           {
            "colorbar": {
             "outlinewidth": 0,
             "ticks": ""
            },
            "colorscale": [
             [
              0,
              "#0d0887"
             ],
             [
              0.1111111111111111,
              "#46039f"
             ],
             [
              0.2222222222222222,
              "#7201a8"
             ],
             [
              0.3333333333333333,
              "#9c179e"
             ],
             [
              0.4444444444444444,
              "#bd3786"
             ],
             [
              0.5555555555555556,
              "#d8576b"
             ],
             [
              0.6666666666666666,
              "#ed7953"
             ],
             [
              0.7777777777777778,
              "#fb9f3a"
             ],
             [
              0.8888888888888888,
              "#fdca26"
             ],
             [
              1,
              "#f0f921"
             ]
            ],
            "type": "histogram2dcontour"
           }
          ],
          "mesh3d": [
           {
            "colorbar": {
             "outlinewidth": 0,
             "ticks": ""
            },
            "type": "mesh3d"
           }
          ],
          "parcoords": [
           {
            "line": {
             "colorbar": {
              "outlinewidth": 0,
              "ticks": ""
             }
            },
            "type": "parcoords"
           }
          ],
          "pie": [
           {
            "automargin": true,
            "type": "pie"
           }
          ],
          "scatter": [
           {
            "fillpattern": {
             "fillmode": "overlay",
             "size": 10,
             "solidity": 0.2
            },
            "type": "scatter"
           }
          ],
          "scatter3d": [
           {
            "line": {
             "colorbar": {
              "outlinewidth": 0,
              "ticks": ""
             }
            },
            "marker": {
             "colorbar": {
              "outlinewidth": 0,
              "ticks": ""
             }
            },
            "type": "scatter3d"
           }
          ],
          "scattercarpet": [
           {
            "marker": {
             "colorbar": {
              "outlinewidth": 0,
              "ticks": ""
             }
            },
            "type": "scattercarpet"
           }
          ],
          "scattergeo": [
           {
            "marker": {
             "colorbar": {
              "outlinewidth": 0,
              "ticks": ""
             }
            },
            "type": "scattergeo"
           }
          ],
          "scattergl": [
           {
            "marker": {
             "colorbar": {
              "outlinewidth": 0,
              "ticks": ""
             }
            },
            "type": "scattergl"
           }
          ],
          "scattermapbox": [
           {
            "marker": {
             "colorbar": {
              "outlinewidth": 0,
              "ticks": ""
             }
            },
            "type": "scattermapbox"
           }
          ],
          "scatterpolar": [
           {
            "marker": {
             "colorbar": {
              "outlinewidth": 0,
              "ticks": ""
             }
            },
            "type": "scatterpolar"
           }
          ],
          "scatterpolargl": [
           {
            "marker": {
             "colorbar": {
              "outlinewidth": 0,
              "ticks": ""
             }
            },
            "type": "scatterpolargl"
           }
          ],
          "scatterternary": [
           {
            "marker": {
             "colorbar": {
              "outlinewidth": 0,
              "ticks": ""
             }
            },
            "type": "scatterternary"
           }
          ],
          "surface": [
           {
            "colorbar": {
             "outlinewidth": 0,
             "ticks": ""
            },
            "colorscale": [
             [
              0,
              "#0d0887"
             ],
             [
              0.1111111111111111,
              "#46039f"
             ],
             [
              0.2222222222222222,
              "#7201a8"
             ],
             [
              0.3333333333333333,
              "#9c179e"
             ],
             [
              0.4444444444444444,
              "#bd3786"
             ],
             [
              0.5555555555555556,
              "#d8576b"
             ],
             [
              0.6666666666666666,
              "#ed7953"
             ],
             [
              0.7777777777777778,
              "#fb9f3a"
             ],
             [
              0.8888888888888888,
              "#fdca26"
             ],
             [
              1,
              "#f0f921"
             ]
            ],
            "type": "surface"
           }
          ],
          "table": [
           {
            "cells": {
             "fill": {
              "color": "#EBF0F8"
             },
             "line": {
              "color": "white"
             }
            },
            "header": {
             "fill": {
              "color": "#C8D4E3"
             },
             "line": {
              "color": "white"
             }
            },
            "type": "table"
           }
          ]
         },
         "layout": {
          "annotationdefaults": {
           "arrowcolor": "#2a3f5f",
           "arrowhead": 0,
           "arrowwidth": 1
          },
          "autotypenumbers": "strict",
          "coloraxis": {
           "colorbar": {
            "outlinewidth": 0,
            "ticks": ""
           }
          },
          "colorscale": {
           "diverging": [
            [
             0,
             "#8e0152"
            ],
            [
             0.1,
             "#c51b7d"
            ],
            [
             0.2,
             "#de77ae"
            ],
            [
             0.3,
             "#f1b6da"
            ],
            [
             0.4,
             "#fde0ef"
            ],
            [
             0.5,
             "#f7f7f7"
            ],
            [
             0.6,
             "#e6f5d0"
            ],
            [
             0.7,
             "#b8e186"
            ],
            [
             0.8,
             "#7fbc41"
            ],
            [
             0.9,
             "#4d9221"
            ],
            [
             1,
             "#276419"
            ]
           ],
           "sequential": [
            [
             0,
             "#0d0887"
            ],
            [
             0.1111111111111111,
             "#46039f"
            ],
            [
             0.2222222222222222,
             "#7201a8"
            ],
            [
             0.3333333333333333,
             "#9c179e"
            ],
            [
             0.4444444444444444,
             "#bd3786"
            ],
            [
             0.5555555555555556,
             "#d8576b"
            ],
            [
             0.6666666666666666,
             "#ed7953"
            ],
            [
             0.7777777777777778,
             "#fb9f3a"
            ],
            [
             0.8888888888888888,
             "#fdca26"
            ],
            [
             1,
             "#f0f921"
            ]
           ],
           "sequentialminus": [
            [
             0,
             "#0d0887"
            ],
            [
             0.1111111111111111,
             "#46039f"
            ],
            [
             0.2222222222222222,
             "#7201a8"
            ],
            [
             0.3333333333333333,
             "#9c179e"
            ],
            [
             0.4444444444444444,
             "#bd3786"
            ],
            [
             0.5555555555555556,
             "#d8576b"
            ],
            [
             0.6666666666666666,
             "#ed7953"
            ],
            [
             0.7777777777777778,
             "#fb9f3a"
            ],
            [
             0.8888888888888888,
             "#fdca26"
            ],
            [
             1,
             "#f0f921"
            ]
           ]
          },
          "colorway": [
           "#636efa",
           "#EF553B",
           "#00cc96",
           "#ab63fa",
           "#FFA15A",
           "#19d3f3",
           "#FF6692",
           "#B6E880",
           "#FF97FF",
           "#FECB52"
          ],
          "font": {
           "color": "#2a3f5f"
          },
          "geo": {
           "bgcolor": "white",
           "lakecolor": "white",
           "landcolor": "#E5ECF6",
           "showlakes": true,
           "showland": true,
           "subunitcolor": "white"
          },
          "hoverlabel": {
           "align": "left"
          },
          "hovermode": "closest",
          "mapbox": {
           "style": "light"
          },
          "paper_bgcolor": "white",
          "plot_bgcolor": "#E5ECF6",
          "polar": {
           "angularaxis": {
            "gridcolor": "white",
            "linecolor": "white",
            "ticks": ""
           },
           "bgcolor": "#E5ECF6",
           "radialaxis": {
            "gridcolor": "white",
            "linecolor": "white",
            "ticks": ""
           }
          },
          "scene": {
           "xaxis": {
            "backgroundcolor": "#E5ECF6",
            "gridcolor": "white",
            "gridwidth": 2,
            "linecolor": "white",
            "showbackground": true,
            "ticks": "",
            "zerolinecolor": "white"
           },
           "yaxis": {
            "backgroundcolor": "#E5ECF6",
            "gridcolor": "white",
            "gridwidth": 2,
            "linecolor": "white",
            "showbackground": true,
            "ticks": "",
            "zerolinecolor": "white"
           },
           "zaxis": {
            "backgroundcolor": "#E5ECF6",
            "gridcolor": "white",
            "gridwidth": 2,
            "linecolor": "white",
            "showbackground": true,
            "ticks": "",
            "zerolinecolor": "white"
           }
          },
          "shapedefaults": {
           "line": {
            "color": "#2a3f5f"
           }
          },
          "ternary": {
           "aaxis": {
            "gridcolor": "white",
            "linecolor": "white",
            "ticks": ""
           },
           "baxis": {
            "gridcolor": "white",
            "linecolor": "white",
            "ticks": ""
           },
           "bgcolor": "#E5ECF6",
           "caxis": {
            "gridcolor": "white",
            "linecolor": "white",
            "ticks": ""
           }
          },
          "title": {
           "x": 0.05
          },
          "xaxis": {
           "automargin": true,
           "gridcolor": "white",
           "linecolor": "white",
           "ticks": "",
           "title": {
            "standoff": 15
           },
           "zerolinecolor": "white",
           "zerolinewidth": 2
          },
          "yaxis": {
           "automargin": true,
           "gridcolor": "white",
           "linecolor": "white",
           "ticks": "",
           "title": {
            "standoff": 15
           },
           "zerolinecolor": "white",
           "zerolinewidth": 2
          }
         }
        },
        "title": {
         "text": "Distribution of Fantasy Points"
        },
        "xaxis": {
         "anchor": "y",
         "domain": [
          0,
          1
         ],
         "title": {
          "text": "Fantasy Points"
         }
        },
        "yaxis": {
         "anchor": "x",
         "domain": [
          0,
          1
         ],
         "title": {
          "text": "count"
         }
        }
       }
      }
     },
     "metadata": {},
     "output_type": "display_data"
    },
    {
     "data": {
      "application/vnd.plotly.v1+json": {
       "config": {
        "plotlyServerURL": "https://plot.ly"
       },
       "data": [
        {
         "alignmentgroup": "True",
         "bingroup": "x",
         "hovertemplate": "Weekly Contribution Percentage=%{x}<br>count=%{y}<extra></extra>",
         "legendgroup": "",
         "marker": {
          "color": "#636efa",
          "pattern": {
           "shape": ""
          }
         },
         "name": "",
         "offsetgroup": "",
         "orientation": "v",
         "showlegend": false,
         "type": "histogram",
         "x": [
          3.5,
          2.65,
          10.41,
          2.84,
          4.45,
          7.28,
          2.27,
          10.12,
          6.34,
          12.39,
          8.33,
          10.31,
          9.37,
          9.74,
          12.39,
          1.91,
          3.96,
          3.81,
          9.9,
          9.24,
          2.35,
          7.55,
          0.88,
          6.23,
          11.58,
          4.77,
          8.87,
          9.24,
          7.33,
          17.13,
          0.43,
          3.67,
          9.43,
          5.47,
          5.76,
          5.9,
          8.5,
          6.26,
          8.78,
          9.79,
          2.95,
          8.28,
          7.63,
          7.55,
          8.58,
          8.21,
          5.94,
          7.4,
          7.4,
          6.6,
          12.98,
          6.6,
          7.62,
          5.79,
          5.87,
          9.46,
          8.26,
          10.71,
          6.23,
          4.9,
          9.8,
          4.48,
          3.85,
          9.87,
          9.52,
          10.08,
          9.31,
          7.21,
          5.74,
          9.58,
          15.51,
          10.34,
          7.83,
          9.13,
          6.16,
          5.1,
          7.6,
          12.02,
          4.18,
          0.91,
          11.63,
          14.7,
          3.8,
          6.5,
          8.5,
          9.4,
          3.1,
          9.9,
          10.3,
          7.9,
          3.2,
          7.4,
          7.6,
          7.7,
          6.9,
          7.89,
          6.84,
          7.83,
          7.31,
          7.71,
          11.05,
          14.03,
          9.12,
          6.95,
          4.68,
          3.27,
          6.43,
          6.28,
          11.1,
          11.1,
          9.64,
          8.82,
          12.69,
          3.93,
          7.11,
          6.41,
          5.9,
          7.61,
          9.39,
          7.94,
          16.62,
          9.84,
          8.45,
          8.09,
          10.13,
          7.29,
          6.2,
          8.16,
          7.22,
          2.48,
          7.58,
          2.11,
          13.89,
          10.56,
          5.83,
          4.22,
          6.67,
          6.89,
          8.11,
          5.44,
          10.72,
          7.83,
          11.06,
          3.94,
          2.72,
          12.22,
          1.34,
          3.88,
          6.07,
          6.64,
          8.19,
          6,
          9.25,
          15.04,
          8.26,
          7.42,
          7.84,
          7.84,
          6.96,
          4.03,
          9.9,
          2.35,
          8.8,
          5.43,
          11.07,
          2.79,
          8.14,
          4.91,
          12.02,
          2.64,
          7.7,
          9.6,
          3.67,
          7.92,
          2.36,
          4.84,
          6.23,
          9.38,
          5.57,
          14.16,
          9.01,
          5.08,
          8.11,
          10.22,
          1.57,
          8.89,
          6.65,
          7.09,
          7.2,
          9.91,
          3.82,
          1.94,
          7.81,
          6.15,
          7.86,
          7.81,
          5.81,
          6.76,
          13.4,
          4.15,
          10.3,
          8.7,
          9.13,
          10.14,
          4.64,
          11.59,
          5.14,
          7.17,
          4.35,
          6.81,
          9.86,
          7.1,
          10,
          5.36,
          7.66,
          10.59,
          7.35,
          1.34,
          7.45,
          8.17,
          5.04,
          7.5,
          9.56,
          9.4,
          7.5,
          9.04,
          6.53,
          2.88,
          5.57,
          7.17,
          6.96,
          9.26,
          5.36,
          11.2,
          3.55,
          6.12,
          6.61,
          9.46,
          10.23,
          8.77,
          8.28,
          1.46,
          11.37,
          8.15,
          5.41,
          7.6,
          5.05,
          3.4,
          5.41,
          4.01,
          13.37,
          11.79,
          8.51,
          5.17,
          9.54,
          1.22
         ],
         "xaxis": "x",
         "yaxis": "y"
        }
       ],
       "layout": {
        "barmode": "relative",
        "legend": {
         "tracegroupgap": 0
        },
        "template": {
         "data": {
          "bar": [
           {
            "error_x": {
             "color": "#2a3f5f"
            },
            "error_y": {
             "color": "#2a3f5f"
            },
            "marker": {
             "line": {
              "color": "#E5ECF6",
              "width": 0.5
             },
             "pattern": {
              "fillmode": "overlay",
              "size": 10,
              "solidity": 0.2
             }
            },
            "type": "bar"
           }
          ],
          "barpolar": [
           {
            "marker": {
             "line": {
              "color": "#E5ECF6",
              "width": 0.5
             },
             "pattern": {
              "fillmode": "overlay",
              "size": 10,
              "solidity": 0.2
             }
            },
            "type": "barpolar"
           }
          ],
          "carpet": [
           {
            "aaxis": {
             "endlinecolor": "#2a3f5f",
             "gridcolor": "white",
             "linecolor": "white",
             "minorgridcolor": "white",
             "startlinecolor": "#2a3f5f"
            },
            "baxis": {
             "endlinecolor": "#2a3f5f",
             "gridcolor": "white",
             "linecolor": "white",
             "minorgridcolor": "white",
             "startlinecolor": "#2a3f5f"
            },
            "type": "carpet"
           }
          ],
          "choropleth": [
           {
            "colorbar": {
             "outlinewidth": 0,
             "ticks": ""
            },
            "type": "choropleth"
           }
          ],
          "contour": [
           {
            "colorbar": {
             "outlinewidth": 0,
             "ticks": ""
            },
            "colorscale": [
             [
              0,
              "#0d0887"
             ],
             [
              0.1111111111111111,
              "#46039f"
             ],
             [
              0.2222222222222222,
              "#7201a8"
             ],
             [
              0.3333333333333333,
              "#9c179e"
             ],
             [
              0.4444444444444444,
              "#bd3786"
             ],
             [
              0.5555555555555556,
              "#d8576b"
             ],
             [
              0.6666666666666666,
              "#ed7953"
             ],
             [
              0.7777777777777778,
              "#fb9f3a"
             ],
             [
              0.8888888888888888,
              "#fdca26"
             ],
             [
              1,
              "#f0f921"
             ]
            ],
            "type": "contour"
           }
          ],
          "contourcarpet": [
           {
            "colorbar": {
             "outlinewidth": 0,
             "ticks": ""
            },
            "type": "contourcarpet"
           }
          ],
          "heatmap": [
           {
            "colorbar": {
             "outlinewidth": 0,
             "ticks": ""
            },
            "colorscale": [
             [
              0,
              "#0d0887"
             ],
             [
              0.1111111111111111,
              "#46039f"
             ],
             [
              0.2222222222222222,
              "#7201a8"
             ],
             [
              0.3333333333333333,
              "#9c179e"
             ],
             [
              0.4444444444444444,
              "#bd3786"
             ],
             [
              0.5555555555555556,
              "#d8576b"
             ],
             [
              0.6666666666666666,
              "#ed7953"
             ],
             [
              0.7777777777777778,
              "#fb9f3a"
             ],
             [
              0.8888888888888888,
              "#fdca26"
             ],
             [
              1,
              "#f0f921"
             ]
            ],
            "type": "heatmap"
           }
          ],
          "heatmapgl": [
           {
            "colorbar": {
             "outlinewidth": 0,
             "ticks": ""
            },
            "colorscale": [
             [
              0,
              "#0d0887"
             ],
             [
              0.1111111111111111,
              "#46039f"
             ],
             [
              0.2222222222222222,
              "#7201a8"
             ],
             [
              0.3333333333333333,
              "#9c179e"
             ],
             [
              0.4444444444444444,
              "#bd3786"
             ],
             [
              0.5555555555555556,
              "#d8576b"
             ],
             [
              0.6666666666666666,
              "#ed7953"
             ],
             [
              0.7777777777777778,
              "#fb9f3a"
             ],
             [
              0.8888888888888888,
              "#fdca26"
             ],
             [
              1,
              "#f0f921"
             ]
            ],
            "type": "heatmapgl"
           }
          ],
          "histogram": [
           {
            "marker": {
             "pattern": {
              "fillmode": "overlay",
              "size": 10,
              "solidity": 0.2
             }
            },
            "type": "histogram"
           }
          ],
          "histogram2d": [
           {
            "colorbar": {
             "outlinewidth": 0,
             "ticks": ""
            },
            "colorscale": [
             [
              0,
              "#0d0887"
             ],
             [
              0.1111111111111111,
              "#46039f"
             ],
             [
              0.2222222222222222,
              "#7201a8"
             ],
             [
              0.3333333333333333,
              "#9c179e"
             ],
             [
              0.4444444444444444,
              "#bd3786"
             ],
             [
              0.5555555555555556,
              "#d8576b"
             ],
             [
              0.6666666666666666,
              "#ed7953"
             ],
             [
              0.7777777777777778,
              "#fb9f3a"
             ],
             [
              0.8888888888888888,
              "#fdca26"
             ],
             [
              1,
              "#f0f921"
             ]
            ],
            "type": "histogram2d"
           }
          ],
          "histogram2dcontour": [
           {
            "colorbar": {
             "outlinewidth": 0,
             "ticks": ""
            },
            "colorscale": [
             [
              0,
              "#0d0887"
             ],
             [
              0.1111111111111111,
              "#46039f"
             ],
             [
              0.2222222222222222,
              "#7201a8"
             ],
             [
              0.3333333333333333,
              "#9c179e"
             ],
             [
              0.4444444444444444,
              "#bd3786"
             ],
             [
              0.5555555555555556,
              "#d8576b"
             ],
             [
              0.6666666666666666,
              "#ed7953"
             ],
             [
              0.7777777777777778,
              "#fb9f3a"
             ],
             [
              0.8888888888888888,
              "#fdca26"
             ],
             [
              1,
              "#f0f921"
             ]
            ],
            "type": "histogram2dcontour"
           }
          ],
          "mesh3d": [
           {
            "colorbar": {
             "outlinewidth": 0,
             "ticks": ""
            },
            "type": "mesh3d"
           }
          ],
          "parcoords": [
           {
            "line": {
             "colorbar": {
              "outlinewidth": 0,
              "ticks": ""
             }
            },
            "type": "parcoords"
           }
          ],
          "pie": [
           {
            "automargin": true,
            "type": "pie"
           }
          ],
          "scatter": [
           {
            "fillpattern": {
             "fillmode": "overlay",
             "size": 10,
             "solidity": 0.2
            },
            "type": "scatter"
           }
          ],
          "scatter3d": [
           {
            "line": {
             "colorbar": {
              "outlinewidth": 0,
              "ticks": ""
             }
            },
            "marker": {
             "colorbar": {
              "outlinewidth": 0,
              "ticks": ""
             }
            },
            "type": "scatter3d"
           }
          ],
          "scattercarpet": [
           {
            "marker": {
             "colorbar": {
              "outlinewidth": 0,
              "ticks": ""
             }
            },
            "type": "scattercarpet"
           }
          ],
          "scattergeo": [
           {
            "marker": {
             "colorbar": {
              "outlinewidth": 0,
              "ticks": ""
             }
            },
            "type": "scattergeo"
           }
          ],
          "scattergl": [
           {
            "marker": {
             "colorbar": {
              "outlinewidth": 0,
              "ticks": ""
             }
            },
            "type": "scattergl"
           }
          ],
          "scattermapbox": [
           {
            "marker": {
             "colorbar": {
              "outlinewidth": 0,
              "ticks": ""
             }
            },
            "type": "scattermapbox"
           }
          ],
          "scatterpolar": [
           {
            "marker": {
             "colorbar": {
              "outlinewidth": 0,
              "ticks": ""
             }
            },
            "type": "scatterpolar"
           }
          ],
          "scatterpolargl": [
           {
            "marker": {
             "colorbar": {
              "outlinewidth": 0,
              "ticks": ""
             }
            },
            "type": "scatterpolargl"
           }
          ],
          "scatterternary": [
           {
            "marker": {
             "colorbar": {
              "outlinewidth": 0,
              "ticks": ""
             }
            },
            "type": "scatterternary"
           }
          ],
          "surface": [
           {
            "colorbar": {
             "outlinewidth": 0,
             "ticks": ""
            },
            "colorscale": [
             [
              0,
              "#0d0887"
             ],
             [
              0.1111111111111111,
              "#46039f"
             ],
             [
              0.2222222222222222,
              "#7201a8"
             ],
             [
              0.3333333333333333,
              "#9c179e"
             ],
             [
              0.4444444444444444,
              "#bd3786"
             ],
             [
              0.5555555555555556,
              "#d8576b"
             ],
             [
              0.6666666666666666,
              "#ed7953"
             ],
             [
              0.7777777777777778,
              "#fb9f3a"
             ],
             [
              0.8888888888888888,
              "#fdca26"
             ],
             [
              1,
              "#f0f921"
             ]
            ],
            "type": "surface"
           }
          ],
          "table": [
           {
            "cells": {
             "fill": {
              "color": "#EBF0F8"
             },
             "line": {
              "color": "white"
             }
            },
            "header": {
             "fill": {
              "color": "#C8D4E3"
             },
             "line": {
              "color": "white"
             }
            },
            "type": "table"
           }
          ]
         },
         "layout": {
          "annotationdefaults": {
           "arrowcolor": "#2a3f5f",
           "arrowhead": 0,
           "arrowwidth": 1
          },
          "autotypenumbers": "strict",
          "coloraxis": {
           "colorbar": {
            "outlinewidth": 0,
            "ticks": ""
           }
          },
          "colorscale": {
           "diverging": [
            [
             0,
             "#8e0152"
            ],
            [
             0.1,
             "#c51b7d"
            ],
            [
             0.2,
             "#de77ae"
            ],
            [
             0.3,
             "#f1b6da"
            ],
            [
             0.4,
             "#fde0ef"
            ],
            [
             0.5,
             "#f7f7f7"
            ],
            [
             0.6,
             "#e6f5d0"
            ],
            [
             0.7,
             "#b8e186"
            ],
            [
             0.8,
             "#7fbc41"
            ],
            [
             0.9,
             "#4d9221"
            ],
            [
             1,
             "#276419"
            ]
           ],
           "sequential": [
            [
             0,
             "#0d0887"
            ],
            [
             0.1111111111111111,
             "#46039f"
            ],
            [
             0.2222222222222222,
             "#7201a8"
            ],
            [
             0.3333333333333333,
             "#9c179e"
            ],
            [
             0.4444444444444444,
             "#bd3786"
            ],
            [
             0.5555555555555556,
             "#d8576b"
            ],
            [
             0.6666666666666666,
             "#ed7953"
            ],
            [
             0.7777777777777778,
             "#fb9f3a"
            ],
            [
             0.8888888888888888,
             "#fdca26"
            ],
            [
             1,
             "#f0f921"
            ]
           ],
           "sequentialminus": [
            [
             0,
             "#0d0887"
            ],
            [
             0.1111111111111111,
             "#46039f"
            ],
            [
             0.2222222222222222,
             "#7201a8"
            ],
            [
             0.3333333333333333,
             "#9c179e"
            ],
            [
             0.4444444444444444,
             "#bd3786"
            ],
            [
             0.5555555555555556,
             "#d8576b"
            ],
            [
             0.6666666666666666,
             "#ed7953"
            ],
            [
             0.7777777777777778,
             "#fb9f3a"
            ],
            [
             0.8888888888888888,
             "#fdca26"
            ],
            [
             1,
             "#f0f921"
            ]
           ]
          },
          "colorway": [
           "#636efa",
           "#EF553B",
           "#00cc96",
           "#ab63fa",
           "#FFA15A",
           "#19d3f3",
           "#FF6692",
           "#B6E880",
           "#FF97FF",
           "#FECB52"
          ],
          "font": {
           "color": "#2a3f5f"
          },
          "geo": {
           "bgcolor": "white",
           "lakecolor": "white",
           "landcolor": "#E5ECF6",
           "showlakes": true,
           "showland": true,
           "subunitcolor": "white"
          },
          "hoverlabel": {
           "align": "left"
          },
          "hovermode": "closest",
          "mapbox": {
           "style": "light"
          },
          "paper_bgcolor": "white",
          "plot_bgcolor": "#E5ECF6",
          "polar": {
           "angularaxis": {
            "gridcolor": "white",
            "linecolor": "white",
            "ticks": ""
           },
           "bgcolor": "#E5ECF6",
           "radialaxis": {
            "gridcolor": "white",
            "linecolor": "white",
            "ticks": ""
           }
          },
          "scene": {
           "xaxis": {
            "backgroundcolor": "#E5ECF6",
            "gridcolor": "white",
            "gridwidth": 2,
            "linecolor": "white",
            "showbackground": true,
            "ticks": "",
            "zerolinecolor": "white"
           },
           "yaxis": {
            "backgroundcolor": "#E5ECF6",
            "gridcolor": "white",
            "gridwidth": 2,
            "linecolor": "white",
            "showbackground": true,
            "ticks": "",
            "zerolinecolor": "white"
           },
           "zaxis": {
            "backgroundcolor": "#E5ECF6",
            "gridcolor": "white",
            "gridwidth": 2,
            "linecolor": "white",
            "showbackground": true,
            "ticks": "",
            "zerolinecolor": "white"
           }
          },
          "shapedefaults": {
           "line": {
            "color": "#2a3f5f"
           }
          },
          "ternary": {
           "aaxis": {
            "gridcolor": "white",
            "linecolor": "white",
            "ticks": ""
           },
           "baxis": {
            "gridcolor": "white",
            "linecolor": "white",
            "ticks": ""
           },
           "bgcolor": "#E5ECF6",
           "caxis": {
            "gridcolor": "white",
            "linecolor": "white",
            "ticks": ""
           }
          },
          "title": {
           "x": 0.05
          },
          "xaxis": {
           "automargin": true,
           "gridcolor": "white",
           "linecolor": "white",
           "ticks": "",
           "title": {
            "standoff": 15
           },
           "zerolinecolor": "white",
           "zerolinewidth": 2
          },
          "yaxis": {
           "automargin": true,
           "gridcolor": "white",
           "linecolor": "white",
           "ticks": "",
           "title": {
            "standoff": 15
           },
           "zerolinecolor": "white",
           "zerolinewidth": 2
          }
         }
        },
        "title": {
         "text": "Distribution of Weekly Contribution Percentage"
        },
        "xaxis": {
         "anchor": "y",
         "domain": [
          0,
          1
         ],
         "title": {
          "text": "Weekly Contribution Percentage"
         }
        },
        "yaxis": {
         "anchor": "x",
         "domain": [
          0,
          1
         ],
         "title": {
          "text": "count"
         }
        }
       }
      }
     },
     "metadata": {},
     "output_type": "display_data"
    }
   ],
   "source": [
    "# Visualize distributions of continuous variables\n",
    "continuous_vars = ['TO', 'REB', 'BLK', 'AST', 'FTM', 'STL', 'PTS', '3PTM', 'FGA', 'FGM', 'FTA', 'Fantasy Points', 'Weekly Contribution Percentage']\n",
    "\n",
    "# Plot histograms for continuous variables\n",
    "for var in continuous_vars:\n",
    "    if var in ['STL', 'BLK']: # These variables have a lot of 0s, so we will use a smaller number of bins\n",
    "        fig = px.histogram(cleaned_df, x=var, title=f'Distribution of {var}', nbins=10)\n",
    "    else:\n",
    "        fig = px.histogram(cleaned_df, x=var, title=f'Distribution of {var}')\n",
    "    # Display the plot    \n",
    "    fig.show()"
   ]
  },
  {
   "cell_type": "code",
   "execution_count": 16,
   "metadata": {},
   "outputs": [
    {
     "data": {
      "application/vnd.plotly.v1+json": {
       "config": {
        "plotlyServerURL": "https://plot.ly"
       },
       "data": [
        {
         "alignmentgroup": "True",
         "hovertemplate": "variable=%{x}<br>value=%{y}<extra></extra>",
         "legendgroup": "",
         "marker": {
          "color": "#636efa"
         },
         "name": "",
         "notched": false,
         "offsetgroup": "",
         "orientation": "v",
         "showlegend": false,
         "type": "box",
         "x": [
          "TO",
          "TO",
          "TO",
          "TO",
          "TO",
          "TO",
          "TO",
          "TO",
          "TO",
          "TO",
          "TO",
          "TO",
          "TO",
          "TO",
          "TO",
          "TO",
          "TO",
          "TO",
          "TO",
          "TO",
          "TO",
          "TO",
          "TO",
          "TO",
          "TO",
          "TO",
          "TO",
          "TO",
          "TO",
          "TO",
          "TO",
          "TO",
          "TO",
          "TO",
          "TO",
          "TO",
          "TO",
          "TO",
          "TO",
          "TO",
          "TO",
          "TO",
          "TO",
          "TO",
          "TO",
          "TO",
          "TO",
          "TO",
          "TO",
          "TO",
          "TO",
          "TO",
          "TO",
          "TO",
          "TO",
          "TO",
          "TO",
          "TO",
          "TO",
          "TO",
          "TO",
          "TO",
          "TO",
          "TO",
          "TO",
          "TO",
          "TO",
          "TO",
          "TO",
          "TO",
          "TO",
          "TO",
          "TO",
          "TO",
          "TO",
          "TO",
          "TO",
          "TO",
          "TO",
          "TO",
          "TO",
          "TO",
          "TO",
          "TO",
          "TO",
          "TO",
          "TO",
          "TO",
          "TO",
          "TO",
          "TO",
          "TO",
          "TO",
          "TO",
          "TO",
          "TO",
          "TO",
          "TO",
          "TO",
          "TO",
          "TO",
          "TO",
          "TO",
          "TO",
          "TO",
          "TO",
          "TO",
          "TO",
          "TO",
          "TO",
          "TO",
          "TO",
          "TO",
          "TO",
          "TO",
          "TO",
          "TO",
          "TO",
          "TO",
          "TO",
          "TO",
          "TO",
          "TO",
          "TO",
          "TO",
          "TO",
          "TO",
          "TO",
          "TO",
          "TO",
          "TO",
          "TO",
          "TO",
          "TO",
          "TO",
          "TO",
          "TO",
          "TO",
          "TO",
          "TO",
          "TO",
          "TO",
          "TO",
          "TO",
          "TO",
          "TO",
          "TO",
          "TO",
          "TO",
          "TO",
          "TO",
          "TO",
          "TO",
          "TO",
          "TO",
          "TO",
          "TO",
          "TO",
          "TO",
          "TO",
          "TO",
          "TO",
          "TO",
          "TO",
          "TO",
          "TO",
          "TO",
          "TO",
          "TO",
          "TO",
          "TO",
          "TO",
          "TO",
          "TO",
          "TO",
          "TO",
          "TO",
          "TO",
          "TO",
          "TO",
          "TO",
          "TO",
          "TO",
          "TO",
          "TO",
          "TO",
          "TO",
          "TO",
          "TO",
          "TO",
          "TO",
          "TO",
          "TO",
          "TO",
          "TO",
          "TO",
          "TO",
          "TO",
          "TO",
          "TO",
          "TO",
          "TO",
          "TO",
          "TO",
          "TO",
          "TO",
          "TO",
          "TO",
          "TO",
          "TO",
          "TO",
          "TO",
          "TO",
          "TO",
          "TO",
          "TO",
          "TO",
          "TO",
          "TO",
          "TO",
          "TO",
          "TO",
          "TO",
          "TO",
          "TO",
          "TO",
          "TO",
          "TO",
          "TO",
          "TO",
          "TO",
          "TO",
          "TO",
          "TO",
          "TO",
          "TO",
          "TO",
          "TO",
          "TO",
          "TO",
          "TO",
          "TO",
          "TO",
          "TO",
          "TO",
          "TO",
          "TO",
          "TO",
          "TO",
          "TO",
          "TO",
          "TO",
          "TO",
          "TO",
          "TO",
          "TO",
          "REB",
          "REB",
          "REB",
          "REB",
          "REB",
          "REB",
          "REB",
          "REB",
          "REB",
          "REB",
          "REB",
          "REB",
          "REB",
          "REB",
          "REB",
          "REB",
          "REB",
          "REB",
          "REB",
          "REB",
          "REB",
          "REB",
          "REB",
          "REB",
          "REB",
          "REB",
          "REB",
          "REB",
          "REB",
          "REB",
          "REB",
          "REB",
          "REB",
          "REB",
          "REB",
          "REB",
          "REB",
          "REB",
          "REB",
          "REB",
          "REB",
          "REB",
          "REB",
          "REB",
          "REB",
          "REB",
          "REB",
          "REB",
          "REB",
          "REB",
          "REB",
          "REB",
          "REB",
          "REB",
          "REB",
          "REB",
          "REB",
          "REB",
          "REB",
          "REB",
          "REB",
          "REB",
          "REB",
          "REB",
          "REB",
          "REB",
          "REB",
          "REB",
          "REB",
          "REB",
          "REB",
          "REB",
          "REB",
          "REB",
          "REB",
          "REB",
          "REB",
          "REB",
          "REB",
          "REB",
          "REB",
          "REB",
          "REB",
          "REB",
          "REB",
          "REB",
          "REB",
          "REB",
          "REB",
          "REB",
          "REB",
          "REB",
          "REB",
          "REB",
          "REB",
          "REB",
          "REB",
          "REB",
          "REB",
          "REB",
          "REB",
          "REB",
          "REB",
          "REB",
          "REB",
          "REB",
          "REB",
          "REB",
          "REB",
          "REB",
          "REB",
          "REB",
          "REB",
          "REB",
          "REB",
          "REB",
          "REB",
          "REB",
          "REB",
          "REB",
          "REB",
          "REB",
          "REB",
          "REB",
          "REB",
          "REB",
          "REB",
          "REB",
          "REB",
          "REB",
          "REB",
          "REB",
          "REB",
          "REB",
          "REB",
          "REB",
          "REB",
          "REB",
          "REB",
          "REB",
          "REB",
          "REB",
          "REB",
          "REB",
          "REB",
          "REB",
          "REB",
          "REB",
          "REB",
          "REB",
          "REB",
          "REB",
          "REB",
          "REB",
          "REB",
          "REB",
          "REB",
          "REB",
          "REB",
          "REB",
          "REB",
          "REB",
          "REB",
          "REB",
          "REB",
          "REB",
          "REB",
          "REB",
          "REB",
          "REB",
          "REB",
          "REB",
          "REB",
          "REB",
          "REB",
          "REB",
          "REB",
          "REB",
          "REB",
          "REB",
          "REB",
          "REB",
          "REB",
          "REB",
          "REB",
          "REB",
          "REB",
          "REB",
          "REB",
          "REB",
          "REB",
          "REB",
          "REB",
          "REB",
          "REB",
          "REB",
          "REB",
          "REB",
          "REB",
          "REB",
          "REB",
          "REB",
          "REB",
          "REB",
          "REB",
          "REB",
          "REB",
          "REB",
          "REB",
          "REB",
          "REB",
          "REB",
          "REB",
          "REB",
          "REB",
          "REB",
          "REB",
          "REB",
          "REB",
          "REB",
          "REB",
          "REB",
          "REB",
          "REB",
          "REB",
          "REB",
          "REB",
          "REB",
          "REB",
          "REB",
          "REB",
          "REB",
          "REB",
          "REB",
          "REB",
          "REB",
          "REB",
          "REB",
          "REB",
          "REB",
          "REB",
          "REB",
          "REB",
          "REB",
          "REB",
          "REB",
          "REB",
          "REB",
          "REB",
          "REB",
          "REB",
          "REB",
          "REB",
          "REB",
          "REB",
          "REB",
          "BLK",
          "BLK",
          "BLK",
          "BLK",
          "BLK",
          "BLK",
          "BLK",
          "BLK",
          "BLK",
          "BLK",
          "BLK",
          "BLK",
          "BLK",
          "BLK",
          "BLK",
          "BLK",
          "BLK",
          "BLK",
          "BLK",
          "BLK",
          "BLK",
          "BLK",
          "BLK",
          "BLK",
          "BLK",
          "BLK",
          "BLK",
          "BLK",
          "BLK",
          "BLK",
          "BLK",
          "BLK",
          "BLK",
          "BLK",
          "BLK",
          "BLK",
          "BLK",
          "BLK",
          "BLK",
          "BLK",
          "BLK",
          "BLK",
          "BLK",
          "BLK",
          "BLK",
          "BLK",
          "BLK",
          "BLK",
          "BLK",
          "BLK",
          "BLK",
          "BLK",
          "BLK",
          "BLK",
          "BLK",
          "BLK",
          "BLK",
          "BLK",
          "BLK",
          "BLK",
          "BLK",
          "BLK",
          "BLK",
          "BLK",
          "BLK",
          "BLK",
          "BLK",
          "BLK",
          "BLK",
          "BLK",
          "BLK",
          "BLK",
          "BLK",
          "BLK",
          "BLK",
          "BLK",
          "BLK",
          "BLK",
          "BLK",
          "BLK",
          "BLK",
          "BLK",
          "BLK",
          "BLK",
          "BLK",
          "BLK",
          "BLK",
          "BLK",
          "BLK",
          "BLK",
          "BLK",
          "BLK",
          "BLK",
          "BLK",
          "BLK",
          "BLK",
          "BLK",
          "BLK",
          "BLK",
          "BLK",
          "BLK",
          "BLK",
          "BLK",
          "BLK",
          "BLK",
          "BLK",
          "BLK",
          "BLK",
          "BLK",
          "BLK",
          "BLK",
          "BLK",
          "BLK",
          "BLK",
          "BLK",
          "BLK",
          "BLK",
          "BLK",
          "BLK",
          "BLK",
          "BLK",
          "BLK",
          "BLK",
          "BLK",
          "BLK",
          "BLK",
          "BLK",
          "BLK",
          "BLK",
          "BLK",
          "BLK",
          "BLK",
          "BLK",
          "BLK",
          "BLK",
          "BLK",
          "BLK",
          "BLK",
          "BLK",
          "BLK",
          "BLK",
          "BLK",
          "BLK",
          "BLK",
          "BLK",
          "BLK",
          "BLK",
          "BLK",
          "BLK",
          "BLK",
          "BLK",
          "BLK",
          "BLK",
          "BLK",
          "BLK",
          "BLK",
          "BLK",
          "BLK",
          "BLK",
          "BLK",
          "BLK",
          "BLK",
          "BLK",
          "BLK",
          "BLK",
          "BLK",
          "BLK",
          "BLK",
          "BLK",
          "BLK",
          "BLK",
          "BLK",
          "BLK",
          "BLK",
          "BLK",
          "BLK",
          "BLK",
          "BLK",
          "BLK",
          "BLK",
          "BLK",
          "BLK",
          "BLK",
          "BLK",
          "BLK",
          "BLK",
          "BLK",
          "BLK",
          "BLK",
          "BLK",
          "BLK",
          "BLK",
          "BLK",
          "BLK",
          "BLK",
          "BLK",
          "BLK",
          "BLK",
          "BLK",
          "BLK",
          "BLK",
          "BLK",
          "BLK",
          "BLK",
          "BLK",
          "BLK",
          "BLK",
          "BLK",
          "BLK",
          "BLK",
          "BLK",
          "BLK",
          "BLK",
          "BLK",
          "BLK",
          "BLK",
          "BLK",
          "BLK",
          "BLK",
          "BLK",
          "BLK",
          "BLK",
          "BLK",
          "BLK",
          "BLK",
          "BLK",
          "BLK",
          "BLK",
          "BLK",
          "BLK",
          "BLK",
          "BLK",
          "BLK",
          "BLK",
          "BLK",
          "BLK",
          "BLK",
          "BLK",
          "BLK",
          "BLK",
          "BLK",
          "BLK",
          "BLK",
          "BLK",
          "BLK",
          "BLK",
          "BLK",
          "BLK",
          "BLK",
          "BLK",
          "BLK",
          "BLK",
          "BLK",
          "BLK",
          "BLK",
          "BLK",
          "AST",
          "AST",
          "AST",
          "AST",
          "AST",
          "AST",
          "AST",
          "AST",
          "AST",
          "AST",
          "AST",
          "AST",
          "AST",
          "AST",
          "AST",
          "AST",
          "AST",
          "AST",
          "AST",
          "AST",
          "AST",
          "AST",
          "AST",
          "AST",
          "AST",
          "AST",
          "AST",
          "AST",
          "AST",
          "AST",
          "AST",
          "AST",
          "AST",
          "AST",
          "AST",
          "AST",
          "AST",
          "AST",
          "AST",
          "AST",
          "AST",
          "AST",
          "AST",
          "AST",
          "AST",
          "AST",
          "AST",
          "AST",
          "AST",
          "AST",
          "AST",
          "AST",
          "AST",
          "AST",
          "AST",
          "AST",
          "AST",
          "AST",
          "AST",
          "AST",
          "AST",
          "AST",
          "AST",
          "AST",
          "AST",
          "AST",
          "AST",
          "AST",
          "AST",
          "AST",
          "AST",
          "AST",
          "AST",
          "AST",
          "AST",
          "AST",
          "AST",
          "AST",
          "AST",
          "AST",
          "AST",
          "AST",
          "AST",
          "AST",
          "AST",
          "AST",
          "AST",
          "AST",
          "AST",
          "AST",
          "AST",
          "AST",
          "AST",
          "AST",
          "AST",
          "AST",
          "AST",
          "AST",
          "AST",
          "AST",
          "AST",
          "AST",
          "AST",
          "AST",
          "AST",
          "AST",
          "AST",
          "AST",
          "AST",
          "AST",
          "AST",
          "AST",
          "AST",
          "AST",
          "AST",
          "AST",
          "AST",
          "AST",
          "AST",
          "AST",
          "AST",
          "AST",
          "AST",
          "AST",
          "AST",
          "AST",
          "AST",
          "AST",
          "AST",
          "AST",
          "AST",
          "AST",
          "AST",
          "AST",
          "AST",
          "AST",
          "AST",
          "AST",
          "AST",
          "AST",
          "AST",
          "AST",
          "AST",
          "AST",
          "AST",
          "AST",
          "AST",
          "AST",
          "AST",
          "AST",
          "AST",
          "AST",
          "AST",
          "AST",
          "AST",
          "AST",
          "AST",
          "AST",
          "AST",
          "AST",
          "AST",
          "AST",
          "AST",
          "AST",
          "AST",
          "AST",
          "AST",
          "AST",
          "AST",
          "AST",
          "AST",
          "AST",
          "AST",
          "AST",
          "AST",
          "AST",
          "AST",
          "AST",
          "AST",
          "AST",
          "AST",
          "AST",
          "AST",
          "AST",
          "AST",
          "AST",
          "AST",
          "AST",
          "AST",
          "AST",
          "AST",
          "AST",
          "AST",
          "AST",
          "AST",
          "AST",
          "AST",
          "AST",
          "AST",
          "AST",
          "AST",
          "AST",
          "AST",
          "AST",
          "AST",
          "AST",
          "AST",
          "AST",
          "AST",
          "AST",
          "AST",
          "AST",
          "AST",
          "AST",
          "AST",
          "AST",
          "AST",
          "AST",
          "AST",
          "AST",
          "AST",
          "AST",
          "AST",
          "AST",
          "AST",
          "AST",
          "AST",
          "AST",
          "AST",
          "AST",
          "AST",
          "AST",
          "AST",
          "AST",
          "AST",
          "AST",
          "AST",
          "AST",
          "AST",
          "AST",
          "AST",
          "AST",
          "AST",
          "AST",
          "AST",
          "AST",
          "AST",
          "AST",
          "AST",
          "AST",
          "AST",
          "AST",
          "AST",
          "AST",
          "AST",
          "AST",
          "FTM",
          "FTM",
          "FTM",
          "FTM",
          "FTM",
          "FTM",
          "FTM",
          "FTM",
          "FTM",
          "FTM",
          "FTM",
          "FTM",
          "FTM",
          "FTM",
          "FTM",
          "FTM",
          "FTM",
          "FTM",
          "FTM",
          "FTM",
          "FTM",
          "FTM",
          "FTM",
          "FTM",
          "FTM",
          "FTM",
          "FTM",
          "FTM",
          "FTM",
          "FTM",
          "FTM",
          "FTM",
          "FTM",
          "FTM",
          "FTM",
          "FTM",
          "FTM",
          "FTM",
          "FTM",
          "FTM",
          "FTM",
          "FTM",
          "FTM",
          "FTM",
          "FTM",
          "FTM",
          "FTM",
          "FTM",
          "FTM",
          "FTM",
          "FTM",
          "FTM",
          "FTM",
          "FTM",
          "FTM",
          "FTM",
          "FTM",
          "FTM",
          "FTM",
          "FTM",
          "FTM",
          "FTM",
          "FTM",
          "FTM",
          "FTM",
          "FTM",
          "FTM",
          "FTM",
          "FTM",
          "FTM",
          "FTM",
          "FTM",
          "FTM",
          "FTM",
          "FTM",
          "FTM",
          "FTM",
          "FTM",
          "FTM",
          "FTM",
          "FTM",
          "FTM",
          "FTM",
          "FTM",
          "FTM",
          "FTM",
          "FTM",
          "FTM",
          "FTM",
          "FTM",
          "FTM",
          "FTM",
          "FTM",
          "FTM",
          "FTM",
          "FTM",
          "FTM",
          "FTM",
          "FTM",
          "FTM",
          "FTM",
          "FTM",
          "FTM",
          "FTM",
          "FTM",
          "FTM",
          "FTM",
          "FTM",
          "FTM",
          "FTM",
          "FTM",
          "FTM",
          "FTM",
          "FTM",
          "FTM",
          "FTM",
          "FTM",
          "FTM",
          "FTM",
          "FTM",
          "FTM",
          "FTM",
          "FTM",
          "FTM",
          "FTM",
          "FTM",
          "FTM",
          "FTM",
          "FTM",
          "FTM",
          "FTM",
          "FTM",
          "FTM",
          "FTM",
          "FTM",
          "FTM",
          "FTM",
          "FTM",
          "FTM",
          "FTM",
          "FTM",
          "FTM",
          "FTM",
          "FTM",
          "FTM",
          "FTM",
          "FTM",
          "FTM",
          "FTM",
          "FTM",
          "FTM",
          "FTM",
          "FTM",
          "FTM",
          "FTM",
          "FTM",
          "FTM",
          "FTM",
          "FTM",
          "FTM",
          "FTM",
          "FTM",
          "FTM",
          "FTM",
          "FTM",
          "FTM",
          "FTM",
          "FTM",
          "FTM",
          "FTM",
          "FTM",
          "FTM",
          "FTM",
          "FTM",
          "FTM",
          "FTM",
          "FTM",
          "FTM",
          "FTM",
          "FTM",
          "FTM",
          "FTM",
          "FTM",
          "FTM",
          "FTM",
          "FTM",
          "FTM",
          "FTM",
          "FTM",
          "FTM",
          "FTM",
          "FTM",
          "FTM",
          "FTM",
          "FTM",
          "FTM",
          "FTM",
          "FTM",
          "FTM",
          "FTM",
          "FTM",
          "FTM",
          "FTM",
          "FTM",
          "FTM",
          "FTM",
          "FTM",
          "FTM",
          "FTM",
          "FTM",
          "FTM",
          "FTM",
          "FTM",
          "FTM",
          "FTM",
          "FTM",
          "FTM",
          "FTM",
          "FTM",
          "FTM",
          "FTM",
          "FTM",
          "FTM",
          "FTM",
          "FTM",
          "FTM",
          "FTM",
          "FTM",
          "FTM",
          "FTM",
          "FTM",
          "FTM",
          "FTM",
          "FTM",
          "FTM",
          "FTM",
          "FTM",
          "FTM",
          "FTM",
          "FTM",
          "FTM",
          "FTM",
          "FTM",
          "FTM",
          "FTM",
          "FTM",
          "FTM",
          "FTM",
          "FTM",
          "FTM",
          "FTM",
          "FTM",
          "FTM",
          "FTM",
          "FTM",
          "FTM",
          "STL",
          "STL",
          "STL",
          "STL",
          "STL",
          "STL",
          "STL",
          "STL",
          "STL",
          "STL",
          "STL",
          "STL",
          "STL",
          "STL",
          "STL",
          "STL",
          "STL",
          "STL",
          "STL",
          "STL",
          "STL",
          "STL",
          "STL",
          "STL",
          "STL",
          "STL",
          "STL",
          "STL",
          "STL",
          "STL",
          "STL",
          "STL",
          "STL",
          "STL",
          "STL",
          "STL",
          "STL",
          "STL",
          "STL",
          "STL",
          "STL",
          "STL",
          "STL",
          "STL",
          "STL",
          "STL",
          "STL",
          "STL",
          "STL",
          "STL",
          "STL",
          "STL",
          "STL",
          "STL",
          "STL",
          "STL",
          "STL",
          "STL",
          "STL",
          "STL",
          "STL",
          "STL",
          "STL",
          "STL",
          "STL",
          "STL",
          "STL",
          "STL",
          "STL",
          "STL",
          "STL",
          "STL",
          "STL",
          "STL",
          "STL",
          "STL",
          "STL",
          "STL",
          "STL",
          "STL",
          "STL",
          "STL",
          "STL",
          "STL",
          "STL",
          "STL",
          "STL",
          "STL",
          "STL",
          "STL",
          "STL",
          "STL",
          "STL",
          "STL",
          "STL",
          "STL",
          "STL",
          "STL",
          "STL",
          "STL",
          "STL",
          "STL",
          "STL",
          "STL",
          "STL",
          "STL",
          "STL",
          "STL",
          "STL",
          "STL",
          "STL",
          "STL",
          "STL",
          "STL",
          "STL",
          "STL",
          "STL",
          "STL",
          "STL",
          "STL",
          "STL",
          "STL",
          "STL",
          "STL",
          "STL",
          "STL",
          "STL",
          "STL",
          "STL",
          "STL",
          "STL",
          "STL",
          "STL",
          "STL",
          "STL",
          "STL",
          "STL",
          "STL",
          "STL",
          "STL",
          "STL",
          "STL",
          "STL",
          "STL",
          "STL",
          "STL",
          "STL",
          "STL",
          "STL",
          "STL",
          "STL",
          "STL",
          "STL",
          "STL",
          "STL",
          "STL",
          "STL",
          "STL",
          "STL",
          "STL",
          "STL",
          "STL",
          "STL",
          "STL",
          "STL",
          "STL",
          "STL",
          "STL",
          "STL",
          "STL",
          "STL",
          "STL",
          "STL",
          "STL",
          "STL",
          "STL",
          "STL",
          "STL",
          "STL",
          "STL",
          "STL",
          "STL",
          "STL",
          "STL",
          "STL",
          "STL",
          "STL",
          "STL",
          "STL",
          "STL",
          "STL",
          "STL",
          "STL",
          "STL",
          "STL",
          "STL",
          "STL",
          "STL",
          "STL",
          "STL",
          "STL",
          "STL",
          "STL",
          "STL",
          "STL",
          "STL",
          "STL",
          "STL",
          "STL",
          "STL",
          "STL",
          "STL",
          "STL",
          "STL",
          "STL",
          "STL",
          "STL",
          "STL",
          "STL",
          "STL",
          "STL",
          "STL",
          "STL",
          "STL",
          "STL",
          "STL",
          "STL",
          "STL",
          "STL",
          "STL",
          "STL",
          "STL",
          "STL",
          "STL",
          "STL",
          "STL",
          "STL",
          "STL",
          "STL",
          "STL",
          "STL",
          "STL",
          "STL",
          "STL",
          "STL",
          "STL",
          "STL",
          "STL",
          "STL",
          "STL",
          "STL",
          "STL",
          "STL",
          "STL",
          "STL",
          "STL",
          "PTS",
          "PTS",
          "PTS",
          "PTS",
          "PTS",
          "PTS",
          "PTS",
          "PTS",
          "PTS",
          "PTS",
          "PTS",
          "PTS",
          "PTS",
          "PTS",
          "PTS",
          "PTS",
          "PTS",
          "PTS",
          "PTS",
          "PTS",
          "PTS",
          "PTS",
          "PTS",
          "PTS",
          "PTS",
          "PTS",
          "PTS",
          "PTS",
          "PTS",
          "PTS",
          "PTS",
          "PTS",
          "PTS",
          "PTS",
          "PTS",
          "PTS",
          "PTS",
          "PTS",
          "PTS",
          "PTS",
          "PTS",
          "PTS",
          "PTS",
          "PTS",
          "PTS",
          "PTS",
          "PTS",
          "PTS",
          "PTS",
          "PTS",
          "PTS",
          "PTS",
          "PTS",
          "PTS",
          "PTS",
          "PTS",
          "PTS",
          "PTS",
          "PTS",
          "PTS",
          "PTS",
          "PTS",
          "PTS",
          "PTS",
          "PTS",
          "PTS",
          "PTS",
          "PTS",
          "PTS",
          "PTS",
          "PTS",
          "PTS",
          "PTS",
          "PTS",
          "PTS",
          "PTS",
          "PTS",
          "PTS",
          "PTS",
          "PTS",
          "PTS",
          "PTS",
          "PTS",
          "PTS",
          "PTS",
          "PTS",
          "PTS",
          "PTS",
          "PTS",
          "PTS",
          "PTS",
          "PTS",
          "PTS",
          "PTS",
          "PTS",
          "PTS",
          "PTS",
          "PTS",
          "PTS",
          "PTS",
          "PTS",
          "PTS",
          "PTS",
          "PTS",
          "PTS",
          "PTS",
          "PTS",
          "PTS",
          "PTS",
          "PTS",
          "PTS",
          "PTS",
          "PTS",
          "PTS",
          "PTS",
          "PTS",
          "PTS",
          "PTS",
          "PTS",
          "PTS",
          "PTS",
          "PTS",
          "PTS",
          "PTS",
          "PTS",
          "PTS",
          "PTS",
          "PTS",
          "PTS",
          "PTS",
          "PTS",
          "PTS",
          "PTS",
          "PTS",
          "PTS",
          "PTS",
          "PTS",
          "PTS",
          "PTS",
          "PTS",
          "PTS",
          "PTS",
          "PTS",
          "PTS",
          "PTS",
          "PTS",
          "PTS",
          "PTS",
          "PTS",
          "PTS",
          "PTS",
          "PTS",
          "PTS",
          "PTS",
          "PTS",
          "PTS",
          "PTS",
          "PTS",
          "PTS",
          "PTS",
          "PTS",
          "PTS",
          "PTS",
          "PTS",
          "PTS",
          "PTS",
          "PTS",
          "PTS",
          "PTS",
          "PTS",
          "PTS",
          "PTS",
          "PTS",
          "PTS",
          "PTS",
          "PTS",
          "PTS",
          "PTS",
          "PTS",
          "PTS",
          "PTS",
          "PTS",
          "PTS",
          "PTS",
          "PTS",
          "PTS",
          "PTS",
          "PTS",
          "PTS",
          "PTS",
          "PTS",
          "PTS",
          "PTS",
          "PTS",
          "PTS",
          "PTS",
          "PTS",
          "PTS",
          "PTS",
          "PTS",
          "PTS",
          "PTS",
          "PTS",
          "PTS",
          "PTS",
          "PTS",
          "PTS",
          "PTS",
          "PTS",
          "PTS",
          "PTS",
          "PTS",
          "PTS",
          "PTS",
          "PTS",
          "PTS",
          "PTS",
          "PTS",
          "PTS",
          "PTS",
          "PTS",
          "PTS",
          "PTS",
          "PTS",
          "PTS",
          "PTS",
          "PTS",
          "PTS",
          "PTS",
          "PTS",
          "PTS",
          "PTS",
          "PTS",
          "PTS",
          "PTS",
          "PTS",
          "PTS",
          "PTS",
          "PTS",
          "PTS",
          "PTS",
          "PTS",
          "PTS",
          "PTS",
          "PTS",
          "PTS",
          "PTS",
          "PTS",
          "PTS",
          "PTS",
          "PTS",
          "PTS",
          "PTS",
          "PTS",
          "PTS",
          "PTS",
          "3PTM",
          "3PTM",
          "3PTM",
          "3PTM",
          "3PTM",
          "3PTM",
          "3PTM",
          "3PTM",
          "3PTM",
          "3PTM",
          "3PTM",
          "3PTM",
          "3PTM",
          "3PTM",
          "3PTM",
          "3PTM",
          "3PTM",
          "3PTM",
          "3PTM",
          "3PTM",
          "3PTM",
          "3PTM",
          "3PTM",
          "3PTM",
          "3PTM",
          "3PTM",
          "3PTM",
          "3PTM",
          "3PTM",
          "3PTM",
          "3PTM",
          "3PTM",
          "3PTM",
          "3PTM",
          "3PTM",
          "3PTM",
          "3PTM",
          "3PTM",
          "3PTM",
          "3PTM",
          "3PTM",
          "3PTM",
          "3PTM",
          "3PTM",
          "3PTM",
          "3PTM",
          "3PTM",
          "3PTM",
          "3PTM",
          "3PTM",
          "3PTM",
          "3PTM",
          "3PTM",
          "3PTM",
          "3PTM",
          "3PTM",
          "3PTM",
          "3PTM",
          "3PTM",
          "3PTM",
          "3PTM",
          "3PTM",
          "3PTM",
          "3PTM",
          "3PTM",
          "3PTM",
          "3PTM",
          "3PTM",
          "3PTM",
          "3PTM",
          "3PTM",
          "3PTM",
          "3PTM",
          "3PTM",
          "3PTM",
          "3PTM",
          "3PTM",
          "3PTM",
          "3PTM",
          "3PTM",
          "3PTM",
          "3PTM",
          "3PTM",
          "3PTM",
          "3PTM",
          "3PTM",
          "3PTM",
          "3PTM",
          "3PTM",
          "3PTM",
          "3PTM",
          "3PTM",
          "3PTM",
          "3PTM",
          "3PTM",
          "3PTM",
          "3PTM",
          "3PTM",
          "3PTM",
          "3PTM",
          "3PTM",
          "3PTM",
          "3PTM",
          "3PTM",
          "3PTM",
          "3PTM",
          "3PTM",
          "3PTM",
          "3PTM",
          "3PTM",
          "3PTM",
          "3PTM",
          "3PTM",
          "3PTM",
          "3PTM",
          "3PTM",
          "3PTM",
          "3PTM",
          "3PTM",
          "3PTM",
          "3PTM",
          "3PTM",
          "3PTM",
          "3PTM",
          "3PTM",
          "3PTM",
          "3PTM",
          "3PTM",
          "3PTM",
          "3PTM",
          "3PTM",
          "3PTM",
          "3PTM",
          "3PTM",
          "3PTM",
          "3PTM",
          "3PTM",
          "3PTM",
          "3PTM",
          "3PTM",
          "3PTM",
          "3PTM",
          "3PTM",
          "3PTM",
          "3PTM",
          "3PTM",
          "3PTM",
          "3PTM",
          "3PTM",
          "3PTM",
          "3PTM",
          "3PTM",
          "3PTM",
          "3PTM",
          "3PTM",
          "3PTM",
          "3PTM",
          "3PTM",
          "3PTM",
          "3PTM",
          "3PTM",
          "3PTM",
          "3PTM",
          "3PTM",
          "3PTM",
          "3PTM",
          "3PTM",
          "3PTM",
          "3PTM",
          "3PTM",
          "3PTM",
          "3PTM",
          "3PTM",
          "3PTM",
          "3PTM",
          "3PTM",
          "3PTM",
          "3PTM",
          "3PTM",
          "3PTM",
          "3PTM",
          "3PTM",
          "3PTM",
          "3PTM",
          "3PTM",
          "3PTM",
          "3PTM",
          "3PTM",
          "3PTM",
          "3PTM",
          "3PTM",
          "3PTM",
          "3PTM",
          "3PTM",
          "3PTM",
          "3PTM",
          "3PTM",
          "3PTM",
          "3PTM",
          "3PTM",
          "3PTM",
          "3PTM",
          "3PTM",
          "3PTM",
          "3PTM",
          "3PTM",
          "3PTM",
          "3PTM",
          "3PTM",
          "3PTM",
          "3PTM",
          "3PTM",
          "3PTM",
          "3PTM",
          "3PTM",
          "3PTM",
          "3PTM",
          "3PTM",
          "3PTM",
          "3PTM",
          "3PTM",
          "3PTM",
          "3PTM",
          "3PTM",
          "3PTM",
          "3PTM",
          "3PTM",
          "3PTM",
          "3PTM",
          "3PTM",
          "3PTM",
          "3PTM",
          "3PTM",
          "3PTM",
          "3PTM",
          "3PTM",
          "3PTM",
          "3PTM",
          "3PTM",
          "3PTM",
          "3PTM",
          "3PTM",
          "3PTM",
          "3PTM",
          "3PTM",
          "3PTM",
          "3PTM",
          "3PTM",
          "3PTM",
          "3PTM",
          "3PTM",
          "3PTM",
          "3PTM",
          "3PTM",
          "3PTM",
          "3PTM",
          "FGA",
          "FGA",
          "FGA",
          "FGA",
          "FGA",
          "FGA",
          "FGA",
          "FGA",
          "FGA",
          "FGA",
          "FGA",
          "FGA",
          "FGA",
          "FGA",
          "FGA",
          "FGA",
          "FGA",
          "FGA",
          "FGA",
          "FGA",
          "FGA",
          "FGA",
          "FGA",
          "FGA",
          "FGA",
          "FGA",
          "FGA",
          "FGA",
          "FGA",
          "FGA",
          "FGA",
          "FGA",
          "FGA",
          "FGA",
          "FGA",
          "FGA",
          "FGA",
          "FGA",
          "FGA",
          "FGA",
          "FGA",
          "FGA",
          "FGA",
          "FGA",
          "FGA",
          "FGA",
          "FGA",
          "FGA",
          "FGA",
          "FGA",
          "FGA",
          "FGA",
          "FGA",
          "FGA",
          "FGA",
          "FGA",
          "FGA",
          "FGA",
          "FGA",
          "FGA",
          "FGA",
          "FGA",
          "FGA",
          "FGA",
          "FGA",
          "FGA",
          "FGA",
          "FGA",
          "FGA",
          "FGA",
          "FGA",
          "FGA",
          "FGA",
          "FGA",
          "FGA",
          "FGA",
          "FGA",
          "FGA",
          "FGA",
          "FGA",
          "FGA",
          "FGA",
          "FGA",
          "FGA",
          "FGA",
          "FGA",
          "FGA",
          "FGA",
          "FGA",
          "FGA",
          "FGA",
          "FGA",
          "FGA",
          "FGA",
          "FGA",
          "FGA",
          "FGA",
          "FGA",
          "FGA",
          "FGA",
          "FGA",
          "FGA",
          "FGA",
          "FGA",
          "FGA",
          "FGA",
          "FGA",
          "FGA",
          "FGA",
          "FGA",
          "FGA",
          "FGA",
          "FGA",
          "FGA",
          "FGA",
          "FGA",
          "FGA",
          "FGA",
          "FGA",
          "FGA",
          "FGA",
          "FGA",
          "FGA",
          "FGA",
          "FGA",
          "FGA",
          "FGA",
          "FGA",
          "FGA",
          "FGA",
          "FGA",
          "FGA",
          "FGA",
          "FGA",
          "FGA",
          "FGA",
          "FGA",
          "FGA",
          "FGA",
          "FGA",
          "FGA",
          "FGA",
          "FGA",
          "FGA",
          "FGA",
          "FGA",
          "FGA",
          "FGA",
          "FGA",
          "FGA",
          "FGA",
          "FGA",
          "FGA",
          "FGA",
          "FGA",
          "FGA",
          "FGA",
          "FGA",
          "FGA",
          "FGA",
          "FGA",
          "FGA",
          "FGA",
          "FGA",
          "FGA",
          "FGA",
          "FGA",
          "FGA",
          "FGA",
          "FGA",
          "FGA",
          "FGA",
          "FGA",
          "FGA",
          "FGA",
          "FGA",
          "FGA",
          "FGA",
          "FGA",
          "FGA",
          "FGA",
          "FGA",
          "FGA",
          "FGA",
          "FGA",
          "FGA",
          "FGA",
          "FGA",
          "FGA",
          "FGA",
          "FGA",
          "FGA",
          "FGA",
          "FGA",
          "FGA",
          "FGA",
          "FGA",
          "FGA",
          "FGA",
          "FGA",
          "FGA",
          "FGA",
          "FGA",
          "FGA",
          "FGA",
          "FGA",
          "FGA",
          "FGA",
          "FGA",
          "FGA",
          "FGA",
          "FGA",
          "FGA",
          "FGA",
          "FGA",
          "FGA",
          "FGA",
          "FGA",
          "FGA",
          "FGA",
          "FGA",
          "FGA",
          "FGA",
          "FGA",
          "FGA",
          "FGA",
          "FGA",
          "FGA",
          "FGA",
          "FGA",
          "FGA",
          "FGA",
          "FGA",
          "FGA",
          "FGA",
          "FGA",
          "FGA",
          "FGA",
          "FGA",
          "FGA",
          "FGA",
          "FGA",
          "FGA",
          "FGA",
          "FGA",
          "FGA",
          "FGA",
          "FGA",
          "FGA",
          "FGA",
          "FGA",
          "FGA",
          "FGA",
          "FGA",
          "FGA",
          "FGA",
          "FGM",
          "FGM",
          "FGM",
          "FGM",
          "FGM",
          "FGM",
          "FGM",
          "FGM",
          "FGM",
          "FGM",
          "FGM",
          "FGM",
          "FGM",
          "FGM",
          "FGM",
          "FGM",
          "FGM",
          "FGM",
          "FGM",
          "FGM",
          "FGM",
          "FGM",
          "FGM",
          "FGM",
          "FGM",
          "FGM",
          "FGM",
          "FGM",
          "FGM",
          "FGM",
          "FGM",
          "FGM",
          "FGM",
          "FGM",
          "FGM",
          "FGM",
          "FGM",
          "FGM",
          "FGM",
          "FGM",
          "FGM",
          "FGM",
          "FGM",
          "FGM",
          "FGM",
          "FGM",
          "FGM",
          "FGM",
          "FGM",
          "FGM",
          "FGM",
          "FGM",
          "FGM",
          "FGM",
          "FGM",
          "FGM",
          "FGM",
          "FGM",
          "FGM",
          "FGM",
          "FGM",
          "FGM",
          "FGM",
          "FGM",
          "FGM",
          "FGM",
          "FGM",
          "FGM",
          "FGM",
          "FGM",
          "FGM",
          "FGM",
          "FGM",
          "FGM",
          "FGM",
          "FGM",
          "FGM",
          "FGM",
          "FGM",
          "FGM",
          "FGM",
          "FGM",
          "FGM",
          "FGM",
          "FGM",
          "FGM",
          "FGM",
          "FGM",
          "FGM",
          "FGM",
          "FGM",
          "FGM",
          "FGM",
          "FGM",
          "FGM",
          "FGM",
          "FGM",
          "FGM",
          "FGM",
          "FGM",
          "FGM",
          "FGM",
          "FGM",
          "FGM",
          "FGM",
          "FGM",
          "FGM",
          "FGM",
          "FGM",
          "FGM",
          "FGM",
          "FGM",
          "FGM",
          "FGM",
          "FGM",
          "FGM",
          "FGM",
          "FGM",
          "FGM",
          "FGM",
          "FGM",
          "FGM",
          "FGM",
          "FGM",
          "FGM",
          "FGM",
          "FGM",
          "FGM",
          "FGM",
          "FGM",
          "FGM",
          "FGM",
          "FGM",
          "FGM",
          "FGM",
          "FGM",
          "FGM",
          "FGM",
          "FGM",
          "FGM",
          "FGM",
          "FGM",
          "FGM",
          "FGM",
          "FGM",
          "FGM",
          "FGM",
          "FGM",
          "FGM",
          "FGM",
          "FGM",
          "FGM",
          "FGM",
          "FGM",
          "FGM",
          "FGM",
          "FGM",
          "FGM",
          "FGM",
          "FGM",
          "FGM",
          "FGM",
          "FGM",
          "FGM",
          "FGM",
          "FGM",
          "FGM",
          "FGM",
          "FGM",
          "FGM",
          "FGM",
          "FGM",
          "FGM",
          "FGM",
          "FGM",
          "FGM",
          "FGM",
          "FGM",
          "FGM",
          "FGM",
          "FGM",
          "FGM",
          "FGM",
          "FGM",
          "FGM",
          "FGM",
          "FGM",
          "FGM",
          "FGM",
          "FGM",
          "FGM",
          "FGM",
          "FGM",
          "FGM",
          "FGM",
          "FGM",
          "FGM",
          "FGM",
          "FGM",
          "FGM",
          "FGM",
          "FGM",
          "FGM",
          "FGM",
          "FGM",
          "FGM",
          "FGM",
          "FGM",
          "FGM",
          "FGM",
          "FGM",
          "FGM",
          "FGM",
          "FGM",
          "FGM",
          "FGM",
          "FGM",
          "FGM",
          "FGM",
          "FGM",
          "FGM",
          "FGM",
          "FGM",
          "FGM",
          "FGM",
          "FGM",
          "FGM",
          "FGM",
          "FGM",
          "FGM",
          "FGM",
          "FGM",
          "FGM",
          "FGM",
          "FGM",
          "FGM",
          "FGM",
          "FGM",
          "FGM",
          "FGM",
          "FGM",
          "FGM",
          "FGM",
          "FGM",
          "FGM",
          "FGM",
          "FGM",
          "FGM",
          "FGM",
          "FGM",
          "FGM",
          "FGM",
          "FGM",
          "FGM",
          "FGM",
          "FGM",
          "FTA",
          "FTA",
          "FTA",
          "FTA",
          "FTA",
          "FTA",
          "FTA",
          "FTA",
          "FTA",
          "FTA",
          "FTA",
          "FTA",
          "FTA",
          "FTA",
          "FTA",
          "FTA",
          "FTA",
          "FTA",
          "FTA",
          "FTA",
          "FTA",
          "FTA",
          "FTA",
          "FTA",
          "FTA",
          "FTA",
          "FTA",
          "FTA",
          "FTA",
          "FTA",
          "FTA",
          "FTA",
          "FTA",
          "FTA",
          "FTA",
          "FTA",
          "FTA",
          "FTA",
          "FTA",
          "FTA",
          "FTA",
          "FTA",
          "FTA",
          "FTA",
          "FTA",
          "FTA",
          "FTA",
          "FTA",
          "FTA",
          "FTA",
          "FTA",
          "FTA",
          "FTA",
          "FTA",
          "FTA",
          "FTA",
          "FTA",
          "FTA",
          "FTA",
          "FTA",
          "FTA",
          "FTA",
          "FTA",
          "FTA",
          "FTA",
          "FTA",
          "FTA",
          "FTA",
          "FTA",
          "FTA",
          "FTA",
          "FTA",
          "FTA",
          "FTA",
          "FTA",
          "FTA",
          "FTA",
          "FTA",
          "FTA",
          "FTA",
          "FTA",
          "FTA",
          "FTA",
          "FTA",
          "FTA",
          "FTA",
          "FTA",
          "FTA",
          "FTA",
          "FTA",
          "FTA",
          "FTA",
          "FTA",
          "FTA",
          "FTA",
          "FTA",
          "FTA",
          "FTA",
          "FTA",
          "FTA",
          "FTA",
          "FTA",
          "FTA",
          "FTA",
          "FTA",
          "FTA",
          "FTA",
          "FTA",
          "FTA",
          "FTA",
          "FTA",
          "FTA",
          "FTA",
          "FTA",
          "FTA",
          "FTA",
          "FTA",
          "FTA",
          "FTA",
          "FTA",
          "FTA",
          "FTA",
          "FTA",
          "FTA",
          "FTA",
          "FTA",
          "FTA",
          "FTA",
          "FTA",
          "FTA",
          "FTA",
          "FTA",
          "FTA",
          "FTA",
          "FTA",
          "FTA",
          "FTA",
          "FTA",
          "FTA",
          "FTA",
          "FTA",
          "FTA",
          "FTA",
          "FTA",
          "FTA",
          "FTA",
          "FTA",
          "FTA",
          "FTA",
          "FTA",
          "FTA",
          "FTA",
          "FTA",
          "FTA",
          "FTA",
          "FTA",
          "FTA",
          "FTA",
          "FTA",
          "FTA",
          "FTA",
          "FTA",
          "FTA",
          "FTA",
          "FTA",
          "FTA",
          "FTA",
          "FTA",
          "FTA",
          "FTA",
          "FTA",
          "FTA",
          "FTA",
          "FTA",
          "FTA",
          "FTA",
          "FTA",
          "FTA",
          "FTA",
          "FTA",
          "FTA",
          "FTA",
          "FTA",
          "FTA",
          "FTA",
          "FTA",
          "FTA",
          "FTA",
          "FTA",
          "FTA",
          "FTA",
          "FTA",
          "FTA",
          "FTA",
          "FTA",
          "FTA",
          "FTA",
          "FTA",
          "FTA",
          "FTA",
          "FTA",
          "FTA",
          "FTA",
          "FTA",
          "FTA",
          "FTA",
          "FTA",
          "FTA",
          "FTA",
          "FTA",
          "FTA",
          "FTA",
          "FTA",
          "FTA",
          "FTA",
          "FTA",
          "FTA",
          "FTA",
          "FTA",
          "FTA",
          "FTA",
          "FTA",
          "FTA",
          "FTA",
          "FTA",
          "FTA",
          "FTA",
          "FTA",
          "FTA",
          "FTA",
          "FTA",
          "FTA",
          "FTA",
          "FTA",
          "FTA",
          "FTA",
          "FTA",
          "FTA",
          "FTA",
          "FTA",
          "FTA",
          "FTA",
          "FTA",
          "FTA",
          "FTA",
          "FTA",
          "FTA",
          "FTA",
          "FTA",
          "FTA",
          "FTA",
          "FTA",
          "FTA",
          "FTA",
          "FTA",
          "FTA",
          "Fantasy Points",
          "Fantasy Points",
          "Fantasy Points",
          "Fantasy Points",
          "Fantasy Points",
          "Fantasy Points",
          "Fantasy Points",
          "Fantasy Points",
          "Fantasy Points",
          "Fantasy Points",
          "Fantasy Points",
          "Fantasy Points",
          "Fantasy Points",
          "Fantasy Points",
          "Fantasy Points",
          "Fantasy Points",
          "Fantasy Points",
          "Fantasy Points",
          "Fantasy Points",
          "Fantasy Points",
          "Fantasy Points",
          "Fantasy Points",
          "Fantasy Points",
          "Fantasy Points",
          "Fantasy Points",
          "Fantasy Points",
          "Fantasy Points",
          "Fantasy Points",
          "Fantasy Points",
          "Fantasy Points",
          "Fantasy Points",
          "Fantasy Points",
          "Fantasy Points",
          "Fantasy Points",
          "Fantasy Points",
          "Fantasy Points",
          "Fantasy Points",
          "Fantasy Points",
          "Fantasy Points",
          "Fantasy Points",
          "Fantasy Points",
          "Fantasy Points",
          "Fantasy Points",
          "Fantasy Points",
          "Fantasy Points",
          "Fantasy Points",
          "Fantasy Points",
          "Fantasy Points",
          "Fantasy Points",
          "Fantasy Points",
          "Fantasy Points",
          "Fantasy Points",
          "Fantasy Points",
          "Fantasy Points",
          "Fantasy Points",
          "Fantasy Points",
          "Fantasy Points",
          "Fantasy Points",
          "Fantasy Points",
          "Fantasy Points",
          "Fantasy Points",
          "Fantasy Points",
          "Fantasy Points",
          "Fantasy Points",
          "Fantasy Points",
          "Fantasy Points",
          "Fantasy Points",
          "Fantasy Points",
          "Fantasy Points",
          "Fantasy Points",
          "Fantasy Points",
          "Fantasy Points",
          "Fantasy Points",
          "Fantasy Points",
          "Fantasy Points",
          "Fantasy Points",
          "Fantasy Points",
          "Fantasy Points",
          "Fantasy Points",
          "Fantasy Points",
          "Fantasy Points",
          "Fantasy Points",
          "Fantasy Points",
          "Fantasy Points",
          "Fantasy Points",
          "Fantasy Points",
          "Fantasy Points",
          "Fantasy Points",
          "Fantasy Points",
          "Fantasy Points",
          "Fantasy Points",
          "Fantasy Points",
          "Fantasy Points",
          "Fantasy Points",
          "Fantasy Points",
          "Fantasy Points",
          "Fantasy Points",
          "Fantasy Points",
          "Fantasy Points",
          "Fantasy Points",
          "Fantasy Points",
          "Fantasy Points",
          "Fantasy Points",
          "Fantasy Points",
          "Fantasy Points",
          "Fantasy Points",
          "Fantasy Points",
          "Fantasy Points",
          "Fantasy Points",
          "Fantasy Points",
          "Fantasy Points",
          "Fantasy Points",
          "Fantasy Points",
          "Fantasy Points",
          "Fantasy Points",
          "Fantasy Points",
          "Fantasy Points",
          "Fantasy Points",
          "Fantasy Points",
          "Fantasy Points",
          "Fantasy Points",
          "Fantasy Points",
          "Fantasy Points",
          "Fantasy Points",
          "Fantasy Points",
          "Fantasy Points",
          "Fantasy Points",
          "Fantasy Points",
          "Fantasy Points",
          "Fantasy Points",
          "Fantasy Points",
          "Fantasy Points",
          "Fantasy Points",
          "Fantasy Points",
          "Fantasy Points",
          "Fantasy Points",
          "Fantasy Points",
          "Fantasy Points",
          "Fantasy Points",
          "Fantasy Points",
          "Fantasy Points",
          "Fantasy Points",
          "Fantasy Points",
          "Fantasy Points",
          "Fantasy Points",
          "Fantasy Points",
          "Fantasy Points",
          "Fantasy Points",
          "Fantasy Points",
          "Fantasy Points",
          "Fantasy Points",
          "Fantasy Points",
          "Fantasy Points",
          "Fantasy Points",
          "Fantasy Points",
          "Fantasy Points",
          "Fantasy Points",
          "Fantasy Points",
          "Fantasy Points",
          "Fantasy Points",
          "Fantasy Points",
          "Fantasy Points",
          "Fantasy Points",
          "Fantasy Points",
          "Fantasy Points",
          "Fantasy Points",
          "Fantasy Points",
          "Fantasy Points",
          "Fantasy Points",
          "Fantasy Points",
          "Fantasy Points",
          "Fantasy Points",
          "Fantasy Points",
          "Fantasy Points",
          "Fantasy Points",
          "Fantasy Points",
          "Fantasy Points",
          "Fantasy Points",
          "Fantasy Points",
          "Fantasy Points",
          "Fantasy Points",
          "Fantasy Points",
          "Fantasy Points",
          "Fantasy Points",
          "Fantasy Points",
          "Fantasy Points",
          "Fantasy Points",
          "Fantasy Points",
          "Fantasy Points",
          "Fantasy Points",
          "Fantasy Points",
          "Fantasy Points",
          "Fantasy Points",
          "Fantasy Points",
          "Fantasy Points",
          "Fantasy Points",
          "Fantasy Points",
          "Fantasy Points",
          "Fantasy Points",
          "Fantasy Points",
          "Fantasy Points",
          "Fantasy Points",
          "Fantasy Points",
          "Fantasy Points",
          "Fantasy Points",
          "Fantasy Points",
          "Fantasy Points",
          "Fantasy Points",
          "Fantasy Points",
          "Fantasy Points",
          "Fantasy Points",
          "Fantasy Points",
          "Fantasy Points",
          "Fantasy Points",
          "Fantasy Points",
          "Fantasy Points",
          "Fantasy Points",
          "Fantasy Points",
          "Fantasy Points",
          "Fantasy Points",
          "Fantasy Points",
          "Fantasy Points",
          "Fantasy Points",
          "Fantasy Points",
          "Fantasy Points",
          "Fantasy Points",
          "Fantasy Points",
          "Fantasy Points",
          "Fantasy Points",
          "Fantasy Points",
          "Fantasy Points",
          "Fantasy Points",
          "Fantasy Points",
          "Fantasy Points",
          "Fantasy Points",
          "Fantasy Points",
          "Fantasy Points",
          "Fantasy Points",
          "Fantasy Points",
          "Fantasy Points",
          "Fantasy Points",
          "Fantasy Points",
          "Fantasy Points",
          "Fantasy Points",
          "Fantasy Points",
          "Fantasy Points",
          "Fantasy Points",
          "Fantasy Points",
          "Fantasy Points",
          "Fantasy Points",
          "Fantasy Points",
          "Fantasy Points",
          "Fantasy Points",
          "Fantasy Points",
          "Fantasy Points",
          "Fantasy Points",
          "Weekly Contribution Percentage",
          "Weekly Contribution Percentage",
          "Weekly Contribution Percentage",
          "Weekly Contribution Percentage",
          "Weekly Contribution Percentage",
          "Weekly Contribution Percentage",
          "Weekly Contribution Percentage",
          "Weekly Contribution Percentage",
          "Weekly Contribution Percentage",
          "Weekly Contribution Percentage",
          "Weekly Contribution Percentage",
          "Weekly Contribution Percentage",
          "Weekly Contribution Percentage",
          "Weekly Contribution Percentage",
          "Weekly Contribution Percentage",
          "Weekly Contribution Percentage",
          "Weekly Contribution Percentage",
          "Weekly Contribution Percentage",
          "Weekly Contribution Percentage",
          "Weekly Contribution Percentage",
          "Weekly Contribution Percentage",
          "Weekly Contribution Percentage",
          "Weekly Contribution Percentage",
          "Weekly Contribution Percentage",
          "Weekly Contribution Percentage",
          "Weekly Contribution Percentage",
          "Weekly Contribution Percentage",
          "Weekly Contribution Percentage",
          "Weekly Contribution Percentage",
          "Weekly Contribution Percentage",
          "Weekly Contribution Percentage",
          "Weekly Contribution Percentage",
          "Weekly Contribution Percentage",
          "Weekly Contribution Percentage",
          "Weekly Contribution Percentage",
          "Weekly Contribution Percentage",
          "Weekly Contribution Percentage",
          "Weekly Contribution Percentage",
          "Weekly Contribution Percentage",
          "Weekly Contribution Percentage",
          "Weekly Contribution Percentage",
          "Weekly Contribution Percentage",
          "Weekly Contribution Percentage",
          "Weekly Contribution Percentage",
          "Weekly Contribution Percentage",
          "Weekly Contribution Percentage",
          "Weekly Contribution Percentage",
          "Weekly Contribution Percentage",
          "Weekly Contribution Percentage",
          "Weekly Contribution Percentage",
          "Weekly Contribution Percentage",
          "Weekly Contribution Percentage",
          "Weekly Contribution Percentage",
          "Weekly Contribution Percentage",
          "Weekly Contribution Percentage",
          "Weekly Contribution Percentage",
          "Weekly Contribution Percentage",
          "Weekly Contribution Percentage",
          "Weekly Contribution Percentage",
          "Weekly Contribution Percentage",
          "Weekly Contribution Percentage",
          "Weekly Contribution Percentage",
          "Weekly Contribution Percentage",
          "Weekly Contribution Percentage",
          "Weekly Contribution Percentage",
          "Weekly Contribution Percentage",
          "Weekly Contribution Percentage",
          "Weekly Contribution Percentage",
          "Weekly Contribution Percentage",
          "Weekly Contribution Percentage",
          "Weekly Contribution Percentage",
          "Weekly Contribution Percentage",
          "Weekly Contribution Percentage",
          "Weekly Contribution Percentage",
          "Weekly Contribution Percentage",
          "Weekly Contribution Percentage",
          "Weekly Contribution Percentage",
          "Weekly Contribution Percentage",
          "Weekly Contribution Percentage",
          "Weekly Contribution Percentage",
          "Weekly Contribution Percentage",
          "Weekly Contribution Percentage",
          "Weekly Contribution Percentage",
          "Weekly Contribution Percentage",
          "Weekly Contribution Percentage",
          "Weekly Contribution Percentage",
          "Weekly Contribution Percentage",
          "Weekly Contribution Percentage",
          "Weekly Contribution Percentage",
          "Weekly Contribution Percentage",
          "Weekly Contribution Percentage",
          "Weekly Contribution Percentage",
          "Weekly Contribution Percentage",
          "Weekly Contribution Percentage",
          "Weekly Contribution Percentage",
          "Weekly Contribution Percentage",
          "Weekly Contribution Percentage",
          "Weekly Contribution Percentage",
          "Weekly Contribution Percentage",
          "Weekly Contribution Percentage",
          "Weekly Contribution Percentage",
          "Weekly Contribution Percentage",
          "Weekly Contribution Percentage",
          "Weekly Contribution Percentage",
          "Weekly Contribution Percentage",
          "Weekly Contribution Percentage",
          "Weekly Contribution Percentage",
          "Weekly Contribution Percentage",
          "Weekly Contribution Percentage",
          "Weekly Contribution Percentage",
          "Weekly Contribution Percentage",
          "Weekly Contribution Percentage",
          "Weekly Contribution Percentage",
          "Weekly Contribution Percentage",
          "Weekly Contribution Percentage",
          "Weekly Contribution Percentage",
          "Weekly Contribution Percentage",
          "Weekly Contribution Percentage",
          "Weekly Contribution Percentage",
          "Weekly Contribution Percentage",
          "Weekly Contribution Percentage",
          "Weekly Contribution Percentage",
          "Weekly Contribution Percentage",
          "Weekly Contribution Percentage",
          "Weekly Contribution Percentage",
          "Weekly Contribution Percentage",
          "Weekly Contribution Percentage",
          "Weekly Contribution Percentage",
          "Weekly Contribution Percentage",
          "Weekly Contribution Percentage",
          "Weekly Contribution Percentage",
          "Weekly Contribution Percentage",
          "Weekly Contribution Percentage",
          "Weekly Contribution Percentage",
          "Weekly Contribution Percentage",
          "Weekly Contribution Percentage",
          "Weekly Contribution Percentage",
          "Weekly Contribution Percentage",
          "Weekly Contribution Percentage",
          "Weekly Contribution Percentage",
          "Weekly Contribution Percentage",
          "Weekly Contribution Percentage",
          "Weekly Contribution Percentage",
          "Weekly Contribution Percentage",
          "Weekly Contribution Percentage",
          "Weekly Contribution Percentage",
          "Weekly Contribution Percentage",
          "Weekly Contribution Percentage",
          "Weekly Contribution Percentage",
          "Weekly Contribution Percentage",
          "Weekly Contribution Percentage",
          "Weekly Contribution Percentage",
          "Weekly Contribution Percentage",
          "Weekly Contribution Percentage",
          "Weekly Contribution Percentage",
          "Weekly Contribution Percentage",
          "Weekly Contribution Percentage",
          "Weekly Contribution Percentage",
          "Weekly Contribution Percentage",
          "Weekly Contribution Percentage",
          "Weekly Contribution Percentage",
          "Weekly Contribution Percentage",
          "Weekly Contribution Percentage",
          "Weekly Contribution Percentage",
          "Weekly Contribution Percentage",
          "Weekly Contribution Percentage",
          "Weekly Contribution Percentage",
          "Weekly Contribution Percentage",
          "Weekly Contribution Percentage",
          "Weekly Contribution Percentage",
          "Weekly Contribution Percentage",
          "Weekly Contribution Percentage",
          "Weekly Contribution Percentage",
          "Weekly Contribution Percentage",
          "Weekly Contribution Percentage",
          "Weekly Contribution Percentage",
          "Weekly Contribution Percentage",
          "Weekly Contribution Percentage",
          "Weekly Contribution Percentage",
          "Weekly Contribution Percentage",
          "Weekly Contribution Percentage",
          "Weekly Contribution Percentage",
          "Weekly Contribution Percentage",
          "Weekly Contribution Percentage",
          "Weekly Contribution Percentage",
          "Weekly Contribution Percentage",
          "Weekly Contribution Percentage",
          "Weekly Contribution Percentage",
          "Weekly Contribution Percentage",
          "Weekly Contribution Percentage",
          "Weekly Contribution Percentage",
          "Weekly Contribution Percentage",
          "Weekly Contribution Percentage",
          "Weekly Contribution Percentage",
          "Weekly Contribution Percentage",
          "Weekly Contribution Percentage",
          "Weekly Contribution Percentage",
          "Weekly Contribution Percentage",
          "Weekly Contribution Percentage",
          "Weekly Contribution Percentage",
          "Weekly Contribution Percentage",
          "Weekly Contribution Percentage",
          "Weekly Contribution Percentage",
          "Weekly Contribution Percentage",
          "Weekly Contribution Percentage",
          "Weekly Contribution Percentage",
          "Weekly Contribution Percentage",
          "Weekly Contribution Percentage",
          "Weekly Contribution Percentage",
          "Weekly Contribution Percentage",
          "Weekly Contribution Percentage",
          "Weekly Contribution Percentage",
          "Weekly Contribution Percentage",
          "Weekly Contribution Percentage",
          "Weekly Contribution Percentage",
          "Weekly Contribution Percentage",
          "Weekly Contribution Percentage",
          "Weekly Contribution Percentage",
          "Weekly Contribution Percentage",
          "Weekly Contribution Percentage",
          "Weekly Contribution Percentage",
          "Weekly Contribution Percentage",
          "Weekly Contribution Percentage",
          "Weekly Contribution Percentage",
          "Weekly Contribution Percentage",
          "Weekly Contribution Percentage",
          "Weekly Contribution Percentage",
          "Weekly Contribution Percentage",
          "Weekly Contribution Percentage",
          "Weekly Contribution Percentage",
          "Weekly Contribution Percentage",
          "Weekly Contribution Percentage",
          "Weekly Contribution Percentage",
          "Weekly Contribution Percentage",
          "Weekly Contribution Percentage",
          "Weekly Contribution Percentage",
          "Weekly Contribution Percentage",
          "Weekly Contribution Percentage",
          "Weekly Contribution Percentage",
          "Weekly Contribution Percentage",
          "Weekly Contribution Percentage",
          "Weekly Contribution Percentage",
          "Weekly Contribution Percentage",
          "Weekly Contribution Percentage",
          "Weekly Contribution Percentage",
          "Weekly Contribution Percentage",
          "Weekly Contribution Percentage",
          "Weekly Contribution Percentage",
          "Weekly Contribution Percentage",
          "Weekly Contribution Percentage",
          "Weekly Contribution Percentage",
          "Weekly Contribution Percentage",
          "Weekly Contribution Percentage",
          "Weekly Contribution Percentage",
          "Weekly Contribution Percentage",
          "Weekly Contribution Percentage"
         ],
         "x0": " ",
         "xaxis": "x",
         "y": [
          -2,
          -4,
          -8,
          -2,
          -12,
          -12,
          -12,
          -4,
          -12,
          -16,
          -10,
          -16,
          -4,
          -10,
          -22,
          -4,
          -8,
          -20,
          0,
          -24,
          -6,
          -20,
          0,
          -6,
          -20,
          -2,
          -16,
          -8,
          -2,
          -12,
          -2,
          -4,
          -18,
          -6,
          -24,
          -12,
          -12,
          -4,
          -20,
          -6,
          -2,
          -6,
          -12,
          -8,
          -18,
          -24,
          -6,
          -20,
          -14,
          -8,
          -24,
          -12,
          -12,
          -8,
          -8,
          -10,
          -8,
          -18,
          -8,
          -20,
          -8,
          -8,
          -10,
          -10,
          -18,
          -8,
          -16,
          -6,
          -4,
          -10,
          -10,
          -10,
          -6,
          -24,
          -16,
          -8,
          -24,
          -8,
          -4,
          0,
          -24,
          0,
          -8,
          -10,
          -8,
          -4,
          -2,
          -12,
          -8,
          -8,
          -4,
          -4,
          -8,
          -6,
          -28,
          -20,
          -12,
          -22,
          -20,
          -8,
          -22,
          -8,
          -6,
          -14,
          -4,
          -2,
          -16,
          -6,
          -18,
          -30,
          -8,
          -24,
          -12,
          -20,
          -8,
          -4,
          -14,
          -8,
          -14,
          -14,
          -10,
          -8,
          -4,
          -6,
          -10,
          -8,
          -4,
          -14,
          -8,
          -4,
          -20,
          -10,
          -16,
          -12,
          -12,
          -8,
          -8,
          -2,
          -8,
          -14,
          -18,
          -10,
          -12,
          -4,
          -2,
          -12,
          -4,
          -2,
          -8,
          -8,
          -16,
          -12,
          -10,
          -10,
          -12,
          -12,
          -22,
          -6,
          -20,
          0,
          -14,
          0,
          -12,
          -14,
          -24,
          -6,
          -4,
          -10,
          -22,
          -2,
          -10,
          -8,
          -4,
          -16,
          -4,
          -20,
          -10,
          -4,
          -6,
          -20,
          -16,
          -6,
          -18,
          -10,
          -2,
          -10,
          -16,
          -14,
          -16,
          -14,
          -14,
          -4,
          -2,
          -6,
          -8,
          -34,
          -14,
          -12,
          -8,
          -6,
          -10,
          -18,
          -12,
          -18,
          -14,
          -12,
          -10,
          -12,
          0,
          -6,
          -14,
          -6,
          -18,
          -18,
          -16,
          -20,
          -26,
          -8,
          -24,
          -6,
          -10,
          -12,
          -24,
          -34,
          -28,
          -26,
          -14,
          -6,
          -12,
          -8,
          -20,
          -20,
          -16,
          -18,
          -8,
          -12,
          -16,
          -18,
          -8,
          -18,
          -16,
          0,
          -22,
          -22,
          -12,
          -30,
          -4,
          -6,
          -26,
          -10,
          -18,
          -20,
          -6,
          -14,
          -18,
          -4,
          9,
          7,
          11,
          7,
          12,
          18,
          2,
          12,
          12,
          17,
          10,
          5,
          34,
          13,
          9,
          9,
          5,
          3,
          16,
          29,
          11,
          11,
          6,
          14,
          19,
          18,
          13,
          21,
          13,
          15,
          2,
          11,
          16,
          20,
          9,
          18,
          31,
          8,
          12,
          19,
          15,
          27,
          14,
          9,
          30,
          31,
          12,
          9,
          15,
          17,
          15,
          10,
          11,
          22,
          7,
          12,
          5,
          35,
          10,
          4,
          26,
          20,
          26,
          16,
          18,
          22,
          27,
          8,
          11,
          8,
          32,
          4,
          29,
          44,
          11,
          18,
          8,
          38,
          5,
          0,
          15,
          17,
          20,
          11,
          12,
          5,
          12,
          10,
          9,
          14,
          11,
          5,
          17,
          8,
          12,
          36,
          16,
          22,
          10,
          31,
          17,
          25,
          19,
          12,
          31,
          4,
          15,
          12,
          18,
          11,
          38,
          14,
          26,
          23,
          19,
          17,
          2,
          17,
          17,
          18,
          14,
          35,
          46,
          12,
          11,
          14,
          20,
          37,
          9,
          10,
          6,
          10,
          25,
          58,
          12,
          20,
          26,
          20,
          15,
          13,
          31,
          41,
          17,
          13,
          6,
          16,
          2,
          12,
          8,
          7,
          26,
          20,
          14,
          22,
          14,
          30,
          4,
          22,
          17,
          2,
          38,
          2,
          13,
          21,
          33,
          16,
          8,
          10,
          30,
          9,
          39,
          16,
          13,
          22,
          11,
          16,
          25,
          31,
          31,
          16,
          16,
          13,
          22,
          25,
          9,
          59,
          13,
          15,
          11,
          20,
          5,
          5,
          31,
          30,
          17,
          12,
          13,
          17,
          32,
          27,
          19,
          15,
          6,
          17,
          2,
          39,
          5,
          33,
          4,
          5,
          12,
          11,
          55,
          8,
          20,
          15,
          27,
          6,
          10,
          42,
          12,
          52,
          17,
          26,
          23,
          31,
          41,
          6,
          16,
          12,
          16,
          12,
          27,
          20,
          21,
          9,
          18,
          16,
          21,
          40,
          10,
          10,
          20,
          16,
          16,
          7,
          13,
          8,
          17,
          29,
          17,
          19,
          19,
          32,
          16,
          9,
          4,
          20,
          8,
          0,
          0,
          4,
          0,
          20,
          0,
          4,
          8,
          8,
          0,
          0,
          4,
          0,
          4,
          4,
          4,
          12,
          8,
          4,
          4,
          0,
          4,
          40,
          12,
          24,
          0,
          12,
          0,
          4,
          0,
          4,
          4,
          8,
          16,
          0,
          4,
          12,
          16,
          12,
          0,
          8,
          32,
          0,
          4,
          4,
          4,
          8,
          0,
          4,
          0,
          4,
          0,
          4,
          4,
          16,
          0,
          0,
          4,
          4,
          0,
          0,
          0,
          16,
          16,
          4,
          0,
          4,
          16,
          4,
          8,
          32,
          4,
          0,
          4,
          12,
          0,
          0,
          4,
          4,
          0,
          0,
          8,
          0,
          0,
          8,
          8,
          0,
          4,
          4,
          12,
          0,
          8,
          12,
          0,
          0,
          0,
          4,
          8,
          8,
          12,
          12,
          0,
          0,
          0,
          4,
          8,
          4,
          12,
          4,
          20,
          0,
          12,
          0,
          4,
          4,
          0,
          4,
          8,
          8,
          4,
          4,
          4,
          0,
          24,
          4,
          4,
          0,
          0,
          0,
          20,
          16,
          0,
          0,
          4,
          8,
          0,
          0,
          24,
          12,
          8,
          0,
          0,
          8,
          0,
          16,
          0,
          8,
          16,
          0,
          0,
          20,
          0,
          4,
          8,
          12,
          8,
          0,
          20,
          0,
          4,
          0,
          8,
          4,
          0,
          8,
          4,
          0,
          4,
          4,
          0,
          0,
          8,
          4,
          20,
          12,
          0,
          16,
          0,
          0,
          4,
          20,
          0,
          8,
          4,
          0,
          16,
          4,
          0,
          0,
          8,
          8,
          8,
          16,
          8,
          0,
          16,
          0,
          24,
          0,
          16,
          8,
          0,
          20,
          4,
          12,
          0,
          4,
          8,
          4,
          16,
          0,
          0,
          0,
          4,
          0,
          0,
          28,
          12,
          16,
          4,
          4,
          8,
          8,
          16,
          8,
          4,
          8,
          20,
          0,
          8,
          8,
          8,
          4,
          0,
          12,
          8,
          20,
          0,
          0,
          4,
          4,
          8,
          0,
          4,
          4,
          8,
          16,
          4,
          0,
          8,
          0,
          0,
          0,
          6,
          6,
          48,
          4,
          14,
          24,
          10,
          20,
          18,
          30,
          34,
          38,
          14,
          56,
          76,
          6,
          10,
          26,
          26,
          30,
          10,
          28,
          0,
          16,
          40,
          2,
          66,
          12,
          56,
          96,
          4,
          10,
          48,
          20,
          26,
          26,
          28,
          20,
          26,
          24,
          0,
          10,
          48,
          36,
          18,
          50,
          16,
          30,
          24,
          24,
          70,
          8,
          30,
          0,
          32,
          46,
          52,
          22,
          30,
          28,
          34,
          20,
          20,
          44,
          52,
          26,
          10,
          48,
          44,
          12,
          26,
          38,
          14,
          12,
          20,
          12,
          40,
          28,
          30,
          0,
          62,
          56,
          6,
          18,
          16,
          30,
          10,
          28,
          20,
          36,
          0,
          18,
          0,
          22,
          68,
          20,
          40,
          38,
          30,
          28,
          62,
          28,
          46,
          22,
          8,
          24,
          66,
          12,
          36,
          106,
          30,
          48,
          44,
          10,
          14,
          66,
          36,
          20,
          38,
          20,
          106,
          24,
          16,
          32,
          46,
          24,
          4,
          24,
          26,
          6,
          32,
          12,
          96,
          32,
          44,
          14,
          20,
          12,
          56,
          20,
          24,
          20,
          52,
          6,
          20,
          48,
          12,
          8,
          30,
          18,
          26,
          18,
          38,
          34,
          24,
          16,
          46,
          14,
          24,
          34,
          16,
          10,
          42,
          12,
          32,
          14,
          32,
          20,
          42,
          4,
          16,
          44,
          0,
          42,
          8,
          26,
          8,
          28,
          18,
          20,
          48,
          26,
          40,
          30,
          2,
          24,
          42,
          38,
          40,
          36,
          28,
          6,
          30,
          16,
          38,
          52,
          38,
          42,
          28,
          8,
          58,
          44,
          60,
          30,
          32,
          36,
          14,
          14,
          16,
          20,
          28,
          28,
          16,
          28,
          36,
          94,
          40,
          16,
          66,
          26,
          14,
          18,
          58,
          72,
          20,
          62,
          20,
          16,
          40,
          62,
          24,
          42,
          14,
          24,
          8,
          16,
          32,
          54,
          22,
          26,
          40,
          0,
          48,
          64,
          12,
          62,
          22,
          10,
          30,
          8,
          66,
          64,
          32,
          20,
          48,
          8,
          5,
          1,
          3,
          0,
          8,
          5,
          2,
          1,
          17,
          7,
          9,
          6,
          1,
          8,
          21,
          2,
          3,
          16,
          5,
          7,
          0,
          27,
          0,
          5,
          7,
          2,
          10,
          5,
          1,
          13,
          0,
          14,
          10,
          7,
          4,
          4,
          7,
          21,
          10,
          11,
          4,
          4,
          5,
          7,
          12,
          13,
          4,
          13,
          4,
          6,
          33,
          10,
          10,
          2,
          5,
          4,
          7,
          7,
          10,
          4,
          12,
          5,
          5,
          18,
          11,
          14,
          7,
          2,
          4,
          4,
          16,
          16,
          4,
          3,
          11,
          6,
          6,
          4,
          2,
          0,
          15,
          3,
          0,
          7,
          6,
          10,
          1,
          13,
          7,
          4,
          1,
          6,
          1,
          9,
          9,
          3,
          6,
          13,
          11,
          12,
          30,
          30,
          7,
          6,
          6,
          2,
          4,
          7,
          8,
          8,
          12,
          12,
          10,
          13,
          1,
          0,
          4,
          17,
          19,
          6,
          5,
          6,
          11,
          13,
          6,
          13,
          2,
          9,
          2,
          1,
          20,
          5,
          14,
          18,
          15,
          9,
          5,
          13,
          26,
          12,
          14,
          10,
          22,
          5,
          3,
          15,
          0,
          6,
          11,
          16,
          7,
          7,
          19,
          13,
          8,
          2,
          7,
          2,
          11,
          7,
          7,
          5,
          5,
          11,
          7,
          4,
          18,
          8,
          6,
          2,
          4,
          6,
          6,
          8,
          2,
          8,
          5,
          12,
          4,
          27,
          32,
          9,
          15,
          6,
          1,
          6,
          9,
          11,
          6,
          7,
          5,
          2,
          5,
          8,
          7,
          16,
          2,
          10,
          13,
          2,
          12,
          12,
          4,
          14,
          7,
          7,
          3,
          8,
          6,
          14,
          18,
          16,
          15,
          2,
          16,
          5,
          16,
          0,
          13,
          5,
          0,
          4,
          35,
          22,
          11,
          8,
          8,
          0,
          14,
          8,
          10,
          6,
          6,
          2,
          3,
          11,
          12,
          8,
          15,
          16,
          2,
          0,
          10,
          10,
          11,
          12,
          0,
          3,
          4,
          6,
          24,
          12,
          10,
          8,
          11,
          2,
          0,
          0,
          4,
          4,
          16,
          4,
          8,
          24,
          8,
          20,
          12,
          0,
          8,
          24,
          16,
          0,
          8,
          8,
          24,
          16,
          8,
          8,
          0,
          16,
          12,
          0,
          8,
          8,
          24,
          16,
          0,
          8,
          16,
          4,
          28,
          16,
          12,
          16,
          24,
          12,
          0,
          0,
          16,
          8,
          4,
          4,
          4,
          4,
          16,
          8,
          16,
          40,
          20,
          8,
          12,
          28,
          0,
          12,
          20,
          8,
          12,
          0,
          12,
          8,
          32,
          16,
          8,
          8,
          8,
          36,
          20,
          12,
          4,
          8,
          12,
          8,
          24,
          12,
          12,
          8,
          12,
          4,
          8,
          4,
          8,
          16,
          8,
          8,
          4,
          8,
          0,
          4,
          0,
          12,
          4,
          24,
          4,
          32,
          20,
          12,
          16,
          28,
          12,
          16,
          8,
          8,
          12,
          8,
          24,
          16,
          16,
          16,
          20,
          0,
          8,
          16,
          12,
          12,
          16,
          12,
          20,
          8,
          4,
          12,
          20,
          8,
          0,
          4,
          8,
          4,
          4,
          0,
          36,
          16,
          8,
          8,
          20,
          8,
          24,
          0,
          40,
          0,
          24,
          0,
          0,
          0,
          0,
          8,
          8,
          12,
          12,
          4,
          8,
          40,
          16,
          8,
          8,
          8,
          12,
          0,
          20,
          0,
          12,
          8,
          44,
          0,
          12,
          0,
          20,
          4,
          4,
          0,
          4,
          12,
          0,
          8,
          16,
          20,
          0,
          16,
          24,
          16,
          4,
          20,
          8,
          0,
          4,
          4,
          12,
          20,
          16,
          12,
          16,
          4,
          16,
          8,
          4,
          16,
          32,
          0,
          12,
          12,
          8,
          8,
          4,
          20,
          4,
          4,
          12,
          4,
          20,
          8,
          8,
          12,
          20,
          32,
          20,
          0,
          24,
          8,
          16,
          4,
          28,
          20,
          36,
          24,
          16,
          12,
          4,
          12,
          8,
          16,
          4,
          32,
          0,
          8,
          8,
          12,
          16,
          12,
          8,
          0,
          12,
          4,
          16,
          12,
          4,
          0,
          24,
          4,
          8,
          24,
          24,
          8,
          20,
          4,
          17,
          4,
          41,
          14,
          29,
          42,
          15,
          34,
          45,
          69,
          44,
          62,
          41,
          32,
          80,
          12,
          31,
          38,
          60,
          58,
          6,
          70,
          2,
          46,
          85,
          12,
          52,
          64,
          21,
          93,
          5,
          26,
          63,
          42,
          34,
          34,
          45,
          55,
          68,
          75,
          15,
          64,
          37,
          45,
          48,
          49,
          43,
          70,
          42,
          45,
          103,
          41,
          58,
          49,
          32,
          42,
          59,
          69,
          34,
          44,
          69,
          31,
          28,
          80,
          65,
          75,
          78,
          35,
          20,
          67,
          108,
          77,
          42,
          45,
          50,
          33,
          56,
          70,
          17,
          3,
          75,
          53,
          14,
          37,
          41,
          44,
          11,
          52,
          58,
          33,
          17,
          44,
          38,
          37,
          55,
          51,
          59,
          70,
          81,
          61,
          107,
          128,
          79,
          60,
          49,
          19,
          33,
          58,
          91,
          73,
          60,
          72,
          94,
          55,
          57,
          15,
          39,
          65,
          83,
          67,
          76,
          54,
          45,
          56,
          60,
          64,
          39,
          50,
          46,
          16,
          75,
          22,
          84,
          74,
          51,
          51,
          52,
          64,
          79,
          76,
          88,
          62,
          107,
          48,
          21,
          97,
          7,
          12,
          43,
          53,
          46,
          47,
          77,
          94,
          67,
          52,
          62,
          50,
          58,
          21,
          45,
          19,
          53,
          54,
          61,
          18,
          62,
          37,
          85,
          17,
          44,
          71,
          33,
          66,
          14,
          46,
          50,
          74,
          44,
          152,
          93,
          38,
          80,
          67,
          10,
          58,
          63,
          74,
          59,
          98,
          32,
          14,
          56,
          54,
          68,
          85,
          48,
          65,
          119,
          36,
          85,
          67,
          45,
          83,
          38,
          60,
          50,
          44,
          26,
          64,
          75,
          55,
          57,
          41,
          88,
          76,
          83,
          9,
          67,
          65,
          51,
          62,
          113,
          103,
          82,
          79,
          46,
          21,
          46,
          38,
          48,
          79,
          43,
          88,
          22,
          59,
          56,
          65,
          85,
          50,
          62,
          10,
          101,
          62,
          62,
          79,
          33,
          33,
          47,
          20,
          124,
          103,
          63,
          32,
          84,
          6,
          2,
          1,
          6,
          0,
          3,
          5,
          1,
          1,
          6,
          12,
          1,
          8,
          8,
          0,
          9,
          0,
          4,
          0,
          7,
          3,
          0,
          7,
          0,
          5,
          8,
          0,
          6,
          11,
          2,
          12,
          1,
          0,
          7,
          3,
          4,
          2,
          2,
          4,
          14,
          6,
          1,
          8,
          4,
          8,
          0,
          6,
          9,
          7,
          6,
          1,
          14,
          5,
          4,
          9,
          5,
          10,
          10,
          0,
          2,
          4,
          7,
          2,
          1,
          8,
          8,
          5,
          15,
          11,
          4,
          9,
          8,
          9,
          0,
          0,
          3,
          3,
          6,
          10,
          5,
          1,
          8,
          8,
          0,
          6,
          7,
          2,
          0,
          9,
          7,
          3,
          0,
          6,
          7,
          6,
          6,
          0,
          11,
          7,
          10,
          1,
          15,
          12,
          8,
          6,
          7,
          3,
          5,
          3,
          13,
          9,
          0,
          8,
          12,
          2,
          12,
          1,
          9,
          2,
          14,
          9,
          15,
          0,
          0,
          5,
          8,
          7,
          7,
          3,
          10,
          1,
          9,
          3,
          10,
          0,
          2,
          6,
          3,
          5,
          5,
          4,
          10,
          0,
          9,
          7,
          4,
          14,
          1,
          0,
          4,
          7,
          5,
          2,
          10,
          7,
          9,
          0,
          5,
          10,
          3,
          2,
          0,
          2,
          6,
          5,
          4,
          0,
          6,
          5,
          7,
          1,
          0,
          7,
          5,
          8,
          0,
          8,
          1,
          6,
          2,
          13,
          9,
          3,
          11,
          5,
          1,
          0,
          10,
          9,
          7,
          9,
          3,
          2,
          5,
          0,
          9,
          11,
          6,
          1,
          12,
          0,
          9,
          11,
          7,
          9,
          3,
          5,
          9,
          0,
          2,
          4,
          9,
          7,
          0,
          7,
          12,
          13,
          5,
          1,
          10,
          2,
          13,
          2,
          4,
          13,
          3,
          5,
          0,
          1,
          4,
          4,
          0,
          21,
          3,
          20,
          1,
          8,
          10,
          5,
          6,
          0,
          8,
          0,
          17,
          6,
          3,
          11,
          3,
          8,
          11,
          2,
          20,
          15,
          3,
          0,
          9,
          0,
          -9,
          -7,
          -32,
          -11,
          -30,
          -38,
          -12,
          -29,
          -32,
          -52,
          -43,
          -44,
          -34,
          -35,
          -51,
          -7,
          -23,
          -28,
          -49,
          -41,
          -11,
          -38,
          -2,
          -39,
          -59,
          -13,
          -53,
          -53,
          -31,
          -62,
          -8,
          -12,
          -46,
          -40,
          -24,
          -37,
          -35,
          -40,
          -47,
          -63,
          -12,
          -52,
          -29,
          -32,
          -27,
          -30,
          -30,
          -49,
          -24,
          -37,
          -71,
          -30,
          -49,
          -40,
          -22,
          -31,
          -45,
          -44,
          -21,
          -33,
          -49,
          -28,
          -39,
          -56,
          -67,
          -63,
          -59,
          -27,
          -13,
          -54,
          -77,
          -45,
          -24,
          -31,
          -38,
          -22,
          -56,
          -58,
          -20,
          -2,
          -50,
          -37,
          -14,
          -25,
          -26,
          -29,
          -14,
          -33,
          -39,
          -33,
          -12,
          -35,
          -20,
          -24,
          -45,
          -33,
          -42,
          -62,
          -65,
          -42,
          -72,
          -65,
          -76,
          -43,
          -53,
          -14,
          -28,
          -40,
          -63,
          -67,
          -37,
          -51,
          -74,
          -42,
          -45,
          -23,
          -21,
          -35,
          -55,
          -56,
          -55,
          -34,
          -28,
          -40,
          -45,
          -49,
          -35,
          -32,
          -30,
          -10,
          -47,
          -12,
          -65,
          -47,
          -31,
          -49,
          -41,
          -34,
          -69,
          -57,
          -67,
          -33,
          -79,
          -35,
          -12,
          -62,
          -5,
          -5,
          -25,
          -33,
          -31,
          -28,
          -54,
          -68,
          -51,
          -42,
          -48,
          -36,
          -48,
          -14,
          -28,
          -13,
          -40,
          -45,
          -52,
          -17,
          -42,
          -25,
          -74,
          -11,
          -30,
          -60,
          -21,
          -51,
          -8,
          -37,
          -49,
          -63,
          -33,
          -86,
          -74,
          -31,
          -60,
          -44,
          -9,
          -42,
          -50,
          -50,
          -44,
          -74,
          -25,
          -10,
          -48,
          -36,
          -56,
          -65,
          -38,
          -60,
          -83,
          -23,
          -73,
          -54,
          -36,
          -54,
          -29,
          -53,
          -41,
          -32,
          -18,
          -42,
          -48,
          -37,
          -37,
          -35,
          -69,
          -61,
          -69,
          -6,
          -50,
          -59,
          -48,
          -50,
          -85,
          -88,
          -65,
          -70,
          -33,
          -22,
          -48,
          -49,
          -32,
          -67,
          -38,
          -77,
          -18,
          -44,
          -46,
          -57,
          -65,
          -36,
          -44,
          -9,
          -66,
          -45,
          -60,
          -69,
          -22,
          -22,
          -54,
          -15,
          -80,
          -83,
          -52,
          -17,
          -64,
          -7,
          10,
          2,
          32,
          14,
          18,
          32,
          12,
          32,
          22,
          50,
          34,
          48,
          32,
          24,
          50,
          10,
          24,
          22,
          48,
          48,
          6,
          36,
          2,
          36,
          70,
          10,
          36,
          48,
          18,
          68,
          4,
          12,
          46,
          32,
          26,
          28,
          36,
          30,
          44,
          58,
          10,
          52,
          28,
          30,
          36,
          30,
          30,
          50,
          32,
          38,
          56,
          26,
          44,
          38,
          22,
          28,
          42,
          62,
          22,
          36,
          50,
          24,
          22,
          54,
          46,
          56,
          56,
          22,
          12,
          54,
          84,
          52,
          38,
          42,
          36,
          24,
          44,
          56,
          10,
          2,
          52,
          42,
          14,
          24,
          28,
          32,
          10,
          30,
          44,
          26,
          16,
          32,
          30,
          22,
          40,
          48,
          42,
          50,
          60,
          48,
          62,
          86,
          64,
          48,
          36,
          14,
          24,
          48,
          70,
          56,
          48,
          52,
          72,
          40,
          44,
          14,
          26,
          46,
          50,
          52,
          56,
          48,
          34,
          38,
          46,
          44,
          30,
          38,
          34,
          14,
          46,
          14,
          60,
          56,
          34,
          36,
          44,
          46,
          48,
          60,
          64,
          52,
          76,
          36,
          14,
          68,
          6,
          6,
          28,
          30,
          34,
          38,
          48,
          74,
          50,
          50,
          50,
          38,
          44,
          12,
          38,
          12,
          42,
          38,
          50,
          14,
          38,
          24,
          72,
          14,
          40,
          58,
          22,
          50,
          12,
          30,
          44,
          56,
          38,
          112,
          52,
          26,
          54,
          56,
          8,
          52,
          44,
          54,
          46,
          82,
          24,
          10,
          46,
          46,
          52,
          58,
          40,
          54,
          94,
          34,
          64,
          44,
          34,
          60,
          28,
          48,
          38,
          36,
          18,
          46,
          48,
          32,
          42,
          32,
          60,
          58,
          62,
          8,
          44,
          58,
          38,
          56,
          74,
          68,
          68,
          66,
          38,
          20,
          28,
          26,
          38,
          52,
          34,
          66,
          18,
          40,
          34,
          52,
          64,
          34,
          52,
          10,
          74,
          46,
          48,
          56,
          30,
          22,
          32,
          12,
          80,
          76,
          50,
          24,
          64,
          4,
          -5,
          -2,
          -3,
          0,
          -11,
          -7,
          -2,
          -4,
          -17,
          -10,
          -11,
          -6,
          -1,
          -9,
          -23,
          -2,
          -4,
          -17,
          -6,
          -12,
          0,
          -30,
          0,
          -8,
          -8,
          -4,
          -13,
          -6,
          -2,
          -13,
          0,
          -18,
          -11,
          -10,
          -7,
          -5,
          -12,
          -23,
          -13,
          -12,
          -6,
          -4,
          -5,
          -8,
          -18,
          -17,
          -5,
          -17,
          -4,
          -12,
          -35,
          -12,
          -12,
          -5,
          -5,
          -4,
          -8,
          -8,
          -10,
          -5,
          -17,
          -6,
          -10,
          -21,
          -11,
          -15,
          -9,
          -2,
          -4,
          -4,
          -19,
          -21,
          -6,
          -11,
          -12,
          -7,
          -8,
          -6,
          -2,
          0,
          -16,
          -3,
          -2,
          -7,
          -7,
          -12,
          -5,
          -14,
          -7,
          -4,
          -1,
          -6,
          -1,
          -9,
          -11,
          -6,
          -7,
          -14,
          -12,
          -15,
          -34,
          -32,
          -9,
          -6,
          -8,
          -2,
          -5,
          -7,
          -12,
          -11,
          -19,
          -12,
          -12,
          -19,
          -2,
          -1,
          -4,
          -20,
          -20,
          -9,
          -7,
          -6,
          -12,
          -15,
          -7,
          -17,
          -2,
          -11,
          -2,
          -4,
          -21,
          -6,
          -14,
          -21,
          -18,
          -11,
          -5,
          -16,
          -30,
          -16,
          -17,
          -13,
          -25,
          -5,
          -5,
          -19,
          0,
          -6,
          -13,
          -16,
          -9,
          -11,
          -19,
          -13,
          -8,
          -3,
          -9,
          -3,
          -14,
          -9,
          -7,
          -5,
          -5,
          -16,
          -12,
          -9,
          -19,
          -10,
          -6,
          -2,
          -6,
          -7,
          -8,
          -10,
          -4,
          -9,
          -7,
          -17,
          -6,
          -32,
          -35,
          -10,
          -18,
          -6,
          -2,
          -8,
          -13,
          -13,
          -7,
          -9,
          -5,
          -2,
          -6,
          -13,
          -9,
          -18,
          -2,
          -11,
          -13,
          -3,
          -14,
          -13,
          -6,
          -17,
          -7,
          -10,
          -5,
          -8,
          -6,
          -19,
          -20,
          -20,
          -16,
          -3,
          -18,
          -6,
          -19,
          0,
          -15,
          -10,
          0,
          -6,
          -38,
          -23,
          -12,
          -11,
          -11,
          0,
          -16,
          -10,
          -12,
          -8,
          -8,
          -4,
          -4,
          -11,
          -13,
          -13,
          -17,
          -18,
          -3,
          0,
          -11,
          -11,
          -15,
          -15,
          0,
          -4,
          -4,
          -6,
          -25,
          -16,
          -11,
          -8,
          -13,
          -2,
          37,
          28,
          110,
          30,
          47,
          77,
          24,
          107,
          67,
          131,
          88,
          109,
          99,
          103,
          169,
          26,
          54,
          52,
          135,
          126,
          32,
          103,
          12,
          85,
          158,
          65,
          121,
          126,
          100,
          238,
          6,
          51,
          131,
          76,
          80,
          82,
          118,
          87,
          122,
          136,
          41,
          115,
          106,
          103,
          117,
          112,
          81,
          101,
          101,
          90,
          177,
          90,
          104,
          79,
          80,
          129,
          118,
          153,
          89,
          70,
          140,
          64,
          55,
          141,
          136,
          144,
          133,
          103,
          82,
          126,
          204,
          136,
          103,
          120,
          81,
          67,
          100,
          158,
          55,
          12,
          153,
          147,
          38,
          65,
          85,
          94,
          31,
          99,
          103,
          79,
          32,
          74,
          76,
          77,
          118,
          135,
          117,
          134,
          125,
          132,
          189,
          240,
          156,
          119,
          80,
          56,
          110,
          99,
          175,
          175,
          152,
          139,
          200,
          62,
          112,
          101,
          93,
          120,
          148,
          109,
          228,
          135,
          116,
          111,
          139,
          100,
          85,
          112,
          99,
          34,
          104,
          38,
          250,
          190,
          105,
          76,
          120,
          124,
          146,
          98,
          193,
          141,
          199,
          71,
          49,
          173,
          19,
          55,
          86,
          94,
          116,
          85,
          131,
          213,
          117,
          105,
          111,
          111,
          95,
          55,
          135,
          32,
          120,
          74,
          151,
          38,
          111,
          67,
          164,
          36,
          105,
          131,
          50,
          131,
          39,
          80,
          103,
          155,
          92,
          234,
          149,
          84,
          134,
          169,
          26,
          147,
          110,
          128,
          130,
          179,
          69,
          35,
          141,
          111,
          142,
          141,
          105,
          122,
          242,
          75,
          186,
          120,
          126,
          140,
          64,
          160,
          71,
          99,
          60,
          94,
          136,
          98,
          138,
          74,
          149,
          206,
          143,
          26,
          145,
          159,
          98,
          146,
          186,
          183,
          146,
          176,
          127,
          56,
          80,
          103,
          100,
          133,
          77,
          161,
          51,
          88,
          95,
          136,
          147,
          126,
          119,
          21,
          187,
          134,
          89,
          125,
          83,
          56,
          89,
          66,
          220,
          194,
          140,
          85,
          157,
          20,
          3.5,
          2.65,
          10.41,
          2.84,
          4.45,
          7.28,
          2.27,
          10.12,
          6.34,
          12.39,
          8.33,
          10.31,
          9.37,
          9.74,
          12.39,
          1.91,
          3.96,
          3.81,
          9.9,
          9.24,
          2.35,
          7.55,
          0.88,
          6.23,
          11.58,
          4.77,
          8.87,
          9.24,
          7.33,
          17.13,
          0.43,
          3.67,
          9.43,
          5.47,
          5.76,
          5.9,
          8.5,
          6.26,
          8.78,
          9.79,
          2.95,
          8.28,
          7.63,
          7.55,
          8.58,
          8.21,
          5.94,
          7.4,
          7.4,
          6.6,
          12.98,
          6.6,
          7.62,
          5.79,
          5.87,
          9.46,
          8.26,
          10.71,
          6.23,
          4.9,
          9.8,
          4.48,
          3.85,
          9.87,
          9.52,
          10.08,
          9.31,
          7.21,
          5.74,
          9.58,
          15.51,
          10.34,
          7.83,
          9.13,
          6.16,
          5.1,
          7.6,
          12.02,
          4.18,
          0.91,
          11.63,
          14.7,
          3.8,
          6.5,
          8.5,
          9.4,
          3.1,
          9.9,
          10.3,
          7.9,
          3.2,
          7.4,
          7.6,
          7.7,
          6.9,
          7.89,
          6.84,
          7.83,
          7.31,
          7.71,
          11.05,
          14.03,
          9.12,
          6.95,
          4.68,
          3.27,
          6.43,
          6.28,
          11.1,
          11.1,
          9.64,
          8.82,
          12.69,
          3.93,
          7.11,
          6.41,
          5.9,
          7.61,
          9.39,
          7.94,
          16.62,
          9.84,
          8.45,
          8.09,
          10.13,
          7.29,
          6.2,
          8.16,
          7.22,
          2.48,
          7.58,
          2.11,
          13.89,
          10.56,
          5.83,
          4.22,
          6.67,
          6.89,
          8.11,
          5.44,
          10.72,
          7.83,
          11.06,
          3.94,
          2.72,
          12.22,
          1.34,
          3.88,
          6.07,
          6.64,
          8.19,
          6,
          9.25,
          15.04,
          8.26,
          7.42,
          7.84,
          7.84,
          6.96,
          4.03,
          9.9,
          2.35,
          8.8,
          5.43,
          11.07,
          2.79,
          8.14,
          4.91,
          12.02,
          2.64,
          7.7,
          9.6,
          3.67,
          7.92,
          2.36,
          4.84,
          6.23,
          9.38,
          5.57,
          14.16,
          9.01,
          5.08,
          8.11,
          10.22,
          1.57,
          8.89,
          6.65,
          7.09,
          7.2,
          9.91,
          3.82,
          1.94,
          7.81,
          6.15,
          7.86,
          7.81,
          5.81,
          6.76,
          13.4,
          4.15,
          10.3,
          8.7,
          9.13,
          10.14,
          4.64,
          11.59,
          5.14,
          7.17,
          4.35,
          6.81,
          9.86,
          7.1,
          10,
          5.36,
          7.66,
          10.59,
          7.35,
          1.34,
          7.45,
          8.17,
          5.04,
          7.5,
          9.56,
          9.4,
          7.5,
          9.04,
          6.53,
          2.88,
          5.57,
          7.17,
          6.96,
          9.26,
          5.36,
          11.2,
          3.55,
          6.12,
          6.61,
          9.46,
          10.23,
          8.77,
          8.28,
          1.46,
          11.37,
          8.15,
          5.41,
          7.6,
          5.05,
          3.4,
          5.41,
          4.01,
          13.37,
          11.79,
          8.51,
          5.17,
          9.54,
          1.22
         ],
         "y0": " ",
         "yaxis": "y"
        }
       ],
       "layout": {
        "boxmode": "group",
        "legend": {
         "tracegroupgap": 0
        },
        "template": {
         "data": {
          "bar": [
           {
            "error_x": {
             "color": "#2a3f5f"
            },
            "error_y": {
             "color": "#2a3f5f"
            },
            "marker": {
             "line": {
              "color": "#E5ECF6",
              "width": 0.5
             },
             "pattern": {
              "fillmode": "overlay",
              "size": 10,
              "solidity": 0.2
             }
            },
            "type": "bar"
           }
          ],
          "barpolar": [
           {
            "marker": {
             "line": {
              "color": "#E5ECF6",
              "width": 0.5
             },
             "pattern": {
              "fillmode": "overlay",
              "size": 10,
              "solidity": 0.2
             }
            },
            "type": "barpolar"
           }
          ],
          "carpet": [
           {
            "aaxis": {
             "endlinecolor": "#2a3f5f",
             "gridcolor": "white",
             "linecolor": "white",
             "minorgridcolor": "white",
             "startlinecolor": "#2a3f5f"
            },
            "baxis": {
             "endlinecolor": "#2a3f5f",
             "gridcolor": "white",
             "linecolor": "white",
             "minorgridcolor": "white",
             "startlinecolor": "#2a3f5f"
            },
            "type": "carpet"
           }
          ],
          "choropleth": [
           {
            "colorbar": {
             "outlinewidth": 0,
             "ticks": ""
            },
            "type": "choropleth"
           }
          ],
          "contour": [
           {
            "colorbar": {
             "outlinewidth": 0,
             "ticks": ""
            },
            "colorscale": [
             [
              0,
              "#0d0887"
             ],
             [
              0.1111111111111111,
              "#46039f"
             ],
             [
              0.2222222222222222,
              "#7201a8"
             ],
             [
              0.3333333333333333,
              "#9c179e"
             ],
             [
              0.4444444444444444,
              "#bd3786"
             ],
             [
              0.5555555555555556,
              "#d8576b"
             ],
             [
              0.6666666666666666,
              "#ed7953"
             ],
             [
              0.7777777777777778,
              "#fb9f3a"
             ],
             [
              0.8888888888888888,
              "#fdca26"
             ],
             [
              1,
              "#f0f921"
             ]
            ],
            "type": "contour"
           }
          ],
          "contourcarpet": [
           {
            "colorbar": {
             "outlinewidth": 0,
             "ticks": ""
            },
            "type": "contourcarpet"
           }
          ],
          "heatmap": [
           {
            "colorbar": {
             "outlinewidth": 0,
             "ticks": ""
            },
            "colorscale": [
             [
              0,
              "#0d0887"
             ],
             [
              0.1111111111111111,
              "#46039f"
             ],
             [
              0.2222222222222222,
              "#7201a8"
             ],
             [
              0.3333333333333333,
              "#9c179e"
             ],
             [
              0.4444444444444444,
              "#bd3786"
             ],
             [
              0.5555555555555556,
              "#d8576b"
             ],
             [
              0.6666666666666666,
              "#ed7953"
             ],
             [
              0.7777777777777778,
              "#fb9f3a"
             ],
             [
              0.8888888888888888,
              "#fdca26"
             ],
             [
              1,
              "#f0f921"
             ]
            ],
            "type": "heatmap"
           }
          ],
          "heatmapgl": [
           {
            "colorbar": {
             "outlinewidth": 0,
             "ticks": ""
            },
            "colorscale": [
             [
              0,
              "#0d0887"
             ],
             [
              0.1111111111111111,
              "#46039f"
             ],
             [
              0.2222222222222222,
              "#7201a8"
             ],
             [
              0.3333333333333333,
              "#9c179e"
             ],
             [
              0.4444444444444444,
              "#bd3786"
             ],
             [
              0.5555555555555556,
              "#d8576b"
             ],
             [
              0.6666666666666666,
              "#ed7953"
             ],
             [
              0.7777777777777778,
              "#fb9f3a"
             ],
             [
              0.8888888888888888,
              "#fdca26"
             ],
             [
              1,
              "#f0f921"
             ]
            ],
            "type": "heatmapgl"
           }
          ],
          "histogram": [
           {
            "marker": {
             "pattern": {
              "fillmode": "overlay",
              "size": 10,
              "solidity": 0.2
             }
            },
            "type": "histogram"
           }
          ],
          "histogram2d": [
           {
            "colorbar": {
             "outlinewidth": 0,
             "ticks": ""
            },
            "colorscale": [
             [
              0,
              "#0d0887"
             ],
             [
              0.1111111111111111,
              "#46039f"
             ],
             [
              0.2222222222222222,
              "#7201a8"
             ],
             [
              0.3333333333333333,
              "#9c179e"
             ],
             [
              0.4444444444444444,
              "#bd3786"
             ],
             [
              0.5555555555555556,
              "#d8576b"
             ],
             [
              0.6666666666666666,
              "#ed7953"
             ],
             [
              0.7777777777777778,
              "#fb9f3a"
             ],
             [
              0.8888888888888888,
              "#fdca26"
             ],
             [
              1,
              "#f0f921"
             ]
            ],
            "type": "histogram2d"
           }
          ],
          "histogram2dcontour": [
           {
            "colorbar": {
             "outlinewidth": 0,
             "ticks": ""
            },
            "colorscale": [
             [
              0,
              "#0d0887"
             ],
             [
              0.1111111111111111,
              "#46039f"
             ],
             [
              0.2222222222222222,
              "#7201a8"
             ],
             [
              0.3333333333333333,
              "#9c179e"
             ],
             [
              0.4444444444444444,
              "#bd3786"
             ],
             [
              0.5555555555555556,
              "#d8576b"
             ],
             [
              0.6666666666666666,
              "#ed7953"
             ],
             [
              0.7777777777777778,
              "#fb9f3a"
             ],
             [
              0.8888888888888888,
              "#fdca26"
             ],
             [
              1,
              "#f0f921"
             ]
            ],
            "type": "histogram2dcontour"
           }
          ],
          "mesh3d": [
           {
            "colorbar": {
             "outlinewidth": 0,
             "ticks": ""
            },
            "type": "mesh3d"
           }
          ],
          "parcoords": [
           {
            "line": {
             "colorbar": {
              "outlinewidth": 0,
              "ticks": ""
             }
            },
            "type": "parcoords"
           }
          ],
          "pie": [
           {
            "automargin": true,
            "type": "pie"
           }
          ],
          "scatter": [
           {
            "fillpattern": {
             "fillmode": "overlay",
             "size": 10,
             "solidity": 0.2
            },
            "type": "scatter"
           }
          ],
          "scatter3d": [
           {
            "line": {
             "colorbar": {
              "outlinewidth": 0,
              "ticks": ""
             }
            },
            "marker": {
             "colorbar": {
              "outlinewidth": 0,
              "ticks": ""
             }
            },
            "type": "scatter3d"
           }
          ],
          "scattercarpet": [
           {
            "marker": {
             "colorbar": {
              "outlinewidth": 0,
              "ticks": ""
             }
            },
            "type": "scattercarpet"
           }
          ],
          "scattergeo": [
           {
            "marker": {
             "colorbar": {
              "outlinewidth": 0,
              "ticks": ""
             }
            },
            "type": "scattergeo"
           }
          ],
          "scattergl": [
           {
            "marker": {
             "colorbar": {
              "outlinewidth": 0,
              "ticks": ""
             }
            },
            "type": "scattergl"
           }
          ],
          "scattermapbox": [
           {
            "marker": {
             "colorbar": {
              "outlinewidth": 0,
              "ticks": ""
             }
            },
            "type": "scattermapbox"
           }
          ],
          "scatterpolar": [
           {
            "marker": {
             "colorbar": {
              "outlinewidth": 0,
              "ticks": ""
             }
            },
            "type": "scatterpolar"
           }
          ],
          "scatterpolargl": [
           {
            "marker": {
             "colorbar": {
              "outlinewidth": 0,
              "ticks": ""
             }
            },
            "type": "scatterpolargl"
           }
          ],
          "scatterternary": [
           {
            "marker": {
             "colorbar": {
              "outlinewidth": 0,
              "ticks": ""
             }
            },
            "type": "scatterternary"
           }
          ],
          "surface": [
           {
            "colorbar": {
             "outlinewidth": 0,
             "ticks": ""
            },
            "colorscale": [
             [
              0,
              "#0d0887"
             ],
             [
              0.1111111111111111,
              "#46039f"
             ],
             [
              0.2222222222222222,
              "#7201a8"
             ],
             [
              0.3333333333333333,
              "#9c179e"
             ],
             [
              0.4444444444444444,
              "#bd3786"
             ],
             [
              0.5555555555555556,
              "#d8576b"
             ],
             [
              0.6666666666666666,
              "#ed7953"
             ],
             [
              0.7777777777777778,
              "#fb9f3a"
             ],
             [
              0.8888888888888888,
              "#fdca26"
             ],
             [
              1,
              "#f0f921"
             ]
            ],
            "type": "surface"
           }
          ],
          "table": [
           {
            "cells": {
             "fill": {
              "color": "#EBF0F8"
             },
             "line": {
              "color": "white"
             }
            },
            "header": {
             "fill": {
              "color": "#C8D4E3"
             },
             "line": {
              "color": "white"
             }
            },
            "type": "table"
           }
          ]
         },
         "layout": {
          "annotationdefaults": {
           "arrowcolor": "#2a3f5f",
           "arrowhead": 0,
           "arrowwidth": 1
          },
          "autotypenumbers": "strict",
          "coloraxis": {
           "colorbar": {
            "outlinewidth": 0,
            "ticks": ""
           }
          },
          "colorscale": {
           "diverging": [
            [
             0,
             "#8e0152"
            ],
            [
             0.1,
             "#c51b7d"
            ],
            [
             0.2,
             "#de77ae"
            ],
            [
             0.3,
             "#f1b6da"
            ],
            [
             0.4,
             "#fde0ef"
            ],
            [
             0.5,
             "#f7f7f7"
            ],
            [
             0.6,
             "#e6f5d0"
            ],
            [
             0.7,
             "#b8e186"
            ],
            [
             0.8,
             "#7fbc41"
            ],
            [
             0.9,
             "#4d9221"
            ],
            [
             1,
             "#276419"
            ]
           ],
           "sequential": [
            [
             0,
             "#0d0887"
            ],
            [
             0.1111111111111111,
             "#46039f"
            ],
            [
             0.2222222222222222,
             "#7201a8"
            ],
            [
             0.3333333333333333,
             "#9c179e"
            ],
            [
             0.4444444444444444,
             "#bd3786"
            ],
            [
             0.5555555555555556,
             "#d8576b"
            ],
            [
             0.6666666666666666,
             "#ed7953"
            ],
            [
             0.7777777777777778,
             "#fb9f3a"
            ],
            [
             0.8888888888888888,
             "#fdca26"
            ],
            [
             1,
             "#f0f921"
            ]
           ],
           "sequentialminus": [
            [
             0,
             "#0d0887"
            ],
            [
             0.1111111111111111,
             "#46039f"
            ],
            [
             0.2222222222222222,
             "#7201a8"
            ],
            [
             0.3333333333333333,
             "#9c179e"
            ],
            [
             0.4444444444444444,
             "#bd3786"
            ],
            [
             0.5555555555555556,
             "#d8576b"
            ],
            [
             0.6666666666666666,
             "#ed7953"
            ],
            [
             0.7777777777777778,
             "#fb9f3a"
            ],
            [
             0.8888888888888888,
             "#fdca26"
            ],
            [
             1,
             "#f0f921"
            ]
           ]
          },
          "colorway": [
           "#636efa",
           "#EF553B",
           "#00cc96",
           "#ab63fa",
           "#FFA15A",
           "#19d3f3",
           "#FF6692",
           "#B6E880",
           "#FF97FF",
           "#FECB52"
          ],
          "font": {
           "color": "#2a3f5f"
          },
          "geo": {
           "bgcolor": "white",
           "lakecolor": "white",
           "landcolor": "#E5ECF6",
           "showlakes": true,
           "showland": true,
           "subunitcolor": "white"
          },
          "hoverlabel": {
           "align": "left"
          },
          "hovermode": "closest",
          "mapbox": {
           "style": "light"
          },
          "paper_bgcolor": "white",
          "plot_bgcolor": "#E5ECF6",
          "polar": {
           "angularaxis": {
            "gridcolor": "white",
            "linecolor": "white",
            "ticks": ""
           },
           "bgcolor": "#E5ECF6",
           "radialaxis": {
            "gridcolor": "white",
            "linecolor": "white",
            "ticks": ""
           }
          },
          "scene": {
           "xaxis": {
            "backgroundcolor": "#E5ECF6",
            "gridcolor": "white",
            "gridwidth": 2,
            "linecolor": "white",
            "showbackground": true,
            "ticks": "",
            "zerolinecolor": "white"
           },
           "yaxis": {
            "backgroundcolor": "#E5ECF6",
            "gridcolor": "white",
            "gridwidth": 2,
            "linecolor": "white",
            "showbackground": true,
            "ticks": "",
            "zerolinecolor": "white"
           },
           "zaxis": {
            "backgroundcolor": "#E5ECF6",
            "gridcolor": "white",
            "gridwidth": 2,
            "linecolor": "white",
            "showbackground": true,
            "ticks": "",
            "zerolinecolor": "white"
           }
          },
          "shapedefaults": {
           "line": {
            "color": "#2a3f5f"
           }
          },
          "ternary": {
           "aaxis": {
            "gridcolor": "white",
            "linecolor": "white",
            "ticks": ""
           },
           "baxis": {
            "gridcolor": "white",
            "linecolor": "white",
            "ticks": ""
           },
           "bgcolor": "#E5ECF6",
           "caxis": {
            "gridcolor": "white",
            "linecolor": "white",
            "ticks": ""
           }
          },
          "title": {
           "x": 0.05
          },
          "xaxis": {
           "automargin": true,
           "gridcolor": "white",
           "linecolor": "white",
           "ticks": "",
           "title": {
            "standoff": 15
           },
           "zerolinecolor": "white",
           "zerolinewidth": 2
          },
          "yaxis": {
           "automargin": true,
           "gridcolor": "white",
           "linecolor": "white",
           "ticks": "",
           "title": {
            "standoff": 15
           },
           "zerolinecolor": "white",
           "zerolinewidth": 2
          }
         }
        },
        "title": {
         "text": "Boxplot of Continuous Variables"
        },
        "xaxis": {
         "anchor": "y",
         "domain": [
          0,
          1
         ],
         "title": {
          "text": "variable"
         }
        },
        "yaxis": {
         "anchor": "x",
         "domain": [
          0,
          1
         ],
         "title": {
          "text": "value"
         }
        }
       }
      }
     },
     "metadata": {},
     "output_type": "display_data"
    },
    {
     "name": "stdout",
     "output_type": "stream",
     "text": [
      "Number of outliers by variable:\n",
      "TO                                2\n",
      "REB                               9\n",
      "BLK                               8\n",
      "AST                               5\n",
      "FTM                               8\n",
      "STL                               7\n",
      "PTS                               4\n",
      "3PTM                              3\n",
      "FGA                               0\n",
      "FGM                               2\n",
      "FTA                               8\n",
      "Fantasy Points                    6\n",
      "Weekly Contribution Percentage    3\n",
      "dtype: int64\n"
     ]
    }
   ],
   "source": [
    "# Create a boxplot to visualize the distrubtion as well as outliers\n",
    "fig = px.box(cleaned_df[continuous_vars], title='Boxplot of Continuous Variables')\n",
    "# Display the plot\n",
    "fig.show()\n",
    "\n",
    "# Calculate the number of outliers for each continuous variable\n",
    "\n",
    "# Calculate the first and third quartile\n",
    "Q1 = cleaned_df[continuous_vars].quantile(0.25)\n",
    "Q3 = cleaned_df[continuous_vars].quantile(0.75)\n",
    "\n",
    "# Calculate the IQR\n",
    "IQR = Q3 - Q1\n",
    "\n",
    "# Calculate the number of outliers\n",
    "outliers = ((cleaned_df[continuous_vars] < (Q1 - 1.5 * IQR)) | (cleaned_df[continuous_vars] > (Q3 + 1.5 * IQR))).sum()\n",
    "\n",
    "# Print\n",
    "print(\"Number of outliers by variable:\")\n",
    "print(outliers)"
   ]
  },
  {
   "cell_type": "markdown",
   "metadata": {},
   "source": [
    "Visualization of Player Weekly Points"
   ]
  },
  {
   "cell_type": "code",
   "execution_count": 17,
   "metadata": {},
   "outputs": [
    {
     "data": {
      "application/vnd.plotly.v1+json": {
       "config": {
        "plotlyServerURL": "https://plot.ly"
       },
       "data": [
        {
         "alignmentgroup": "True",
         "hovertemplate": "Week=1<br>Player=%{x}<br>Fantasy Points=%{y}<extra></extra>",
         "legendgroup": "1",
         "marker": {
          "color": "#636efa",
          "pattern": {
           "shape": ""
          }
         },
         "name": "1",
         "offsetgroup": "1",
         "orientation": "v",
         "showlegend": true,
         "textposition": "auto",
         "type": "bar",
         "x": [
          "Josh Okogie",
          "Ausar Thompson",
          "Tyrese Haliburton",
          "Onyeka Okongwu",
          "Austin Reaves",
          "Keldon Johnson",
          "Darius Garland",
          "Aaron Gordon",
          "Damian Lillard",
          "Kawhi Leonard",
          "Dejounte Murray",
          "Jamal Murray",
          "Michael Porter Jr.",
          "Chris Paul"
         ],
         "xaxis": "x",
         "y": [
          37,
          28,
          110,
          30,
          47,
          77,
          24,
          107,
          67,
          131,
          88,
          109,
          99,
          103
         ],
         "yaxis": "y"
        },
        {
         "alignmentgroup": "True",
         "hovertemplate": "Week=2<br>Player=%{x}<br>Fantasy Points=%{y}<extra></extra>",
         "legendgroup": "2",
         "marker": {
          "color": "#EF553B",
          "pattern": {
           "shape": ""
          }
         },
         "name": "2",
         "offsetgroup": "2",
         "orientation": "v",
         "showlegend": true,
         "textposition": "auto",
         "type": "bar",
         "x": [
          "Tyrese Haliburton",
          "Jarrett Allen",
          "Austin Reaves",
          "Darius Garland",
          "Keldon Johnson",
          "Aaron Gordon",
          "Xavier Tillman",
          "Damian Lillard",
          "Dereck Lively II",
          "Kawhi Leonard",
          "Dejounte Murray",
          "Walker Kessler",
          "Jamal Murray",
          "Michael Porter Jr.",
          "Chris Paul"
         ],
         "xaxis": "x",
         "y": [
          169,
          26,
          54,
          52,
          135,
          126,
          32,
          103,
          12,
          85,
          158,
          65,
          121,
          126,
          100
         ],
         "yaxis": "y"
        },
        {
         "alignmentgroup": "True",
         "hovertemplate": "Week=3<br>Player=%{x}<br>Fantasy Points=%{y}<extra></extra>",
         "legendgroup": "3",
         "marker": {
          "color": "#00cc96",
          "pattern": {
           "shape": ""
          }
         },
         "name": "3",
         "offsetgroup": "3",
         "orientation": "v",
         "showlegend": true,
         "textposition": "auto",
         "type": "bar",
         "x": [
          "Tyrese Haliburton",
          "Lonnie Walker IV",
          "Jarrett Allen",
          "Austin Reaves",
          "Keldon Johnson",
          "Darius Garland",
          "Deni Avdija",
          "Aaron Gordon",
          "Damian Lillard",
          "Dejounte Murray",
          "Kawhi Leonard",
          "Walker Kessler",
          "Michael Porter Jr.",
          "Chris Paul"
         ],
         "xaxis": "x",
         "y": [
          238,
          6,
          51,
          131,
          76,
          80,
          82,
          118,
          87,
          122,
          136,
          41,
          115,
          106
         ],
         "yaxis": "y"
        },
        {
         "alignmentgroup": "True",
         "hovertemplate": "Week=4<br>Player=%{x}<br>Fantasy Points=%{y}<extra></extra>",
         "legendgroup": "4",
         "marker": {
          "color": "#ab63fa",
          "pattern": {
           "shape": ""
          }
         },
         "name": "4",
         "offsetgroup": "4",
         "orientation": "v",
         "showlegend": true,
         "textposition": "auto",
         "type": "bar",
         "x": [
          "Tyrese Haliburton",
          "Jarrett Allen",
          "Austin Reaves",
          "Keldon Johnson",
          "Darius Garland",
          "Deni Avdija",
          "Aaron Gordon",
          "Damian Lillard",
          "Kawhi Leonard",
          "Dejounte Murray",
          "Michael Porter Jr.",
          "Mike Conley",
          "Chris Paul"
         ],
         "xaxis": "x",
         "y": [
          103,
          117,
          112,
          81,
          101,
          101,
          90,
          177,
          90,
          104,
          79,
          80,
          129
         ],
         "yaxis": "y"
        },
        {
         "alignmentgroup": "True",
         "hovertemplate": "Week=5<br>Player=%{x}<br>Fantasy Points=%{y}<extra></extra>",
         "legendgroup": "5",
         "marker": {
          "color": "#FFA15A",
          "pattern": {
           "shape": ""
          }
         },
         "name": "5",
         "offsetgroup": "5",
         "orientation": "v",
         "showlegend": true,
         "textposition": "auto",
         "type": "bar",
         "x": [
          "Tyrese Haliburton",
          "Jarrett Allen",
          "Austin Reaves",
          "Darius Garland",
          "Keldon Johnson",
          "Deni Avdija",
          "Aaron Gordon",
          "Damian Lillard",
          "Dejounte Murray",
          "Kawhi Leonard",
          "Michael Porter Jr.",
          "Mike Conley",
          "Chris Paul"
         ],
         "xaxis": "x",
         "y": [
          118,
          153,
          89,
          70,
          140,
          64,
          55,
          141,
          136,
          144,
          133,
          103,
          82
         ],
         "yaxis": "y"
        },
        {
         "alignmentgroup": "True",
         "hovertemplate": "Week=6<br>Player=%{x}<br>Fantasy Points=%{y}<extra></extra>",
         "legendgroup": "6",
         "marker": {
          "color": "#19d3f3",
          "pattern": {
           "shape": ""
          }
         },
         "name": "6",
         "offsetgroup": "6",
         "orientation": "v",
         "showlegend": true,
         "textposition": "auto",
         "type": "bar",
         "x": [
          "Dejounte Murray",
          "Kawhi Leonard",
          "Tyrese Haliburton",
          "Jarrett Allen",
          "Jalen Duren",
          "Austin Reaves",
          "Keldon Johnson",
          "Darius Garland",
          "Michael Porter Jr.",
          "Mike Conley",
          "Chris Paul",
          "Damian Lillard"
         ],
         "xaxis": "x",
         "y": [
          126,
          204,
          136,
          103,
          120,
          81,
          67,
          100,
          158,
          55,
          12,
          153
         ],
         "yaxis": "y"
        },
        {
         "alignmentgroup": "True",
         "hovertemplate": "Week=7<br>Player=%{x}<br>Fantasy Points=%{y}<extra></extra>",
         "legendgroup": "7",
         "marker": {
          "color": "#FF6692",
          "pattern": {
           "shape": ""
          }
         },
         "name": "7",
         "offsetgroup": "7",
         "orientation": "v",
         "showlegend": true,
         "textposition": "auto",
         "type": "bar",
         "x": [
          "Tyrese Haliburton",
          "Jarrett Allen",
          "Austin Reaves",
          "Keldon Johnson",
          "Darius Garland",
          "Aaron Gordon",
          "Damian Lillard",
          "Kawhi Leonard",
          "Dejounte Murray",
          "Jalen Duren",
          "Jamal Murray",
          "Michael Porter Jr.",
          "Mike Conley"
         ],
         "xaxis": "x",
         "y": [
          147,
          38,
          65,
          85,
          94,
          31,
          99,
          103,
          79,
          32,
          74,
          76,
          77
         ],
         "yaxis": "y"
        },
        {
         "alignmentgroup": "True",
         "hovertemplate": "Week=8<br>Player=%{x}<br>Fantasy Points=%{y}<extra></extra>",
         "legendgroup": "8",
         "marker": {
          "color": "#B6E880",
          "pattern": {
           "shape": ""
          }
         },
         "name": "8",
         "offsetgroup": "8",
         "orientation": "v",
         "showlegend": true,
         "textposition": "auto",
         "type": "bar",
         "x": [
          "Tyrese Haliburton",
          "Jarrett Allen",
          "Austin Reaves",
          "Keldon Johnson",
          "Darius Garland",
          "Aaron Gordon",
          "Damian Lillard",
          "Kawhi Leonard",
          "Dejounte Murray",
          "Jamal Murray",
          "Michael Porter Jr.",
          "Mike Conley",
          "Chris Paul"
         ],
         "xaxis": "x",
         "y": [
          118,
          135,
          117,
          134,
          125,
          132,
          189,
          240,
          156,
          119,
          80,
          56,
          110
         ],
         "yaxis": "y"
        },
        {
         "alignmentgroup": "True",
         "hovertemplate": "Week=9<br>Player=%{x}<br>Fantasy Points=%{y}<extra></extra>",
         "legendgroup": "9",
         "marker": {
          "color": "#FF97FF",
          "pattern": {
           "shape": ""
          }
         },
         "name": "9",
         "offsetgroup": "9",
         "orientation": "v",
         "showlegend": true,
         "textposition": "auto",
         "type": "bar",
         "x": [
          "Kawhi Leonard",
          "Dejounte Murray",
          "Tyrese Haliburton",
          "Jarrett Allen",
          "Austin Reaves",
          "Jamal Murray",
          "Keldon Johnson",
          "Michael Porter Jr.",
          "Chris Paul",
          "Mike Conley",
          "Aaron Gordon",
          "Damian Lillard"
         ],
         "xaxis": "x",
         "y": [
          99,
          175,
          175,
          152,
          139,
          200,
          62,
          112,
          101,
          93,
          120,
          148
         ],
         "yaxis": "y"
        },
        {
         "alignmentgroup": "True",
         "hovertemplate": "Week=10<br>Player=%{x}<br>Fantasy Points=%{y}<extra></extra>",
         "legendgroup": "10",
         "marker": {
          "color": "#FECB52",
          "pattern": {
           "shape": ""
          }
         },
         "name": "10",
         "offsetgroup": "10",
         "orientation": "v",
         "showlegend": true,
         "textposition": "auto",
         "type": "bar",
         "x": [
          "Dejounte Murray",
          "Tyrese Haliburton",
          "Jarrett Allen",
          "Jalen Duren",
          "Austin Reaves",
          "Jamal Murray",
          "Keldon Johnson",
          "Michael Porter Jr.",
          "Jalen Johnson",
          "Chris Paul",
          "Aaron Gordon",
          "Damian Lillard"
         ],
         "xaxis": "x",
         "y": [
          109,
          228,
          135,
          116,
          111,
          139,
          100,
          85,
          112,
          99,
          34,
          104
         ],
         "yaxis": "y"
        },
        {
         "alignmentgroup": "True",
         "hovertemplate": "Week=11<br>Player=%{x}<br>Fantasy Points=%{y}<extra></extra>",
         "legendgroup": "11",
         "marker": {
          "color": "#636efa",
          "pattern": {
           "shape": ""
          }
         },
         "name": "11",
         "offsetgroup": "11",
         "orientation": "v",
         "showlegend": true,
         "textposition": "auto",
         "type": "bar",
         "x": [
          "Coby White",
          "Tyrese Haliburton",
          "Jarrett Allen",
          "Austin Reaves",
          "Keldon Johnson",
          "Jalen Johnson",
          "Aaron Gordon",
          "Damian Lillard",
          "Dejounte Murray",
          "Kawhi Leonard",
          "Jalen Duren",
          "Jamal Murray",
          "Michael Porter Jr.",
          "Chris Paul"
         ],
         "xaxis": "x",
         "y": [
          38,
          250,
          190,
          105,
          76,
          120,
          124,
          146,
          98,
          193,
          141,
          199,
          71,
          49
         ],
         "yaxis": "y"
        },
        {
         "alignmentgroup": "True",
         "hovertemplate": "Week=12<br>Player=%{x}<br>Fantasy Points=%{y}<extra></extra>",
         "legendgroup": "12",
         "marker": {
          "color": "#EF553B",
          "pattern": {
           "shape": ""
          }
         },
         "name": "12",
         "offsetgroup": "12",
         "orientation": "v",
         "showlegend": true,
         "textposition": "auto",
         "type": "bar",
         "x": [
          "Coby White",
          "Tyrese Haliburton",
          "Jarrett Allen",
          "Austin Reaves",
          "Keldon Johnson",
          "Jalen Johnson",
          "Aaron Gordon",
          "Damian Lillard",
          "Kawhi Leonard",
          "Dejounte Murray",
          "Jalen Duren",
          "Jamal Murray",
          "Michael Porter Jr."
         ],
         "xaxis": "x",
         "y": [
          173,
          19,
          55,
          86,
          94,
          116,
          85,
          131,
          213,
          117,
          105,
          111,
          111
         ],
         "yaxis": "y"
        },
        {
         "alignmentgroup": "True",
         "hovertemplate": "Week=13<br>Player=%{x}<br>Fantasy Points=%{y}<extra></extra>",
         "legendgroup": "13",
         "marker": {
          "color": "#00cc96",
          "pattern": {
           "shape": ""
          }
         },
         "name": "13",
         "offsetgroup": "13",
         "orientation": "v",
         "showlegend": true,
         "textposition": "auto",
         "type": "bar",
         "x": [
          "Coby White",
          "Tyrese Haliburton",
          "Jarrett Allen",
          "Franz Wagner",
          "Austin Reaves",
          "Keldon Johnson",
          "Jalen Johnson",
          "Aaron Gordon",
          "Damian Lillard",
          "Kawhi Leonard",
          "Dejounte Murray",
          "Wendell Carter Jr.",
          "Jalen Duren",
          "Jamal Murray",
          "Michael Porter Jr."
         ],
         "xaxis": "x",
         "y": [
          95,
          55,
          135,
          32,
          120,
          74,
          151,
          38,
          111,
          67,
          164,
          36,
          105,
          131,
          50
         ],
         "yaxis": "y"
        },
        {
         "alignmentgroup": "True",
         "hovertemplate": "Week=14<br>Player=%{x}<br>Fantasy Points=%{y}<extra></extra>",
         "legendgroup": "14",
         "marker": {
          "color": "#ab63fa",
          "pattern": {
           "shape": ""
          }
         },
         "name": "14",
         "offsetgroup": "14",
         "orientation": "v",
         "showlegend": true,
         "textposition": "auto",
         "type": "bar",
         "x": [
          "Coby White",
          "Jarrett Allen",
          "Franz Wagner",
          "Keldon Johnson",
          "Jalen Johnson",
          "Jonas Valanciunas",
          "Devin Booker",
          "Damian Lillard",
          "Khris Middleton",
          "Dejounte Murray",
          "Kawhi Leonard",
          "Wendell Carter Jr.",
          "Jalen Duren",
          "Jamal Murray"
         ],
         "xaxis": "x",
         "y": [
          131,
          39,
          80,
          103,
          155,
          92,
          234,
          149,
          84,
          134,
          169,
          26,
          147,
          110
         ],
         "yaxis": "y"
        },
        {
         "alignmentgroup": "True",
         "hovertemplate": "Week=15<br>Player=%{x}<br>Fantasy Points=%{y}<extra></extra>",
         "legendgroup": "15",
         "marker": {
          "color": "#FFA15A",
          "pattern": {
           "shape": ""
          }
         },
         "name": "15",
         "offsetgroup": "15",
         "orientation": "v",
         "showlegend": true,
         "textposition": "auto",
         "type": "bar",
         "x": [
          "Coby White",
          "Tyrese Haliburton",
          "Franz Wagner",
          "Darius Garland",
          "Keldon Johnson",
          "Jalen Johnson",
          "Jonas Valanciunas",
          "Devin Booker",
          "Damian Lillard",
          "Khris Middleton",
          "Dejounte Murray",
          "Kawhi Leonard",
          "Jalen Duren",
          "Jamal Murray"
         ],
         "xaxis": "x",
         "y": [
          128,
          130,
          179,
          69,
          35,
          141,
          111,
          142,
          141,
          105,
          122,
          242,
          75,
          186
         ],
         "yaxis": "y"
        },
        {
         "alignmentgroup": "True",
         "hovertemplate": "Week=16<br>Player=%{x}<br>Fantasy Points=%{y}<extra></extra>",
         "legendgroup": "16",
         "marker": {
          "color": "#19d3f3",
          "pattern": {
           "shape": ""
          }
         },
         "name": "16",
         "offsetgroup": "16",
         "orientation": "v",
         "showlegend": true,
         "textposition": "auto",
         "type": "bar",
         "x": [
          "Coby White",
          "Tyrese Haliburton",
          "Franz Wagner",
          "Darius Garland",
          "Jalen Johnson",
          "Donte DiVincenzo",
          "Jonas Valanciunas",
          "Damian Lillard",
          "Devin Booker",
          "Kawhi Leonard",
          "Dejounte Murray",
          "Jalen Duren",
          "Jamal Murray"
         ],
         "xaxis": "x",
         "y": [
          120,
          126,
          140,
          64,
          160,
          71,
          99,
          60,
          94,
          136,
          98,
          138,
          74
         ],
         "yaxis": "y"
        },
        {
         "alignmentgroup": "True",
         "hovertemplate": "Week=17<br>Player=%{x}<br>Fantasy Points=%{y}<extra></extra>",
         "legendgroup": "17",
         "marker": {
          "color": "#FF6692",
          "pattern": {
           "shape": ""
          }
         },
         "name": "17",
         "offsetgroup": "17",
         "orientation": "v",
         "showlegend": true,
         "textposition": "auto",
         "type": "bar",
         "x": [
          "Coby White",
          "Tyrese Haliburton",
          "Franz Wagner",
          "Vince Williams Jr.",
          "Darius Garland",
          "Jalen Johnson",
          "Donte DiVincenzo",
          "Jonas Valanciunas",
          "Devin Booker",
          "Damian Lillard",
          "Kawhi Leonard",
          "Dejounte Murray",
          "Jalen Duren",
          "Jamal Murray"
         ],
         "xaxis": "x",
         "y": [
          149,
          206,
          143,
          26,
          145,
          159,
          98,
          146,
          186,
          183,
          146,
          176,
          127,
          56
         ],
         "yaxis": "y"
        },
        {
         "alignmentgroup": "True",
         "hovertemplate": "Week=18<br>Player=%{x}<br>Fantasy Points=%{y}<extra></extra>",
         "legendgroup": "18",
         "marker": {
          "color": "#B6E880",
          "pattern": {
           "shape": ""
          }
         },
         "name": "18",
         "offsetgroup": "18",
         "orientation": "v",
         "showlegend": true,
         "textposition": "auto",
         "type": "bar",
         "x": [
          "Coby White",
          "Tyrese Haliburton",
          "Franz Wagner",
          "Darius Garland",
          "Jalen Johnson",
          "Donte DiVincenzo",
          "Jonas Valanciunas",
          "Devin Booker",
          "Damian Lillard",
          "Dejounte Murray",
          "Kawhi Leonard",
          "Jalen Duren",
          "Jamal Murray",
          "Marvin Bagley III"
         ],
         "xaxis": "x",
         "y": [
          80,
          103,
          100,
          133,
          77,
          161,
          51,
          88,
          95,
          136,
          147,
          126,
          119,
          21
         ],
         "yaxis": "y"
        },
        {
         "alignmentgroup": "True",
         "hovertemplate": "Week=19<br>Player=%{x}<br>Fantasy Points=%{y}<extra></extra>",
         "legendgroup": "19",
         "marker": {
          "color": "#FF97FF",
          "pattern": {
           "shape": ""
          }
         },
         "name": "19",
         "offsetgroup": "19",
         "orientation": "v",
         "showlegend": true,
         "textposition": "auto",
         "type": "bar",
         "x": [
          "Coby White",
          "Tyrese Haliburton",
          "Franz Wagner",
          "Darius Garland",
          "Jalen Johnson",
          "Grayson Allen",
          "Donte DiVincenzo",
          "Jonas Valanciunas",
          "Damian Lillard",
          "Dejounte Murray",
          "Kawhi Leonard",
          "Jalen Duren",
          "Jamal Murray",
          "Marvin Bagley III"
         ],
         "xaxis": "x",
         "y": [
          187,
          134,
          89,
          125,
          83,
          56,
          89,
          66,
          220,
          194,
          140,
          85,
          157,
          20
         ],
         "yaxis": "y"
        }
       ],
       "layout": {
        "barmode": "relative",
        "legend": {
         "title": {
          "text": "Week"
         },
         "tracegroupgap": 0
        },
        "template": {
         "data": {
          "bar": [
           {
            "error_x": {
             "color": "#2a3f5f"
            },
            "error_y": {
             "color": "#2a3f5f"
            },
            "marker": {
             "line": {
              "color": "#E5ECF6",
              "width": 0.5
             },
             "pattern": {
              "fillmode": "overlay",
              "size": 10,
              "solidity": 0.2
             }
            },
            "type": "bar"
           }
          ],
          "barpolar": [
           {
            "marker": {
             "line": {
              "color": "#E5ECF6",
              "width": 0.5
             },
             "pattern": {
              "fillmode": "overlay",
              "size": 10,
              "solidity": 0.2
             }
            },
            "type": "barpolar"
           }
          ],
          "carpet": [
           {
            "aaxis": {
             "endlinecolor": "#2a3f5f",
             "gridcolor": "white",
             "linecolor": "white",
             "minorgridcolor": "white",
             "startlinecolor": "#2a3f5f"
            },
            "baxis": {
             "endlinecolor": "#2a3f5f",
             "gridcolor": "white",
             "linecolor": "white",
             "minorgridcolor": "white",
             "startlinecolor": "#2a3f5f"
            },
            "type": "carpet"
           }
          ],
          "choropleth": [
           {
            "colorbar": {
             "outlinewidth": 0,
             "ticks": ""
            },
            "type": "choropleth"
           }
          ],
          "contour": [
           {
            "colorbar": {
             "outlinewidth": 0,
             "ticks": ""
            },
            "colorscale": [
             [
              0,
              "#0d0887"
             ],
             [
              0.1111111111111111,
              "#46039f"
             ],
             [
              0.2222222222222222,
              "#7201a8"
             ],
             [
              0.3333333333333333,
              "#9c179e"
             ],
             [
              0.4444444444444444,
              "#bd3786"
             ],
             [
              0.5555555555555556,
              "#d8576b"
             ],
             [
              0.6666666666666666,
              "#ed7953"
             ],
             [
              0.7777777777777778,
              "#fb9f3a"
             ],
             [
              0.8888888888888888,
              "#fdca26"
             ],
             [
              1,
              "#f0f921"
             ]
            ],
            "type": "contour"
           }
          ],
          "contourcarpet": [
           {
            "colorbar": {
             "outlinewidth": 0,
             "ticks": ""
            },
            "type": "contourcarpet"
           }
          ],
          "heatmap": [
           {
            "colorbar": {
             "outlinewidth": 0,
             "ticks": ""
            },
            "colorscale": [
             [
              0,
              "#0d0887"
             ],
             [
              0.1111111111111111,
              "#46039f"
             ],
             [
              0.2222222222222222,
              "#7201a8"
             ],
             [
              0.3333333333333333,
              "#9c179e"
             ],
             [
              0.4444444444444444,
              "#bd3786"
             ],
             [
              0.5555555555555556,
              "#d8576b"
             ],
             [
              0.6666666666666666,
              "#ed7953"
             ],
             [
              0.7777777777777778,
              "#fb9f3a"
             ],
             [
              0.8888888888888888,
              "#fdca26"
             ],
             [
              1,
              "#f0f921"
             ]
            ],
            "type": "heatmap"
           }
          ],
          "heatmapgl": [
           {
            "colorbar": {
             "outlinewidth": 0,
             "ticks": ""
            },
            "colorscale": [
             [
              0,
              "#0d0887"
             ],
             [
              0.1111111111111111,
              "#46039f"
             ],
             [
              0.2222222222222222,
              "#7201a8"
             ],
             [
              0.3333333333333333,
              "#9c179e"
             ],
             [
              0.4444444444444444,
              "#bd3786"
             ],
             [
              0.5555555555555556,
              "#d8576b"
             ],
             [
              0.6666666666666666,
              "#ed7953"
             ],
             [
              0.7777777777777778,
              "#fb9f3a"
             ],
             [
              0.8888888888888888,
              "#fdca26"
             ],
             [
              1,
              "#f0f921"
             ]
            ],
            "type": "heatmapgl"
           }
          ],
          "histogram": [
           {
            "marker": {
             "pattern": {
              "fillmode": "overlay",
              "size": 10,
              "solidity": 0.2
             }
            },
            "type": "histogram"
           }
          ],
          "histogram2d": [
           {
            "colorbar": {
             "outlinewidth": 0,
             "ticks": ""
            },
            "colorscale": [
             [
              0,
              "#0d0887"
             ],
             [
              0.1111111111111111,
              "#46039f"
             ],
             [
              0.2222222222222222,
              "#7201a8"
             ],
             [
              0.3333333333333333,
              "#9c179e"
             ],
             [
              0.4444444444444444,
              "#bd3786"
             ],
             [
              0.5555555555555556,
              "#d8576b"
             ],
             [
              0.6666666666666666,
              "#ed7953"
             ],
             [
              0.7777777777777778,
              "#fb9f3a"
             ],
             [
              0.8888888888888888,
              "#fdca26"
             ],
             [
              1,
              "#f0f921"
             ]
            ],
            "type": "histogram2d"
           }
          ],
          "histogram2dcontour": [
           {
            "colorbar": {
             "outlinewidth": 0,
             "ticks": ""
            },
            "colorscale": [
             [
              0,
              "#0d0887"
             ],
             [
              0.1111111111111111,
              "#46039f"
             ],
             [
              0.2222222222222222,
              "#7201a8"
             ],
             [
              0.3333333333333333,
              "#9c179e"
             ],
             [
              0.4444444444444444,
              "#bd3786"
             ],
             [
              0.5555555555555556,
              "#d8576b"
             ],
             [
              0.6666666666666666,
              "#ed7953"
             ],
             [
              0.7777777777777778,
              "#fb9f3a"
             ],
             [
              0.8888888888888888,
              "#fdca26"
             ],
             [
              1,
              "#f0f921"
             ]
            ],
            "type": "histogram2dcontour"
           }
          ],
          "mesh3d": [
           {
            "colorbar": {
             "outlinewidth": 0,
             "ticks": ""
            },
            "type": "mesh3d"
           }
          ],
          "parcoords": [
           {
            "line": {
             "colorbar": {
              "outlinewidth": 0,
              "ticks": ""
             }
            },
            "type": "parcoords"
           }
          ],
          "pie": [
           {
            "automargin": true,
            "type": "pie"
           }
          ],
          "scatter": [
           {
            "fillpattern": {
             "fillmode": "overlay",
             "size": 10,
             "solidity": 0.2
            },
            "type": "scatter"
           }
          ],
          "scatter3d": [
           {
            "line": {
             "colorbar": {
              "outlinewidth": 0,
              "ticks": ""
             }
            },
            "marker": {
             "colorbar": {
              "outlinewidth": 0,
              "ticks": ""
             }
            },
            "type": "scatter3d"
           }
          ],
          "scattercarpet": [
           {
            "marker": {
             "colorbar": {
              "outlinewidth": 0,
              "ticks": ""
             }
            },
            "type": "scattercarpet"
           }
          ],
          "scattergeo": [
           {
            "marker": {
             "colorbar": {
              "outlinewidth": 0,
              "ticks": ""
             }
            },
            "type": "scattergeo"
           }
          ],
          "scattergl": [
           {
            "marker": {
             "colorbar": {
              "outlinewidth": 0,
              "ticks": ""
             }
            },
            "type": "scattergl"
           }
          ],
          "scattermapbox": [
           {
            "marker": {
             "colorbar": {
              "outlinewidth": 0,
              "ticks": ""
             }
            },
            "type": "scattermapbox"
           }
          ],
          "scatterpolar": [
           {
            "marker": {
             "colorbar": {
              "outlinewidth": 0,
              "ticks": ""
             }
            },
            "type": "scatterpolar"
           }
          ],
          "scatterpolargl": [
           {
            "marker": {
             "colorbar": {
              "outlinewidth": 0,
              "ticks": ""
             }
            },
            "type": "scatterpolargl"
           }
          ],
          "scatterternary": [
           {
            "marker": {
             "colorbar": {
              "outlinewidth": 0,
              "ticks": ""
             }
            },
            "type": "scatterternary"
           }
          ],
          "surface": [
           {
            "colorbar": {
             "outlinewidth": 0,
             "ticks": ""
            },
            "colorscale": [
             [
              0,
              "#0d0887"
             ],
             [
              0.1111111111111111,
              "#46039f"
             ],
             [
              0.2222222222222222,
              "#7201a8"
             ],
             [
              0.3333333333333333,
              "#9c179e"
             ],
             [
              0.4444444444444444,
              "#bd3786"
             ],
             [
              0.5555555555555556,
              "#d8576b"
             ],
             [
              0.6666666666666666,
              "#ed7953"
             ],
             [
              0.7777777777777778,
              "#fb9f3a"
             ],
             [
              0.8888888888888888,
              "#fdca26"
             ],
             [
              1,
              "#f0f921"
             ]
            ],
            "type": "surface"
           }
          ],
          "table": [
           {
            "cells": {
             "fill": {
              "color": "#EBF0F8"
             },
             "line": {
              "color": "white"
             }
            },
            "header": {
             "fill": {
              "color": "#C8D4E3"
             },
             "line": {
              "color": "white"
             }
            },
            "type": "table"
           }
          ]
         },
         "layout": {
          "annotationdefaults": {
           "arrowcolor": "#2a3f5f",
           "arrowhead": 0,
           "arrowwidth": 1
          },
          "autotypenumbers": "strict",
          "coloraxis": {
           "colorbar": {
            "outlinewidth": 0,
            "ticks": ""
           }
          },
          "colorscale": {
           "diverging": [
            [
             0,
             "#8e0152"
            ],
            [
             0.1,
             "#c51b7d"
            ],
            [
             0.2,
             "#de77ae"
            ],
            [
             0.3,
             "#f1b6da"
            ],
            [
             0.4,
             "#fde0ef"
            ],
            [
             0.5,
             "#f7f7f7"
            ],
            [
             0.6,
             "#e6f5d0"
            ],
            [
             0.7,
             "#b8e186"
            ],
            [
             0.8,
             "#7fbc41"
            ],
            [
             0.9,
             "#4d9221"
            ],
            [
             1,
             "#276419"
            ]
           ],
           "sequential": [
            [
             0,
             "#0d0887"
            ],
            [
             0.1111111111111111,
             "#46039f"
            ],
            [
             0.2222222222222222,
             "#7201a8"
            ],
            [
             0.3333333333333333,
             "#9c179e"
            ],
            [
             0.4444444444444444,
             "#bd3786"
            ],
            [
             0.5555555555555556,
             "#d8576b"
            ],
            [
             0.6666666666666666,
             "#ed7953"
            ],
            [
             0.7777777777777778,
             "#fb9f3a"
            ],
            [
             0.8888888888888888,
             "#fdca26"
            ],
            [
             1,
             "#f0f921"
            ]
           ],
           "sequentialminus": [
            [
             0,
             "#0d0887"
            ],
            [
             0.1111111111111111,
             "#46039f"
            ],
            [
             0.2222222222222222,
             "#7201a8"
            ],
            [
             0.3333333333333333,
             "#9c179e"
            ],
            [
             0.4444444444444444,
             "#bd3786"
            ],
            [
             0.5555555555555556,
             "#d8576b"
            ],
            [
             0.6666666666666666,
             "#ed7953"
            ],
            [
             0.7777777777777778,
             "#fb9f3a"
            ],
            [
             0.8888888888888888,
             "#fdca26"
            ],
            [
             1,
             "#f0f921"
            ]
           ]
          },
          "colorway": [
           "#636efa",
           "#EF553B",
           "#00cc96",
           "#ab63fa",
           "#FFA15A",
           "#19d3f3",
           "#FF6692",
           "#B6E880",
           "#FF97FF",
           "#FECB52"
          ],
          "font": {
           "color": "#2a3f5f"
          },
          "geo": {
           "bgcolor": "white",
           "lakecolor": "white",
           "landcolor": "#E5ECF6",
           "showlakes": true,
           "showland": true,
           "subunitcolor": "white"
          },
          "hoverlabel": {
           "align": "left"
          },
          "hovermode": "closest",
          "mapbox": {
           "style": "light"
          },
          "paper_bgcolor": "white",
          "plot_bgcolor": "#E5ECF6",
          "polar": {
           "angularaxis": {
            "gridcolor": "white",
            "linecolor": "white",
            "ticks": ""
           },
           "bgcolor": "#E5ECF6",
           "radialaxis": {
            "gridcolor": "white",
            "linecolor": "white",
            "ticks": ""
           }
          },
          "scene": {
           "xaxis": {
            "backgroundcolor": "#E5ECF6",
            "gridcolor": "white",
            "gridwidth": 2,
            "linecolor": "white",
            "showbackground": true,
            "ticks": "",
            "zerolinecolor": "white"
           },
           "yaxis": {
            "backgroundcolor": "#E5ECF6",
            "gridcolor": "white",
            "gridwidth": 2,
            "linecolor": "white",
            "showbackground": true,
            "ticks": "",
            "zerolinecolor": "white"
           },
           "zaxis": {
            "backgroundcolor": "#E5ECF6",
            "gridcolor": "white",
            "gridwidth": 2,
            "linecolor": "white",
            "showbackground": true,
            "ticks": "",
            "zerolinecolor": "white"
           }
          },
          "shapedefaults": {
           "line": {
            "color": "#2a3f5f"
           }
          },
          "ternary": {
           "aaxis": {
            "gridcolor": "white",
            "linecolor": "white",
            "ticks": ""
           },
           "baxis": {
            "gridcolor": "white",
            "linecolor": "white",
            "ticks": ""
           },
           "bgcolor": "#E5ECF6",
           "caxis": {
            "gridcolor": "white",
            "linecolor": "white",
            "ticks": ""
           }
          },
          "title": {
           "x": 0.05
          },
          "xaxis": {
           "automargin": true,
           "gridcolor": "white",
           "linecolor": "white",
           "ticks": "",
           "title": {
            "standoff": 15
           },
           "zerolinecolor": "white",
           "zerolinewidth": 2
          },
          "yaxis": {
           "automargin": true,
           "gridcolor": "white",
           "linecolor": "white",
           "ticks": "",
           "title": {
            "standoff": 15
           },
           "zerolinecolor": "white",
           "zerolinewidth": 2
          }
         }
        },
        "title": {
         "text": "Weekly Fantasy Points by Player for Team Coby Bryant"
        },
        "xaxis": {
         "anchor": "y",
         "categoryorder": "total descending",
         "domain": [
          0,
          1
         ],
         "title": {
          "text": "Player"
         }
        },
        "yaxis": {
         "anchor": "x",
         "domain": [
          0,
          1
         ],
         "title": {
          "text": "Fantasy Points"
         }
        }
       }
      }
     },
     "metadata": {},
     "output_type": "display_data"
    },
    {
     "data": {
      "application/vnd.plotly.v1+json": {
       "config": {
        "plotlyServerURL": "https://plot.ly"
       },
       "data": [
        {
         "hovertemplate": "<b>%{hovertext}</b><br><br>Player=Josh Okogie<br>Week=%{x}<br>Fantasy Points=%{y}<br>Weekly Contribution Percentage=%{marker.size}<extra></extra>",
         "hovertext": [
          "Josh Okogie"
         ],
         "legendgroup": "Josh Okogie",
         "marker": {
          "color": "#636efa",
          "size": [
           3.5
          ],
          "sizemode": "area",
          "sizeref": 0.027408,
          "symbol": "circle"
         },
         "mode": "markers",
         "name": "Josh Okogie",
         "orientation": "v",
         "showlegend": true,
         "type": "scatter",
         "x": [
          1
         ],
         "xaxis": "x",
         "y": [
          37
         ],
         "yaxis": "y"
        },
        {
         "hovertemplate": "<b>%{hovertext}</b><br><br>Player=Ausar Thompson<br>Week=%{x}<br>Fantasy Points=%{y}<br>Weekly Contribution Percentage=%{marker.size}<extra></extra>",
         "hovertext": [
          "Ausar Thompson"
         ],
         "legendgroup": "Ausar Thompson",
         "marker": {
          "color": "#EF553B",
          "size": [
           2.65
          ],
          "sizemode": "area",
          "sizeref": 0.027408,
          "symbol": "circle"
         },
         "mode": "markers",
         "name": "Ausar Thompson",
         "orientation": "v",
         "showlegend": true,
         "type": "scatter",
         "x": [
          1
         ],
         "xaxis": "x",
         "y": [
          28
         ],
         "yaxis": "y"
        },
        {
         "hovertemplate": "<b>%{hovertext}</b><br><br>Player=Tyrese Haliburton<br>Week=%{x}<br>Fantasy Points=%{y}<br>Weekly Contribution Percentage=%{marker.size}<extra></extra>",
         "hovertext": [
          "Tyrese Haliburton",
          "Tyrese Haliburton",
          "Tyrese Haliburton",
          "Tyrese Haliburton",
          "Tyrese Haliburton",
          "Tyrese Haliburton",
          "Tyrese Haliburton",
          "Tyrese Haliburton",
          "Tyrese Haliburton",
          "Tyrese Haliburton",
          "Tyrese Haliburton",
          "Tyrese Haliburton",
          "Tyrese Haliburton",
          "Tyrese Haliburton",
          "Tyrese Haliburton",
          "Tyrese Haliburton",
          "Tyrese Haliburton",
          "Tyrese Haliburton"
         ],
         "legendgroup": "Tyrese Haliburton",
         "marker": {
          "color": "#00cc96",
          "size": [
           10.41,
           12.39,
           17.13,
           7.55,
           8.26,
           10.34,
           14.7,
           6.9,
           11.1,
           16.62,
           13.89,
           1.34,
           4.03,
           7.2,
           9.13,
           10.59,
           7.17,
           8.15
          ],
          "sizemode": "area",
          "sizeref": 0.027408,
          "symbol": "circle"
         },
         "mode": "markers",
         "name": "Tyrese Haliburton",
         "orientation": "v",
         "showlegend": true,
         "type": "scatter",
         "x": [
          1,
          2,
          3,
          4,
          5,
          6,
          7,
          8,
          9,
          10,
          11,
          12,
          13,
          15,
          16,
          17,
          18,
          19
         ],
         "xaxis": "x",
         "y": [
          110,
          169,
          238,
          103,
          118,
          136,
          147,
          118,
          175,
          228,
          250,
          19,
          55,
          130,
          126,
          206,
          103,
          134
         ],
         "yaxis": "y"
        },
        {
         "hovertemplate": "<b>%{hovertext}</b><br><br>Player=Onyeka Okongwu<br>Week=%{x}<br>Fantasy Points=%{y}<br>Weekly Contribution Percentage=%{marker.size}<extra></extra>",
         "hovertext": [
          "Onyeka Okongwu"
         ],
         "legendgroup": "Onyeka Okongwu",
         "marker": {
          "color": "#ab63fa",
          "size": [
           2.84
          ],
          "sizemode": "area",
          "sizeref": 0.027408,
          "symbol": "circle"
         },
         "mode": "markers",
         "name": "Onyeka Okongwu",
         "orientation": "v",
         "showlegend": true,
         "type": "scatter",
         "x": [
          1
         ],
         "xaxis": "x",
         "y": [
          30
         ],
         "yaxis": "y"
        },
        {
         "hovertemplate": "<b>%{hovertext}</b><br><br>Player=Austin Reaves<br>Week=%{x}<br>Fantasy Points=%{y}<br>Weekly Contribution Percentage=%{marker.size}<extra></extra>",
         "hovertext": [
          "Austin Reaves",
          "Austin Reaves",
          "Austin Reaves",
          "Austin Reaves",
          "Austin Reaves",
          "Austin Reaves",
          "Austin Reaves",
          "Austin Reaves",
          "Austin Reaves",
          "Austin Reaves",
          "Austin Reaves",
          "Austin Reaves",
          "Austin Reaves"
         ],
         "legendgroup": "Austin Reaves",
         "marker": {
          "color": "#FFA15A",
          "size": [
           4.45,
           3.96,
           9.43,
           8.21,
           6.23,
           6.16,
           6.5,
           6.84,
           8.82,
           8.09,
           5.83,
           6.07,
           8.8
          ],
          "sizemode": "area",
          "sizeref": 0.027408,
          "symbol": "circle"
         },
         "mode": "markers",
         "name": "Austin Reaves",
         "orientation": "v",
         "showlegend": true,
         "type": "scatter",
         "x": [
          1,
          2,
          3,
          4,
          5,
          6,
          7,
          8,
          9,
          10,
          11,
          12,
          13
         ],
         "xaxis": "x",
         "y": [
          47,
          54,
          131,
          112,
          89,
          81,
          65,
          117,
          139,
          111,
          105,
          86,
          120
         ],
         "yaxis": "y"
        },
        {
         "hovertemplate": "<b>%{hovertext}</b><br><br>Player=Keldon Johnson<br>Week=%{x}<br>Fantasy Points=%{y}<br>Weekly Contribution Percentage=%{marker.size}<extra></extra>",
         "hovertext": [
          "Keldon Johnson",
          "Keldon Johnson",
          "Keldon Johnson",
          "Keldon Johnson",
          "Keldon Johnson",
          "Keldon Johnson",
          "Keldon Johnson",
          "Keldon Johnson",
          "Keldon Johnson",
          "Keldon Johnson",
          "Keldon Johnson",
          "Keldon Johnson",
          "Keldon Johnson",
          "Keldon Johnson",
          "Keldon Johnson"
         ],
         "legendgroup": "Keldon Johnson",
         "marker": {
          "color": "#19d3f3",
          "size": [
           7.28,
           9.9,
           5.47,
           5.94,
           9.8,
           5.1,
           8.5,
           7.83,
           3.93,
           7.29,
           4.22,
           6.64,
           5.43,
           6.23,
           1.94
          ],
          "sizemode": "area",
          "sizeref": 0.027408,
          "symbol": "circle"
         },
         "mode": "markers",
         "name": "Keldon Johnson",
         "orientation": "v",
         "showlegend": true,
         "type": "scatter",
         "x": [
          1,
          2,
          3,
          4,
          5,
          6,
          7,
          8,
          9,
          10,
          11,
          12,
          13,
          14,
          15
         ],
         "xaxis": "x",
         "y": [
          77,
          135,
          76,
          81,
          140,
          67,
          85,
          134,
          62,
          100,
          76,
          94,
          74,
          103,
          35
         ],
         "yaxis": "y"
        },
        {
         "hovertemplate": "<b>%{hovertext}</b><br><br>Player=Darius Garland<br>Week=%{x}<br>Fantasy Points=%{y}<br>Weekly Contribution Percentage=%{marker.size}<extra></extra>",
         "hovertext": [
          "Darius Garland",
          "Darius Garland",
          "Darius Garland",
          "Darius Garland",
          "Darius Garland",
          "Darius Garland",
          "Darius Garland",
          "Darius Garland",
          "Darius Garland",
          "Darius Garland",
          "Darius Garland",
          "Darius Garland",
          "Darius Garland"
         ],
         "legendgroup": "Darius Garland",
         "marker": {
          "color": "#FF6692",
          "size": [
           2.27,
           3.81,
           5.76,
           7.4,
           4.9,
           7.6,
           9.4,
           7.31,
           3.82,
           4.64,
           7.45,
           9.26,
           7.6
          ],
          "sizemode": "area",
          "sizeref": 0.027408,
          "symbol": "circle"
         },
         "mode": "markers",
         "name": "Darius Garland",
         "orientation": "v",
         "showlegend": true,
         "type": "scatter",
         "x": [
          1,
          2,
          3,
          4,
          5,
          6,
          7,
          8,
          15,
          16,
          17,
          18,
          19
         ],
         "xaxis": "x",
         "y": [
          24,
          52,
          80,
          101,
          70,
          100,
          94,
          125,
          69,
          64,
          145,
          133,
          125
         ],
         "yaxis": "y"
        },
        {
         "hovertemplate": "<b>%{hovertext}</b><br><br>Player=Aaron Gordon<br>Week=%{x}<br>Fantasy Points=%{y}<br>Weekly Contribution Percentage=%{marker.size}<extra></extra>",
         "hovertext": [
          "Aaron Gordon",
          "Aaron Gordon",
          "Aaron Gordon",
          "Aaron Gordon",
          "Aaron Gordon",
          "Aaron Gordon",
          "Aaron Gordon",
          "Aaron Gordon",
          "Aaron Gordon",
          "Aaron Gordon",
          "Aaron Gordon",
          "Aaron Gordon"
         ],
         "legendgroup": "Aaron Gordon",
         "marker": {
          "color": "#B6E880",
          "size": [
           10.12,
           9.24,
           8.5,
           6.6,
           3.85,
           3.1,
           7.71,
           7.61,
           2.48,
           6.89,
           6,
           2.79
          ],
          "sizemode": "area",
          "sizeref": 0.027408,
          "symbol": "circle"
         },
         "mode": "markers",
         "name": "Aaron Gordon",
         "orientation": "v",
         "showlegend": true,
         "type": "scatter",
         "x": [
          1,
          2,
          3,
          4,
          5,
          7,
          8,
          9,
          10,
          11,
          12,
          13
         ],
         "xaxis": "x",
         "y": [
          107,
          126,
          118,
          90,
          55,
          31,
          132,
          120,
          34,
          124,
          85,
          38
         ],
         "yaxis": "y"
        },
        {
         "hovertemplate": "<b>%{hovertext}</b><br><br>Player=Damian Lillard<br>Week=%{x}<br>Fantasy Points=%{y}<br>Weekly Contribution Percentage=%{marker.size}<extra></extra>",
         "hovertext": [
          "Damian Lillard",
          "Damian Lillard",
          "Damian Lillard",
          "Damian Lillard",
          "Damian Lillard",
          "Damian Lillard",
          "Damian Lillard",
          "Damian Lillard",
          "Damian Lillard",
          "Damian Lillard",
          "Damian Lillard",
          "Damian Lillard",
          "Damian Lillard",
          "Damian Lillard",
          "Damian Lillard",
          "Damian Lillard",
          "Damian Lillard",
          "Damian Lillard",
          "Damian Lillard"
         ],
         "legendgroup": "Damian Lillard",
         "marker": {
          "color": "#FF97FF",
          "size": [
           6.34,
           7.55,
           6.26,
           12.98,
           9.87,
           11.63,
           9.9,
           11.05,
           9.39,
           7.58,
           8.11,
           9.25,
           8.14,
           9.01,
           7.81,
           4.35,
           9.4,
           6.61,
           13.37
          ],
          "sizemode": "area",
          "sizeref": 0.027408,
          "symbol": "circle"
         },
         "mode": "markers",
         "name": "Damian Lillard",
         "orientation": "v",
         "showlegend": true,
         "type": "scatter",
         "x": [
          1,
          2,
          3,
          4,
          5,
          6,
          7,
          8,
          9,
          10,
          11,
          12,
          13,
          14,
          15,
          16,
          17,
          18,
          19
         ],
         "xaxis": "x",
         "y": [
          67,
          103,
          87,
          177,
          141,
          153,
          99,
          189,
          148,
          104,
          146,
          131,
          111,
          149,
          141,
          60,
          183,
          95,
          220
         ],
         "yaxis": "y"
        },
        {
         "hovertemplate": "<b>%{hovertext}</b><br><br>Player=Kawhi Leonard<br>Week=%{x}<br>Fantasy Points=%{y}<br>Weekly Contribution Percentage=%{marker.size}<extra></extra>",
         "hovertext": [
          "Kawhi Leonard",
          "Kawhi Leonard",
          "Kawhi Leonard",
          "Kawhi Leonard",
          "Kawhi Leonard",
          "Kawhi Leonard",
          "Kawhi Leonard",
          "Kawhi Leonard",
          "Kawhi Leonard",
          "Kawhi Leonard",
          "Kawhi Leonard",
          "Kawhi Leonard",
          "Kawhi Leonard",
          "Kawhi Leonard",
          "Kawhi Leonard",
          "Kawhi Leonard",
          "Kawhi Leonard",
          "Kawhi Leonard"
         ],
         "legendgroup": "Kawhi Leonard",
         "marker": {
          "color": "#FECB52",
          "size": [
           12.39,
           6.23,
           9.79,
           6.6,
           10.08,
           15.51,
           10.3,
           14.03,
           6.28,
           10.72,
           15.04,
           4.91,
           10.22,
           13.4,
           9.86,
           7.5,
           10.23,
           8.51
          ],
          "sizemode": "area",
          "sizeref": 0.027408,
          "symbol": "circle"
         },
         "mode": "markers",
         "name": "Kawhi Leonard",
         "orientation": "v",
         "showlegend": true,
         "type": "scatter",
         "x": [
          1,
          2,
          3,
          4,
          5,
          6,
          7,
          8,
          9,
          11,
          12,
          13,
          14,
          15,
          16,
          17,
          18,
          19
         ],
         "xaxis": "x",
         "y": [
          131,
          85,
          136,
          90,
          144,
          204,
          103,
          240,
          99,
          193,
          213,
          67,
          169,
          242,
          136,
          146,
          147,
          140
         ],
         "yaxis": "y"
        },
        {
         "hovertemplate": "<b>%{hovertext}</b><br><br>Player=Dejounte Murray<br>Week=%{x}<br>Fantasy Points=%{y}<br>Weekly Contribution Percentage=%{marker.size}<extra></extra>",
         "hovertext": [
          "Dejounte Murray",
          "Dejounte Murray",
          "Dejounte Murray",
          "Dejounte Murray",
          "Dejounte Murray",
          "Dejounte Murray",
          "Dejounte Murray",
          "Dejounte Murray",
          "Dejounte Murray",
          "Dejounte Murray",
          "Dejounte Murray",
          "Dejounte Murray",
          "Dejounte Murray",
          "Dejounte Murray",
          "Dejounte Murray",
          "Dejounte Murray",
          "Dejounte Murray",
          "Dejounte Murray",
          "Dejounte Murray"
         ],
         "legendgroup": "Dejounte Murray",
         "marker": {
          "color": "#636efa",
          "size": [
           8.33,
           11.58,
           8.78,
           7.62,
           9.52,
           9.58,
           7.9,
           9.12,
           11.1,
           7.94,
           5.44,
           8.26,
           12.02,
           8.11,
           6.76,
           7.1,
           9.04,
           9.46,
           11.79
          ],
          "sizemode": "area",
          "sizeref": 0.027408,
          "symbol": "circle"
         },
         "mode": "markers",
         "name": "Dejounte Murray",
         "orientation": "v",
         "showlegend": true,
         "type": "scatter",
         "x": [
          1,
          2,
          3,
          4,
          5,
          6,
          7,
          8,
          9,
          10,
          11,
          12,
          13,
          14,
          15,
          16,
          17,
          18,
          19
         ],
         "xaxis": "x",
         "y": [
          88,
          158,
          122,
          104,
          136,
          126,
          79,
          156,
          175,
          109,
          98,
          117,
          164,
          134,
          122,
          98,
          176,
          136,
          194
         ],
         "yaxis": "y"
        },
        {
         "hovertemplate": "<b>%{hovertext}</b><br><br>Player=Jamal Murray<br>Week=%{x}<br>Fantasy Points=%{y}<br>Weekly Contribution Percentage=%{marker.size}<extra></extra>",
         "hovertext": [
          "Jamal Murray",
          "Jamal Murray",
          "Jamal Murray",
          "Jamal Murray",
          "Jamal Murray",
          "Jamal Murray",
          "Jamal Murray",
          "Jamal Murray",
          "Jamal Murray",
          "Jamal Murray",
          "Jamal Murray",
          "Jamal Murray",
          "Jamal Murray",
          "Jamal Murray",
          "Jamal Murray"
         ],
         "legendgroup": "Jamal Murray",
         "marker": {
          "color": "#EF553B",
          "size": [
           10.31,
           8.87,
           7.4,
           6.95,
           12.69,
           10.13,
           11.06,
           7.84,
           9.6,
           6.65,
           10.3,
           5.36,
           2.88,
           8.28,
           9.54
          ],
          "sizemode": "area",
          "sizeref": 0.027408,
          "symbol": "circle"
         },
         "mode": "markers",
         "name": "Jamal Murray",
         "orientation": "v",
         "showlegend": true,
         "type": "scatter",
         "x": [
          1,
          2,
          7,
          8,
          9,
          10,
          11,
          12,
          13,
          14,
          15,
          16,
          17,
          18,
          19
         ],
         "xaxis": "x",
         "y": [
          109,
          121,
          74,
          119,
          200,
          139,
          199,
          111,
          131,
          110,
          186,
          74,
          56,
          119,
          157
         ],
         "yaxis": "y"
        },
        {
         "hovertemplate": "<b>%{hovertext}</b><br><br>Player=Michael Porter Jr.<br>Week=%{x}<br>Fantasy Points=%{y}<br>Weekly Contribution Percentage=%{marker.size}<extra></extra>",
         "hovertext": [
          "Michael Porter Jr.",
          "Michael Porter Jr.",
          "Michael Porter Jr.",
          "Michael Porter Jr.",
          "Michael Porter Jr.",
          "Michael Porter Jr.",
          "Michael Porter Jr.",
          "Michael Porter Jr.",
          "Michael Porter Jr.",
          "Michael Porter Jr.",
          "Michael Porter Jr.",
          "Michael Porter Jr.",
          "Michael Porter Jr."
         ],
         "legendgroup": "Michael Porter Jr.",
         "marker": {
          "color": "#00cc96",
          "size": [
           9.37,
           9.24,
           8.28,
           5.79,
           9.31,
           12.02,
           7.6,
           4.68,
           7.11,
           6.2,
           3.94,
           7.84,
           3.67
          ],
          "sizemode": "area",
          "sizeref": 0.027408,
          "symbol": "circle"
         },
         "mode": "markers",
         "name": "Michael Porter Jr.",
         "orientation": "v",
         "showlegend": true,
         "type": "scatter",
         "x": [
          1,
          2,
          3,
          4,
          5,
          6,
          7,
          8,
          9,
          10,
          11,
          12,
          13
         ],
         "xaxis": "x",
         "y": [
          99,
          126,
          115,
          79,
          133,
          158,
          76,
          80,
          112,
          85,
          71,
          111,
          50
         ],
         "yaxis": "y"
        },
        {
         "hovertemplate": "<b>%{hovertext}</b><br><br>Player=Chris Paul<br>Week=%{x}<br>Fantasy Points=%{y}<br>Weekly Contribution Percentage=%{marker.size}<extra></extra>",
         "hovertext": [
          "Chris Paul",
          "Chris Paul",
          "Chris Paul",
          "Chris Paul",
          "Chris Paul",
          "Chris Paul",
          "Chris Paul",
          "Chris Paul",
          "Chris Paul",
          "Chris Paul"
         ],
         "legendgroup": "Chris Paul",
         "marker": {
          "color": "#ab63fa",
          "size": [
           9.74,
           7.33,
           7.63,
           9.46,
           5.74,
           0.91,
           6.43,
           6.41,
           7.22,
           2.72
          ],
          "sizemode": "area",
          "sizeref": 0.027408,
          "symbol": "circle"
         },
         "mode": "markers",
         "name": "Chris Paul",
         "orientation": "v",
         "showlegend": true,
         "type": "scatter",
         "x": [
          1,
          2,
          3,
          4,
          5,
          6,
          8,
          9,
          10,
          11
         ],
         "xaxis": "x",
         "y": [
          103,
          100,
          106,
          129,
          82,
          12,
          110,
          101,
          99,
          49
         ],
         "yaxis": "y"
        },
        {
         "hovertemplate": "<b>%{hovertext}</b><br><br>Player=Jarrett Allen<br>Week=%{x}<br>Fantasy Points=%{y}<br>Weekly Contribution Percentage=%{marker.size}<extra></extra>",
         "hovertext": [
          "Jarrett Allen",
          "Jarrett Allen",
          "Jarrett Allen",
          "Jarrett Allen",
          "Jarrett Allen",
          "Jarrett Allen",
          "Jarrett Allen",
          "Jarrett Allen",
          "Jarrett Allen",
          "Jarrett Allen",
          "Jarrett Allen",
          "Jarrett Allen",
          "Jarrett Allen"
         ],
         "legendgroup": "Jarrett Allen",
         "marker": {
          "color": "#FFA15A",
          "size": [
           1.91,
           3.67,
           8.58,
           10.71,
           7.83,
           3.8,
           7.89,
           9.64,
           9.84,
           10.56,
           3.88,
           9.9,
           2.36
          ],
          "sizemode": "area",
          "sizeref": 0.027408,
          "symbol": "circle"
         },
         "mode": "markers",
         "name": "Jarrett Allen",
         "orientation": "v",
         "showlegend": true,
         "type": "scatter",
         "x": [
          2,
          3,
          4,
          5,
          6,
          7,
          8,
          9,
          10,
          11,
          12,
          13,
          14
         ],
         "xaxis": "x",
         "y": [
          26,
          51,
          117,
          153,
          103,
          38,
          135,
          152,
          135,
          190,
          55,
          135,
          39
         ],
         "yaxis": "y"
        },
        {
         "hovertemplate": "<b>%{hovertext}</b><br><br>Player=Xavier Tillman<br>Week=%{x}<br>Fantasy Points=%{y}<br>Weekly Contribution Percentage=%{marker.size}<extra></extra>",
         "hovertext": [
          "Xavier Tillman"
         ],
         "legendgroup": "Xavier Tillman",
         "marker": {
          "color": "#19d3f3",
          "size": [
           2.35
          ],
          "sizemode": "area",
          "sizeref": 0.027408,
          "symbol": "circle"
         },
         "mode": "markers",
         "name": "Xavier Tillman",
         "orientation": "v",
         "showlegend": true,
         "type": "scatter",
         "x": [
          2
         ],
         "xaxis": "x",
         "y": [
          32
         ],
         "yaxis": "y"
        },
        {
         "hovertemplate": "<b>%{hovertext}</b><br><br>Player=Dereck Lively II<br>Week=%{x}<br>Fantasy Points=%{y}<br>Weekly Contribution Percentage=%{marker.size}<extra></extra>",
         "hovertext": [
          "Dereck Lively II"
         ],
         "legendgroup": "Dereck Lively II",
         "marker": {
          "color": "#FF6692",
          "size": [
           0.88
          ],
          "sizemode": "area",
          "sizeref": 0.027408,
          "symbol": "circle"
         },
         "mode": "markers",
         "name": "Dereck Lively II",
         "orientation": "v",
         "showlegend": true,
         "type": "scatter",
         "x": [
          2
         ],
         "xaxis": "x",
         "y": [
          12
         ],
         "yaxis": "y"
        },
        {
         "hovertemplate": "<b>%{hovertext}</b><br><br>Player=Walker Kessler<br>Week=%{x}<br>Fantasy Points=%{y}<br>Weekly Contribution Percentage=%{marker.size}<extra></extra>",
         "hovertext": [
          "Walker Kessler",
          "Walker Kessler"
         ],
         "legendgroup": "Walker Kessler",
         "marker": {
          "color": "#B6E880",
          "size": [
           4.77,
           2.95
          ],
          "sizemode": "area",
          "sizeref": 0.027408,
          "symbol": "circle"
         },
         "mode": "markers",
         "name": "Walker Kessler",
         "orientation": "v",
         "showlegend": true,
         "type": "scatter",
         "x": [
          2,
          3
         ],
         "xaxis": "x",
         "y": [
          65,
          41
         ],
         "yaxis": "y"
        },
        {
         "hovertemplate": "<b>%{hovertext}</b><br><br>Player=Lonnie Walker IV<br>Week=%{x}<br>Fantasy Points=%{y}<br>Weekly Contribution Percentage=%{marker.size}<extra></extra>",
         "hovertext": [
          "Lonnie Walker IV"
         ],
         "legendgroup": "Lonnie Walker IV",
         "marker": {
          "color": "#FF97FF",
          "size": [
           0.43
          ],
          "sizemode": "area",
          "sizeref": 0.027408,
          "symbol": "circle"
         },
         "mode": "markers",
         "name": "Lonnie Walker IV",
         "orientation": "v",
         "showlegend": true,
         "type": "scatter",
         "x": [
          3
         ],
         "xaxis": "x",
         "y": [
          6
         ],
         "yaxis": "y"
        },
        {
         "hovertemplate": "<b>%{hovertext}</b><br><br>Player=Deni Avdija<br>Week=%{x}<br>Fantasy Points=%{y}<br>Weekly Contribution Percentage=%{marker.size}<extra></extra>",
         "hovertext": [
          "Deni Avdija",
          "Deni Avdija",
          "Deni Avdija"
         ],
         "legendgroup": "Deni Avdija",
         "marker": {
          "color": "#FECB52",
          "size": [
           5.9,
           7.4,
           4.48
          ],
          "sizemode": "area",
          "sizeref": 0.027408,
          "symbol": "circle"
         },
         "mode": "markers",
         "name": "Deni Avdija",
         "orientation": "v",
         "showlegend": true,
         "type": "scatter",
         "x": [
          3,
          4,
          5
         ],
         "xaxis": "x",
         "y": [
          82,
          101,
          64
         ],
         "yaxis": "y"
        },
        {
         "hovertemplate": "<b>%{hovertext}</b><br><br>Player=Mike Conley<br>Week=%{x}<br>Fantasy Points=%{y}<br>Weekly Contribution Percentage=%{marker.size}<extra></extra>",
         "hovertext": [
          "Mike Conley",
          "Mike Conley",
          "Mike Conley",
          "Mike Conley",
          "Mike Conley",
          "Mike Conley"
         ],
         "legendgroup": "Mike Conley",
         "marker": {
          "color": "#636efa",
          "size": [
           5.87,
           7.21,
           4.18,
           7.7,
           3.27,
           5.9
          ],
          "sizemode": "area",
          "sizeref": 0.027408,
          "symbol": "circle"
         },
         "mode": "markers",
         "name": "Mike Conley",
         "orientation": "v",
         "showlegend": true,
         "type": "scatter",
         "x": [
          4,
          5,
          6,
          7,
          8,
          9
         ],
         "xaxis": "x",
         "y": [
          80,
          103,
          55,
          77,
          56,
          93
         ],
         "yaxis": "y"
        },
        {
         "hovertemplate": "<b>%{hovertext}</b><br><br>Player=Jalen Duren<br>Week=%{x}<br>Fantasy Points=%{y}<br>Weekly Contribution Percentage=%{marker.size}<extra></extra>",
         "hovertext": [
          "Jalen Duren",
          "Jalen Duren",
          "Jalen Duren",
          "Jalen Duren",
          "Jalen Duren",
          "Jalen Duren",
          "Jalen Duren",
          "Jalen Duren",
          "Jalen Duren",
          "Jalen Duren",
          "Jalen Duren",
          "Jalen Duren"
         ],
         "legendgroup": "Jalen Duren",
         "marker": {
          "color": "#EF553B",
          "size": [
           9.13,
           3.2,
           8.45,
           7.83,
           7.42,
           7.7,
           8.89,
           4.15,
           10,
           6.53,
           8.77,
           5.17
          ],
          "sizemode": "area",
          "sizeref": 0.027408,
          "symbol": "circle"
         },
         "mode": "markers",
         "name": "Jalen Duren",
         "orientation": "v",
         "showlegend": true,
         "type": "scatter",
         "x": [
          6,
          7,
          10,
          11,
          12,
          13,
          14,
          15,
          16,
          17,
          18,
          19
         ],
         "xaxis": "x",
         "y": [
          120,
          32,
          116,
          141,
          105,
          105,
          147,
          75,
          138,
          127,
          126,
          85
         ],
         "yaxis": "y"
        },
        {
         "hovertemplate": "<b>%{hovertext}</b><br><br>Player=Jalen Johnson<br>Week=%{x}<br>Fantasy Points=%{y}<br>Weekly Contribution Percentage=%{marker.size}<extra></extra>",
         "hovertext": [
          "Jalen Johnson",
          "Jalen Johnson",
          "Jalen Johnson",
          "Jalen Johnson",
          "Jalen Johnson",
          "Jalen Johnson",
          "Jalen Johnson",
          "Jalen Johnson",
          "Jalen Johnson",
          "Jalen Johnson"
         ],
         "legendgroup": "Jalen Johnson",
         "marker": {
          "color": "#00cc96",
          "size": [
           8.16,
           6.67,
           8.19,
           11.07,
           9.38,
           7.81,
           11.59,
           8.17,
           5.36,
           5.05
          ],
          "sizemode": "area",
          "sizeref": 0.027408,
          "symbol": "circle"
         },
         "mode": "markers",
         "name": "Jalen Johnson",
         "orientation": "v",
         "showlegend": true,
         "type": "scatter",
         "x": [
          10,
          11,
          12,
          13,
          14,
          15,
          16,
          17,
          18,
          19
         ],
         "xaxis": "x",
         "y": [
          112,
          120,
          116,
          151,
          155,
          141,
          160,
          159,
          77,
          83
         ],
         "yaxis": "y"
        },
        {
         "hovertemplate": "<b>%{hovertext}</b><br><br>Player=Coby White<br>Week=%{x}<br>Fantasy Points=%{y}<br>Weekly Contribution Percentage=%{marker.size}<extra></extra>",
         "hovertext": [
          "Coby White",
          "Coby White",
          "Coby White",
          "Coby White",
          "Coby White",
          "Coby White",
          "Coby White",
          "Coby White",
          "Coby White"
         ],
         "legendgroup": "Coby White",
         "marker": {
          "color": "#ab63fa",
          "size": [
           2.11,
           12.22,
           6.96,
           7.92,
           7.09,
           8.7,
           7.66,
           5.57,
           11.37
          ],
          "sizemode": "area",
          "sizeref": 0.027408,
          "symbol": "circle"
         },
         "mode": "markers",
         "name": "Coby White",
         "orientation": "v",
         "showlegend": true,
         "type": "scatter",
         "x": [
          11,
          12,
          13,
          14,
          15,
          16,
          17,
          18,
          19
         ],
         "xaxis": "x",
         "y": [
          38,
          173,
          95,
          131,
          128,
          120,
          149,
          80,
          187
         ],
         "yaxis": "y"
        },
        {
         "hovertemplate": "<b>%{hovertext}</b><br><br>Player=Franz Wagner<br>Week=%{x}<br>Fantasy Points=%{y}<br>Weekly Contribution Percentage=%{marker.size}<extra></extra>",
         "hovertext": [
          "Franz Wagner",
          "Franz Wagner",
          "Franz Wagner",
          "Franz Wagner",
          "Franz Wagner",
          "Franz Wagner",
          "Franz Wagner"
         ],
         "legendgroup": "Franz Wagner",
         "marker": {
          "color": "#FFA15A",
          "size": [
           2.35,
           4.84,
           9.91,
           10.14,
           7.35,
           6.96,
           5.41
          ],
          "sizemode": "area",
          "sizeref": 0.027408,
          "symbol": "circle"
         },
         "mode": "markers",
         "name": "Franz Wagner",
         "orientation": "v",
         "showlegend": true,
         "type": "scatter",
         "x": [
          13,
          14,
          15,
          16,
          17,
          18,
          19
         ],
         "xaxis": "x",
         "y": [
          32,
          80,
          179,
          140,
          143,
          100,
          89
         ],
         "yaxis": "y"
        },
        {
         "hovertemplate": "<b>%{hovertext}</b><br><br>Player=Wendell Carter Jr.<br>Week=%{x}<br>Fantasy Points=%{y}<br>Weekly Contribution Percentage=%{marker.size}<extra></extra>",
         "hovertext": [
          "Wendell Carter Jr.",
          "Wendell Carter Jr."
         ],
         "legendgroup": "Wendell Carter Jr.",
         "marker": {
          "color": "#19d3f3",
          "size": [
           2.64,
           1.57
          ],
          "sizemode": "area",
          "sizeref": 0.027408,
          "symbol": "circle"
         },
         "mode": "markers",
         "name": "Wendell Carter Jr.",
         "orientation": "v",
         "showlegend": true,
         "type": "scatter",
         "x": [
          13,
          14
         ],
         "xaxis": "x",
         "y": [
          36,
          26
         ],
         "yaxis": "y"
        },
        {
         "hovertemplate": "<b>%{hovertext}</b><br><br>Player=Jonas Valanciunas<br>Week=%{x}<br>Fantasy Points=%{y}<br>Weekly Contribution Percentage=%{marker.size}<extra></extra>",
         "hovertext": [
          "Jonas Valanciunas",
          "Jonas Valanciunas",
          "Jonas Valanciunas",
          "Jonas Valanciunas",
          "Jonas Valanciunas",
          "Jonas Valanciunas"
         ],
         "legendgroup": "Jonas Valanciunas",
         "marker": {
          "color": "#FF6692",
          "size": [
           5.57,
           6.15,
           7.17,
           7.5,
           3.55,
           4.01
          ],
          "sizemode": "area",
          "sizeref": 0.027408,
          "symbol": "circle"
         },
         "mode": "markers",
         "name": "Jonas Valanciunas",
         "orientation": "v",
         "showlegend": true,
         "type": "scatter",
         "x": [
          14,
          15,
          16,
          17,
          18,
          19
         ],
         "xaxis": "x",
         "y": [
          92,
          111,
          99,
          146,
          51,
          66
         ],
         "yaxis": "y"
        },
        {
         "hovertemplate": "<b>%{hovertext}</b><br><br>Player=Devin Booker<br>Week=%{x}<br>Fantasy Points=%{y}<br>Weekly Contribution Percentage=%{marker.size}<extra></extra>",
         "hovertext": [
          "Devin Booker",
          "Devin Booker",
          "Devin Booker",
          "Devin Booker",
          "Devin Booker"
         ],
         "legendgroup": "Devin Booker",
         "marker": {
          "color": "#B6E880",
          "size": [
           14.16,
           7.86,
           6.81,
           9.56,
           6.12
          ],
          "sizemode": "area",
          "sizeref": 0.027408,
          "symbol": "circle"
         },
         "mode": "markers",
         "name": "Devin Booker",
         "orientation": "v",
         "showlegend": true,
         "type": "scatter",
         "x": [
          14,
          15,
          16,
          17,
          18
         ],
         "xaxis": "x",
         "y": [
          234,
          142,
          94,
          186,
          88
         ],
         "yaxis": "y"
        },
        {
         "hovertemplate": "<b>%{hovertext}</b><br><br>Player=Khris Middleton<br>Week=%{x}<br>Fantasy Points=%{y}<br>Weekly Contribution Percentage=%{marker.size}<extra></extra>",
         "hovertext": [
          "Khris Middleton",
          "Khris Middleton"
         ],
         "legendgroup": "Khris Middleton",
         "marker": {
          "color": "#FF97FF",
          "size": [
           5.08,
           5.81
          ],
          "sizemode": "area",
          "sizeref": 0.027408,
          "symbol": "circle"
         },
         "mode": "markers",
         "name": "Khris Middleton",
         "orientation": "v",
         "showlegend": true,
         "type": "scatter",
         "x": [
          14,
          15
         ],
         "xaxis": "x",
         "y": [
          84,
          105
         ],
         "yaxis": "y"
        },
        {
         "hovertemplate": "<b>%{hovertext}</b><br><br>Player=Donte DiVincenzo<br>Week=%{x}<br>Fantasy Points=%{y}<br>Weekly Contribution Percentage=%{marker.size}<extra></extra>",
         "hovertext": [
          "Donte DiVincenzo",
          "Donte DiVincenzo",
          "Donte DiVincenzo",
          "Donte DiVincenzo"
         ],
         "legendgroup": "Donte DiVincenzo",
         "marker": {
          "color": "#FECB52",
          "size": [
           5.14,
           5.04,
           11.2,
           5.41
          ],
          "sizemode": "area",
          "sizeref": 0.027408,
          "symbol": "circle"
         },
         "mode": "markers",
         "name": "Donte DiVincenzo",
         "orientation": "v",
         "showlegend": true,
         "type": "scatter",
         "x": [
          16,
          17,
          18,
          19
         ],
         "xaxis": "x",
         "y": [
          71,
          98,
          161,
          89
         ],
         "yaxis": "y"
        },
        {
         "hovertemplate": "<b>%{hovertext}</b><br><br>Player=Vince Williams Jr.<br>Week=%{x}<br>Fantasy Points=%{y}<br>Weekly Contribution Percentage=%{marker.size}<extra></extra>",
         "hovertext": [
          "Vince Williams Jr."
         ],
         "legendgroup": "Vince Williams Jr.",
         "marker": {
          "color": "#636efa",
          "size": [
           1.34
          ],
          "sizemode": "area",
          "sizeref": 0.027408,
          "symbol": "circle"
         },
         "mode": "markers",
         "name": "Vince Williams Jr.",
         "orientation": "v",
         "showlegend": true,
         "type": "scatter",
         "x": [
          17
         ],
         "xaxis": "x",
         "y": [
          26
         ],
         "yaxis": "y"
        },
        {
         "hovertemplate": "<b>%{hovertext}</b><br><br>Player=Marvin Bagley III<br>Week=%{x}<br>Fantasy Points=%{y}<br>Weekly Contribution Percentage=%{marker.size}<extra></extra>",
         "hovertext": [
          "Marvin Bagley III",
          "Marvin Bagley III"
         ],
         "legendgroup": "Marvin Bagley III",
         "marker": {
          "color": "#EF553B",
          "size": [
           1.46,
           1.22
          ],
          "sizemode": "area",
          "sizeref": 0.027408,
          "symbol": "circle"
         },
         "mode": "markers",
         "name": "Marvin Bagley III",
         "orientation": "v",
         "showlegend": true,
         "type": "scatter",
         "x": [
          18,
          19
         ],
         "xaxis": "x",
         "y": [
          21,
          20
         ],
         "yaxis": "y"
        },
        {
         "hovertemplate": "<b>%{hovertext}</b><br><br>Player=Grayson Allen<br>Week=%{x}<br>Fantasy Points=%{y}<br>Weekly Contribution Percentage=%{marker.size}<extra></extra>",
         "hovertext": [
          "Grayson Allen"
         ],
         "legendgroup": "Grayson Allen",
         "marker": {
          "color": "#00cc96",
          "size": [
           3.4
          ],
          "sizemode": "area",
          "sizeref": 0.027408,
          "symbol": "circle"
         },
         "mode": "markers",
         "name": "Grayson Allen",
         "orientation": "v",
         "showlegend": true,
         "type": "scatter",
         "x": [
          19
         ],
         "xaxis": "x",
         "y": [
          56
         ],
         "yaxis": "y"
        }
       ],
       "layout": {
        "legend": {
         "itemsizing": "constant",
         "title": {
          "text": "Player"
         },
         "tracegroupgap": 0
        },
        "template": {
         "data": {
          "bar": [
           {
            "error_x": {
             "color": "#2a3f5f"
            },
            "error_y": {
             "color": "#2a3f5f"
            },
            "marker": {
             "line": {
              "color": "#E5ECF6",
              "width": 0.5
             },
             "pattern": {
              "fillmode": "overlay",
              "size": 10,
              "solidity": 0.2
             }
            },
            "type": "bar"
           }
          ],
          "barpolar": [
           {
            "marker": {
             "line": {
              "color": "#E5ECF6",
              "width": 0.5
             },
             "pattern": {
              "fillmode": "overlay",
              "size": 10,
              "solidity": 0.2
             }
            },
            "type": "barpolar"
           }
          ],
          "carpet": [
           {
            "aaxis": {
             "endlinecolor": "#2a3f5f",
             "gridcolor": "white",
             "linecolor": "white",
             "minorgridcolor": "white",
             "startlinecolor": "#2a3f5f"
            },
            "baxis": {
             "endlinecolor": "#2a3f5f",
             "gridcolor": "white",
             "linecolor": "white",
             "minorgridcolor": "white",
             "startlinecolor": "#2a3f5f"
            },
            "type": "carpet"
           }
          ],
          "choropleth": [
           {
            "colorbar": {
             "outlinewidth": 0,
             "ticks": ""
            },
            "type": "choropleth"
           }
          ],
          "contour": [
           {
            "colorbar": {
             "outlinewidth": 0,
             "ticks": ""
            },
            "colorscale": [
             [
              0,
              "#0d0887"
             ],
             [
              0.1111111111111111,
              "#46039f"
             ],
             [
              0.2222222222222222,
              "#7201a8"
             ],
             [
              0.3333333333333333,
              "#9c179e"
             ],
             [
              0.4444444444444444,
              "#bd3786"
             ],
             [
              0.5555555555555556,
              "#d8576b"
             ],
             [
              0.6666666666666666,
              "#ed7953"
             ],
             [
              0.7777777777777778,
              "#fb9f3a"
             ],
             [
              0.8888888888888888,
              "#fdca26"
             ],
             [
              1,
              "#f0f921"
             ]
            ],
            "type": "contour"
           }
          ],
          "contourcarpet": [
           {
            "colorbar": {
             "outlinewidth": 0,
             "ticks": ""
            },
            "type": "contourcarpet"
           }
          ],
          "heatmap": [
           {
            "colorbar": {
             "outlinewidth": 0,
             "ticks": ""
            },
            "colorscale": [
             [
              0,
              "#0d0887"
             ],
             [
              0.1111111111111111,
              "#46039f"
             ],
             [
              0.2222222222222222,
              "#7201a8"
             ],
             [
              0.3333333333333333,
              "#9c179e"
             ],
             [
              0.4444444444444444,
              "#bd3786"
             ],
             [
              0.5555555555555556,
              "#d8576b"
             ],
             [
              0.6666666666666666,
              "#ed7953"
             ],
             [
              0.7777777777777778,
              "#fb9f3a"
             ],
             [
              0.8888888888888888,
              "#fdca26"
             ],
             [
              1,
              "#f0f921"
             ]
            ],
            "type": "heatmap"
           }
          ],
          "heatmapgl": [
           {
            "colorbar": {
             "outlinewidth": 0,
             "ticks": ""
            },
            "colorscale": [
             [
              0,
              "#0d0887"
             ],
             [
              0.1111111111111111,
              "#46039f"
             ],
             [
              0.2222222222222222,
              "#7201a8"
             ],
             [
              0.3333333333333333,
              "#9c179e"
             ],
             [
              0.4444444444444444,
              "#bd3786"
             ],
             [
              0.5555555555555556,
              "#d8576b"
             ],
             [
              0.6666666666666666,
              "#ed7953"
             ],
             [
              0.7777777777777778,
              "#fb9f3a"
             ],
             [
              0.8888888888888888,
              "#fdca26"
             ],
             [
              1,
              "#f0f921"
             ]
            ],
            "type": "heatmapgl"
           }
          ],
          "histogram": [
           {
            "marker": {
             "pattern": {
              "fillmode": "overlay",
              "size": 10,
              "solidity": 0.2
             }
            },
            "type": "histogram"
           }
          ],
          "histogram2d": [
           {
            "colorbar": {
             "outlinewidth": 0,
             "ticks": ""
            },
            "colorscale": [
             [
              0,
              "#0d0887"
             ],
             [
              0.1111111111111111,
              "#46039f"
             ],
             [
              0.2222222222222222,
              "#7201a8"
             ],
             [
              0.3333333333333333,
              "#9c179e"
             ],
             [
              0.4444444444444444,
              "#bd3786"
             ],
             [
              0.5555555555555556,
              "#d8576b"
             ],
             [
              0.6666666666666666,
              "#ed7953"
             ],
             [
              0.7777777777777778,
              "#fb9f3a"
             ],
             [
              0.8888888888888888,
              "#fdca26"
             ],
             [
              1,
              "#f0f921"
             ]
            ],
            "type": "histogram2d"
           }
          ],
          "histogram2dcontour": [
           {
            "colorbar": {
             "outlinewidth": 0,
             "ticks": ""
            },
            "colorscale": [
             [
              0,
              "#0d0887"
             ],
             [
              0.1111111111111111,
              "#46039f"
             ],
             [
              0.2222222222222222,
              "#7201a8"
             ],
             [
              0.3333333333333333,
              "#9c179e"
             ],
             [
              0.4444444444444444,
              "#bd3786"
             ],
             [
              0.5555555555555556,
              "#d8576b"
             ],
             [
              0.6666666666666666,
              "#ed7953"
             ],
             [
              0.7777777777777778,
              "#fb9f3a"
             ],
             [
              0.8888888888888888,
              "#fdca26"
             ],
             [
              1,
              "#f0f921"
             ]
            ],
            "type": "histogram2dcontour"
           }
          ],
          "mesh3d": [
           {
            "colorbar": {
             "outlinewidth": 0,
             "ticks": ""
            },
            "type": "mesh3d"
           }
          ],
          "parcoords": [
           {
            "line": {
             "colorbar": {
              "outlinewidth": 0,
              "ticks": ""
             }
            },
            "type": "parcoords"
           }
          ],
          "pie": [
           {
            "automargin": true,
            "type": "pie"
           }
          ],
          "scatter": [
           {
            "fillpattern": {
             "fillmode": "overlay",
             "size": 10,
             "solidity": 0.2
            },
            "type": "scatter"
           }
          ],
          "scatter3d": [
           {
            "line": {
             "colorbar": {
              "outlinewidth": 0,
              "ticks": ""
             }
            },
            "marker": {
             "colorbar": {
              "outlinewidth": 0,
              "ticks": ""
             }
            },
            "type": "scatter3d"
           }
          ],
          "scattercarpet": [
           {
            "marker": {
             "colorbar": {
              "outlinewidth": 0,
              "ticks": ""
             }
            },
            "type": "scattercarpet"
           }
          ],
          "scattergeo": [
           {
            "marker": {
             "colorbar": {
              "outlinewidth": 0,
              "ticks": ""
             }
            },
            "type": "scattergeo"
           }
          ],
          "scattergl": [
           {
            "marker": {
             "colorbar": {
              "outlinewidth": 0,
              "ticks": ""
             }
            },
            "type": "scattergl"
           }
          ],
          "scattermapbox": [
           {
            "marker": {
             "colorbar": {
              "outlinewidth": 0,
              "ticks": ""
             }
            },
            "type": "scattermapbox"
           }
          ],
          "scatterpolar": [
           {
            "marker": {
             "colorbar": {
              "outlinewidth": 0,
              "ticks": ""
             }
            },
            "type": "scatterpolar"
           }
          ],
          "scatterpolargl": [
           {
            "marker": {
             "colorbar": {
              "outlinewidth": 0,
              "ticks": ""
             }
            },
            "type": "scatterpolargl"
           }
          ],
          "scatterternary": [
           {
            "marker": {
             "colorbar": {
              "outlinewidth": 0,
              "ticks": ""
             }
            },
            "type": "scatterternary"
           }
          ],
          "surface": [
           {
            "colorbar": {
             "outlinewidth": 0,
             "ticks": ""
            },
            "colorscale": [
             [
              0,
              "#0d0887"
             ],
             [
              0.1111111111111111,
              "#46039f"
             ],
             [
              0.2222222222222222,
              "#7201a8"
             ],
             [
              0.3333333333333333,
              "#9c179e"
             ],
             [
              0.4444444444444444,
              "#bd3786"
             ],
             [
              0.5555555555555556,
              "#d8576b"
             ],
             [
              0.6666666666666666,
              "#ed7953"
             ],
             [
              0.7777777777777778,
              "#fb9f3a"
             ],
             [
              0.8888888888888888,
              "#fdca26"
             ],
             [
              1,
              "#f0f921"
             ]
            ],
            "type": "surface"
           }
          ],
          "table": [
           {
            "cells": {
             "fill": {
              "color": "#EBF0F8"
             },
             "line": {
              "color": "white"
             }
            },
            "header": {
             "fill": {
              "color": "#C8D4E3"
             },
             "line": {
              "color": "white"
             }
            },
            "type": "table"
           }
          ]
         },
         "layout": {
          "annotationdefaults": {
           "arrowcolor": "#2a3f5f",
           "arrowhead": 0,
           "arrowwidth": 1
          },
          "autotypenumbers": "strict",
          "coloraxis": {
           "colorbar": {
            "outlinewidth": 0,
            "ticks": ""
           }
          },
          "colorscale": {
           "diverging": [
            [
             0,
             "#8e0152"
            ],
            [
             0.1,
             "#c51b7d"
            ],
            [
             0.2,
             "#de77ae"
            ],
            [
             0.3,
             "#f1b6da"
            ],
            [
             0.4,
             "#fde0ef"
            ],
            [
             0.5,
             "#f7f7f7"
            ],
            [
             0.6,
             "#e6f5d0"
            ],
            [
             0.7,
             "#b8e186"
            ],
            [
             0.8,
             "#7fbc41"
            ],
            [
             0.9,
             "#4d9221"
            ],
            [
             1,
             "#276419"
            ]
           ],
           "sequential": [
            [
             0,
             "#0d0887"
            ],
            [
             0.1111111111111111,
             "#46039f"
            ],
            [
             0.2222222222222222,
             "#7201a8"
            ],
            [
             0.3333333333333333,
             "#9c179e"
            ],
            [
             0.4444444444444444,
             "#bd3786"
            ],
            [
             0.5555555555555556,
             "#d8576b"
            ],
            [
             0.6666666666666666,
             "#ed7953"
            ],
            [
             0.7777777777777778,
             "#fb9f3a"
            ],
            [
             0.8888888888888888,
             "#fdca26"
            ],
            [
             1,
             "#f0f921"
            ]
           ],
           "sequentialminus": [
            [
             0,
             "#0d0887"
            ],
            [
             0.1111111111111111,
             "#46039f"
            ],
            [
             0.2222222222222222,
             "#7201a8"
            ],
            [
             0.3333333333333333,
             "#9c179e"
            ],
            [
             0.4444444444444444,
             "#bd3786"
            ],
            [
             0.5555555555555556,
             "#d8576b"
            ],
            [
             0.6666666666666666,
             "#ed7953"
            ],
            [
             0.7777777777777778,
             "#fb9f3a"
            ],
            [
             0.8888888888888888,
             "#fdca26"
            ],
            [
             1,
             "#f0f921"
            ]
           ]
          },
          "colorway": [
           "#636efa",
           "#EF553B",
           "#00cc96",
           "#ab63fa",
           "#FFA15A",
           "#19d3f3",
           "#FF6692",
           "#B6E880",
           "#FF97FF",
           "#FECB52"
          ],
          "font": {
           "color": "#2a3f5f"
          },
          "geo": {
           "bgcolor": "white",
           "lakecolor": "white",
           "landcolor": "#E5ECF6",
           "showlakes": true,
           "showland": true,
           "subunitcolor": "white"
          },
          "hoverlabel": {
           "align": "left"
          },
          "hovermode": "closest",
          "mapbox": {
           "style": "light"
          },
          "paper_bgcolor": "white",
          "plot_bgcolor": "#E5ECF6",
          "polar": {
           "angularaxis": {
            "gridcolor": "white",
            "linecolor": "white",
            "ticks": ""
           },
           "bgcolor": "#E5ECF6",
           "radialaxis": {
            "gridcolor": "white",
            "linecolor": "white",
            "ticks": ""
           }
          },
          "scene": {
           "xaxis": {
            "backgroundcolor": "#E5ECF6",
            "gridcolor": "white",
            "gridwidth": 2,
            "linecolor": "white",
            "showbackground": true,
            "ticks": "",
            "zerolinecolor": "white"
           },
           "yaxis": {
            "backgroundcolor": "#E5ECF6",
            "gridcolor": "white",
            "gridwidth": 2,
            "linecolor": "white",
            "showbackground": true,
            "ticks": "",
            "zerolinecolor": "white"
           },
           "zaxis": {
            "backgroundcolor": "#E5ECF6",
            "gridcolor": "white",
            "gridwidth": 2,
            "linecolor": "white",
            "showbackground": true,
            "ticks": "",
            "zerolinecolor": "white"
           }
          },
          "shapedefaults": {
           "line": {
            "color": "#2a3f5f"
           }
          },
          "ternary": {
           "aaxis": {
            "gridcolor": "white",
            "linecolor": "white",
            "ticks": ""
           },
           "baxis": {
            "gridcolor": "white",
            "linecolor": "white",
            "ticks": ""
           },
           "bgcolor": "#E5ECF6",
           "caxis": {
            "gridcolor": "white",
            "linecolor": "white",
            "ticks": ""
           }
          },
          "title": {
           "x": 0.05
          },
          "xaxis": {
           "automargin": true,
           "gridcolor": "white",
           "linecolor": "white",
           "ticks": "",
           "title": {
            "standoff": 15
           },
           "zerolinecolor": "white",
           "zerolinewidth": 2
          },
          "yaxis": {
           "automargin": true,
           "gridcolor": "white",
           "linecolor": "white",
           "ticks": "",
           "title": {
            "standoff": 15
           },
           "zerolinecolor": "white",
           "zerolinewidth": 2
          }
         }
        },
        "title": {
         "text": "Weekly Fantasy Points Score for Team Coby Bryant"
        },
        "xaxis": {
         "anchor": "y",
         "domain": [
          0,
          1
         ],
         "tickmode": "linear",
         "title": {
          "text": "Week"
         }
        },
        "yaxis": {
         "anchor": "x",
         "domain": [
          0,
          1
         ],
         "title": {
          "text": "Fantasy Points"
         }
        }
       }
      }
     },
     "metadata": {},
     "output_type": "display_data"
    }
   ],
   "source": [
    "# Option 1: Create a bar chart to visualize the weekly points by player\n",
    "# Create a bar chart to visualize the weekly points by player\n",
    "fig = px.bar(cleaned_df, \n",
    "             # Set axis and color\n",
    "             x='Player', y='Fantasy Points', color=\"Week\",\n",
    "             # Title\n",
    "             title=f'Weekly Fantasy Points by Player for Team {team_name}')\n",
    "\n",
    "# Display in descending order\n",
    "fig.update_layout(xaxis={'categoryorder': 'total descending'})  \n",
    "\n",
    "# Display the bar chart\n",
    "fig.show()\n",
    "\n",
    "# Option 2: Create a scatter plot to visualize the weekly points by player\n",
    "fig = px.scatter(cleaned_df,\n",
    "                 # Set axis, size, and color\n",
    "                 x='Week', y='Fantasy Points', color='Player', size='Weekly Contribution Percentage',\n",
    "                 # Titles and labels\n",
    "                 title=f'Weekly Fantasy Points Score for Team {team_name}',\n",
    "                 labels={'Fantasy Points': 'Fantasy Points', 'Week': 'Week'}, hover_name='Player', size_max=25)\n",
    "\n",
    "# Show every tick for weeks\n",
    "fig.update_layout(\n",
    "    xaxis = dict(\n",
    "        tickmode = 'linear',\n",
    "    )\n",
    ")\n",
    "\n",
    "# Display the scatter plot\n",
    "fig.show()"
   ]
  }
 ],
 "metadata": {
  "kernelspec": {
   "display_name": "ds4003",
   "language": "python",
   "name": "python3"
  },
  "language_info": {
   "codemirror_mode": {
    "name": "ipython",
    "version": 3
   },
   "file_extension": ".py",
   "mimetype": "text/x-python",
   "name": "python",
   "nbconvert_exporter": "python",
   "pygments_lexer": "ipython3",
   "version": "3.8.18"
  }
 },
 "nbformat": 4,
 "nbformat_minor": 2
}
